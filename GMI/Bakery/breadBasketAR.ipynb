{
 "cells": [
  {
   "cell_type": "markdown",
   "metadata": {},
   "source": [
    "# Imports"
   ]
  },
  {
   "cell_type": "code",
   "execution_count": 1,
   "metadata": {},
   "outputs": [],
   "source": [
    "import random\n",
    "import numpy as np\n",
    "import pandas as pd\n",
    "import plotly.graph_objects as go\n",
    "from mlxtend.preprocessing import TransactionEncoder\n",
    "from mlxtend.frequent_patterns import apriori, association_rules"
   ]
  },
  {
   "cell_type": "markdown",
   "metadata": {},
   "source": [
    "# Load Data"
   ]
  },
  {
   "cell_type": "code",
   "execution_count": 2,
   "metadata": {},
   "outputs": [],
   "source": [
    "df = pd.read_csv(\"datasets/BreadBasket_DMS_DT.csv\")"
   ]
  },
  {
   "cell_type": "markdown",
   "metadata": {},
   "source": [
    "# Business Problem"
   ]
  },
  {
   "cell_type": "markdown",
   "metadata": {},
   "source": [
    "Our idea: To offer discounts on common pairs or triples to make cross-selling"
   ]
  },
  {
   "cell_type": "markdown",
   "metadata": {},
   "source": [
    "## Original dataset"
   ]
  },
  {
   "cell_type": "markdown",
   "metadata": {},
   "source": [
    "We limit the transactions to those done on Saturdays (most common day)"
   ]
  },
  {
   "cell_type": "code",
   "execution_count": 3,
   "metadata": {},
   "outputs": [],
   "source": [
    "df[\"DateTime\"] = pd.to_datetime(df[\"DateTime\"], utc=True)\n",
    "df2 = df[df.DateTime.dt.day_name() == \"Saturday\"]"
   ]
  },
  {
   "cell_type": "markdown",
   "metadata": {},
   "source": [
    "We obtain a list of transactions. We iterate over unique transaction ids on our dataframe, creating a list for each one of them and adding onto it the purchases with that transaction id.\n",
    "Once the list is ready, we convert it onto a set to get rid of the repeated items and then cast it back to a list."
   ]
  },
  {
   "cell_type": "code",
   "execution_count": 4,
   "metadata": {},
   "outputs": [],
   "source": [
    "transactions=[]\n",
    "for item in df['Transaction'].unique():\n",
    "    itemList = list(set(df[df['Transaction']==item]['Item']))\n",
    "    transactions.append(itemList)"
   ]
  },
  {
   "cell_type": "markdown",
   "metadata": {},
   "source": [
    "We convert this list into a 0/1 array (we could also leave it as a True/False array as mlxtend_apriori works with both of them)"
   ]
  },
  {
   "cell_type": "code",
   "execution_count": 5,
   "metadata": {},
   "outputs": [
    {
     "data": {
      "text/html": [
       "<div>\n",
       "<style scoped>\n",
       "    .dataframe tbody tr th:only-of-type {\n",
       "        vertical-align: middle;\n",
       "    }\n",
       "\n",
       "    .dataframe tbody tr th {\n",
       "        vertical-align: top;\n",
       "    }\n",
       "\n",
       "    .dataframe thead th {\n",
       "        text-align: right;\n",
       "    }\n",
       "</style>\n",
       "<table border=\"1\" class=\"dataframe\">\n",
       "  <thead>\n",
       "    <tr style=\"text-align: right;\">\n",
       "      <th></th>\n",
       "      <th>Adjustment</th>\n",
       "      <th>Afternoon with the baker</th>\n",
       "      <th>Alfajores</th>\n",
       "      <th>Argentina Night</th>\n",
       "      <th>Art Tray</th>\n",
       "      <th>Bacon</th>\n",
       "      <th>Baguette</th>\n",
       "      <th>Bakewell</th>\n",
       "      <th>Bare Popcorn</th>\n",
       "      <th>Basket</th>\n",
       "      <th>...</th>\n",
       "      <th>The BART</th>\n",
       "      <th>The Nomad</th>\n",
       "      <th>Tiffin</th>\n",
       "      <th>Toast</th>\n",
       "      <th>Truffles</th>\n",
       "      <th>Tshirt</th>\n",
       "      <th>Valentine's card</th>\n",
       "      <th>Vegan Feast</th>\n",
       "      <th>Vegan mincepie</th>\n",
       "      <th>Victorian Sponge</th>\n",
       "    </tr>\n",
       "  </thead>\n",
       "  <tbody>\n",
       "    <tr>\n",
       "      <th>0</th>\n",
       "      <td>0</td>\n",
       "      <td>0</td>\n",
       "      <td>0</td>\n",
       "      <td>0</td>\n",
       "      <td>0</td>\n",
       "      <td>0</td>\n",
       "      <td>0</td>\n",
       "      <td>0</td>\n",
       "      <td>0</td>\n",
       "      <td>0</td>\n",
       "      <td>...</td>\n",
       "      <td>0</td>\n",
       "      <td>0</td>\n",
       "      <td>0</td>\n",
       "      <td>0</td>\n",
       "      <td>0</td>\n",
       "      <td>0</td>\n",
       "      <td>0</td>\n",
       "      <td>0</td>\n",
       "      <td>0</td>\n",
       "      <td>0</td>\n",
       "    </tr>\n",
       "    <tr>\n",
       "      <th>1</th>\n",
       "      <td>0</td>\n",
       "      <td>0</td>\n",
       "      <td>0</td>\n",
       "      <td>0</td>\n",
       "      <td>0</td>\n",
       "      <td>0</td>\n",
       "      <td>0</td>\n",
       "      <td>0</td>\n",
       "      <td>0</td>\n",
       "      <td>0</td>\n",
       "      <td>...</td>\n",
       "      <td>0</td>\n",
       "      <td>0</td>\n",
       "      <td>0</td>\n",
       "      <td>0</td>\n",
       "      <td>0</td>\n",
       "      <td>0</td>\n",
       "      <td>0</td>\n",
       "      <td>0</td>\n",
       "      <td>0</td>\n",
       "      <td>0</td>\n",
       "    </tr>\n",
       "    <tr>\n",
       "      <th>2</th>\n",
       "      <td>0</td>\n",
       "      <td>0</td>\n",
       "      <td>0</td>\n",
       "      <td>0</td>\n",
       "      <td>0</td>\n",
       "      <td>0</td>\n",
       "      <td>0</td>\n",
       "      <td>0</td>\n",
       "      <td>0</td>\n",
       "      <td>0</td>\n",
       "      <td>...</td>\n",
       "      <td>0</td>\n",
       "      <td>0</td>\n",
       "      <td>0</td>\n",
       "      <td>0</td>\n",
       "      <td>0</td>\n",
       "      <td>0</td>\n",
       "      <td>0</td>\n",
       "      <td>0</td>\n",
       "      <td>0</td>\n",
       "      <td>0</td>\n",
       "    </tr>\n",
       "    <tr>\n",
       "      <th>3</th>\n",
       "      <td>0</td>\n",
       "      <td>0</td>\n",
       "      <td>0</td>\n",
       "      <td>0</td>\n",
       "      <td>0</td>\n",
       "      <td>0</td>\n",
       "      <td>0</td>\n",
       "      <td>0</td>\n",
       "      <td>0</td>\n",
       "      <td>0</td>\n",
       "      <td>...</td>\n",
       "      <td>0</td>\n",
       "      <td>0</td>\n",
       "      <td>0</td>\n",
       "      <td>0</td>\n",
       "      <td>0</td>\n",
       "      <td>0</td>\n",
       "      <td>0</td>\n",
       "      <td>0</td>\n",
       "      <td>0</td>\n",
       "      <td>0</td>\n",
       "    </tr>\n",
       "    <tr>\n",
       "      <th>4</th>\n",
       "      <td>0</td>\n",
       "      <td>0</td>\n",
       "      <td>0</td>\n",
       "      <td>0</td>\n",
       "      <td>0</td>\n",
       "      <td>0</td>\n",
       "      <td>0</td>\n",
       "      <td>0</td>\n",
       "      <td>0</td>\n",
       "      <td>0</td>\n",
       "      <td>...</td>\n",
       "      <td>0</td>\n",
       "      <td>0</td>\n",
       "      <td>0</td>\n",
       "      <td>0</td>\n",
       "      <td>0</td>\n",
       "      <td>0</td>\n",
       "      <td>0</td>\n",
       "      <td>0</td>\n",
       "      <td>0</td>\n",
       "      <td>0</td>\n",
       "    </tr>\n",
       "    <tr>\n",
       "      <th>...</th>\n",
       "      <td>...</td>\n",
       "      <td>...</td>\n",
       "      <td>...</td>\n",
       "      <td>...</td>\n",
       "      <td>...</td>\n",
       "      <td>...</td>\n",
       "      <td>...</td>\n",
       "      <td>...</td>\n",
       "      <td>...</td>\n",
       "      <td>...</td>\n",
       "      <td>...</td>\n",
       "      <td>...</td>\n",
       "      <td>...</td>\n",
       "      <td>...</td>\n",
       "      <td>...</td>\n",
       "      <td>...</td>\n",
       "      <td>...</td>\n",
       "      <td>...</td>\n",
       "      <td>...</td>\n",
       "      <td>...</td>\n",
       "      <td>...</td>\n",
       "    </tr>\n",
       "    <tr>\n",
       "      <th>9526</th>\n",
       "      <td>0</td>\n",
       "      <td>0</td>\n",
       "      <td>0</td>\n",
       "      <td>0</td>\n",
       "      <td>0</td>\n",
       "      <td>0</td>\n",
       "      <td>0</td>\n",
       "      <td>0</td>\n",
       "      <td>0</td>\n",
       "      <td>0</td>\n",
       "      <td>...</td>\n",
       "      <td>0</td>\n",
       "      <td>0</td>\n",
       "      <td>0</td>\n",
       "      <td>0</td>\n",
       "      <td>0</td>\n",
       "      <td>0</td>\n",
       "      <td>0</td>\n",
       "      <td>0</td>\n",
       "      <td>0</td>\n",
       "      <td>0</td>\n",
       "    </tr>\n",
       "    <tr>\n",
       "      <th>9527</th>\n",
       "      <td>0</td>\n",
       "      <td>0</td>\n",
       "      <td>0</td>\n",
       "      <td>0</td>\n",
       "      <td>0</td>\n",
       "      <td>0</td>\n",
       "      <td>0</td>\n",
       "      <td>0</td>\n",
       "      <td>0</td>\n",
       "      <td>0</td>\n",
       "      <td>...</td>\n",
       "      <td>0</td>\n",
       "      <td>0</td>\n",
       "      <td>0</td>\n",
       "      <td>0</td>\n",
       "      <td>1</td>\n",
       "      <td>0</td>\n",
       "      <td>0</td>\n",
       "      <td>0</td>\n",
       "      <td>0</td>\n",
       "      <td>0</td>\n",
       "    </tr>\n",
       "    <tr>\n",
       "      <th>9528</th>\n",
       "      <td>0</td>\n",
       "      <td>0</td>\n",
       "      <td>0</td>\n",
       "      <td>0</td>\n",
       "      <td>0</td>\n",
       "      <td>0</td>\n",
       "      <td>0</td>\n",
       "      <td>0</td>\n",
       "      <td>0</td>\n",
       "      <td>0</td>\n",
       "      <td>...</td>\n",
       "      <td>0</td>\n",
       "      <td>0</td>\n",
       "      <td>0</td>\n",
       "      <td>0</td>\n",
       "      <td>0</td>\n",
       "      <td>0</td>\n",
       "      <td>0</td>\n",
       "      <td>0</td>\n",
       "      <td>0</td>\n",
       "      <td>0</td>\n",
       "    </tr>\n",
       "    <tr>\n",
       "      <th>9529</th>\n",
       "      <td>0</td>\n",
       "      <td>0</td>\n",
       "      <td>0</td>\n",
       "      <td>0</td>\n",
       "      <td>0</td>\n",
       "      <td>0</td>\n",
       "      <td>0</td>\n",
       "      <td>0</td>\n",
       "      <td>0</td>\n",
       "      <td>0</td>\n",
       "      <td>...</td>\n",
       "      <td>0</td>\n",
       "      <td>0</td>\n",
       "      <td>0</td>\n",
       "      <td>0</td>\n",
       "      <td>0</td>\n",
       "      <td>0</td>\n",
       "      <td>0</td>\n",
       "      <td>0</td>\n",
       "      <td>0</td>\n",
       "      <td>0</td>\n",
       "    </tr>\n",
       "    <tr>\n",
       "      <th>9530</th>\n",
       "      <td>0</td>\n",
       "      <td>0</td>\n",
       "      <td>0</td>\n",
       "      <td>0</td>\n",
       "      <td>0</td>\n",
       "      <td>0</td>\n",
       "      <td>0</td>\n",
       "      <td>0</td>\n",
       "      <td>0</td>\n",
       "      <td>0</td>\n",
       "      <td>...</td>\n",
       "      <td>0</td>\n",
       "      <td>0</td>\n",
       "      <td>0</td>\n",
       "      <td>0</td>\n",
       "      <td>0</td>\n",
       "      <td>0</td>\n",
       "      <td>0</td>\n",
       "      <td>0</td>\n",
       "      <td>0</td>\n",
       "      <td>0</td>\n",
       "    </tr>\n",
       "  </tbody>\n",
       "</table>\n",
       "<p>9531 rows × 95 columns</p>\n",
       "</div>"
      ],
      "text/plain": [
       "      Adjustment  Afternoon with the baker  Alfajores  Argentina Night  \\\n",
       "0              0                         0          0                0   \n",
       "1              0                         0          0                0   \n",
       "2              0                         0          0                0   \n",
       "3              0                         0          0                0   \n",
       "4              0                         0          0                0   \n",
       "...          ...                       ...        ...              ...   \n",
       "9526           0                         0          0                0   \n",
       "9527           0                         0          0                0   \n",
       "9528           0                         0          0                0   \n",
       "9529           0                         0          0                0   \n",
       "9530           0                         0          0                0   \n",
       "\n",
       "      Art Tray  Bacon  Baguette  Bakewell  Bare Popcorn  Basket  ...  \\\n",
       "0            0      0         0         0             0       0  ...   \n",
       "1            0      0         0         0             0       0  ...   \n",
       "2            0      0         0         0             0       0  ...   \n",
       "3            0      0         0         0             0       0  ...   \n",
       "4            0      0         0         0             0       0  ...   \n",
       "...        ...    ...       ...       ...           ...     ...  ...   \n",
       "9526         0      0         0         0             0       0  ...   \n",
       "9527         0      0         0         0             0       0  ...   \n",
       "9528         0      0         0         0             0       0  ...   \n",
       "9529         0      0         0         0             0       0  ...   \n",
       "9530         0      0         0         0             0       0  ...   \n",
       "\n",
       "      The BART  The Nomad  Tiffin  Toast  Truffles  Tshirt  Valentine's card  \\\n",
       "0            0          0       0      0         0       0                 0   \n",
       "1            0          0       0      0         0       0                 0   \n",
       "2            0          0       0      0         0       0                 0   \n",
       "3            0          0       0      0         0       0                 0   \n",
       "4            0          0       0      0         0       0                 0   \n",
       "...        ...        ...     ...    ...       ...     ...               ...   \n",
       "9526         0          0       0      0         0       0                 0   \n",
       "9527         0          0       0      0         1       0                 0   \n",
       "9528         0          0       0      0         0       0                 0   \n",
       "9529         0          0       0      0         0       0                 0   \n",
       "9530         0          0       0      0         0       0                 0   \n",
       "\n",
       "      Vegan Feast  Vegan mincepie  Victorian Sponge  \n",
       "0               0               0                 0  \n",
       "1               0               0                 0  \n",
       "2               0               0                 0  \n",
       "3               0               0                 0  \n",
       "4               0               0                 0  \n",
       "...           ...             ...               ...  \n",
       "9526            0               0                 0  \n",
       "9527            0               0                 0  \n",
       "9528            0               0                 0  \n",
       "9529            0               0                 0  \n",
       "9530            0               0                 0  \n",
       "\n",
       "[9531 rows x 95 columns]"
      ]
     },
     "execution_count": 5,
     "metadata": {},
     "output_type": "execute_result"
    }
   ],
   "source": [
    "te = TransactionEncoder()\n",
    "encodedData = te.fit(transactions).transform(transactions)\n",
    "basketData = pd.DataFrame(encodedData, columns=te.columns_)\n",
    "basketData.replace({False: 0, True: 1}, inplace=True)\n",
    "basketData"
   ]
  },
  {
   "cell_type": "code",
   "execution_count": 6,
   "metadata": {},
   "outputs": [
    {
     "name": "stdout",
     "output_type": "stream",
     "text": [
      "Processing 720 combinations | Sampling itemset size 3\n"
     ]
    },
    {
     "data": {
      "text/html": [
       "<div>\n",
       "<style scoped>\n",
       "    .dataframe tbody tr th:only-of-type {\n",
       "        vertical-align: middle;\n",
       "    }\n",
       "\n",
       "    .dataframe tbody tr th {\n",
       "        vertical-align: top;\n",
       "    }\n",
       "\n",
       "    .dataframe thead th {\n",
       "        text-align: right;\n",
       "    }\n",
       "</style>\n",
       "<table border=\"1\" class=\"dataframe\">\n",
       "  <thead>\n",
       "    <tr style=\"text-align: right;\">\n",
       "      <th></th>\n",
       "      <th>support</th>\n",
       "      <th>itemsets</th>\n",
       "    </tr>\n",
       "  </thead>\n",
       "  <tbody>\n",
       "    <tr>\n",
       "      <th>6</th>\n",
       "      <td>0.475081</td>\n",
       "      <td>(Coffee)</td>\n",
       "    </tr>\n",
       "    <tr>\n",
       "      <th>2</th>\n",
       "      <td>0.324940</td>\n",
       "      <td>(Bread)</td>\n",
       "    </tr>\n",
       "    <tr>\n",
       "      <th>27</th>\n",
       "      <td>0.141643</td>\n",
       "      <td>(Tea)</td>\n",
       "    </tr>\n",
       "    <tr>\n",
       "      <th>4</th>\n",
       "      <td>0.103137</td>\n",
       "      <td>(Cake)</td>\n",
       "    </tr>\n",
       "    <tr>\n",
       "      <th>35</th>\n",
       "      <td>0.089393</td>\n",
       "      <td>(Coffee, Bread)</td>\n",
       "    </tr>\n",
       "    <tr>\n",
       "      <th>...</th>\n",
       "      <td>...</td>\n",
       "      <td>...</td>\n",
       "    </tr>\n",
       "    <tr>\n",
       "      <th>57</th>\n",
       "      <td>0.010807</td>\n",
       "      <td>(Spanish Brunch, Coffee)</td>\n",
       "    </tr>\n",
       "    <tr>\n",
       "      <th>33</th>\n",
       "      <td>0.010702</td>\n",
       "      <td>(Bread, Brownie)</td>\n",
       "    </tr>\n",
       "    <tr>\n",
       "      <th>11</th>\n",
       "      <td>0.010492</td>\n",
       "      <td>(Hearty &amp; Seasonal)</td>\n",
       "    </tr>\n",
       "    <tr>\n",
       "      <th>21</th>\n",
       "      <td>0.010387</td>\n",
       "      <td>(Salad)</td>\n",
       "    </tr>\n",
       "    <tr>\n",
       "      <th>31</th>\n",
       "      <td>0.010282</td>\n",
       "      <td>(Bread, Alfajores)</td>\n",
       "    </tr>\n",
       "  </tbody>\n",
       "</table>\n",
       "<p>63 rows × 2 columns</p>\n",
       "</div>"
      ],
      "text/plain": [
       "     support                  itemsets\n",
       "6   0.475081                  (Coffee)\n",
       "2   0.324940                   (Bread)\n",
       "27  0.141643                     (Tea)\n",
       "4   0.103137                    (Cake)\n",
       "35  0.089393           (Coffee, Bread)\n",
       "..       ...                       ...\n",
       "57  0.010807  (Spanish Brunch, Coffee)\n",
       "33  0.010702          (Bread, Brownie)\n",
       "11  0.010492       (Hearty & Seasonal)\n",
       "21  0.010387                   (Salad)\n",
       "31  0.010282        (Bread, Alfajores)\n",
       "\n",
       "[63 rows x 2 columns]"
      ]
     },
     "execution_count": 6,
     "metadata": {},
     "output_type": "execute_result"
    }
   ],
   "source": [
    "freq_items = apriori(basketData, min_support = 0.01, use_colnames = True, verbose = 1)\n",
    "freq_items = freq_items.sort_values(\"support\", ascending = False)\n",
    "freq_items"
   ]
  },
  {
   "cell_type": "code",
   "execution_count": 7,
   "metadata": {},
   "outputs": [
    {
     "data": {
      "text/html": [
       "<div>\n",
       "<style scoped>\n",
       "    .dataframe tbody tr th:only-of-type {\n",
       "        vertical-align: middle;\n",
       "    }\n",
       "\n",
       "    .dataframe tbody tr th {\n",
       "        vertical-align: top;\n",
       "    }\n",
       "\n",
       "    .dataframe thead th {\n",
       "        text-align: right;\n",
       "    }\n",
       "</style>\n",
       "<table border=\"1\" class=\"dataframe\">\n",
       "  <thead>\n",
       "    <tr style=\"text-align: right;\">\n",
       "      <th></th>\n",
       "      <th>antecedents</th>\n",
       "      <th>consequents</th>\n",
       "      <th>antecedent support</th>\n",
       "      <th>consequent support</th>\n",
       "      <th>support</th>\n",
       "      <th>confidence</th>\n",
       "      <th>lift</th>\n",
       "      <th>leverage</th>\n",
       "      <th>conviction</th>\n",
       "    </tr>\n",
       "  </thead>\n",
       "  <tbody>\n",
       "  </tbody>\n",
       "</table>\n",
       "</div>"
      ],
      "text/plain": [
       "Empty DataFrame\n",
       "Columns: [antecedents, consequents, antecedent support, consequent support, support, confidence, lift, leverage, conviction]\n",
       "Index: []"
      ]
     },
     "execution_count": 7,
     "metadata": {},
     "output_type": "execute_result"
    }
   ],
   "source": [
    "df_ar = association_rules(freq_items, metric = \"confidence\", min_threshold = 0)\n",
    "df_ar[(df_ar.support > 0.15) & (df_ar.confidence > 0.5) & (df_ar.lift > 1)].sort_values(\"confidence\", ascending = False)"
   ]
  },
  {
   "cell_type": "code",
   "execution_count": 8,
   "metadata": {},
   "outputs": [
    {
     "data": {
      "text/html": [
       "<div>\n",
       "<style scoped>\n",
       "    .dataframe tbody tr th:only-of-type {\n",
       "        vertical-align: middle;\n",
       "    }\n",
       "\n",
       "    .dataframe tbody tr th {\n",
       "        vertical-align: top;\n",
       "    }\n",
       "\n",
       "    .dataframe thead th {\n",
       "        text-align: right;\n",
       "    }\n",
       "</style>\n",
       "<table border=\"1\" class=\"dataframe\">\n",
       "  <thead>\n",
       "    <tr style=\"text-align: right;\">\n",
       "      <th></th>\n",
       "      <th>antecedents</th>\n",
       "      <th>consequents</th>\n",
       "      <th>antecedent support</th>\n",
       "      <th>consequent support</th>\n",
       "      <th>support</th>\n",
       "      <th>confidence</th>\n",
       "      <th>lift</th>\n",
       "      <th>leverage</th>\n",
       "      <th>conviction</th>\n",
       "    </tr>\n",
       "  </thead>\n",
       "  <tbody>\n",
       "    <tr>\n",
       "      <th>0</th>\n",
       "      <td>(Coffee)</td>\n",
       "      <td>(Bread)</td>\n",
       "      <td>0.475081</td>\n",
       "      <td>0.324940</td>\n",
       "      <td>0.089393</td>\n",
       "      <td>0.188163</td>\n",
       "      <td>0.579069</td>\n",
       "      <td>-0.064980</td>\n",
       "      <td>0.831522</td>\n",
       "    </tr>\n",
       "    <tr>\n",
       "      <th>1</th>\n",
       "      <td>(Bread)</td>\n",
       "      <td>(Coffee)</td>\n",
       "      <td>0.324940</td>\n",
       "      <td>0.475081</td>\n",
       "      <td>0.089393</td>\n",
       "      <td>0.275105</td>\n",
       "      <td>0.579069</td>\n",
       "      <td>-0.064980</td>\n",
       "      <td>0.724131</td>\n",
       "    </tr>\n",
       "    <tr>\n",
       "      <th>2</th>\n",
       "      <td>(Cake)</td>\n",
       "      <td>(Coffee)</td>\n",
       "      <td>0.103137</td>\n",
       "      <td>0.475081</td>\n",
       "      <td>0.054349</td>\n",
       "      <td>0.526958</td>\n",
       "      <td>1.109196</td>\n",
       "      <td>0.005350</td>\n",
       "      <td>1.109667</td>\n",
       "    </tr>\n",
       "    <tr>\n",
       "      <th>3</th>\n",
       "      <td>(Coffee)</td>\n",
       "      <td>(Cake)</td>\n",
       "      <td>0.475081</td>\n",
       "      <td>0.103137</td>\n",
       "      <td>0.054349</td>\n",
       "      <td>0.114399</td>\n",
       "      <td>1.109196</td>\n",
       "      <td>0.005350</td>\n",
       "      <td>1.012717</td>\n",
       "    </tr>\n",
       "    <tr>\n",
       "      <th>4</th>\n",
       "      <td>(Tea)</td>\n",
       "      <td>(Coffee)</td>\n",
       "      <td>0.141643</td>\n",
       "      <td>0.475081</td>\n",
       "      <td>0.049523</td>\n",
       "      <td>0.349630</td>\n",
       "      <td>0.735936</td>\n",
       "      <td>-0.017769</td>\n",
       "      <td>0.807107</td>\n",
       "    </tr>\n",
       "    <tr>\n",
       "      <th>...</th>\n",
       "      <td>...</td>\n",
       "      <td>...</td>\n",
       "      <td>...</td>\n",
       "      <td>...</td>\n",
       "      <td>...</td>\n",
       "      <td>...</td>\n",
       "      <td>...</td>\n",
       "      <td>...</td>\n",
       "      <td>...</td>\n",
       "    </tr>\n",
       "    <tr>\n",
       "      <th>63</th>\n",
       "      <td>(Coffee)</td>\n",
       "      <td>(Spanish Brunch)</td>\n",
       "      <td>0.475081</td>\n",
       "      <td>0.018046</td>\n",
       "      <td>0.010807</td>\n",
       "      <td>0.022747</td>\n",
       "      <td>1.260494</td>\n",
       "      <td>0.002233</td>\n",
       "      <td>1.004810</td>\n",
       "    </tr>\n",
       "    <tr>\n",
       "      <th>64</th>\n",
       "      <td>(Bread)</td>\n",
       "      <td>(Brownie)</td>\n",
       "      <td>0.324940</td>\n",
       "      <td>0.039765</td>\n",
       "      <td>0.010702</td>\n",
       "      <td>0.032935</td>\n",
       "      <td>0.828244</td>\n",
       "      <td>-0.002219</td>\n",
       "      <td>0.992938</td>\n",
       "    </tr>\n",
       "    <tr>\n",
       "      <th>65</th>\n",
       "      <td>(Brownie)</td>\n",
       "      <td>(Bread)</td>\n",
       "      <td>0.039765</td>\n",
       "      <td>0.324940</td>\n",
       "      <td>0.010702</td>\n",
       "      <td>0.269129</td>\n",
       "      <td>0.828244</td>\n",
       "      <td>-0.002219</td>\n",
       "      <td>0.923639</td>\n",
       "    </tr>\n",
       "    <tr>\n",
       "      <th>66</th>\n",
       "      <td>(Bread)</td>\n",
       "      <td>(Alfajores)</td>\n",
       "      <td>0.324940</td>\n",
       "      <td>0.036093</td>\n",
       "      <td>0.010282</td>\n",
       "      <td>0.031644</td>\n",
       "      <td>0.876728</td>\n",
       "      <td>-0.001446</td>\n",
       "      <td>0.995405</td>\n",
       "    </tr>\n",
       "    <tr>\n",
       "      <th>67</th>\n",
       "      <td>(Alfajores)</td>\n",
       "      <td>(Bread)</td>\n",
       "      <td>0.036093</td>\n",
       "      <td>0.324940</td>\n",
       "      <td>0.010282</td>\n",
       "      <td>0.284884</td>\n",
       "      <td>0.876728</td>\n",
       "      <td>-0.001446</td>\n",
       "      <td>0.943987</td>\n",
       "    </tr>\n",
       "  </tbody>\n",
       "</table>\n",
       "<p>68 rows × 9 columns</p>\n",
       "</div>"
      ],
      "text/plain": [
       "    antecedents       consequents  antecedent support  consequent support  \\\n",
       "0      (Coffee)           (Bread)            0.475081            0.324940   \n",
       "1       (Bread)          (Coffee)            0.324940            0.475081   \n",
       "2        (Cake)          (Coffee)            0.103137            0.475081   \n",
       "3      (Coffee)            (Cake)            0.475081            0.103137   \n",
       "4         (Tea)          (Coffee)            0.141643            0.475081   \n",
       "..          ...               ...                 ...                 ...   \n",
       "63     (Coffee)  (Spanish Brunch)            0.475081            0.018046   \n",
       "64      (Bread)         (Brownie)            0.324940            0.039765   \n",
       "65    (Brownie)           (Bread)            0.039765            0.324940   \n",
       "66      (Bread)       (Alfajores)            0.324940            0.036093   \n",
       "67  (Alfajores)           (Bread)            0.036093            0.324940   \n",
       "\n",
       "     support  confidence      lift  leverage  conviction  \n",
       "0   0.089393    0.188163  0.579069 -0.064980    0.831522  \n",
       "1   0.089393    0.275105  0.579069 -0.064980    0.724131  \n",
       "2   0.054349    0.526958  1.109196  0.005350    1.109667  \n",
       "3   0.054349    0.114399  1.109196  0.005350    1.012717  \n",
       "4   0.049523    0.349630  0.735936 -0.017769    0.807107  \n",
       "..       ...         ...       ...       ...         ...  \n",
       "63  0.010807    0.022747  1.260494  0.002233    1.004810  \n",
       "64  0.010702    0.032935  0.828244 -0.002219    0.992938  \n",
       "65  0.010702    0.269129  0.828244 -0.002219    0.923639  \n",
       "66  0.010282    0.031644  0.876728 -0.001446    0.995405  \n",
       "67  0.010282    0.284884  0.876728 -0.001446    0.943987  \n",
       "\n",
       "[68 rows x 9 columns]"
      ]
     },
     "execution_count": 8,
     "metadata": {},
     "output_type": "execute_result"
    }
   ],
   "source": [
    "df_ar"
   ]
  },
  {
   "cell_type": "markdown",
   "metadata": {},
   "source": [
    "Average product per transaction"
   ]
  },
  {
   "cell_type": "code",
   "execution_count": 9,
   "metadata": {},
   "outputs": [
    {
     "data": {
      "text/plain": [
       "2.0606442136187177"
      ]
     },
     "execution_count": 9,
     "metadata": {},
     "output_type": "execute_result"
    }
   ],
   "source": [
    "lenSums = 0\n",
    "for i in transactions:\n",
    "    lenSums += len(i)\n",
    "averageLen = lenSums/len(transactions)\n",
    "averageLen"
   ]
  },
  {
   "cell_type": "markdown",
   "metadata": {},
   "source": [
    "## Modified dataset"
   ]
  },
  {
   "cell_type": "markdown",
   "metadata": {},
   "source": [
    "We modify the dataset by randomly adding some items onto transactions to make our association rules stronger"
   ]
  },
  {
   "cell_type": "code",
   "execution_count": 10,
   "metadata": {},
   "outputs": [],
   "source": [
    "for count,i in enumerate(transactions):\n",
    "    rand = random.randint(0, 100)\n",
    "    if count % 2 == 0:\n",
    "        i.append(\"Tea\")\n",
    "        i = list(set(i))\n",
    "    if rand < 90:\n",
    "        i.append(\"Cake\")\n",
    "        i = list(set(i))\n",
    "    if rand > 10:\n",
    "        i.append(\"Muffin\")\n",
    "        i = list(set(i))"
   ]
  },
  {
   "cell_type": "markdown",
   "metadata": {},
   "source": [
    "We can see the average product number per transaction has been raised by 1"
   ]
  },
  {
   "cell_type": "code",
   "execution_count": 11,
   "metadata": {},
   "outputs": [
    {
     "name": "stdout",
     "output_type": "stream",
     "text": [
      "Average number of products per transactions 3.06\n"
     ]
    }
   ],
   "source": [
    "lenSums = 0\n",
    "for i in transactions:\n",
    "    lenSums += len(i)\n",
    "averageLen = lenSums/len(transactions)\n",
    "print(\"Average number of products per transactions\", \"{:.2f}\".format(averageLen))"
   ]
  },
  {
   "cell_type": "code",
   "execution_count": 12,
   "metadata": {},
   "outputs": [
    {
     "data": {
      "text/html": [
       "<div>\n",
       "<style scoped>\n",
       "    .dataframe tbody tr th:only-of-type {\n",
       "        vertical-align: middle;\n",
       "    }\n",
       "\n",
       "    .dataframe tbody tr th {\n",
       "        vertical-align: top;\n",
       "    }\n",
       "\n",
       "    .dataframe thead th {\n",
       "        text-align: right;\n",
       "    }\n",
       "</style>\n",
       "<table border=\"1\" class=\"dataframe\">\n",
       "  <thead>\n",
       "    <tr style=\"text-align: right;\">\n",
       "      <th></th>\n",
       "      <th>Adjustment</th>\n",
       "      <th>Afternoon with the baker</th>\n",
       "      <th>Alfajores</th>\n",
       "      <th>Argentina Night</th>\n",
       "      <th>Art Tray</th>\n",
       "      <th>Bacon</th>\n",
       "      <th>Baguette</th>\n",
       "      <th>Bakewell</th>\n",
       "      <th>Bare Popcorn</th>\n",
       "      <th>Basket</th>\n",
       "      <th>...</th>\n",
       "      <th>The BART</th>\n",
       "      <th>The Nomad</th>\n",
       "      <th>Tiffin</th>\n",
       "      <th>Toast</th>\n",
       "      <th>Truffles</th>\n",
       "      <th>Tshirt</th>\n",
       "      <th>Valentine's card</th>\n",
       "      <th>Vegan Feast</th>\n",
       "      <th>Vegan mincepie</th>\n",
       "      <th>Victorian Sponge</th>\n",
       "    </tr>\n",
       "  </thead>\n",
       "  <tbody>\n",
       "    <tr>\n",
       "      <th>0</th>\n",
       "      <td>0</td>\n",
       "      <td>0</td>\n",
       "      <td>0</td>\n",
       "      <td>0</td>\n",
       "      <td>0</td>\n",
       "      <td>0</td>\n",
       "      <td>0</td>\n",
       "      <td>0</td>\n",
       "      <td>0</td>\n",
       "      <td>0</td>\n",
       "      <td>...</td>\n",
       "      <td>0</td>\n",
       "      <td>0</td>\n",
       "      <td>0</td>\n",
       "      <td>0</td>\n",
       "      <td>0</td>\n",
       "      <td>0</td>\n",
       "      <td>0</td>\n",
       "      <td>0</td>\n",
       "      <td>0</td>\n",
       "      <td>0</td>\n",
       "    </tr>\n",
       "    <tr>\n",
       "      <th>1</th>\n",
       "      <td>0</td>\n",
       "      <td>0</td>\n",
       "      <td>0</td>\n",
       "      <td>0</td>\n",
       "      <td>0</td>\n",
       "      <td>0</td>\n",
       "      <td>0</td>\n",
       "      <td>0</td>\n",
       "      <td>0</td>\n",
       "      <td>0</td>\n",
       "      <td>...</td>\n",
       "      <td>0</td>\n",
       "      <td>0</td>\n",
       "      <td>0</td>\n",
       "      <td>0</td>\n",
       "      <td>0</td>\n",
       "      <td>0</td>\n",
       "      <td>0</td>\n",
       "      <td>0</td>\n",
       "      <td>0</td>\n",
       "      <td>0</td>\n",
       "    </tr>\n",
       "    <tr>\n",
       "      <th>2</th>\n",
       "      <td>0</td>\n",
       "      <td>0</td>\n",
       "      <td>0</td>\n",
       "      <td>0</td>\n",
       "      <td>0</td>\n",
       "      <td>0</td>\n",
       "      <td>0</td>\n",
       "      <td>0</td>\n",
       "      <td>0</td>\n",
       "      <td>0</td>\n",
       "      <td>...</td>\n",
       "      <td>0</td>\n",
       "      <td>0</td>\n",
       "      <td>0</td>\n",
       "      <td>0</td>\n",
       "      <td>0</td>\n",
       "      <td>0</td>\n",
       "      <td>0</td>\n",
       "      <td>0</td>\n",
       "      <td>0</td>\n",
       "      <td>0</td>\n",
       "    </tr>\n",
       "    <tr>\n",
       "      <th>3</th>\n",
       "      <td>0</td>\n",
       "      <td>0</td>\n",
       "      <td>0</td>\n",
       "      <td>0</td>\n",
       "      <td>0</td>\n",
       "      <td>0</td>\n",
       "      <td>0</td>\n",
       "      <td>0</td>\n",
       "      <td>0</td>\n",
       "      <td>0</td>\n",
       "      <td>...</td>\n",
       "      <td>0</td>\n",
       "      <td>0</td>\n",
       "      <td>0</td>\n",
       "      <td>0</td>\n",
       "      <td>0</td>\n",
       "      <td>0</td>\n",
       "      <td>0</td>\n",
       "      <td>0</td>\n",
       "      <td>0</td>\n",
       "      <td>0</td>\n",
       "    </tr>\n",
       "    <tr>\n",
       "      <th>4</th>\n",
       "      <td>0</td>\n",
       "      <td>0</td>\n",
       "      <td>0</td>\n",
       "      <td>0</td>\n",
       "      <td>0</td>\n",
       "      <td>0</td>\n",
       "      <td>0</td>\n",
       "      <td>0</td>\n",
       "      <td>0</td>\n",
       "      <td>0</td>\n",
       "      <td>...</td>\n",
       "      <td>0</td>\n",
       "      <td>0</td>\n",
       "      <td>0</td>\n",
       "      <td>0</td>\n",
       "      <td>0</td>\n",
       "      <td>0</td>\n",
       "      <td>0</td>\n",
       "      <td>0</td>\n",
       "      <td>0</td>\n",
       "      <td>0</td>\n",
       "    </tr>\n",
       "    <tr>\n",
       "      <th>...</th>\n",
       "      <td>...</td>\n",
       "      <td>...</td>\n",
       "      <td>...</td>\n",
       "      <td>...</td>\n",
       "      <td>...</td>\n",
       "      <td>...</td>\n",
       "      <td>...</td>\n",
       "      <td>...</td>\n",
       "      <td>...</td>\n",
       "      <td>...</td>\n",
       "      <td>...</td>\n",
       "      <td>...</td>\n",
       "      <td>...</td>\n",
       "      <td>...</td>\n",
       "      <td>...</td>\n",
       "      <td>...</td>\n",
       "      <td>...</td>\n",
       "      <td>...</td>\n",
       "      <td>...</td>\n",
       "      <td>...</td>\n",
       "      <td>...</td>\n",
       "    </tr>\n",
       "    <tr>\n",
       "      <th>9526</th>\n",
       "      <td>0</td>\n",
       "      <td>0</td>\n",
       "      <td>0</td>\n",
       "      <td>0</td>\n",
       "      <td>0</td>\n",
       "      <td>0</td>\n",
       "      <td>0</td>\n",
       "      <td>0</td>\n",
       "      <td>0</td>\n",
       "      <td>0</td>\n",
       "      <td>...</td>\n",
       "      <td>0</td>\n",
       "      <td>0</td>\n",
       "      <td>0</td>\n",
       "      <td>0</td>\n",
       "      <td>0</td>\n",
       "      <td>0</td>\n",
       "      <td>0</td>\n",
       "      <td>0</td>\n",
       "      <td>0</td>\n",
       "      <td>0</td>\n",
       "    </tr>\n",
       "    <tr>\n",
       "      <th>9527</th>\n",
       "      <td>0</td>\n",
       "      <td>0</td>\n",
       "      <td>0</td>\n",
       "      <td>0</td>\n",
       "      <td>0</td>\n",
       "      <td>0</td>\n",
       "      <td>0</td>\n",
       "      <td>0</td>\n",
       "      <td>0</td>\n",
       "      <td>0</td>\n",
       "      <td>...</td>\n",
       "      <td>0</td>\n",
       "      <td>0</td>\n",
       "      <td>0</td>\n",
       "      <td>0</td>\n",
       "      <td>1</td>\n",
       "      <td>0</td>\n",
       "      <td>0</td>\n",
       "      <td>0</td>\n",
       "      <td>0</td>\n",
       "      <td>0</td>\n",
       "    </tr>\n",
       "    <tr>\n",
       "      <th>9528</th>\n",
       "      <td>0</td>\n",
       "      <td>0</td>\n",
       "      <td>0</td>\n",
       "      <td>0</td>\n",
       "      <td>0</td>\n",
       "      <td>0</td>\n",
       "      <td>0</td>\n",
       "      <td>0</td>\n",
       "      <td>0</td>\n",
       "      <td>0</td>\n",
       "      <td>...</td>\n",
       "      <td>0</td>\n",
       "      <td>0</td>\n",
       "      <td>0</td>\n",
       "      <td>0</td>\n",
       "      <td>0</td>\n",
       "      <td>0</td>\n",
       "      <td>0</td>\n",
       "      <td>0</td>\n",
       "      <td>0</td>\n",
       "      <td>0</td>\n",
       "    </tr>\n",
       "    <tr>\n",
       "      <th>9529</th>\n",
       "      <td>0</td>\n",
       "      <td>0</td>\n",
       "      <td>0</td>\n",
       "      <td>0</td>\n",
       "      <td>0</td>\n",
       "      <td>0</td>\n",
       "      <td>0</td>\n",
       "      <td>0</td>\n",
       "      <td>0</td>\n",
       "      <td>0</td>\n",
       "      <td>...</td>\n",
       "      <td>0</td>\n",
       "      <td>0</td>\n",
       "      <td>0</td>\n",
       "      <td>0</td>\n",
       "      <td>0</td>\n",
       "      <td>0</td>\n",
       "      <td>0</td>\n",
       "      <td>0</td>\n",
       "      <td>0</td>\n",
       "      <td>0</td>\n",
       "    </tr>\n",
       "    <tr>\n",
       "      <th>9530</th>\n",
       "      <td>0</td>\n",
       "      <td>0</td>\n",
       "      <td>0</td>\n",
       "      <td>0</td>\n",
       "      <td>0</td>\n",
       "      <td>0</td>\n",
       "      <td>0</td>\n",
       "      <td>0</td>\n",
       "      <td>0</td>\n",
       "      <td>0</td>\n",
       "      <td>...</td>\n",
       "      <td>0</td>\n",
       "      <td>0</td>\n",
       "      <td>0</td>\n",
       "      <td>0</td>\n",
       "      <td>0</td>\n",
       "      <td>0</td>\n",
       "      <td>0</td>\n",
       "      <td>0</td>\n",
       "      <td>0</td>\n",
       "      <td>0</td>\n",
       "    </tr>\n",
       "  </tbody>\n",
       "</table>\n",
       "<p>9531 rows × 95 columns</p>\n",
       "</div>"
      ],
      "text/plain": [
       "      Adjustment  Afternoon with the baker  Alfajores  Argentina Night  \\\n",
       "0              0                         0          0                0   \n",
       "1              0                         0          0                0   \n",
       "2              0                         0          0                0   \n",
       "3              0                         0          0                0   \n",
       "4              0                         0          0                0   \n",
       "...          ...                       ...        ...              ...   \n",
       "9526           0                         0          0                0   \n",
       "9527           0                         0          0                0   \n",
       "9528           0                         0          0                0   \n",
       "9529           0                         0          0                0   \n",
       "9530           0                         0          0                0   \n",
       "\n",
       "      Art Tray  Bacon  Baguette  Bakewell  Bare Popcorn  Basket  ...  \\\n",
       "0            0      0         0         0             0       0  ...   \n",
       "1            0      0         0         0             0       0  ...   \n",
       "2            0      0         0         0             0       0  ...   \n",
       "3            0      0         0         0             0       0  ...   \n",
       "4            0      0         0         0             0       0  ...   \n",
       "...        ...    ...       ...       ...           ...     ...  ...   \n",
       "9526         0      0         0         0             0       0  ...   \n",
       "9527         0      0         0         0             0       0  ...   \n",
       "9528         0      0         0         0             0       0  ...   \n",
       "9529         0      0         0         0             0       0  ...   \n",
       "9530         0      0         0         0             0       0  ...   \n",
       "\n",
       "      The BART  The Nomad  Tiffin  Toast  Truffles  Tshirt  Valentine's card  \\\n",
       "0            0          0       0      0         0       0                 0   \n",
       "1            0          0       0      0         0       0                 0   \n",
       "2            0          0       0      0         0       0                 0   \n",
       "3            0          0       0      0         0       0                 0   \n",
       "4            0          0       0      0         0       0                 0   \n",
       "...        ...        ...     ...    ...       ...     ...               ...   \n",
       "9526         0          0       0      0         0       0                 0   \n",
       "9527         0          0       0      0         1       0                 0   \n",
       "9528         0          0       0      0         0       0                 0   \n",
       "9529         0          0       0      0         0       0                 0   \n",
       "9530         0          0       0      0         0       0                 0   \n",
       "\n",
       "      Vegan Feast  Vegan mincepie  Victorian Sponge  \n",
       "0               0               0                 0  \n",
       "1               0               0                 0  \n",
       "2               0               0                 0  \n",
       "3               0               0                 0  \n",
       "4               0               0                 0  \n",
       "...           ...             ...               ...  \n",
       "9526            0               0                 0  \n",
       "9527            0               0                 0  \n",
       "9528            0               0                 0  \n",
       "9529            0               0                 0  \n",
       "9530            0               0                 0  \n",
       "\n",
       "[9531 rows x 95 columns]"
      ]
     },
     "execution_count": 12,
     "metadata": {},
     "output_type": "execute_result"
    }
   ],
   "source": [
    "te = TransactionEncoder()\n",
    "encodedData = te.fit(transactions).transform(transactions)\n",
    "basketData = pd.DataFrame(encodedData, columns=te.columns_)\n",
    "basketData.replace({False: 0, True: 1}, inplace=True)\n",
    "#basketData.to_csv(\"basketDataModified.csv\", index = False)\n",
    "basketData = pd.read_csv(\"basketDataModified.csv\")\n",
    "basketData"
   ]
  },
  {
   "cell_type": "code",
   "execution_count": 13,
   "metadata": {},
   "outputs": [
    {
     "name": "stdout",
     "output_type": "stream",
     "text": [
      "Processing 440 combinations | Sampling itemset size 43\n"
     ]
    },
    {
     "data": {
      "text/html": [
       "<div>\n",
       "<style scoped>\n",
       "    .dataframe tbody tr th:only-of-type {\n",
       "        vertical-align: middle;\n",
       "    }\n",
       "\n",
       "    .dataframe tbody tr th {\n",
       "        vertical-align: top;\n",
       "    }\n",
       "\n",
       "    .dataframe thead th {\n",
       "        text-align: right;\n",
       "    }\n",
       "</style>\n",
       "<table border=\"1\" class=\"dataframe\">\n",
       "  <thead>\n",
       "    <tr style=\"text-align: right;\">\n",
       "      <th></th>\n",
       "      <th>support</th>\n",
       "      <th>itemsets</th>\n",
       "    </tr>\n",
       "  </thead>\n",
       "  <tbody>\n",
       "    <tr>\n",
       "      <th>27</th>\n",
       "      <td>0.570769</td>\n",
       "      <td>(Tea)</td>\n",
       "    </tr>\n",
       "    <tr>\n",
       "      <th>4</th>\n",
       "      <td>0.504144</td>\n",
       "      <td>(Cake)</td>\n",
       "    </tr>\n",
       "    <tr>\n",
       "      <th>6</th>\n",
       "      <td>0.475081</td>\n",
       "      <td>(Coffee)</td>\n",
       "    </tr>\n",
       "    <tr>\n",
       "      <th>2</th>\n",
       "      <td>0.324940</td>\n",
       "      <td>(Bread)</td>\n",
       "    </tr>\n",
       "    <tr>\n",
       "      <th>76</th>\n",
       "      <td>0.262827</td>\n",
       "      <td>(Tea, Coffee)</td>\n",
       "    </tr>\n",
       "    <tr>\n",
       "      <th>...</th>\n",
       "      <td>...</td>\n",
       "      <td>...</td>\n",
       "    </tr>\n",
       "    <tr>\n",
       "      <th>104</th>\n",
       "      <td>0.010282</td>\n",
       "      <td>(Sandwich, Tea, Bread)</td>\n",
       "    </tr>\n",
       "    <tr>\n",
       "      <th>31</th>\n",
       "      <td>0.010282</td>\n",
       "      <td>(Bread, Alfajores)</td>\n",
       "    </tr>\n",
       "    <tr>\n",
       "      <th>95</th>\n",
       "      <td>0.010177</td>\n",
       "      <td>(Cake, Coffee, Alfajores)</td>\n",
       "    </tr>\n",
       "    <tr>\n",
       "      <th>106</th>\n",
       "      <td>0.010072</td>\n",
       "      <td>(Tea, Coffee, Brownie)</td>\n",
       "    </tr>\n",
       "    <tr>\n",
       "      <th>92</th>\n",
       "      <td>0.010072</td>\n",
       "      <td>(Tea, Tiffin)</td>\n",
       "    </tr>\n",
       "  </tbody>\n",
       "</table>\n",
       "<p>127 rows × 2 columns</p>\n",
       "</div>"
      ],
      "text/plain": [
       "      support                   itemsets\n",
       "27   0.570769                      (Tea)\n",
       "4    0.504144                     (Cake)\n",
       "6    0.475081                   (Coffee)\n",
       "2    0.324940                    (Bread)\n",
       "76   0.262827              (Tea, Coffee)\n",
       "..        ...                        ...\n",
       "104  0.010282     (Sandwich, Tea, Bread)\n",
       "31   0.010282         (Bread, Alfajores)\n",
       "95   0.010177  (Cake, Coffee, Alfajores)\n",
       "106  0.010072     (Tea, Coffee, Brownie)\n",
       "92   0.010072              (Tea, Tiffin)\n",
       "\n",
       "[127 rows x 2 columns]"
      ]
     },
     "execution_count": 13,
     "metadata": {},
     "output_type": "execute_result"
    }
   ],
   "source": [
    "freq_items = apriori(basketData, min_support = 0.01, use_colnames = True, verbose = 1)\n",
    "freq_items.sort_values(\"support\", ascending = False)"
   ]
  },
  {
   "cell_type": "code",
   "execution_count": 14,
   "metadata": {},
   "outputs": [
    {
     "data": {
      "text/html": [
       "<div>\n",
       "<style scoped>\n",
       "    .dataframe tbody tr th:only-of-type {\n",
       "        vertical-align: middle;\n",
       "    }\n",
       "\n",
       "    .dataframe tbody tr th {\n",
       "        vertical-align: top;\n",
       "    }\n",
       "\n",
       "    .dataframe thead th {\n",
       "        text-align: right;\n",
       "    }\n",
       "</style>\n",
       "<table border=\"1\" class=\"dataframe\">\n",
       "  <thead>\n",
       "    <tr style=\"text-align: right;\">\n",
       "      <th></th>\n",
       "      <th>antecedents</th>\n",
       "      <th>consequents</th>\n",
       "      <th>antecedent support</th>\n",
       "      <th>consequent support</th>\n",
       "      <th>support</th>\n",
       "      <th>confidence</th>\n",
       "      <th>lift</th>\n",
       "      <th>leverage</th>\n",
       "      <th>conviction</th>\n",
       "    </tr>\n",
       "  </thead>\n",
       "  <tbody>\n",
       "    <tr>\n",
       "      <th>37</th>\n",
       "      <td>(Coffee)</td>\n",
       "      <td>(Cake)</td>\n",
       "      <td>0.475081</td>\n",
       "      <td>0.504144</td>\n",
       "      <td>0.239849</td>\n",
       "      <td>0.504859</td>\n",
       "      <td>1.001417</td>\n",
       "      <td>0.000339</td>\n",
       "      <td>1.001443</td>\n",
       "    </tr>\n",
       "  </tbody>\n",
       "</table>\n",
       "</div>"
      ],
      "text/plain": [
       "   antecedents consequents  antecedent support  consequent support   support  \\\n",
       "37    (Coffee)      (Cake)            0.475081            0.504144  0.239849   \n",
       "\n",
       "    confidence      lift  leverage  conviction  \n",
       "37    0.504859  1.001417  0.000339    1.001443  "
      ]
     },
     "execution_count": 14,
     "metadata": {},
     "output_type": "execute_result"
    }
   ],
   "source": [
    "df_ar = association_rules(freq_items, metric = \"confidence\", min_threshold = 0)\n",
    "df_ar[(df_ar.support > 0.15) & (df_ar.confidence > 0.5) & (df_ar.lift > 1)].sort_values(\"confidence\", ascending = False)"
   ]
  },
  {
   "cell_type": "code",
   "execution_count": 15,
   "metadata": {},
   "outputs": [
    {
     "name": "stdout",
     "output_type": "stream",
     "text": [
      "Times coffee is purchased with cake: 2286 which makes up for a 23.98 % of the total transactions\n",
      "We could have done cross-selling on  2242 transactions, which represent a 49.95 % of the total transactions\n",
      "1.3001417\n"
     ]
    }
   ],
   "source": [
    "numCoffee = basketData[(basketData.Coffee == 1) & (basketData.Cake == 0)].Coffee.sum()\n",
    "numCake = basketData[(basketData.Cake == 1) & (basketData.Coffee == 0)].Cake.sum()\n",
    "numCoffeeCake = basketData[(basketData.Coffee == 1) & (basketData.Cake == 1)].Coffee.sum()\n",
    "print(\"Times coffee is purchased with cake:\", numCoffeeCake, \"which makes up for a\", \"{:.2f}\".format(100 * numCoffeeCake/len(basketData)), \"% of the total transactions\")\n",
    "print(\"We could have done cross-selling on \", numCoffee,\"transactions, which represent a\", \"{:.2f}\".format(100 * (numCake + numCoffee)/len(basketData)), \"% of the total transactions\")\n",
    "print(1.3001417)"
   ]
  },
  {
   "cell_type": "markdown",
   "metadata": {},
   "source": [
    "We make up a nominal price for coffee and cake, and an array of discounts. We want to investigate:\n",
    "1. How would creating an offer for Coffee + Cake affect income\n",
    "2. How big is the discount we could offer\n",
    "3. How much cross-selling we would have to do for this offer to be worth-it for the bakery"
   ]
  },
  {
   "cell_type": "code",
   "execution_count": 16,
   "metadata": {},
   "outputs": [],
   "source": [
    "discounts = [0.2, 0.15, 0.1]\n",
    "coffeePrice = 1.25\n",
    "cakePrice = 4.5"
   ]
  },
  {
   "cell_type": "code",
   "execution_count": 17,
   "metadata": {},
   "outputs": [
    {
     "data": {
      "application/vnd.plotly.v1+json": {
       "config": {
        "plotlyServerURL": "https://plot.ly"
       },
       "data": [
        {
         "type": "scatter",
         "x": [
          0,
          1,
          2,
          3,
          4,
          5,
          6,
          7,
          8,
          9,
          10,
          11,
          12,
          13,
          14,
          15,
          16,
          17,
          18,
          19,
          20,
          21,
          22,
          23,
          24,
          25,
          26,
          27,
          28,
          29,
          30,
          31,
          32,
          33,
          34,
          35,
          36,
          37,
          38,
          39,
          40,
          41,
          42,
          43,
          44,
          45,
          46,
          47,
          48,
          49,
          50,
          51,
          52,
          53,
          54,
          55,
          56,
          57,
          58,
          59,
          60,
          61,
          62,
          63,
          64,
          65,
          66,
          67,
          68,
          69,
          70,
          71,
          72,
          73,
          74,
          75,
          76,
          77,
          78,
          79,
          80,
          81,
          82,
          83,
          84,
          85,
          86,
          87,
          88,
          89,
          90,
          91,
          92,
          93,
          94,
          95,
          96,
          97,
          98,
          99
         ],
         "y": [
          13318.1,
          13393.207,
          13468.314,
          13543.421,
          13618.528,
          13693.635,
          13768.742,
          13843.849,
          13918.956,
          13994.063,
          14069.17,
          14144.277,
          14219.384,
          14294.491000000002,
          14369.598000000002,
          14444.705,
          14519.812,
          14594.919,
          14670.026000000002,
          14745.133000000002,
          14820.24,
          14895.347,
          14970.454000000002,
          15045.561000000002,
          15120.668000000001,
          15195.775000000001,
          15270.882000000001,
          15345.989000000001,
          15421.096000000001,
          15496.203000000001,
          15571.310000000001,
          15646.417000000001,
          15721.524000000001,
          15796.631000000001,
          15871.738000000001,
          15946.845000000001,
          16021.952000000001,
          16097.059000000001,
          16172.166000000001,
          16247.273000000001,
          16322.380000000001,
          16397.487,
          16472.594,
          16547.701,
          16622.808,
          16697.915,
          16773.022,
          16848.129,
          16923.236,
          16998.343,
          17073.45,
          17148.557,
          17223.664,
          17298.771,
          17373.878,
          17448.985,
          17524.092,
          17599.199,
          17674.306,
          17749.413,
          17824.52,
          17899.627,
          17974.734,
          18049.841,
          18124.948,
          18200.055,
          18275.162,
          18350.269,
          18425.376,
          18500.483,
          18575.59,
          18650.697,
          18725.804,
          18800.911,
          18876.018,
          18951.125,
          19026.232000000004,
          19101.339,
          19176.446000000004,
          19251.553,
          19326.66,
          19401.767,
          19476.874000000003,
          19551.981,
          19627.088,
          19702.195,
          19777.302000000003,
          19852.409,
          19927.516000000003,
          20002.623,
          20077.730000000003,
          20152.837,
          20227.944000000003,
          20303.051,
          20378.158000000003,
          20453.265,
          20528.372000000003,
          20603.479,
          20678.586000000003,
          20753.693
         ]
        },
        {
         "type": "scatter",
         "x": [
          0,
          1,
          2,
          3,
          4,
          5,
          6,
          7,
          8,
          9,
          10,
          11,
          12,
          13,
          14,
          15,
          16,
          17,
          18,
          19,
          20,
          21,
          22,
          23,
          24,
          25,
          26,
          27,
          28,
          29,
          30,
          31,
          32,
          33,
          34,
          35,
          36,
          37,
          38,
          39,
          40,
          41,
          42,
          43,
          44,
          45,
          46,
          47,
          48,
          49,
          50,
          51,
          52,
          53,
          54,
          55,
          56,
          57,
          58,
          59,
          60,
          61,
          62,
          63,
          64,
          65,
          66,
          67,
          68,
          69,
          70,
          71,
          72,
          73,
          74,
          75,
          76,
          77,
          78,
          79,
          80,
          81,
          82,
          83,
          84,
          85,
          86,
          87,
          88,
          89,
          90,
          91,
          92,
          93,
          94,
          95,
          96,
          97,
          98,
          99
         ],
         "y": [
          15947,
          15947,
          15947,
          15947,
          15947,
          15947,
          15947,
          15947,
          15947,
          15947,
          15947,
          15947,
          15947,
          15947,
          15947,
          15947,
          15947,
          15947,
          15947,
          15947,
          15947,
          15947,
          15947,
          15947,
          15947,
          15947,
          15947,
          15947,
          15947,
          15947,
          15947,
          15947,
          15947,
          15947,
          15947,
          15947,
          15947,
          15947,
          15947,
          15947,
          15947,
          15947,
          15947,
          15947,
          15947,
          15947,
          15947,
          15947,
          15947,
          15947,
          15947,
          15947,
          15947,
          15947,
          15947,
          15947,
          15947,
          15947,
          15947,
          15947,
          15947,
          15947,
          15947,
          15947,
          15947,
          15947,
          15947,
          15947,
          15947,
          15947,
          15947,
          15947,
          15947,
          15947,
          15947,
          15947,
          15947,
          15947,
          15947,
          15947,
          15947,
          15947,
          15947,
          15947,
          15947,
          15947,
          15947,
          15947,
          15947,
          15947,
          15947,
          15947,
          15947,
          15947,
          15947,
          15947,
          15947,
          15947,
          15947,
          15947
         ]
        },
        {
         "type": "scatter",
         "x": [
          50.4144,
          50.4144,
          50.4144,
          50.4144,
          50.4144,
          50.4144,
          50.4144,
          50.4144,
          50.4144,
          50.4144,
          50.4144,
          50.4144,
          50.4144,
          50.4144,
          50.4144,
          50.4144,
          50.4144,
          50.4144,
          50.4144,
          50.4144,
          50.4144,
          50.4144,
          50.4144,
          50.4144,
          50.4144,
          50.4144,
          50.4144,
          50.4144,
          50.4144,
          50.4144,
          50.4144,
          50.4144,
          50.4144,
          50.4144,
          50.4144,
          50.4144,
          50.4144,
          50.4144,
          50.4144,
          50.4144,
          50.4144,
          50.4144,
          50.4144,
          50.4144,
          50.4144,
          50.4144,
          50.4144,
          50.4144,
          50.4144,
          50.4144,
          50.4144,
          50.4144,
          50.4144,
          50.4144,
          50.4144,
          50.4144,
          50.4144,
          50.4144,
          50.4144,
          50.4144,
          50.4144,
          50.4144,
          50.4144,
          50.4144,
          50.4144,
          50.4144,
          50.4144,
          50.4144,
          50.4144,
          50.4144,
          50.4144,
          50.4144,
          50.4144,
          50.4144,
          50.4144,
          50.4144,
          50.4144,
          50.4144,
          50.4144,
          50.4144,
          50.4144,
          50.4144,
          50.4144,
          50.4144,
          50.4144,
          50.4144,
          50.4144,
          50.4144,
          50.4144,
          50.4144,
          50.4144,
          50.4144,
          50.4144,
          50.4144,
          50.4144,
          50.4144,
          50.4144,
          50.4144,
          50.4144,
          50.4144
         ],
         "y": [
          13318.1,
          13393.207,
          13468.314,
          13543.421,
          13618.528,
          13693.635,
          13768.742,
          13843.849,
          13918.956,
          13994.063,
          14069.17,
          14144.277,
          14219.384,
          14294.491000000002,
          14369.598000000002,
          14444.705,
          14519.812,
          14594.919,
          14670.026000000002,
          14745.133000000002,
          14820.24,
          14895.347,
          14970.454000000002,
          15045.561000000002,
          15120.668000000001,
          15195.775000000001,
          15270.882000000001,
          15345.989000000001,
          15421.096000000001,
          15496.203000000001,
          15571.310000000001,
          15646.417000000001,
          15721.524000000001,
          15796.631000000001,
          15871.738000000001,
          15946.845000000001,
          16021.952000000001,
          16097.059000000001,
          16172.166000000001,
          16247.273000000001,
          16322.380000000001,
          16397.487,
          16472.594,
          16547.701,
          16622.808,
          16697.915,
          16773.022,
          16848.129,
          16923.236,
          16998.343,
          17073.45,
          17148.557,
          17223.664,
          17298.771,
          17373.878,
          17448.985,
          17524.092,
          17599.199,
          17674.306,
          17749.413,
          17824.52,
          17899.627,
          17974.734,
          18049.841,
          18124.948,
          18200.055,
          18275.162,
          18350.269,
          18425.376,
          18500.483,
          18575.59,
          18650.697,
          18725.804,
          18800.911,
          18876.018,
          18951.125,
          19026.232000000004,
          19101.339,
          19176.446000000004,
          19251.553,
          19326.66,
          19401.767,
          19476.874000000003,
          19551.981,
          19627.088,
          19702.195,
          19777.302000000003,
          19852.409,
          19927.516000000003,
          20002.623,
          20077.730000000003,
          20152.837,
          20227.944000000003,
          20303.051,
          20378.158000000003,
          20453.265,
          20528.372000000003,
          20603.479,
          20678.586000000003,
          20753.693
         ]
        }
       ],
       "layout": {
        "autosize": false,
        "height": 500,
        "template": {
         "data": {
          "bar": [
           {
            "error_x": {
             "color": "#2a3f5f"
            },
            "error_y": {
             "color": "#2a3f5f"
            },
            "marker": {
             "line": {
              "color": "#E5ECF6",
              "width": 0.5
             },
             "pattern": {
              "fillmode": "overlay",
              "size": 10,
              "solidity": 0.2
             }
            },
            "type": "bar"
           }
          ],
          "barpolar": [
           {
            "marker": {
             "line": {
              "color": "#E5ECF6",
              "width": 0.5
             },
             "pattern": {
              "fillmode": "overlay",
              "size": 10,
              "solidity": 0.2
             }
            },
            "type": "barpolar"
           }
          ],
          "carpet": [
           {
            "aaxis": {
             "endlinecolor": "#2a3f5f",
             "gridcolor": "white",
             "linecolor": "white",
             "minorgridcolor": "white",
             "startlinecolor": "#2a3f5f"
            },
            "baxis": {
             "endlinecolor": "#2a3f5f",
             "gridcolor": "white",
             "linecolor": "white",
             "minorgridcolor": "white",
             "startlinecolor": "#2a3f5f"
            },
            "type": "carpet"
           }
          ],
          "choropleth": [
           {
            "colorbar": {
             "outlinewidth": 0,
             "ticks": ""
            },
            "type": "choropleth"
           }
          ],
          "contour": [
           {
            "colorbar": {
             "outlinewidth": 0,
             "ticks": ""
            },
            "colorscale": [
             [
              0,
              "#0d0887"
             ],
             [
              0.1111111111111111,
              "#46039f"
             ],
             [
              0.2222222222222222,
              "#7201a8"
             ],
             [
              0.3333333333333333,
              "#9c179e"
             ],
             [
              0.4444444444444444,
              "#bd3786"
             ],
             [
              0.5555555555555556,
              "#d8576b"
             ],
             [
              0.6666666666666666,
              "#ed7953"
             ],
             [
              0.7777777777777778,
              "#fb9f3a"
             ],
             [
              0.8888888888888888,
              "#fdca26"
             ],
             [
              1,
              "#f0f921"
             ]
            ],
            "type": "contour"
           }
          ],
          "contourcarpet": [
           {
            "colorbar": {
             "outlinewidth": 0,
             "ticks": ""
            },
            "type": "contourcarpet"
           }
          ],
          "heatmap": [
           {
            "colorbar": {
             "outlinewidth": 0,
             "ticks": ""
            },
            "colorscale": [
             [
              0,
              "#0d0887"
             ],
             [
              0.1111111111111111,
              "#46039f"
             ],
             [
              0.2222222222222222,
              "#7201a8"
             ],
             [
              0.3333333333333333,
              "#9c179e"
             ],
             [
              0.4444444444444444,
              "#bd3786"
             ],
             [
              0.5555555555555556,
              "#d8576b"
             ],
             [
              0.6666666666666666,
              "#ed7953"
             ],
             [
              0.7777777777777778,
              "#fb9f3a"
             ],
             [
              0.8888888888888888,
              "#fdca26"
             ],
             [
              1,
              "#f0f921"
             ]
            ],
            "type": "heatmap"
           }
          ],
          "heatmapgl": [
           {
            "colorbar": {
             "outlinewidth": 0,
             "ticks": ""
            },
            "colorscale": [
             [
              0,
              "#0d0887"
             ],
             [
              0.1111111111111111,
              "#46039f"
             ],
             [
              0.2222222222222222,
              "#7201a8"
             ],
             [
              0.3333333333333333,
              "#9c179e"
             ],
             [
              0.4444444444444444,
              "#bd3786"
             ],
             [
              0.5555555555555556,
              "#d8576b"
             ],
             [
              0.6666666666666666,
              "#ed7953"
             ],
             [
              0.7777777777777778,
              "#fb9f3a"
             ],
             [
              0.8888888888888888,
              "#fdca26"
             ],
             [
              1,
              "#f0f921"
             ]
            ],
            "type": "heatmapgl"
           }
          ],
          "histogram": [
           {
            "marker": {
             "pattern": {
              "fillmode": "overlay",
              "size": 10,
              "solidity": 0.2
             }
            },
            "type": "histogram"
           }
          ],
          "histogram2d": [
           {
            "colorbar": {
             "outlinewidth": 0,
             "ticks": ""
            },
            "colorscale": [
             [
              0,
              "#0d0887"
             ],
             [
              0.1111111111111111,
              "#46039f"
             ],
             [
              0.2222222222222222,
              "#7201a8"
             ],
             [
              0.3333333333333333,
              "#9c179e"
             ],
             [
              0.4444444444444444,
              "#bd3786"
             ],
             [
              0.5555555555555556,
              "#d8576b"
             ],
             [
              0.6666666666666666,
              "#ed7953"
             ],
             [
              0.7777777777777778,
              "#fb9f3a"
             ],
             [
              0.8888888888888888,
              "#fdca26"
             ],
             [
              1,
              "#f0f921"
             ]
            ],
            "type": "histogram2d"
           }
          ],
          "histogram2dcontour": [
           {
            "colorbar": {
             "outlinewidth": 0,
             "ticks": ""
            },
            "colorscale": [
             [
              0,
              "#0d0887"
             ],
             [
              0.1111111111111111,
              "#46039f"
             ],
             [
              0.2222222222222222,
              "#7201a8"
             ],
             [
              0.3333333333333333,
              "#9c179e"
             ],
             [
              0.4444444444444444,
              "#bd3786"
             ],
             [
              0.5555555555555556,
              "#d8576b"
             ],
             [
              0.6666666666666666,
              "#ed7953"
             ],
             [
              0.7777777777777778,
              "#fb9f3a"
             ],
             [
              0.8888888888888888,
              "#fdca26"
             ],
             [
              1,
              "#f0f921"
             ]
            ],
            "type": "histogram2dcontour"
           }
          ],
          "mesh3d": [
           {
            "colorbar": {
             "outlinewidth": 0,
             "ticks": ""
            },
            "type": "mesh3d"
           }
          ],
          "parcoords": [
           {
            "line": {
             "colorbar": {
              "outlinewidth": 0,
              "ticks": ""
             }
            },
            "type": "parcoords"
           }
          ],
          "pie": [
           {
            "automargin": true,
            "type": "pie"
           }
          ],
          "scatter": [
           {
            "marker": {
             "colorbar": {
              "outlinewidth": 0,
              "ticks": ""
             }
            },
            "type": "scatter"
           }
          ],
          "scatter3d": [
           {
            "line": {
             "colorbar": {
              "outlinewidth": 0,
              "ticks": ""
             }
            },
            "marker": {
             "colorbar": {
              "outlinewidth": 0,
              "ticks": ""
             }
            },
            "type": "scatter3d"
           }
          ],
          "scattercarpet": [
           {
            "marker": {
             "colorbar": {
              "outlinewidth": 0,
              "ticks": ""
             }
            },
            "type": "scattercarpet"
           }
          ],
          "scattergeo": [
           {
            "marker": {
             "colorbar": {
              "outlinewidth": 0,
              "ticks": ""
             }
            },
            "type": "scattergeo"
           }
          ],
          "scattergl": [
           {
            "marker": {
             "colorbar": {
              "outlinewidth": 0,
              "ticks": ""
             }
            },
            "type": "scattergl"
           }
          ],
          "scattermapbox": [
           {
            "marker": {
             "colorbar": {
              "outlinewidth": 0,
              "ticks": ""
             }
            },
            "type": "scattermapbox"
           }
          ],
          "scatterpolar": [
           {
            "marker": {
             "colorbar": {
              "outlinewidth": 0,
              "ticks": ""
             }
            },
            "type": "scatterpolar"
           }
          ],
          "scatterpolargl": [
           {
            "marker": {
             "colorbar": {
              "outlinewidth": 0,
              "ticks": ""
             }
            },
            "type": "scatterpolargl"
           }
          ],
          "scatterternary": [
           {
            "marker": {
             "colorbar": {
              "outlinewidth": 0,
              "ticks": ""
             }
            },
            "type": "scatterternary"
           }
          ],
          "surface": [
           {
            "colorbar": {
             "outlinewidth": 0,
             "ticks": ""
            },
            "colorscale": [
             [
              0,
              "#0d0887"
             ],
             [
              0.1111111111111111,
              "#46039f"
             ],
             [
              0.2222222222222222,
              "#7201a8"
             ],
             [
              0.3333333333333333,
              "#9c179e"
             ],
             [
              0.4444444444444444,
              "#bd3786"
             ],
             [
              0.5555555555555556,
              "#d8576b"
             ],
             [
              0.6666666666666666,
              "#ed7953"
             ],
             [
              0.7777777777777778,
              "#fb9f3a"
             ],
             [
              0.8888888888888888,
              "#fdca26"
             ],
             [
              1,
              "#f0f921"
             ]
            ],
            "type": "surface"
           }
          ],
          "table": [
           {
            "cells": {
             "fill": {
              "color": "#EBF0F8"
             },
             "line": {
              "color": "white"
             }
            },
            "header": {
             "fill": {
              "color": "#C8D4E3"
             },
             "line": {
              "color": "white"
             }
            },
            "type": "table"
           }
          ]
         },
         "layout": {
          "annotationdefaults": {
           "arrowcolor": "#2a3f5f",
           "arrowhead": 0,
           "arrowwidth": 1
          },
          "autotypenumbers": "strict",
          "coloraxis": {
           "colorbar": {
            "outlinewidth": 0,
            "ticks": ""
           }
          },
          "colorscale": {
           "diverging": [
            [
             0,
             "#8e0152"
            ],
            [
             0.1,
             "#c51b7d"
            ],
            [
             0.2,
             "#de77ae"
            ],
            [
             0.3,
             "#f1b6da"
            ],
            [
             0.4,
             "#fde0ef"
            ],
            [
             0.5,
             "#f7f7f7"
            ],
            [
             0.6,
             "#e6f5d0"
            ],
            [
             0.7,
             "#b8e186"
            ],
            [
             0.8,
             "#7fbc41"
            ],
            [
             0.9,
             "#4d9221"
            ],
            [
             1,
             "#276419"
            ]
           ],
           "sequential": [
            [
             0,
             "#0d0887"
            ],
            [
             0.1111111111111111,
             "#46039f"
            ],
            [
             0.2222222222222222,
             "#7201a8"
            ],
            [
             0.3333333333333333,
             "#9c179e"
            ],
            [
             0.4444444444444444,
             "#bd3786"
            ],
            [
             0.5555555555555556,
             "#d8576b"
            ],
            [
             0.6666666666666666,
             "#ed7953"
            ],
            [
             0.7777777777777778,
             "#fb9f3a"
            ],
            [
             0.8888888888888888,
             "#fdca26"
            ],
            [
             1,
             "#f0f921"
            ]
           ],
           "sequentialminus": [
            [
             0,
             "#0d0887"
            ],
            [
             0.1111111111111111,
             "#46039f"
            ],
            [
             0.2222222222222222,
             "#7201a8"
            ],
            [
             0.3333333333333333,
             "#9c179e"
            ],
            [
             0.4444444444444444,
             "#bd3786"
            ],
            [
             0.5555555555555556,
             "#d8576b"
            ],
            [
             0.6666666666666666,
             "#ed7953"
            ],
            [
             0.7777777777777778,
             "#fb9f3a"
            ],
            [
             0.8888888888888888,
             "#fdca26"
            ],
            [
             1,
             "#f0f921"
            ]
           ]
          },
          "colorway": [
           "#636efa",
           "#EF553B",
           "#00cc96",
           "#ab63fa",
           "#FFA15A",
           "#19d3f3",
           "#FF6692",
           "#B6E880",
           "#FF97FF",
           "#FECB52"
          ],
          "font": {
           "color": "#2a3f5f"
          },
          "geo": {
           "bgcolor": "white",
           "lakecolor": "white",
           "landcolor": "#E5ECF6",
           "showlakes": true,
           "showland": true,
           "subunitcolor": "white"
          },
          "hoverlabel": {
           "align": "left"
          },
          "hovermode": "closest",
          "mapbox": {
           "style": "light"
          },
          "paper_bgcolor": "white",
          "plot_bgcolor": "#E5ECF6",
          "polar": {
           "angularaxis": {
            "gridcolor": "white",
            "linecolor": "white",
            "ticks": ""
           },
           "bgcolor": "#E5ECF6",
           "radialaxis": {
            "gridcolor": "white",
            "linecolor": "white",
            "ticks": ""
           }
          },
          "scene": {
           "xaxis": {
            "backgroundcolor": "#E5ECF6",
            "gridcolor": "white",
            "gridwidth": 2,
            "linecolor": "white",
            "showbackground": true,
            "ticks": "",
            "zerolinecolor": "white"
           },
           "yaxis": {
            "backgroundcolor": "#E5ECF6",
            "gridcolor": "white",
            "gridwidth": 2,
            "linecolor": "white",
            "showbackground": true,
            "ticks": "",
            "zerolinecolor": "white"
           },
           "zaxis": {
            "backgroundcolor": "#E5ECF6",
            "gridcolor": "white",
            "gridwidth": 2,
            "linecolor": "white",
            "showbackground": true,
            "ticks": "",
            "zerolinecolor": "white"
           }
          },
          "shapedefaults": {
           "line": {
            "color": "#2a3f5f"
           }
          },
          "ternary": {
           "aaxis": {
            "gridcolor": "white",
            "linecolor": "white",
            "ticks": ""
           },
           "baxis": {
            "gridcolor": "white",
            "linecolor": "white",
            "ticks": ""
           },
           "bgcolor": "#E5ECF6",
           "caxis": {
            "gridcolor": "white",
            "linecolor": "white",
            "ticks": ""
           }
          },
          "title": {
           "x": 0.05
          },
          "xaxis": {
           "automargin": true,
           "gridcolor": "white",
           "linecolor": "white",
           "ticks": "",
           "title": {
            "standoff": 15
           },
           "zerolinecolor": "white",
           "zerolinewidth": 2
          },
          "yaxis": {
           "automargin": true,
           "gridcolor": "white",
           "linecolor": "white",
           "ticks": "",
           "title": {
            "standoff": 15
           },
           "zerolinecolor": "white",
           "zerolinewidth": 2
          }
         }
        },
        "width": 500
       }
      }
     },
     "metadata": {},
     "output_type": "display_data"
    }
   ],
   "source": [
    "x = np.arange(100)\n",
    "z = np.ones(100)\n",
    "fig = go.Figure(data=go.Scatter(x = x, y = coffeePrice*(numCoffee)*(1-x/100) + (coffeePrice+cakePrice)*(1-discounts[0])*(numCoffee)*x/100 + numCoffeeCake*(1-discounts[0])*(coffeePrice+cakePrice) ) )\n",
    "fig.add_scatter(x = x, y = ((coffeePrice + cakePrice)*numCoffeeCake + coffeePrice*numCoffee)*z)\n",
    "fig.add_scatter(x = 0.504144 * 100 * np.ones(100), y = coffeePrice*(numCoffee)*(1-x/100) + (coffeePrice+cakePrice)*(1-discounts[0])*(numCoffee)*x/100 + numCoffeeCake*(1-discounts[0])*(coffeePrice+cakePrice))\n",
    "#fig.update_yaxes(rangemode=\"tozero\")\n",
    "fig['layout'].update(width=500, height=500, autosize=False)\n",
    "fig.show()"
   ]
  },
  {
   "cell_type": "code",
   "execution_count": 18,
   "metadata": {},
   "outputs": [
    {
     "name": "stdout",
     "output_type": "stream",
     "text": [
      "Cada sábado (de media) se realizan  82  transacciones de cafés + tarta y se venden  80  cafés por separado.\n",
      "Descuento de  1.15 euros \n",
      "Cada sábado (de media), suponiendo que la oferta atraiga a aproximadamente el 50% de clientes que consumen solo café, se obtendría una mejora en ingresos de 41.34\n"
     ]
    }
   ],
   "source": [
    "print(\"Cada sábado (de media) se realizan \", \"{:.0f}\".format(numCoffeeCake/28), \" transacciones de cafés + tarta y se venden \", \"{:.0f}\".format(numCoffee/28), \" cafés por separado.\")\n",
    "print(\"Descuento de \", \"{:.2f}\".format((coffeePrice + cakePrice)*discounts[0]), \"euros \" )\n",
    "print(\"Cada sábado (de media), suponiendo que la oferta atraiga a aproximadamente el 50% de clientes que consumen solo café, se obtendría una mejora en ingresos de\", \"{:.2f}\".format( ( (coffeePrice*(numCoffee)*(1-0.504144) + (coffeePrice+cakePrice)*(1-discounts[0])*(numCoffee)*0.504144 + numCoffeeCake*(1-discounts[0])*(coffeePrice+cakePrice) - ((coffeePrice + cakePrice)*numCoffeeCake + coffeePrice*numCoffee)))/28) )"
   ]
  },
  {
   "cell_type": "code",
   "execution_count": 19,
   "metadata": {},
   "outputs": [
    {
     "data": {
      "application/vnd.plotly.v1+json": {
       "config": {
        "plotlyServerURL": "https://plot.ly"
       },
       "data": [
        {
         "type": "scatter",
         "x": [
          0,
          1,
          2,
          3,
          4,
          5,
          6,
          7,
          8,
          9,
          10,
          11,
          12,
          13,
          14,
          15,
          16,
          17,
          18,
          19,
          20,
          21,
          22,
          23,
          24,
          25,
          26,
          27,
          28,
          29,
          30,
          31,
          32,
          33,
          34,
          35,
          36,
          37,
          38,
          39,
          40,
          41,
          42,
          43,
          44,
          45,
          46,
          47,
          48,
          49,
          50,
          51,
          52,
          53,
          54,
          55,
          56,
          57,
          58,
          59,
          60,
          61,
          62,
          63,
          64,
          65,
          66,
          67,
          68,
          69,
          70,
          71,
          72,
          73,
          74,
          75,
          76,
          77,
          78,
          79,
          80,
          81,
          82,
          83,
          84,
          85,
          86,
          87,
          88,
          89,
          90,
          91,
          92,
          93,
          94,
          95,
          96,
          97,
          98,
          99
         ],
         "y": [
          13975.324999999999,
          14056.87775,
          14138.430499999999,
          14219.983249999997,
          14301.536,
          14383.088749999999,
          14464.641499999998,
          14546.194249999999,
          14627.747,
          14709.299749999998,
          14790.852499999999,
          14872.40525,
          14953.957999999999,
          15035.51075,
          15117.0635,
          15198.61625,
          15280.168999999998,
          15361.721749999999,
          15443.2745,
          15524.827249999998,
          15606.38,
          15687.932749999998,
          15769.485499999999,
          15851.038249999998,
          15932.590999999999,
          16014.14375,
          16095.696499999998,
          16177.249249999999,
          16258.802,
          16340.354749999999,
          16421.907499999998,
          16503.460249999996,
          16585.013,
          16666.565749999998,
          16748.118499999997,
          16829.67125,
          16911.224,
          16992.776749999997,
          17074.3295,
          17155.88225,
          17237.434999999998,
          17318.98775,
          17400.5405,
          17482.093249999998,
          17563.646,
          17645.19875,
          17726.7515,
          17808.304249999997,
          17889.857,
          17971.40975,
          18052.962499999998,
          18134.515249999997,
          18216.068,
          18297.62075,
          18379.173499999997,
          18460.72625,
          18542.279,
          18623.831749999998,
          18705.3845,
          18786.93725,
          18868.489999999998,
          18950.04275,
          19031.595499999996,
          19113.14825,
          19194.700999999997,
          19276.25375,
          19357.8065,
          19439.359249999998,
          19520.911999999997,
          19602.46475,
          19684.0175,
          19765.570249999997,
          19847.123,
          19928.67575,
          20010.228499999997,
          20091.78125,
          20173.334,
          20254.886749999998,
          20336.4395,
          20417.992249999996,
          20499.545,
          20581.09775,
          20662.6505,
          20744.20325,
          20825.755999999998,
          20907.308749999997,
          20988.8615,
          21070.41425,
          21151.966999999997,
          21233.51975,
          21315.0725,
          21396.625249999997,
          21478.178,
          21559.730749999995,
          21641.283499999998,
          21722.83625,
          21804.389,
          21885.941749999998,
          21967.494499999997,
          22049.047249999996
         ]
        },
        {
         "type": "scatter",
         "x": [
          0,
          1,
          2,
          3,
          4,
          5,
          6,
          7,
          8,
          9,
          10,
          11,
          12,
          13,
          14,
          15,
          16,
          17,
          18,
          19,
          20,
          21,
          22,
          23,
          24,
          25,
          26,
          27,
          28,
          29,
          30,
          31,
          32,
          33,
          34,
          35,
          36,
          37,
          38,
          39,
          40,
          41,
          42,
          43,
          44,
          45,
          46,
          47,
          48,
          49,
          50,
          51,
          52,
          53,
          54,
          55,
          56,
          57,
          58,
          59,
          60,
          61,
          62,
          63,
          64,
          65,
          66,
          67,
          68,
          69,
          70,
          71,
          72,
          73,
          74,
          75,
          76,
          77,
          78,
          79,
          80,
          81,
          82,
          83,
          84,
          85,
          86,
          87,
          88,
          89,
          90,
          91,
          92,
          93,
          94,
          95,
          96,
          97,
          98,
          99
         ],
         "y": [
          15947,
          15947,
          15947,
          15947,
          15947,
          15947,
          15947,
          15947,
          15947,
          15947,
          15947,
          15947,
          15947,
          15947,
          15947,
          15947,
          15947,
          15947,
          15947,
          15947,
          15947,
          15947,
          15947,
          15947,
          15947,
          15947,
          15947,
          15947,
          15947,
          15947,
          15947,
          15947,
          15947,
          15947,
          15947,
          15947,
          15947,
          15947,
          15947,
          15947,
          15947,
          15947,
          15947,
          15947,
          15947,
          15947,
          15947,
          15947,
          15947,
          15947,
          15947,
          15947,
          15947,
          15947,
          15947,
          15947,
          15947,
          15947,
          15947,
          15947,
          15947,
          15947,
          15947,
          15947,
          15947,
          15947,
          15947,
          15947,
          15947,
          15947,
          15947,
          15947,
          15947,
          15947,
          15947,
          15947,
          15947,
          15947,
          15947,
          15947,
          15947,
          15947,
          15947,
          15947,
          15947,
          15947,
          15947,
          15947,
          15947,
          15947,
          15947,
          15947,
          15947,
          15947,
          15947,
          15947,
          15947,
          15947,
          15947,
          15947
         ]
        },
        {
         "type": "scatter",
         "x": [
          50.4144,
          50.4144,
          50.4144,
          50.4144,
          50.4144,
          50.4144,
          50.4144,
          50.4144,
          50.4144,
          50.4144,
          50.4144,
          50.4144,
          50.4144,
          50.4144,
          50.4144,
          50.4144,
          50.4144,
          50.4144,
          50.4144,
          50.4144,
          50.4144,
          50.4144,
          50.4144,
          50.4144,
          50.4144,
          50.4144,
          50.4144,
          50.4144,
          50.4144,
          50.4144,
          50.4144,
          50.4144,
          50.4144,
          50.4144,
          50.4144,
          50.4144,
          50.4144,
          50.4144,
          50.4144,
          50.4144,
          50.4144,
          50.4144,
          50.4144,
          50.4144,
          50.4144,
          50.4144,
          50.4144,
          50.4144,
          50.4144,
          50.4144,
          50.4144,
          50.4144,
          50.4144,
          50.4144,
          50.4144,
          50.4144,
          50.4144,
          50.4144,
          50.4144,
          50.4144,
          50.4144,
          50.4144,
          50.4144,
          50.4144,
          50.4144,
          50.4144,
          50.4144,
          50.4144,
          50.4144,
          50.4144,
          50.4144,
          50.4144,
          50.4144,
          50.4144,
          50.4144,
          50.4144,
          50.4144,
          50.4144,
          50.4144,
          50.4144,
          50.4144,
          50.4144,
          50.4144,
          50.4144,
          50.4144,
          50.4144,
          50.4144,
          50.4144,
          50.4144,
          50.4144,
          50.4144,
          50.4144,
          50.4144,
          50.4144,
          50.4144,
          50.4144,
          50.4144,
          50.4144,
          50.4144,
          50.4144
         ],
         "y": [
          13975.324999999999,
          14056.87775,
          14138.430499999999,
          14219.983249999997,
          14301.536,
          14383.088749999999,
          14464.641499999998,
          14546.194249999999,
          14627.747,
          14709.299749999998,
          14790.852499999999,
          14872.40525,
          14953.957999999999,
          15035.51075,
          15117.0635,
          15198.61625,
          15280.168999999998,
          15361.721749999999,
          15443.2745,
          15524.827249999998,
          15606.38,
          15687.932749999998,
          15769.485499999999,
          15851.038249999998,
          15932.590999999999,
          16014.14375,
          16095.696499999998,
          16177.249249999999,
          16258.802,
          16340.354749999999,
          16421.907499999998,
          16503.460249999996,
          16585.013,
          16666.565749999998,
          16748.118499999997,
          16829.67125,
          16911.224,
          16992.776749999997,
          17074.3295,
          17155.88225,
          17237.434999999998,
          17318.98775,
          17400.5405,
          17482.093249999998,
          17563.646,
          17645.19875,
          17726.7515,
          17808.304249999997,
          17889.857,
          17971.40975,
          18052.962499999998,
          18134.515249999997,
          18216.068,
          18297.62075,
          18379.173499999997,
          18460.72625,
          18542.279,
          18623.831749999998,
          18705.3845,
          18786.93725,
          18868.489999999998,
          18950.04275,
          19031.595499999996,
          19113.14825,
          19194.700999999997,
          19276.25375,
          19357.8065,
          19439.359249999998,
          19520.911999999997,
          19602.46475,
          19684.0175,
          19765.570249999997,
          19847.123,
          19928.67575,
          20010.228499999997,
          20091.78125,
          20173.334,
          20254.886749999998,
          20336.4395,
          20417.992249999996,
          20499.545,
          20581.09775,
          20662.6505,
          20744.20325,
          20825.755999999998,
          20907.308749999997,
          20988.8615,
          21070.41425,
          21151.966999999997,
          21233.51975,
          21315.0725,
          21396.625249999997,
          21478.178,
          21559.730749999995,
          21641.283499999998,
          21722.83625,
          21804.389,
          21885.941749999998,
          21967.494499999997,
          22049.047249999996
         ]
        }
       ],
       "layout": {
        "autosize": false,
        "height": 500,
        "template": {
         "data": {
          "bar": [
           {
            "error_x": {
             "color": "#2a3f5f"
            },
            "error_y": {
             "color": "#2a3f5f"
            },
            "marker": {
             "line": {
              "color": "#E5ECF6",
              "width": 0.5
             },
             "pattern": {
              "fillmode": "overlay",
              "size": 10,
              "solidity": 0.2
             }
            },
            "type": "bar"
           }
          ],
          "barpolar": [
           {
            "marker": {
             "line": {
              "color": "#E5ECF6",
              "width": 0.5
             },
             "pattern": {
              "fillmode": "overlay",
              "size": 10,
              "solidity": 0.2
             }
            },
            "type": "barpolar"
           }
          ],
          "carpet": [
           {
            "aaxis": {
             "endlinecolor": "#2a3f5f",
             "gridcolor": "white",
             "linecolor": "white",
             "minorgridcolor": "white",
             "startlinecolor": "#2a3f5f"
            },
            "baxis": {
             "endlinecolor": "#2a3f5f",
             "gridcolor": "white",
             "linecolor": "white",
             "minorgridcolor": "white",
             "startlinecolor": "#2a3f5f"
            },
            "type": "carpet"
           }
          ],
          "choropleth": [
           {
            "colorbar": {
             "outlinewidth": 0,
             "ticks": ""
            },
            "type": "choropleth"
           }
          ],
          "contour": [
           {
            "colorbar": {
             "outlinewidth": 0,
             "ticks": ""
            },
            "colorscale": [
             [
              0,
              "#0d0887"
             ],
             [
              0.1111111111111111,
              "#46039f"
             ],
             [
              0.2222222222222222,
              "#7201a8"
             ],
             [
              0.3333333333333333,
              "#9c179e"
             ],
             [
              0.4444444444444444,
              "#bd3786"
             ],
             [
              0.5555555555555556,
              "#d8576b"
             ],
             [
              0.6666666666666666,
              "#ed7953"
             ],
             [
              0.7777777777777778,
              "#fb9f3a"
             ],
             [
              0.8888888888888888,
              "#fdca26"
             ],
             [
              1,
              "#f0f921"
             ]
            ],
            "type": "contour"
           }
          ],
          "contourcarpet": [
           {
            "colorbar": {
             "outlinewidth": 0,
             "ticks": ""
            },
            "type": "contourcarpet"
           }
          ],
          "heatmap": [
           {
            "colorbar": {
             "outlinewidth": 0,
             "ticks": ""
            },
            "colorscale": [
             [
              0,
              "#0d0887"
             ],
             [
              0.1111111111111111,
              "#46039f"
             ],
             [
              0.2222222222222222,
              "#7201a8"
             ],
             [
              0.3333333333333333,
              "#9c179e"
             ],
             [
              0.4444444444444444,
              "#bd3786"
             ],
             [
              0.5555555555555556,
              "#d8576b"
             ],
             [
              0.6666666666666666,
              "#ed7953"
             ],
             [
              0.7777777777777778,
              "#fb9f3a"
             ],
             [
              0.8888888888888888,
              "#fdca26"
             ],
             [
              1,
              "#f0f921"
             ]
            ],
            "type": "heatmap"
           }
          ],
          "heatmapgl": [
           {
            "colorbar": {
             "outlinewidth": 0,
             "ticks": ""
            },
            "colorscale": [
             [
              0,
              "#0d0887"
             ],
             [
              0.1111111111111111,
              "#46039f"
             ],
             [
              0.2222222222222222,
              "#7201a8"
             ],
             [
              0.3333333333333333,
              "#9c179e"
             ],
             [
              0.4444444444444444,
              "#bd3786"
             ],
             [
              0.5555555555555556,
              "#d8576b"
             ],
             [
              0.6666666666666666,
              "#ed7953"
             ],
             [
              0.7777777777777778,
              "#fb9f3a"
             ],
             [
              0.8888888888888888,
              "#fdca26"
             ],
             [
              1,
              "#f0f921"
             ]
            ],
            "type": "heatmapgl"
           }
          ],
          "histogram": [
           {
            "marker": {
             "pattern": {
              "fillmode": "overlay",
              "size": 10,
              "solidity": 0.2
             }
            },
            "type": "histogram"
           }
          ],
          "histogram2d": [
           {
            "colorbar": {
             "outlinewidth": 0,
             "ticks": ""
            },
            "colorscale": [
             [
              0,
              "#0d0887"
             ],
             [
              0.1111111111111111,
              "#46039f"
             ],
             [
              0.2222222222222222,
              "#7201a8"
             ],
             [
              0.3333333333333333,
              "#9c179e"
             ],
             [
              0.4444444444444444,
              "#bd3786"
             ],
             [
              0.5555555555555556,
              "#d8576b"
             ],
             [
              0.6666666666666666,
              "#ed7953"
             ],
             [
              0.7777777777777778,
              "#fb9f3a"
             ],
             [
              0.8888888888888888,
              "#fdca26"
             ],
             [
              1,
              "#f0f921"
             ]
            ],
            "type": "histogram2d"
           }
          ],
          "histogram2dcontour": [
           {
            "colorbar": {
             "outlinewidth": 0,
             "ticks": ""
            },
            "colorscale": [
             [
              0,
              "#0d0887"
             ],
             [
              0.1111111111111111,
              "#46039f"
             ],
             [
              0.2222222222222222,
              "#7201a8"
             ],
             [
              0.3333333333333333,
              "#9c179e"
             ],
             [
              0.4444444444444444,
              "#bd3786"
             ],
             [
              0.5555555555555556,
              "#d8576b"
             ],
             [
              0.6666666666666666,
              "#ed7953"
             ],
             [
              0.7777777777777778,
              "#fb9f3a"
             ],
             [
              0.8888888888888888,
              "#fdca26"
             ],
             [
              1,
              "#f0f921"
             ]
            ],
            "type": "histogram2dcontour"
           }
          ],
          "mesh3d": [
           {
            "colorbar": {
             "outlinewidth": 0,
             "ticks": ""
            },
            "type": "mesh3d"
           }
          ],
          "parcoords": [
           {
            "line": {
             "colorbar": {
              "outlinewidth": 0,
              "ticks": ""
             }
            },
            "type": "parcoords"
           }
          ],
          "pie": [
           {
            "automargin": true,
            "type": "pie"
           }
          ],
          "scatter": [
           {
            "marker": {
             "colorbar": {
              "outlinewidth": 0,
              "ticks": ""
             }
            },
            "type": "scatter"
           }
          ],
          "scatter3d": [
           {
            "line": {
             "colorbar": {
              "outlinewidth": 0,
              "ticks": ""
             }
            },
            "marker": {
             "colorbar": {
              "outlinewidth": 0,
              "ticks": ""
             }
            },
            "type": "scatter3d"
           }
          ],
          "scattercarpet": [
           {
            "marker": {
             "colorbar": {
              "outlinewidth": 0,
              "ticks": ""
             }
            },
            "type": "scattercarpet"
           }
          ],
          "scattergeo": [
           {
            "marker": {
             "colorbar": {
              "outlinewidth": 0,
              "ticks": ""
             }
            },
            "type": "scattergeo"
           }
          ],
          "scattergl": [
           {
            "marker": {
             "colorbar": {
              "outlinewidth": 0,
              "ticks": ""
             }
            },
            "type": "scattergl"
           }
          ],
          "scattermapbox": [
           {
            "marker": {
             "colorbar": {
              "outlinewidth": 0,
              "ticks": ""
             }
            },
            "type": "scattermapbox"
           }
          ],
          "scatterpolar": [
           {
            "marker": {
             "colorbar": {
              "outlinewidth": 0,
              "ticks": ""
             }
            },
            "type": "scatterpolar"
           }
          ],
          "scatterpolargl": [
           {
            "marker": {
             "colorbar": {
              "outlinewidth": 0,
              "ticks": ""
             }
            },
            "type": "scatterpolargl"
           }
          ],
          "scatterternary": [
           {
            "marker": {
             "colorbar": {
              "outlinewidth": 0,
              "ticks": ""
             }
            },
            "type": "scatterternary"
           }
          ],
          "surface": [
           {
            "colorbar": {
             "outlinewidth": 0,
             "ticks": ""
            },
            "colorscale": [
             [
              0,
              "#0d0887"
             ],
             [
              0.1111111111111111,
              "#46039f"
             ],
             [
              0.2222222222222222,
              "#7201a8"
             ],
             [
              0.3333333333333333,
              "#9c179e"
             ],
             [
              0.4444444444444444,
              "#bd3786"
             ],
             [
              0.5555555555555556,
              "#d8576b"
             ],
             [
              0.6666666666666666,
              "#ed7953"
             ],
             [
              0.7777777777777778,
              "#fb9f3a"
             ],
             [
              0.8888888888888888,
              "#fdca26"
             ],
             [
              1,
              "#f0f921"
             ]
            ],
            "type": "surface"
           }
          ],
          "table": [
           {
            "cells": {
             "fill": {
              "color": "#EBF0F8"
             },
             "line": {
              "color": "white"
             }
            },
            "header": {
             "fill": {
              "color": "#C8D4E3"
             },
             "line": {
              "color": "white"
             }
            },
            "type": "table"
           }
          ]
         },
         "layout": {
          "annotationdefaults": {
           "arrowcolor": "#2a3f5f",
           "arrowhead": 0,
           "arrowwidth": 1
          },
          "autotypenumbers": "strict",
          "coloraxis": {
           "colorbar": {
            "outlinewidth": 0,
            "ticks": ""
           }
          },
          "colorscale": {
           "diverging": [
            [
             0,
             "#8e0152"
            ],
            [
             0.1,
             "#c51b7d"
            ],
            [
             0.2,
             "#de77ae"
            ],
            [
             0.3,
             "#f1b6da"
            ],
            [
             0.4,
             "#fde0ef"
            ],
            [
             0.5,
             "#f7f7f7"
            ],
            [
             0.6,
             "#e6f5d0"
            ],
            [
             0.7,
             "#b8e186"
            ],
            [
             0.8,
             "#7fbc41"
            ],
            [
             0.9,
             "#4d9221"
            ],
            [
             1,
             "#276419"
            ]
           ],
           "sequential": [
            [
             0,
             "#0d0887"
            ],
            [
             0.1111111111111111,
             "#46039f"
            ],
            [
             0.2222222222222222,
             "#7201a8"
            ],
            [
             0.3333333333333333,
             "#9c179e"
            ],
            [
             0.4444444444444444,
             "#bd3786"
            ],
            [
             0.5555555555555556,
             "#d8576b"
            ],
            [
             0.6666666666666666,
             "#ed7953"
            ],
            [
             0.7777777777777778,
             "#fb9f3a"
            ],
            [
             0.8888888888888888,
             "#fdca26"
            ],
            [
             1,
             "#f0f921"
            ]
           ],
           "sequentialminus": [
            [
             0,
             "#0d0887"
            ],
            [
             0.1111111111111111,
             "#46039f"
            ],
            [
             0.2222222222222222,
             "#7201a8"
            ],
            [
             0.3333333333333333,
             "#9c179e"
            ],
            [
             0.4444444444444444,
             "#bd3786"
            ],
            [
             0.5555555555555556,
             "#d8576b"
            ],
            [
             0.6666666666666666,
             "#ed7953"
            ],
            [
             0.7777777777777778,
             "#fb9f3a"
            ],
            [
             0.8888888888888888,
             "#fdca26"
            ],
            [
             1,
             "#f0f921"
            ]
           ]
          },
          "colorway": [
           "#636efa",
           "#EF553B",
           "#00cc96",
           "#ab63fa",
           "#FFA15A",
           "#19d3f3",
           "#FF6692",
           "#B6E880",
           "#FF97FF",
           "#FECB52"
          ],
          "font": {
           "color": "#2a3f5f"
          },
          "geo": {
           "bgcolor": "white",
           "lakecolor": "white",
           "landcolor": "#E5ECF6",
           "showlakes": true,
           "showland": true,
           "subunitcolor": "white"
          },
          "hoverlabel": {
           "align": "left"
          },
          "hovermode": "closest",
          "mapbox": {
           "style": "light"
          },
          "paper_bgcolor": "white",
          "plot_bgcolor": "#E5ECF6",
          "polar": {
           "angularaxis": {
            "gridcolor": "white",
            "linecolor": "white",
            "ticks": ""
           },
           "bgcolor": "#E5ECF6",
           "radialaxis": {
            "gridcolor": "white",
            "linecolor": "white",
            "ticks": ""
           }
          },
          "scene": {
           "xaxis": {
            "backgroundcolor": "#E5ECF6",
            "gridcolor": "white",
            "gridwidth": 2,
            "linecolor": "white",
            "showbackground": true,
            "ticks": "",
            "zerolinecolor": "white"
           },
           "yaxis": {
            "backgroundcolor": "#E5ECF6",
            "gridcolor": "white",
            "gridwidth": 2,
            "linecolor": "white",
            "showbackground": true,
            "ticks": "",
            "zerolinecolor": "white"
           },
           "zaxis": {
            "backgroundcolor": "#E5ECF6",
            "gridcolor": "white",
            "gridwidth": 2,
            "linecolor": "white",
            "showbackground": true,
            "ticks": "",
            "zerolinecolor": "white"
           }
          },
          "shapedefaults": {
           "line": {
            "color": "#2a3f5f"
           }
          },
          "ternary": {
           "aaxis": {
            "gridcolor": "white",
            "linecolor": "white",
            "ticks": ""
           },
           "baxis": {
            "gridcolor": "white",
            "linecolor": "white",
            "ticks": ""
           },
           "bgcolor": "#E5ECF6",
           "caxis": {
            "gridcolor": "white",
            "linecolor": "white",
            "ticks": ""
           }
          },
          "title": {
           "x": 0.05
          },
          "xaxis": {
           "automargin": true,
           "gridcolor": "white",
           "linecolor": "white",
           "ticks": "",
           "title": {
            "standoff": 15
           },
           "zerolinecolor": "white",
           "zerolinewidth": 2
          },
          "yaxis": {
           "automargin": true,
           "gridcolor": "white",
           "linecolor": "white",
           "ticks": "",
           "title": {
            "standoff": 15
           },
           "zerolinecolor": "white",
           "zerolinewidth": 2
          }
         }
        },
        "width": 500
       }
      }
     },
     "metadata": {},
     "output_type": "display_data"
    }
   ],
   "source": [
    "x = np.arange(100)\n",
    "z = np.ones(100)\n",
    "fig = go.Figure(data=go.Scatter(x = x, y = coffeePrice*(numCoffee)*(1-x/100) + (coffeePrice+cakePrice)*(1-discounts[1])*(numCoffee)*x/100 + numCoffeeCake*(1-discounts[1])*(coffeePrice+cakePrice) ) )\n",
    "fig.add_scatter(x = x, y = ((coffeePrice + cakePrice)*numCoffeeCake + coffeePrice*numCoffee)*z)\n",
    "fig.add_scatter(x = 0.504144 * 100 * np.ones(100), y = coffeePrice*(numCoffee)*(1-x/100) + (coffeePrice+cakePrice)*(1-discounts[1])*(numCoffee)*x/100 + numCoffeeCake*(1-discounts[1])*(coffeePrice+cakePrice))\n",
    "#fig.update_yaxes(rangemode=\"tozero\")\n",
    "fig['layout'].update(width=500, height=500, autosize=False)\n",
    "fig.show()"
   ]
  },
  {
   "cell_type": "code",
   "execution_count": 20,
   "metadata": {},
   "outputs": [
    {
     "name": "stdout",
     "output_type": "stream",
     "text": [
      "Descuento de  0.86 euros \n",
      "Cada sábado (de media), suponiendo que la oferta atraiga a aproximadamente el 50% de clientes que consumen solo café, se obtendría una mejora en ingresos de 76.42\n"
     ]
    }
   ],
   "source": [
    "print(\"Descuento de \", \"{:.2f}\".format((coffeePrice + cakePrice)*discounts[1]), \"euros \" )\n",
    "print(\"Cada sábado (de media), suponiendo que la oferta atraiga a aproximadamente el 50% de clientes que consumen solo café, se obtendría una mejora en ingresos de\", \"{:.2f}\".format( ( (coffeePrice*(numCoffee)*(1-0.504144) + (coffeePrice+cakePrice)*(1-discounts[1])*(numCoffee)*0.504144 + numCoffeeCake*(1-discounts[1])*(coffeePrice+cakePrice) - ((coffeePrice + cakePrice)*numCoffeeCake + coffeePrice*numCoffee)))/28) )"
   ]
  },
  {
   "cell_type": "code",
   "execution_count": 21,
   "metadata": {},
   "outputs": [
    {
     "data": {
      "application/vnd.plotly.v1+json": {
       "config": {
        "plotlyServerURL": "https://plot.ly"
       },
       "data": [
        {
         "type": "scatter",
         "x": [
          0,
          1,
          2,
          3,
          4,
          5,
          6,
          7,
          8,
          9,
          10,
          11,
          12,
          13,
          14,
          15,
          16,
          17,
          18,
          19,
          20,
          21,
          22,
          23,
          24,
          25,
          26,
          27,
          28,
          29,
          30,
          31,
          32,
          33,
          34,
          35,
          36,
          37,
          38,
          39,
          40,
          41,
          42,
          43,
          44,
          45,
          46,
          47,
          48,
          49,
          50,
          51,
          52,
          53,
          54,
          55,
          56,
          57,
          58,
          59,
          60,
          61,
          62,
          63,
          64,
          65,
          66,
          67,
          68,
          69,
          70,
          71,
          72,
          73,
          74,
          75,
          76,
          77,
          78,
          79,
          80,
          81,
          82,
          83,
          84,
          85,
          86,
          87,
          88,
          89,
          90,
          91,
          92,
          93,
          94,
          95,
          96,
          97,
          98,
          99
         ],
         "y": [
          14632.550000000001,
          14720.5485,
          14808.547,
          14896.5455,
          14984.544000000002,
          15072.542500000001,
          15160.541000000001,
          15248.5395,
          15336.538,
          15424.536500000002,
          15512.535,
          15600.533500000001,
          15688.532000000001,
          15776.5305,
          15864.529000000002,
          15952.5275,
          16040.526000000002,
          16128.524500000001,
          16216.523000000001,
          16304.5215,
          16392.52,
          16480.518500000002,
          16568.517,
          16656.5155,
          16744.514000000003,
          16832.5125,
          16920.511000000002,
          17008.5095,
          17096.508,
          17184.506500000003,
          17272.505,
          17360.5035,
          17448.502,
          17536.500500000002,
          17624.499000000003,
          17712.4975,
          17800.496000000003,
          17888.4945,
          17976.493000000002,
          18064.4915,
          18152.49,
          18240.488500000003,
          18328.487,
          18416.485500000003,
          18504.484000000004,
          18592.482500000002,
          18680.481,
          18768.4795,
          18856.478000000003,
          18944.4765,
          19032.475000000002,
          19120.4735,
          19208.472,
          19296.470500000003,
          19384.469,
          19472.4675,
          19560.466,
          19648.464500000002,
          19736.463000000003,
          19824.4615,
          19912.46,
          20000.4585,
          20088.457000000002,
          20176.455500000004,
          20264.454,
          20352.4525,
          20440.451,
          20528.449500000002,
          20616.448000000004,
          20704.446500000002,
          20792.445,
          20880.4435,
          20968.442000000003,
          21056.4405,
          21144.439,
          21232.4375,
          21320.436,
          21408.434500000003,
          21496.433,
          21584.4315,
          21672.43,
          21760.4285,
          21848.427000000003,
          21936.4255,
          22024.424,
          22112.4225,
          22200.421000000002,
          22288.419500000004,
          22376.418,
          22464.4165,
          22552.415,
          22640.413500000002,
          22728.412000000004,
          22816.410499999998,
          22904.409,
          22992.4075,
          23080.406000000003,
          23168.4045,
          23256.403,
          23344.4015
         ]
        },
        {
         "type": "scatter",
         "x": [
          0,
          1,
          2,
          3,
          4,
          5,
          6,
          7,
          8,
          9,
          10,
          11,
          12,
          13,
          14,
          15,
          16,
          17,
          18,
          19,
          20,
          21,
          22,
          23,
          24,
          25,
          26,
          27,
          28,
          29,
          30,
          31,
          32,
          33,
          34,
          35,
          36,
          37,
          38,
          39,
          40,
          41,
          42,
          43,
          44,
          45,
          46,
          47,
          48,
          49,
          50,
          51,
          52,
          53,
          54,
          55,
          56,
          57,
          58,
          59,
          60,
          61,
          62,
          63,
          64,
          65,
          66,
          67,
          68,
          69,
          70,
          71,
          72,
          73,
          74,
          75,
          76,
          77,
          78,
          79,
          80,
          81,
          82,
          83,
          84,
          85,
          86,
          87,
          88,
          89,
          90,
          91,
          92,
          93,
          94,
          95,
          96,
          97,
          98,
          99
         ],
         "y": [
          15947,
          15947,
          15947,
          15947,
          15947,
          15947,
          15947,
          15947,
          15947,
          15947,
          15947,
          15947,
          15947,
          15947,
          15947,
          15947,
          15947,
          15947,
          15947,
          15947,
          15947,
          15947,
          15947,
          15947,
          15947,
          15947,
          15947,
          15947,
          15947,
          15947,
          15947,
          15947,
          15947,
          15947,
          15947,
          15947,
          15947,
          15947,
          15947,
          15947,
          15947,
          15947,
          15947,
          15947,
          15947,
          15947,
          15947,
          15947,
          15947,
          15947,
          15947,
          15947,
          15947,
          15947,
          15947,
          15947,
          15947,
          15947,
          15947,
          15947,
          15947,
          15947,
          15947,
          15947,
          15947,
          15947,
          15947,
          15947,
          15947,
          15947,
          15947,
          15947,
          15947,
          15947,
          15947,
          15947,
          15947,
          15947,
          15947,
          15947,
          15947,
          15947,
          15947,
          15947,
          15947,
          15947,
          15947,
          15947,
          15947,
          15947,
          15947,
          15947,
          15947,
          15947,
          15947,
          15947,
          15947,
          15947,
          15947,
          15947
         ]
        },
        {
         "type": "scatter",
         "x": [
          50.4144,
          50.4144,
          50.4144,
          50.4144,
          50.4144,
          50.4144,
          50.4144,
          50.4144,
          50.4144,
          50.4144,
          50.4144,
          50.4144,
          50.4144,
          50.4144,
          50.4144,
          50.4144,
          50.4144,
          50.4144,
          50.4144,
          50.4144,
          50.4144,
          50.4144,
          50.4144,
          50.4144,
          50.4144,
          50.4144,
          50.4144,
          50.4144,
          50.4144,
          50.4144,
          50.4144,
          50.4144,
          50.4144,
          50.4144,
          50.4144,
          50.4144,
          50.4144,
          50.4144,
          50.4144,
          50.4144,
          50.4144,
          50.4144,
          50.4144,
          50.4144,
          50.4144,
          50.4144,
          50.4144,
          50.4144,
          50.4144,
          50.4144,
          50.4144,
          50.4144,
          50.4144,
          50.4144,
          50.4144,
          50.4144,
          50.4144,
          50.4144,
          50.4144,
          50.4144,
          50.4144,
          50.4144,
          50.4144,
          50.4144,
          50.4144,
          50.4144,
          50.4144,
          50.4144,
          50.4144,
          50.4144,
          50.4144,
          50.4144,
          50.4144,
          50.4144,
          50.4144,
          50.4144,
          50.4144,
          50.4144,
          50.4144,
          50.4144,
          50.4144,
          50.4144,
          50.4144,
          50.4144,
          50.4144,
          50.4144,
          50.4144,
          50.4144,
          50.4144,
          50.4144,
          50.4144,
          50.4144,
          50.4144,
          50.4144,
          50.4144,
          50.4144,
          50.4144,
          50.4144,
          50.4144,
          50.4144
         ],
         "y": [
          14632.550000000001,
          14720.5485,
          14808.547,
          14896.5455,
          14984.544000000002,
          15072.542500000001,
          15160.541000000001,
          15248.5395,
          15336.538,
          15424.536500000002,
          15512.535,
          15600.533500000001,
          15688.532000000001,
          15776.5305,
          15864.529000000002,
          15952.5275,
          16040.526000000002,
          16128.524500000001,
          16216.523000000001,
          16304.5215,
          16392.52,
          16480.518500000002,
          16568.517,
          16656.5155,
          16744.514000000003,
          16832.5125,
          16920.511000000002,
          17008.5095,
          17096.508,
          17184.506500000003,
          17272.505,
          17360.5035,
          17448.502,
          17536.500500000002,
          17624.499000000003,
          17712.4975,
          17800.496000000003,
          17888.4945,
          17976.493000000002,
          18064.4915,
          18152.49,
          18240.488500000003,
          18328.487,
          18416.485500000003,
          18504.484000000004,
          18592.482500000002,
          18680.481,
          18768.4795,
          18856.478000000003,
          18944.4765,
          19032.475000000002,
          19120.4735,
          19208.472,
          19296.470500000003,
          19384.469,
          19472.4675,
          19560.466,
          19648.464500000002,
          19736.463000000003,
          19824.4615,
          19912.46,
          20000.4585,
          20088.457000000002,
          20176.455500000004,
          20264.454,
          20352.4525,
          20440.451,
          20528.449500000002,
          20616.448000000004,
          20704.446500000002,
          20792.445,
          20880.4435,
          20968.442000000003,
          21056.4405,
          21144.439,
          21232.4375,
          21320.436,
          21408.434500000003,
          21496.433,
          21584.4315,
          21672.43,
          21760.4285,
          21848.427000000003,
          21936.4255,
          22024.424,
          22112.4225,
          22200.421000000002,
          22288.419500000004,
          22376.418,
          22464.4165,
          22552.415,
          22640.413500000002,
          22728.412000000004,
          22816.410499999998,
          22904.409,
          22992.4075,
          23080.406000000003,
          23168.4045,
          23256.403,
          23344.4015
         ]
        }
       ],
       "layout": {
        "autosize": false,
        "height": 500,
        "template": {
         "data": {
          "bar": [
           {
            "error_x": {
             "color": "#2a3f5f"
            },
            "error_y": {
             "color": "#2a3f5f"
            },
            "marker": {
             "line": {
              "color": "#E5ECF6",
              "width": 0.5
             },
             "pattern": {
              "fillmode": "overlay",
              "size": 10,
              "solidity": 0.2
             }
            },
            "type": "bar"
           }
          ],
          "barpolar": [
           {
            "marker": {
             "line": {
              "color": "#E5ECF6",
              "width": 0.5
             },
             "pattern": {
              "fillmode": "overlay",
              "size": 10,
              "solidity": 0.2
             }
            },
            "type": "barpolar"
           }
          ],
          "carpet": [
           {
            "aaxis": {
             "endlinecolor": "#2a3f5f",
             "gridcolor": "white",
             "linecolor": "white",
             "minorgridcolor": "white",
             "startlinecolor": "#2a3f5f"
            },
            "baxis": {
             "endlinecolor": "#2a3f5f",
             "gridcolor": "white",
             "linecolor": "white",
             "minorgridcolor": "white",
             "startlinecolor": "#2a3f5f"
            },
            "type": "carpet"
           }
          ],
          "choropleth": [
           {
            "colorbar": {
             "outlinewidth": 0,
             "ticks": ""
            },
            "type": "choropleth"
           }
          ],
          "contour": [
           {
            "colorbar": {
             "outlinewidth": 0,
             "ticks": ""
            },
            "colorscale": [
             [
              0,
              "#0d0887"
             ],
             [
              0.1111111111111111,
              "#46039f"
             ],
             [
              0.2222222222222222,
              "#7201a8"
             ],
             [
              0.3333333333333333,
              "#9c179e"
             ],
             [
              0.4444444444444444,
              "#bd3786"
             ],
             [
              0.5555555555555556,
              "#d8576b"
             ],
             [
              0.6666666666666666,
              "#ed7953"
             ],
             [
              0.7777777777777778,
              "#fb9f3a"
             ],
             [
              0.8888888888888888,
              "#fdca26"
             ],
             [
              1,
              "#f0f921"
             ]
            ],
            "type": "contour"
           }
          ],
          "contourcarpet": [
           {
            "colorbar": {
             "outlinewidth": 0,
             "ticks": ""
            },
            "type": "contourcarpet"
           }
          ],
          "heatmap": [
           {
            "colorbar": {
             "outlinewidth": 0,
             "ticks": ""
            },
            "colorscale": [
             [
              0,
              "#0d0887"
             ],
             [
              0.1111111111111111,
              "#46039f"
             ],
             [
              0.2222222222222222,
              "#7201a8"
             ],
             [
              0.3333333333333333,
              "#9c179e"
             ],
             [
              0.4444444444444444,
              "#bd3786"
             ],
             [
              0.5555555555555556,
              "#d8576b"
             ],
             [
              0.6666666666666666,
              "#ed7953"
             ],
             [
              0.7777777777777778,
              "#fb9f3a"
             ],
             [
              0.8888888888888888,
              "#fdca26"
             ],
             [
              1,
              "#f0f921"
             ]
            ],
            "type": "heatmap"
           }
          ],
          "heatmapgl": [
           {
            "colorbar": {
             "outlinewidth": 0,
             "ticks": ""
            },
            "colorscale": [
             [
              0,
              "#0d0887"
             ],
             [
              0.1111111111111111,
              "#46039f"
             ],
             [
              0.2222222222222222,
              "#7201a8"
             ],
             [
              0.3333333333333333,
              "#9c179e"
             ],
             [
              0.4444444444444444,
              "#bd3786"
             ],
             [
              0.5555555555555556,
              "#d8576b"
             ],
             [
              0.6666666666666666,
              "#ed7953"
             ],
             [
              0.7777777777777778,
              "#fb9f3a"
             ],
             [
              0.8888888888888888,
              "#fdca26"
             ],
             [
              1,
              "#f0f921"
             ]
            ],
            "type": "heatmapgl"
           }
          ],
          "histogram": [
           {
            "marker": {
             "pattern": {
              "fillmode": "overlay",
              "size": 10,
              "solidity": 0.2
             }
            },
            "type": "histogram"
           }
          ],
          "histogram2d": [
           {
            "colorbar": {
             "outlinewidth": 0,
             "ticks": ""
            },
            "colorscale": [
             [
              0,
              "#0d0887"
             ],
             [
              0.1111111111111111,
              "#46039f"
             ],
             [
              0.2222222222222222,
              "#7201a8"
             ],
             [
              0.3333333333333333,
              "#9c179e"
             ],
             [
              0.4444444444444444,
              "#bd3786"
             ],
             [
              0.5555555555555556,
              "#d8576b"
             ],
             [
              0.6666666666666666,
              "#ed7953"
             ],
             [
              0.7777777777777778,
              "#fb9f3a"
             ],
             [
              0.8888888888888888,
              "#fdca26"
             ],
             [
              1,
              "#f0f921"
             ]
            ],
            "type": "histogram2d"
           }
          ],
          "histogram2dcontour": [
           {
            "colorbar": {
             "outlinewidth": 0,
             "ticks": ""
            },
            "colorscale": [
             [
              0,
              "#0d0887"
             ],
             [
              0.1111111111111111,
              "#46039f"
             ],
             [
              0.2222222222222222,
              "#7201a8"
             ],
             [
              0.3333333333333333,
              "#9c179e"
             ],
             [
              0.4444444444444444,
              "#bd3786"
             ],
             [
              0.5555555555555556,
              "#d8576b"
             ],
             [
              0.6666666666666666,
              "#ed7953"
             ],
             [
              0.7777777777777778,
              "#fb9f3a"
             ],
             [
              0.8888888888888888,
              "#fdca26"
             ],
             [
              1,
              "#f0f921"
             ]
            ],
            "type": "histogram2dcontour"
           }
          ],
          "mesh3d": [
           {
            "colorbar": {
             "outlinewidth": 0,
             "ticks": ""
            },
            "type": "mesh3d"
           }
          ],
          "parcoords": [
           {
            "line": {
             "colorbar": {
              "outlinewidth": 0,
              "ticks": ""
             }
            },
            "type": "parcoords"
           }
          ],
          "pie": [
           {
            "automargin": true,
            "type": "pie"
           }
          ],
          "scatter": [
           {
            "marker": {
             "colorbar": {
              "outlinewidth": 0,
              "ticks": ""
             }
            },
            "type": "scatter"
           }
          ],
          "scatter3d": [
           {
            "line": {
             "colorbar": {
              "outlinewidth": 0,
              "ticks": ""
             }
            },
            "marker": {
             "colorbar": {
              "outlinewidth": 0,
              "ticks": ""
             }
            },
            "type": "scatter3d"
           }
          ],
          "scattercarpet": [
           {
            "marker": {
             "colorbar": {
              "outlinewidth": 0,
              "ticks": ""
             }
            },
            "type": "scattercarpet"
           }
          ],
          "scattergeo": [
           {
            "marker": {
             "colorbar": {
              "outlinewidth": 0,
              "ticks": ""
             }
            },
            "type": "scattergeo"
           }
          ],
          "scattergl": [
           {
            "marker": {
             "colorbar": {
              "outlinewidth": 0,
              "ticks": ""
             }
            },
            "type": "scattergl"
           }
          ],
          "scattermapbox": [
           {
            "marker": {
             "colorbar": {
              "outlinewidth": 0,
              "ticks": ""
             }
            },
            "type": "scattermapbox"
           }
          ],
          "scatterpolar": [
           {
            "marker": {
             "colorbar": {
              "outlinewidth": 0,
              "ticks": ""
             }
            },
            "type": "scatterpolar"
           }
          ],
          "scatterpolargl": [
           {
            "marker": {
             "colorbar": {
              "outlinewidth": 0,
              "ticks": ""
             }
            },
            "type": "scatterpolargl"
           }
          ],
          "scatterternary": [
           {
            "marker": {
             "colorbar": {
              "outlinewidth": 0,
              "ticks": ""
             }
            },
            "type": "scatterternary"
           }
          ],
          "surface": [
           {
            "colorbar": {
             "outlinewidth": 0,
             "ticks": ""
            },
            "colorscale": [
             [
              0,
              "#0d0887"
             ],
             [
              0.1111111111111111,
              "#46039f"
             ],
             [
              0.2222222222222222,
              "#7201a8"
             ],
             [
              0.3333333333333333,
              "#9c179e"
             ],
             [
              0.4444444444444444,
              "#bd3786"
             ],
             [
              0.5555555555555556,
              "#d8576b"
             ],
             [
              0.6666666666666666,
              "#ed7953"
             ],
             [
              0.7777777777777778,
              "#fb9f3a"
             ],
             [
              0.8888888888888888,
              "#fdca26"
             ],
             [
              1,
              "#f0f921"
             ]
            ],
            "type": "surface"
           }
          ],
          "table": [
           {
            "cells": {
             "fill": {
              "color": "#EBF0F8"
             },
             "line": {
              "color": "white"
             }
            },
            "header": {
             "fill": {
              "color": "#C8D4E3"
             },
             "line": {
              "color": "white"
             }
            },
            "type": "table"
           }
          ]
         },
         "layout": {
          "annotationdefaults": {
           "arrowcolor": "#2a3f5f",
           "arrowhead": 0,
           "arrowwidth": 1
          },
          "autotypenumbers": "strict",
          "coloraxis": {
           "colorbar": {
            "outlinewidth": 0,
            "ticks": ""
           }
          },
          "colorscale": {
           "diverging": [
            [
             0,
             "#8e0152"
            ],
            [
             0.1,
             "#c51b7d"
            ],
            [
             0.2,
             "#de77ae"
            ],
            [
             0.3,
             "#f1b6da"
            ],
            [
             0.4,
             "#fde0ef"
            ],
            [
             0.5,
             "#f7f7f7"
            ],
            [
             0.6,
             "#e6f5d0"
            ],
            [
             0.7,
             "#b8e186"
            ],
            [
             0.8,
             "#7fbc41"
            ],
            [
             0.9,
             "#4d9221"
            ],
            [
             1,
             "#276419"
            ]
           ],
           "sequential": [
            [
             0,
             "#0d0887"
            ],
            [
             0.1111111111111111,
             "#46039f"
            ],
            [
             0.2222222222222222,
             "#7201a8"
            ],
            [
             0.3333333333333333,
             "#9c179e"
            ],
            [
             0.4444444444444444,
             "#bd3786"
            ],
            [
             0.5555555555555556,
             "#d8576b"
            ],
            [
             0.6666666666666666,
             "#ed7953"
            ],
            [
             0.7777777777777778,
             "#fb9f3a"
            ],
            [
             0.8888888888888888,
             "#fdca26"
            ],
            [
             1,
             "#f0f921"
            ]
           ],
           "sequentialminus": [
            [
             0,
             "#0d0887"
            ],
            [
             0.1111111111111111,
             "#46039f"
            ],
            [
             0.2222222222222222,
             "#7201a8"
            ],
            [
             0.3333333333333333,
             "#9c179e"
            ],
            [
             0.4444444444444444,
             "#bd3786"
            ],
            [
             0.5555555555555556,
             "#d8576b"
            ],
            [
             0.6666666666666666,
             "#ed7953"
            ],
            [
             0.7777777777777778,
             "#fb9f3a"
            ],
            [
             0.8888888888888888,
             "#fdca26"
            ],
            [
             1,
             "#f0f921"
            ]
           ]
          },
          "colorway": [
           "#636efa",
           "#EF553B",
           "#00cc96",
           "#ab63fa",
           "#FFA15A",
           "#19d3f3",
           "#FF6692",
           "#B6E880",
           "#FF97FF",
           "#FECB52"
          ],
          "font": {
           "color": "#2a3f5f"
          },
          "geo": {
           "bgcolor": "white",
           "lakecolor": "white",
           "landcolor": "#E5ECF6",
           "showlakes": true,
           "showland": true,
           "subunitcolor": "white"
          },
          "hoverlabel": {
           "align": "left"
          },
          "hovermode": "closest",
          "mapbox": {
           "style": "light"
          },
          "paper_bgcolor": "white",
          "plot_bgcolor": "#E5ECF6",
          "polar": {
           "angularaxis": {
            "gridcolor": "white",
            "linecolor": "white",
            "ticks": ""
           },
           "bgcolor": "#E5ECF6",
           "radialaxis": {
            "gridcolor": "white",
            "linecolor": "white",
            "ticks": ""
           }
          },
          "scene": {
           "xaxis": {
            "backgroundcolor": "#E5ECF6",
            "gridcolor": "white",
            "gridwidth": 2,
            "linecolor": "white",
            "showbackground": true,
            "ticks": "",
            "zerolinecolor": "white"
           },
           "yaxis": {
            "backgroundcolor": "#E5ECF6",
            "gridcolor": "white",
            "gridwidth": 2,
            "linecolor": "white",
            "showbackground": true,
            "ticks": "",
            "zerolinecolor": "white"
           },
           "zaxis": {
            "backgroundcolor": "#E5ECF6",
            "gridcolor": "white",
            "gridwidth": 2,
            "linecolor": "white",
            "showbackground": true,
            "ticks": "",
            "zerolinecolor": "white"
           }
          },
          "shapedefaults": {
           "line": {
            "color": "#2a3f5f"
           }
          },
          "ternary": {
           "aaxis": {
            "gridcolor": "white",
            "linecolor": "white",
            "ticks": ""
           },
           "baxis": {
            "gridcolor": "white",
            "linecolor": "white",
            "ticks": ""
           },
           "bgcolor": "#E5ECF6",
           "caxis": {
            "gridcolor": "white",
            "linecolor": "white",
            "ticks": ""
           }
          },
          "title": {
           "x": 0.05
          },
          "xaxis": {
           "automargin": true,
           "gridcolor": "white",
           "linecolor": "white",
           "ticks": "",
           "title": {
            "standoff": 15
           },
           "zerolinecolor": "white",
           "zerolinewidth": 2
          },
          "yaxis": {
           "automargin": true,
           "gridcolor": "white",
           "linecolor": "white",
           "ticks": "",
           "title": {
            "standoff": 15
           },
           "zerolinecolor": "white",
           "zerolinewidth": 2
          }
         }
        },
        "width": 500
       }
      }
     },
     "metadata": {},
     "output_type": "display_data"
    }
   ],
   "source": [
    "x = np.arange(100)\n",
    "z = np.ones(100)\n",
    "fig = go.Figure(data=go.Scatter(x = x, y = coffeePrice*(numCoffee)*(1-x/100) + (coffeePrice+cakePrice)*(1-discounts[2])*(numCoffee)*x/100 + numCoffeeCake*(1-discounts[2])*(coffeePrice+cakePrice) ) )\n",
    "fig.add_scatter(x = x, y = ((coffeePrice + cakePrice)*numCoffeeCake + coffeePrice*numCoffee)*z)\n",
    "fig.add_scatter(x = 0.504144 * 100 * np.ones(100), y = coffeePrice*(numCoffee)*(1-x/100) + (coffeePrice+cakePrice)*(1-discounts[2])*(numCoffee)*x/100 + numCoffeeCake*(1-discounts[2])*(coffeePrice+cakePrice))\n",
    "#fig.update_yaxes(rangemode=\"tozero\")\n",
    "fig['layout'].update(width=500, height=500, autosize=False)\n",
    "fig.show()"
   ]
  },
  {
   "cell_type": "code",
   "execution_count": 22,
   "metadata": {},
   "outputs": [
    {
     "name": "stdout",
     "output_type": "stream",
     "text": [
      "Descuento de  0.58 euros \n",
      "Cada sábado (de media), suponiendo que la oferta atraiga a aproximadamente el 50% de clientes que consumen solo café, se obtendría una mejora en ingresos de 111.50\n"
     ]
    }
   ],
   "source": [
    "print(\"Descuento de \", \"{:.2f}\".format((coffeePrice + cakePrice)*discounts[2]), \"euros \" )\n",
    "print(\"Cada sábado (de media), suponiendo que la oferta atraiga a aproximadamente el 50% de clientes que consumen solo café, se obtendría una mejora en ingresos de\", \"{:.2f}\".format( ( (coffeePrice*(numCoffee)*(1-0.504144) + (coffeePrice+cakePrice)*(1-discounts[2])*(numCoffee)*0.504144 + numCoffeeCake*(1-discounts[2])*(coffeePrice+cakePrice) - ((coffeePrice + cakePrice)*numCoffeeCake + coffeePrice*numCoffee)))/28) )"
   ]
  }
 ],
 "metadata": {
  "interpreter": {
   "hash": "ac59ebe37160ed0dfa835113d9b8498d9f09ceb179beaac4002f036b9467c963"
  },
  "kernelspec": {
   "display_name": "Python 3.9.7 64-bit",
   "language": "python",
   "name": "python3"
  },
  "language_info": {
   "codemirror_mode": {
    "name": "ipython",
    "version": 3
   },
   "file_extension": ".py",
   "mimetype": "text/x-python",
   "name": "python",
   "nbconvert_exporter": "python",
   "pygments_lexer": "ipython3",
   "version": "3.9.7"
  },
  "orig_nbformat": 4
 },
 "nbformat": 4,
 "nbformat_minor": 2
}
