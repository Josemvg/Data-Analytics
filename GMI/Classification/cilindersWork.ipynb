{
 "cells": [
  {
   "cell_type": "markdown",
   "metadata": {},
   "source": [
    "# Entrega Equipo 02 - Jose Manuel Vega, Ivan Tello, Victor Montesdeoca"
   ]
  },
  {
   "cell_type": "markdown",
   "metadata": {},
   "source": [
    "Consideramos como positivo que los cilindros sean metalicos. Los cilindros de metal se van a utilizar para una atraccion de feria, mientras que los de roca se utilizaran para elementos decorativos. \n",
    " \n",
    "Por lo tanto, debemos priorizar que no haya falsos positivos ya que esto pondria en peligro a la gente que se monte en la atraccion. Buscamos maximizar la **precision**"
   ]
  },
  {
   "cell_type": "markdown",
   "metadata": {},
   "source": [
    "# Imports"
   ]
  },
  {
   "cell_type": "code",
   "execution_count": 2,
   "metadata": {},
   "outputs": [
    {
     "data": {
      "text/html": [
       "        <script type=\"text/javascript\">\n",
       "        window.PlotlyConfig = {MathJaxConfig: 'local'};\n",
       "        if (window.MathJax) {MathJax.Hub.Config({SVG: {font: \"STIX-Web\"}});}\n",
       "        if (typeof require !== 'undefined') {\n",
       "        require.undef(\"plotly\");\n",
       "        requirejs.config({\n",
       "            paths: {\n",
       "                'plotly': ['https://cdn.plot.ly/plotly-2.4.2.min']\n",
       "            }\n",
       "        });\n",
       "        require(['plotly'], function(Plotly) {\n",
       "            window._Plotly = Plotly;\n",
       "        });\n",
       "        }\n",
       "        </script>\n",
       "        "
      ]
     },
     "metadata": {},
     "output_type": "display_data"
    }
   ],
   "source": [
    "import pandas as pd\n",
    "import cufflinks as cf\n",
    "import matplotlib.pyplot as plt\n",
    "\n",
    "from sklearn import tree as t\n",
    "from sklearn.tree import DecisionTreeClassifier\n",
    "from sklearn.metrics import classification_report\n",
    "from sklearn.model_selection import train_test_split\n",
    "\n",
    "#Para conectar plotly y pandas para nuestras graficas\n",
    "cf.go_offline()\n",
    "cf.set_config_file(offline=False, world_readable=True)\n",
    "\n",
    "#Imports para los modelos\n",
    "from sklearn.ensemble import RandomForestClassifier\n",
    "from sklearn.metrics import confusion_matrix\n",
    "from sklearn.metrics import classification_report\n",
    "from sklearn.model_selection import train_test_split\n",
    "from sklearn.svm import SVC\n",
    "from sklearn.naive_bayes import GaussianNB"
   ]
  },
  {
   "cell_type": "code",
   "execution_count": 3,
   "metadata": {},
   "outputs": [],
   "source": [
    "cols = [\"V\" + str(i) for i in range(1,61)]\n",
    "cols += [\"Class\"]\n",
    "df = pd.read_csv(\"datasets/sonar.all-data.csv\", names = cols)"
   ]
  },
  {
   "cell_type": "markdown",
   "metadata": {},
   "source": [
    "# EDA"
   ]
  },
  {
   "cell_type": "code",
   "execution_count": 4,
   "metadata": {},
   "outputs": [
    {
     "data": {
      "text/html": [
       "<div>\n",
       "<style scoped>\n",
       "    .dataframe tbody tr th:only-of-type {\n",
       "        vertical-align: middle;\n",
       "    }\n",
       "\n",
       "    .dataframe tbody tr th {\n",
       "        vertical-align: top;\n",
       "    }\n",
       "\n",
       "    .dataframe thead th {\n",
       "        text-align: right;\n",
       "    }\n",
       "</style>\n",
       "<table border=\"1\" class=\"dataframe\">\n",
       "  <thead>\n",
       "    <tr style=\"text-align: right;\">\n",
       "      <th></th>\n",
       "      <th>V1</th>\n",
       "      <th>V2</th>\n",
       "      <th>V3</th>\n",
       "      <th>V4</th>\n",
       "      <th>V5</th>\n",
       "      <th>V6</th>\n",
       "      <th>V7</th>\n",
       "      <th>V8</th>\n",
       "      <th>V9</th>\n",
       "      <th>V10</th>\n",
       "      <th>...</th>\n",
       "      <th>V52</th>\n",
       "      <th>V53</th>\n",
       "      <th>V54</th>\n",
       "      <th>V55</th>\n",
       "      <th>V56</th>\n",
       "      <th>V57</th>\n",
       "      <th>V58</th>\n",
       "      <th>V59</th>\n",
       "      <th>V60</th>\n",
       "      <th>Class</th>\n",
       "    </tr>\n",
       "  </thead>\n",
       "  <tbody>\n",
       "    <tr>\n",
       "      <th>0</th>\n",
       "      <td>0.0200</td>\n",
       "      <td>0.0371</td>\n",
       "      <td>0.0428</td>\n",
       "      <td>0.0207</td>\n",
       "      <td>0.0954</td>\n",
       "      <td>0.0986</td>\n",
       "      <td>0.1539</td>\n",
       "      <td>0.1601</td>\n",
       "      <td>0.3109</td>\n",
       "      <td>0.2111</td>\n",
       "      <td>...</td>\n",
       "      <td>0.0027</td>\n",
       "      <td>0.0065</td>\n",
       "      <td>0.0159</td>\n",
       "      <td>0.0072</td>\n",
       "      <td>0.0167</td>\n",
       "      <td>0.0180</td>\n",
       "      <td>0.0084</td>\n",
       "      <td>0.0090</td>\n",
       "      <td>0.0032</td>\n",
       "      <td>R</td>\n",
       "    </tr>\n",
       "    <tr>\n",
       "      <th>1</th>\n",
       "      <td>0.0453</td>\n",
       "      <td>0.0523</td>\n",
       "      <td>0.0843</td>\n",
       "      <td>0.0689</td>\n",
       "      <td>0.1183</td>\n",
       "      <td>0.2583</td>\n",
       "      <td>0.2156</td>\n",
       "      <td>0.3481</td>\n",
       "      <td>0.3337</td>\n",
       "      <td>0.2872</td>\n",
       "      <td>...</td>\n",
       "      <td>0.0084</td>\n",
       "      <td>0.0089</td>\n",
       "      <td>0.0048</td>\n",
       "      <td>0.0094</td>\n",
       "      <td>0.0191</td>\n",
       "      <td>0.0140</td>\n",
       "      <td>0.0049</td>\n",
       "      <td>0.0052</td>\n",
       "      <td>0.0044</td>\n",
       "      <td>R</td>\n",
       "    </tr>\n",
       "    <tr>\n",
       "      <th>2</th>\n",
       "      <td>0.0262</td>\n",
       "      <td>0.0582</td>\n",
       "      <td>0.1099</td>\n",
       "      <td>0.1083</td>\n",
       "      <td>0.0974</td>\n",
       "      <td>0.2280</td>\n",
       "      <td>0.2431</td>\n",
       "      <td>0.3771</td>\n",
       "      <td>0.5598</td>\n",
       "      <td>0.6194</td>\n",
       "      <td>...</td>\n",
       "      <td>0.0232</td>\n",
       "      <td>0.0166</td>\n",
       "      <td>0.0095</td>\n",
       "      <td>0.0180</td>\n",
       "      <td>0.0244</td>\n",
       "      <td>0.0316</td>\n",
       "      <td>0.0164</td>\n",
       "      <td>0.0095</td>\n",
       "      <td>0.0078</td>\n",
       "      <td>R</td>\n",
       "    </tr>\n",
       "    <tr>\n",
       "      <th>3</th>\n",
       "      <td>0.0100</td>\n",
       "      <td>0.0171</td>\n",
       "      <td>0.0623</td>\n",
       "      <td>0.0205</td>\n",
       "      <td>0.0205</td>\n",
       "      <td>0.0368</td>\n",
       "      <td>0.1098</td>\n",
       "      <td>0.1276</td>\n",
       "      <td>0.0598</td>\n",
       "      <td>0.1264</td>\n",
       "      <td>...</td>\n",
       "      <td>0.0121</td>\n",
       "      <td>0.0036</td>\n",
       "      <td>0.0150</td>\n",
       "      <td>0.0085</td>\n",
       "      <td>0.0073</td>\n",
       "      <td>0.0050</td>\n",
       "      <td>0.0044</td>\n",
       "      <td>0.0040</td>\n",
       "      <td>0.0117</td>\n",
       "      <td>R</td>\n",
       "    </tr>\n",
       "    <tr>\n",
       "      <th>4</th>\n",
       "      <td>0.0762</td>\n",
       "      <td>0.0666</td>\n",
       "      <td>0.0481</td>\n",
       "      <td>0.0394</td>\n",
       "      <td>0.0590</td>\n",
       "      <td>0.0649</td>\n",
       "      <td>0.1209</td>\n",
       "      <td>0.2467</td>\n",
       "      <td>0.3564</td>\n",
       "      <td>0.4459</td>\n",
       "      <td>...</td>\n",
       "      <td>0.0031</td>\n",
       "      <td>0.0054</td>\n",
       "      <td>0.0105</td>\n",
       "      <td>0.0110</td>\n",
       "      <td>0.0015</td>\n",
       "      <td>0.0072</td>\n",
       "      <td>0.0048</td>\n",
       "      <td>0.0107</td>\n",
       "      <td>0.0094</td>\n",
       "      <td>R</td>\n",
       "    </tr>\n",
       "    <tr>\n",
       "      <th>5</th>\n",
       "      <td>0.0286</td>\n",
       "      <td>0.0453</td>\n",
       "      <td>0.0277</td>\n",
       "      <td>0.0174</td>\n",
       "      <td>0.0384</td>\n",
       "      <td>0.0990</td>\n",
       "      <td>0.1201</td>\n",
       "      <td>0.1833</td>\n",
       "      <td>0.2105</td>\n",
       "      <td>0.3039</td>\n",
       "      <td>...</td>\n",
       "      <td>0.0045</td>\n",
       "      <td>0.0014</td>\n",
       "      <td>0.0038</td>\n",
       "      <td>0.0013</td>\n",
       "      <td>0.0089</td>\n",
       "      <td>0.0057</td>\n",
       "      <td>0.0027</td>\n",
       "      <td>0.0051</td>\n",
       "      <td>0.0062</td>\n",
       "      <td>R</td>\n",
       "    </tr>\n",
       "    <tr>\n",
       "      <th>6</th>\n",
       "      <td>0.0317</td>\n",
       "      <td>0.0956</td>\n",
       "      <td>0.1321</td>\n",
       "      <td>0.1408</td>\n",
       "      <td>0.1674</td>\n",
       "      <td>0.1710</td>\n",
       "      <td>0.0731</td>\n",
       "      <td>0.1401</td>\n",
       "      <td>0.2083</td>\n",
       "      <td>0.3513</td>\n",
       "      <td>...</td>\n",
       "      <td>0.0201</td>\n",
       "      <td>0.0248</td>\n",
       "      <td>0.0131</td>\n",
       "      <td>0.0070</td>\n",
       "      <td>0.0138</td>\n",
       "      <td>0.0092</td>\n",
       "      <td>0.0143</td>\n",
       "      <td>0.0036</td>\n",
       "      <td>0.0103</td>\n",
       "      <td>R</td>\n",
       "    </tr>\n",
       "    <tr>\n",
       "      <th>7</th>\n",
       "      <td>0.0519</td>\n",
       "      <td>0.0548</td>\n",
       "      <td>0.0842</td>\n",
       "      <td>0.0319</td>\n",
       "      <td>0.1158</td>\n",
       "      <td>0.0922</td>\n",
       "      <td>0.1027</td>\n",
       "      <td>0.0613</td>\n",
       "      <td>0.1465</td>\n",
       "      <td>0.2838</td>\n",
       "      <td>...</td>\n",
       "      <td>0.0081</td>\n",
       "      <td>0.0120</td>\n",
       "      <td>0.0045</td>\n",
       "      <td>0.0121</td>\n",
       "      <td>0.0097</td>\n",
       "      <td>0.0085</td>\n",
       "      <td>0.0047</td>\n",
       "      <td>0.0048</td>\n",
       "      <td>0.0053</td>\n",
       "      <td>R</td>\n",
       "    </tr>\n",
       "    <tr>\n",
       "      <th>8</th>\n",
       "      <td>0.0223</td>\n",
       "      <td>0.0375</td>\n",
       "      <td>0.0484</td>\n",
       "      <td>0.0475</td>\n",
       "      <td>0.0647</td>\n",
       "      <td>0.0591</td>\n",
       "      <td>0.0753</td>\n",
       "      <td>0.0098</td>\n",
       "      <td>0.0684</td>\n",
       "      <td>0.1487</td>\n",
       "      <td>...</td>\n",
       "      <td>0.0145</td>\n",
       "      <td>0.0128</td>\n",
       "      <td>0.0145</td>\n",
       "      <td>0.0058</td>\n",
       "      <td>0.0049</td>\n",
       "      <td>0.0065</td>\n",
       "      <td>0.0093</td>\n",
       "      <td>0.0059</td>\n",
       "      <td>0.0022</td>\n",
       "      <td>R</td>\n",
       "    </tr>\n",
       "    <tr>\n",
       "      <th>9</th>\n",
       "      <td>0.0164</td>\n",
       "      <td>0.0173</td>\n",
       "      <td>0.0347</td>\n",
       "      <td>0.0070</td>\n",
       "      <td>0.0187</td>\n",
       "      <td>0.0671</td>\n",
       "      <td>0.1056</td>\n",
       "      <td>0.0697</td>\n",
       "      <td>0.0962</td>\n",
       "      <td>0.0251</td>\n",
       "      <td>...</td>\n",
       "      <td>0.0090</td>\n",
       "      <td>0.0223</td>\n",
       "      <td>0.0179</td>\n",
       "      <td>0.0084</td>\n",
       "      <td>0.0068</td>\n",
       "      <td>0.0032</td>\n",
       "      <td>0.0035</td>\n",
       "      <td>0.0056</td>\n",
       "      <td>0.0040</td>\n",
       "      <td>R</td>\n",
       "    </tr>\n",
       "  </tbody>\n",
       "</table>\n",
       "<p>10 rows × 61 columns</p>\n",
       "</div>"
      ],
      "text/plain": [
       "       V1      V2      V3      V4      V5      V6      V7      V8      V9  \\\n",
       "0  0.0200  0.0371  0.0428  0.0207  0.0954  0.0986  0.1539  0.1601  0.3109   \n",
       "1  0.0453  0.0523  0.0843  0.0689  0.1183  0.2583  0.2156  0.3481  0.3337   \n",
       "2  0.0262  0.0582  0.1099  0.1083  0.0974  0.2280  0.2431  0.3771  0.5598   \n",
       "3  0.0100  0.0171  0.0623  0.0205  0.0205  0.0368  0.1098  0.1276  0.0598   \n",
       "4  0.0762  0.0666  0.0481  0.0394  0.0590  0.0649  0.1209  0.2467  0.3564   \n",
       "5  0.0286  0.0453  0.0277  0.0174  0.0384  0.0990  0.1201  0.1833  0.2105   \n",
       "6  0.0317  0.0956  0.1321  0.1408  0.1674  0.1710  0.0731  0.1401  0.2083   \n",
       "7  0.0519  0.0548  0.0842  0.0319  0.1158  0.0922  0.1027  0.0613  0.1465   \n",
       "8  0.0223  0.0375  0.0484  0.0475  0.0647  0.0591  0.0753  0.0098  0.0684   \n",
       "9  0.0164  0.0173  0.0347  0.0070  0.0187  0.0671  0.1056  0.0697  0.0962   \n",
       "\n",
       "      V10  ...     V52     V53     V54     V55     V56     V57     V58  \\\n",
       "0  0.2111  ...  0.0027  0.0065  0.0159  0.0072  0.0167  0.0180  0.0084   \n",
       "1  0.2872  ...  0.0084  0.0089  0.0048  0.0094  0.0191  0.0140  0.0049   \n",
       "2  0.6194  ...  0.0232  0.0166  0.0095  0.0180  0.0244  0.0316  0.0164   \n",
       "3  0.1264  ...  0.0121  0.0036  0.0150  0.0085  0.0073  0.0050  0.0044   \n",
       "4  0.4459  ...  0.0031  0.0054  0.0105  0.0110  0.0015  0.0072  0.0048   \n",
       "5  0.3039  ...  0.0045  0.0014  0.0038  0.0013  0.0089  0.0057  0.0027   \n",
       "6  0.3513  ...  0.0201  0.0248  0.0131  0.0070  0.0138  0.0092  0.0143   \n",
       "7  0.2838  ...  0.0081  0.0120  0.0045  0.0121  0.0097  0.0085  0.0047   \n",
       "8  0.1487  ...  0.0145  0.0128  0.0145  0.0058  0.0049  0.0065  0.0093   \n",
       "9  0.0251  ...  0.0090  0.0223  0.0179  0.0084  0.0068  0.0032  0.0035   \n",
       "\n",
       "      V59     V60  Class  \n",
       "0  0.0090  0.0032      R  \n",
       "1  0.0052  0.0044      R  \n",
       "2  0.0095  0.0078      R  \n",
       "3  0.0040  0.0117      R  \n",
       "4  0.0107  0.0094      R  \n",
       "5  0.0051  0.0062      R  \n",
       "6  0.0036  0.0103      R  \n",
       "7  0.0048  0.0053      R  \n",
       "8  0.0059  0.0022      R  \n",
       "9  0.0056  0.0040      R  \n",
       "\n",
       "[10 rows x 61 columns]"
      ]
     },
     "execution_count": 4,
     "metadata": {},
     "output_type": "execute_result"
    }
   ],
   "source": [
    "df.head(10)"
   ]
  },
  {
   "cell_type": "code",
   "execution_count": 5,
   "metadata": {},
   "outputs": [
    {
     "name": "stdout",
     "output_type": "stream",
     "text": [
      "<class 'pandas.core.frame.DataFrame'>\n",
      "RangeIndex: 208 entries, 0 to 207\n",
      "Data columns (total 61 columns):\n",
      " #   Column  Non-Null Count  Dtype  \n",
      "---  ------  --------------  -----  \n",
      " 0   V1      208 non-null    float64\n",
      " 1   V2      208 non-null    float64\n",
      " 2   V3      208 non-null    float64\n",
      " 3   V4      208 non-null    float64\n",
      " 4   V5      208 non-null    float64\n",
      " 5   V6      208 non-null    float64\n",
      " 6   V7      208 non-null    float64\n",
      " 7   V8      208 non-null    float64\n",
      " 8   V9      208 non-null    float64\n",
      " 9   V10     208 non-null    float64\n",
      " 10  V11     208 non-null    float64\n",
      " 11  V12     208 non-null    float64\n",
      " 12  V13     208 non-null    float64\n",
      " 13  V14     208 non-null    float64\n",
      " 14  V15     208 non-null    float64\n",
      " 15  V16     208 non-null    float64\n",
      " 16  V17     208 non-null    float64\n",
      " 17  V18     208 non-null    float64\n",
      " 18  V19     208 non-null    float64\n",
      " 19  V20     208 non-null    float64\n",
      " 20  V21     208 non-null    float64\n",
      " 21  V22     208 non-null    float64\n",
      " 22  V23     208 non-null    float64\n",
      " 23  V24     208 non-null    float64\n",
      " 24  V25     208 non-null    float64\n",
      " 25  V26     208 non-null    float64\n",
      " 26  V27     208 non-null    float64\n",
      " 27  V28     208 non-null    float64\n",
      " 28  V29     208 non-null    float64\n",
      " 29  V30     208 non-null    float64\n",
      " 30  V31     208 non-null    float64\n",
      " 31  V32     208 non-null    float64\n",
      " 32  V33     208 non-null    float64\n",
      " 33  V34     208 non-null    float64\n",
      " 34  V35     208 non-null    float64\n",
      " 35  V36     208 non-null    float64\n",
      " 36  V37     208 non-null    float64\n",
      " 37  V38     208 non-null    float64\n",
      " 38  V39     208 non-null    float64\n",
      " 39  V40     208 non-null    float64\n",
      " 40  V41     208 non-null    float64\n",
      " 41  V42     208 non-null    float64\n",
      " 42  V43     208 non-null    float64\n",
      " 43  V44     208 non-null    float64\n",
      " 44  V45     208 non-null    float64\n",
      " 45  V46     208 non-null    float64\n",
      " 46  V47     208 non-null    float64\n",
      " 47  V48     208 non-null    float64\n",
      " 48  V49     208 non-null    float64\n",
      " 49  V50     208 non-null    float64\n",
      " 50  V51     208 non-null    float64\n",
      " 51  V52     208 non-null    float64\n",
      " 52  V53     208 non-null    float64\n",
      " 53  V54     208 non-null    float64\n",
      " 54  V55     208 non-null    float64\n",
      " 55  V56     208 non-null    float64\n",
      " 56  V57     208 non-null    float64\n",
      " 57  V58     208 non-null    float64\n",
      " 58  V59     208 non-null    float64\n",
      " 59  V60     208 non-null    float64\n",
      " 60  Class   208 non-null    object \n",
      "dtypes: float64(60), object(1)\n",
      "memory usage: 99.2+ KB\n"
     ]
    }
   ],
   "source": [
    "df.info()"
   ]
  },
  {
   "cell_type": "markdown",
   "metadata": {},
   "source": [
    "Vemos que todas las variables son numericas"
   ]
  },
  {
   "cell_type": "code",
   "execution_count": 6,
   "metadata": {},
   "outputs": [
    {
     "data": {
      "text/plain": [
       "0"
      ]
     },
     "execution_count": 6,
     "metadata": {},
     "output_type": "execute_result"
    }
   ],
   "source": [
    "df.duplicated().sum()"
   ]
  },
  {
   "cell_type": "markdown",
   "metadata": {},
   "source": [
    "Vemos que no hay filas duplicadas"
   ]
  },
  {
   "cell_type": "code",
   "execution_count": 7,
   "metadata": {},
   "outputs": [],
   "source": [
    "X = df.drop([\"Class\"], axis=1)\n",
    "Y = df[\"Class\"]"
   ]
  },
  {
   "cell_type": "markdown",
   "metadata": {},
   "source": [
    "Dividimos en X e Y los datos."
   ]
  },
  {
   "cell_type": "markdown",
   "metadata": {},
   "source": [
    "Revisamos la distribucion de los datos viendo su sesgo. Buscaremos aquellas columnas cuyo sesgo sea mayor que 1 o menor que -1, lo cual nos indicara que tienen una asimetria positiva o negativa."
   ]
  },
  {
   "cell_type": "code",
   "execution_count": 8,
   "metadata": {},
   "outputs": [
    {
     "data": {
      "text/plain": [
       "V1     2.131088\n",
       "V2     2.155644\n",
       "V3     2.652518\n",
       "V4     3.401697\n",
       "V5     2.018141\n",
       "V6     1.248166\n",
       "V8     1.481107\n",
       "V9     1.633870\n",
       "V10    1.281258\n",
       "V14    1.022369\n",
       "V38    1.033366\n",
       "V44    1.235086\n",
       "V45    1.366839\n",
       "V46    1.706674\n",
       "V47    1.790155\n",
       "V48    1.277722\n",
       "V49    1.273385\n",
       "V50    1.761714\n",
       "V51    2.716060\n",
       "V52    2.093976\n",
       "V53    1.060572\n",
       "V54    1.093090\n",
       "V55    1.789946\n",
       "V56    1.780805\n",
       "V57    1.653090\n",
       "V58    2.098330\n",
       "V59    1.737506\n",
       "V60    2.775754\n",
       "dtype: float64"
      ]
     },
     "execution_count": 8,
     "metadata": {},
     "output_type": "execute_result"
    }
   ],
   "source": [
    "skewCols = df.skew()\n",
    "skewedCols = skewCols[skewCols.ge(1) | skewCols.le(-1)]\n",
    "skewedCols"
   ]
  },
  {
   "cell_type": "code",
   "execution_count": 9,
   "metadata": {},
   "outputs": [
    {
     "data": {
      "text/plain": [
       "['V1',\n",
       " 'V2',\n",
       " 'V3',\n",
       " 'V4',\n",
       " 'V5',\n",
       " 'V6',\n",
       " 'V8',\n",
       " 'V9',\n",
       " 'V10',\n",
       " 'V14',\n",
       " 'V38',\n",
       " 'V44',\n",
       " 'V45',\n",
       " 'V46',\n",
       " 'V47',\n",
       " 'V48',\n",
       " 'V49',\n",
       " 'V50',\n",
       " 'V51',\n",
       " 'V52',\n",
       " 'V53',\n",
       " 'V54',\n",
       " 'V55',\n",
       " 'V56',\n",
       " 'V57',\n",
       " 'V58',\n",
       " 'V59',\n",
       " 'V60']"
      ]
     },
     "execution_count": 9,
     "metadata": {},
     "output_type": "execute_result"
    }
   ],
   "source": [
    "skewedColsList = skewedCols.index.tolist()\n",
    "skewedColsList"
   ]
  },
  {
   "cell_type": "code",
   "execution_count": 10,
   "metadata": {},
   "outputs": [
    {
     "data": {
      "text/plain": [
       "28"
      ]
     },
     "execution_count": 10,
     "metadata": {},
     "output_type": "execute_result"
    }
   ],
   "source": [
    "len(skewedColsList)"
   ]
  },
  {
   "cell_type": "markdown",
   "metadata": {},
   "source": [
    "Tenemos 28 variables que cumplen con la condicion impuesta sobre el sesgo (menor que -1 o mayor que 1). Las representamos en 2 imagenes con plotly para ver su distribucion."
   ]
  },
  {
   "cell_type": "code",
   "execution_count": 11,
   "metadata": {},
   "outputs": [
    {
     "data": {
      "application/vnd.plotly.v1+json": {
       "config": {
        "linkText": "Export to plot.ly",
        "plotlyServerURL": "https://plot.ly",
        "showLink": true
       },
       "data": [
        {
         "histfunc": "count",
         "histnorm": "",
         "marker": {
          "color": "rgba(255, 153, 51, 1.0)",
          "line": {
           "color": "#4D5663",
           "width": 1.3
          }
         },
         "name": "V1",
         "nbinsx": 50,
         "opacity": 0.8,
         "orientation": "v",
         "type": "histogram",
         "x": [
          0.02,
          0.0453,
          0.0262,
          0.01,
          0.0762,
          0.0286,
          0.0317,
          0.0519,
          0.0223,
          0.0164,
          0.0039,
          0.0123,
          0.0079,
          0.009,
          0.0124,
          0.0298,
          0.0352,
          0.0192,
          0.027,
          0.0126,
          0.0473,
          0.0664,
          0.0099,
          0.0115,
          0.0293,
          0.0201,
          0.0151,
          0.0177,
          0.01,
          0.0189,
          0.024,
          0.0084,
          0.0195,
          0.0442,
          0.0311,
          0.0206,
          0.0094,
          0.0333,
          0.0123,
          0.0091,
          0.0068,
          0.0093,
          0.0211,
          0.0093,
          0.0257,
          0.0408,
          0.0308,
          0.0373,
          0.019,
          0.0119,
          0.0353,
          0.0131,
          0.0087,
          0.0293,
          0.0132,
          0.0201,
          0.0152,
          0.0216,
          0.0225,
          0.0125,
          0.013,
          0.0135,
          0.0086,
          0.0067,
          0.0071,
          0.0176,
          0.0265,
          0.0368,
          0.0195,
          0.0216,
          0.0065,
          0.0036,
          0.0208,
          0.0139,
          0.0109,
          0.0202,
          0.0239,
          0.0336,
          0.0231,
          0.0108,
          0.0229,
          0.01,
          0.0409,
          0.0217,
          0.0378,
          0.0365,
          0.0188,
          0.0856,
          0.0274,
          0.0235,
          0.0126,
          0.0253,
          0.026,
          0.0459,
          0.0025,
          0.0291,
          0.0181,
          0.0491,
          0.1313,
          0.0201,
          0.0629,
          0.0335,
          0.0587,
          0.0162,
          0.0307,
          0.0116,
          0.0331,
          0.0428,
          0.0599,
          0.0264,
          0.021,
          0.053,
          0.0454,
          0.0283,
          0.0114,
          0.0414,
          0.0094,
          0.0228,
          0.0363,
          0.0261,
          0.0346,
          0.0162,
          0.0249,
          0.027,
          0.0388,
          0.0228,
          0.0715,
          0.0209,
          0.0374,
          0.1371,
          0.0443,
          0.115,
          0.0968,
          0.079,
          0.1083,
          0.0094,
          0.1088,
          0.043,
          0.0731,
          0.0164,
          0.0412,
          0.0707,
          0.0526,
          0.0516,
          0.0299,
          0.0721,
          0.1021,
          0.0654,
          0.0712,
          0.0207,
          0.0209,
          0.0231,
          0.0131,
          0.0233,
          0.0117,
          0.0211,
          0.0047,
          0.0201,
          0.0107,
          0.0235,
          0.0258,
          0.0305,
          0.0217,
          0.0072,
          0.0163,
          0.0221,
          0.0411,
          0.0137,
          0.0015,
          0.013,
          0.0134,
          0.0179,
          0.018,
          0.0329,
          0.0191,
          0.0294,
          0.0635,
          0.0201,
          0.0197,
          0.0394,
          0.031,
          0.0423,
          0.0095,
          0.0096,
          0.0269,
          0.034,
          0.0209,
          0.0368,
          0.0089,
          0.0158,
          0.0156,
          0.0315,
          0.0056,
          0.0203,
          0.0392,
          0.0129,
          0.005,
          0.0366,
          0.0238,
          0.0116,
          0.0131,
          0.0335,
          0.0272,
          0.0187,
          0.0323,
          0.0522,
          0.0303,
          0.026
         ],
         "xaxis": "x",
         "yaxis": "y"
        },
        {
         "histfunc": "count",
         "histnorm": "",
         "marker": {
          "color": "rgba(55, 128, 191, 1.0)",
          "line": {
           "color": "#4D5663",
           "width": 1.3
          }
         },
         "name": "V2",
         "nbinsx": 50,
         "opacity": 0.8,
         "orientation": "v",
         "type": "histogram",
         "x": [
          0.0371,
          0.0523,
          0.0582,
          0.0171,
          0.0666,
          0.0453,
          0.0956,
          0.0548,
          0.0375,
          0.0173,
          0.0063,
          0.0309,
          0.0086,
          0.0062,
          0.0433,
          0.0615,
          0.0116,
          0.0607,
          0.0092,
          0.0149,
          0.0509,
          0.0575,
          0.0484,
          0.015,
          0.0644,
          0.0026,
          0.032,
          0.03,
          0.0275,
          0.0308,
          0.0218,
          0.0153,
          0.0213,
          0.0477,
          0.0491,
          0.0132,
          0.0166,
          0.0221,
          0.0022,
          0.0213,
          0.0232,
          0.0185,
          0.0319,
          0.0269,
          0.0447,
          0.0653,
          0.0339,
          0.0281,
          0.0038,
          0.0582,
          0.0713,
          0.0068,
          0.0046,
          0.0378,
          0.008,
          0.0116,
          0.0102,
          0.0124,
          0.0019,
          0.0152,
          0.0006,
          0.0045,
          0.0215,
          0.0096,
          0.0103,
          0.0172,
          0.044,
          0.0403,
          0.0142,
          0.0215,
          0.0122,
          0.0078,
          0.0186,
          0.0222,
          0.0093,
          0.0104,
          0.0189,
          0.0294,
          0.0351,
          0.0086,
          0.0369,
          0.0194,
          0.0421,
          0.034,
          0.0318,
          0.1632,
          0.037,
          0.0454,
          0.0242,
          0.0291,
          0.0519,
          0.0808,
          0.0192,
          0.0437,
          0.0309,
          0.04,
          0.0146,
          0.0279,
          0.2339,
          0.0423,
          0.1065,
          0.0134,
          0.121,
          0.0253,
          0.0523,
          0.0179,
          0.0423,
          0.0555,
          0.0474,
          0.0071,
          0.0121,
          0.0885,
          0.0472,
          0.0599,
          0.0222,
          0.0436,
          0.0333,
          0.0106,
          0.0478,
          0.0266,
          0.0509,
          0.0041,
          0.0119,
          0.0163,
          0.0324,
          0.0853,
          0.0849,
          0.0261,
          0.0586,
          0.1226,
          0.0446,
          0.1163,
          0.0821,
          0.0707,
          0.107,
          0.0611,
          0.1278,
          0.0902,
          0.1249,
          0.0627,
          0.1135,
          0.1252,
          0.0563,
          0.0944,
          0.0688,
          0.1574,
          0.083,
          0.0649,
          0.0901,
          0.0535,
          0.0278,
          0.0315,
          0.0201,
          0.0394,
          0.0069,
          0.0128,
          0.0059,
          0.0178,
          0.0453,
          0.022,
          0.0433,
          0.0363,
          0.0152,
          0.0027,
          0.0198,
          0.0065,
          0.0277,
          0.0297,
          0.0186,
          0.012,
          0.0172,
          0.0136,
          0.0444,
          0.0216,
          0.0173,
          0.0123,
          0.0709,
          0.0165,
          0.0394,
          0.042,
          0.0221,
          0.0321,
          0.0308,
          0.0404,
          0.0383,
          0.0625,
          0.0191,
          0.0279,
          0.0274,
          0.0239,
          0.021,
          0.0252,
          0.0267,
          0.0121,
          0.0108,
          0.0141,
          0.0017,
          0.0421,
          0.0318,
          0.0744,
          0.0387,
          0.0258,
          0.0378,
          0.0346,
          0.0101,
          0.0437,
          0.0353,
          0.0363
         ],
         "xaxis": "x2",
         "yaxis": "y2"
        },
        {
         "histfunc": "count",
         "histnorm": "",
         "marker": {
          "color": "rgba(50, 171, 96, 1.0)",
          "line": {
           "color": "#4D5663",
           "width": 1.3
          }
         },
         "name": "V3",
         "nbinsx": 50,
         "opacity": 0.8,
         "orientation": "v",
         "type": "histogram",
         "x": [
          0.0428,
          0.0843,
          0.1099,
          0.0623,
          0.0481,
          0.0277,
          0.1321,
          0.0842,
          0.0484,
          0.0347,
          0.0152,
          0.0169,
          0.0055,
          0.0253,
          0.0604,
          0.065,
          0.0191,
          0.0378,
          0.0145,
          0.0641,
          0.0819,
          0.0842,
          0.0299,
          0.0136,
          0.039,
          0.0138,
          0.0599,
          0.0288,
          0.019,
          0.0197,
          0.0324,
          0.0291,
          0.0058,
          0.0049,
          0.0692,
          0.0533,
          0.0398,
          0.027,
          0.0196,
          0.0206,
          0.0513,
          0.0056,
          0.0415,
          0.0217,
          0.0388,
          0.0397,
          0.0202,
          0.0232,
          0.0642,
          0.0623,
          0.0326,
          0.0308,
          0.0081,
          0.0257,
          0.0188,
          0.0123,
          0.0113,
          0.0174,
          0.0075,
          0.0218,
          0.0088,
          0.0051,
          0.0242,
          0.0024,
          0.0135,
          0.0501,
          0.0137,
          0.0317,
          0.0181,
          0.0273,
          0.0068,
          0.0092,
          0.0131,
          0.0089,
          0.0121,
          0.0325,
          0.0466,
          0.0476,
          0.003,
          0.0058,
          0.004,
          0.0155,
          0.0573,
          0.0392,
          0.0423,
          0.1636,
          0.0953,
          0.0382,
          0.0621,
          0.0749,
          0.0621,
          0.0507,
          0.0254,
          0.0347,
          0.0171,
          0.0771,
          0.0026,
          0.0592,
          0.3059,
          0.0554,
          0.1526,
          0.0696,
          0.1268,
          0.0262,
          0.0653,
          0.0449,
          0.0474,
          0.0708,
          0.0498,
          0.0342,
          0.0203,
          0.1997,
          0.0697,
          0.0656,
          0.0269,
          0.0447,
          0.0306,
          0.013,
          0.0298,
          0.0223,
          0.0079,
          0.0239,
          0.0277,
          0.0341,
          0.0688,
          0.1,
          0.0587,
          0.012,
          0.0628,
          0.1385,
          0.0235,
          0.0866,
          0.0629,
          0.0352,
          0.0257,
          0.1136,
          0.0926,
          0.0833,
          0.1665,
          0.0738,
          0.0518,
          0.1447,
          0.1219,
          0.0622,
          0.0992,
          0.1112,
          0.0577,
          0.0737,
          0.1276,
          0.0334,
          0.0115,
          0.017,
          0.0045,
          0.0416,
          0.0279,
          0.0015,
          0.008,
          0.0274,
          0.0289,
          0.0167,
          0.0547,
          0.0214,
          0.0346,
          0.0089,
          0.0202,
          0.0164,
          0.0604,
          0.0116,
          0.0289,
          0.0436,
          0.0178,
          0.0408,
          0.0476,
          0.0386,
          0.0291,
          0.0117,
          0.0453,
          0.0344,
          0.0384,
          0.0446,
          0.0433,
          0.0709,
          0.0539,
          0.0682,
          0.0505,
          0.0381,
          0.0411,
          0.0103,
          0.0248,
          0.015,
          0.0282,
          0.0167,
          0.0221,
          0.038,
          0.0267,
          0.0309,
          0.027,
          0.0504,
          0.0422,
          0.0367,
          0.0329,
          0.0398,
          0.0488,
          0.0168,
          0.0298,
          0.018,
          0.049,
          0.0136
         ],
         "xaxis": "x3",
         "yaxis": "y3"
        },
        {
         "histfunc": "count",
         "histnorm": "",
         "marker": {
          "color": "rgba(128, 0, 128, 1.0)",
          "line": {
           "color": "#4D5663",
           "width": 1.3
          }
         },
         "name": "V4",
         "nbinsx": 50,
         "opacity": 0.8,
         "orientation": "v",
         "type": "histogram",
         "x": [
          0.0207,
          0.0689,
          0.1083,
          0.0205,
          0.0394,
          0.0174,
          0.1408,
          0.0319,
          0.0475,
          0.007,
          0.0336,
          0.0313,
          0.025,
          0.0489,
          0.0449,
          0.0921,
          0.0469,
          0.0774,
          0.0278,
          0.1732,
          0.1252,
          0.0372,
          0.0297,
          0.0076,
          0.0173,
          0.0062,
          0.105,
          0.0394,
          0.0371,
          0.0622,
          0.0569,
          0.0432,
          0.019,
          0.0581,
          0.0831,
          0.0569,
          0.0359,
          0.0481,
          0.0206,
          0.0505,
          0.0444,
          0.0064,
          0.0286,
          0.0339,
          0.0239,
          0.0604,
          0.0889,
          0.0225,
          0.0452,
          0.06,
          0.0272,
          0.0311,
          0.023,
          0.0062,
          0.0141,
          0.0245,
          0.0263,
          0.0152,
          0.0097,
          0.0175,
          0.0456,
          0.0289,
          0.0445,
          0.0058,
          0.0494,
          0.0285,
          0.0084,
          0.0293,
          0.0406,
          0.0139,
          0.0108,
          0.0387,
          0.0211,
          0.0108,
          0.0378,
          0.0239,
          0.044,
          0.0539,
          0.0304,
          0.046,
          0.0375,
          0.0489,
          0.013,
          0.0236,
          0.035,
          0.1421,
          0.0824,
          0.0203,
          0.056,
          0.0519,
          0.0518,
          0.0244,
          0.0061,
          0.0456,
          0.0228,
          0.0809,
          0.0141,
          0.127,
          0.4264,
          0.0783,
          0.1229,
          0.118,
          0.1498,
          0.0386,
          0.0521,
          0.1096,
          0.0818,
          0.0618,
          0.0387,
          0.0793,
          0.1036,
          0.2604,
          0.1021,
          0.0229,
          0.0384,
          0.0844,
          0.0376,
          0.0842,
          0.021,
          0.0749,
          0.0243,
          0.0441,
          0.076,
          0.0247,
          0.0898,
          0.0428,
          0.0218,
          0.0768,
          0.0534,
          0.1484,
          0.1008,
          0.0358,
          0.0608,
          0.166,
          0.0837,
          0.1203,
          0.1234,
          0.0813,
          0.1496,
          0.0608,
          0.0232,
          0.1644,
          0.1206,
          0.0415,
          0.1021,
          0.1085,
          0.0627,
          0.1132,
          0.1497,
          0.0818,
          0.0445,
          0.0226,
          0.0217,
          0.0547,
          0.0583,
          0.045,
          0.0554,
          0.0232,
          0.0713,
          0.0516,
          0.0681,
          0.0227,
          0.0346,
          0.0061,
          0.0386,
          0.0487,
          0.0525,
          0.0082,
          0.0195,
          0.0624,
          0.0363,
          0.0633,
          0.0698,
          0.0627,
          0.0301,
          0.0113,
          0.0333,
          0.033,
          0.0076,
          0.0551,
          0.0191,
          0.0108,
          0.0411,
          0.0688,
          0.0707,
          0.0257,
          0.0321,
          0.0566,
          0.0237,
          0.0494,
          0.0596,
          0.0479,
          0.0561,
          0.0128,
          0.0257,
          0.0375,
          0.045,
          0.025,
          0.0399,
          0.0225,
          0.0078,
          0.057,
          0.0848,
          0.0177,
          0.0564,
          0.0292,
          0.0608,
          0.0272
         ],
         "xaxis": "x4",
         "yaxis": "y4"
        },
        {
         "histfunc": "count",
         "histnorm": "",
         "marker": {
          "color": "rgba(219, 64, 82, 1.0)",
          "line": {
           "color": "#4D5663",
           "width": 1.3
          }
         },
         "name": "V5",
         "nbinsx": 50,
         "opacity": 0.8,
         "orientation": "v",
         "type": "histogram",
         "x": [
          0.0954,
          0.1183,
          0.0974,
          0.0205,
          0.059,
          0.0384,
          0.1674,
          0.1158,
          0.0647,
          0.0187,
          0.031,
          0.0358,
          0.0344,
          0.1197,
          0.0597,
          0.1615,
          0.0737,
          0.1388,
          0.0412,
          0.2565,
          0.1783,
          0.0458,
          0.0652,
          0.0211,
          0.0476,
          0.0133,
          0.1163,
          0.063,
          0.0416,
          0.008,
          0.033,
          0.0951,
          0.0319,
          0.0278,
          0.0079,
          0.0647,
          0.0681,
          0.0679,
          0.018,
          0.0657,
          0.0249,
          0.026,
          0.0121,
          0.0305,
          0.1315,
          0.0496,
          0.157,
          0.0179,
          0.0333,
          0.1397,
          0.037,
          0.0085,
          0.0586,
          0.013,
          0.0436,
          0.0547,
          0.0097,
          0.0608,
          0.0445,
          0.0362,
          0.0525,
          0.0561,
          0.0667,
          0.0197,
          0.0253,
          0.0262,
          0.0305,
          0.082,
          0.0391,
          0.0357,
          0.0217,
          0.053,
          0.061,
          0.0215,
          0.0679,
          0.0807,
          0.0657,
          0.0794,
          0.0339,
          0.0752,
          0.0455,
          0.0839,
          0.0183,
          0.1081,
          0.1787,
          0.113,
          0.0249,
          0.0385,
          0.1129,
          0.0227,
          0.1072,
          0.1724,
          0.0352,
          0.0067,
          0.0434,
          0.0521,
          0.0421,
          0.1772,
          0.401,
          0.062,
          0.1437,
          0.0348,
          0.1436,
          0.0645,
          0.0611,
          0.1913,
          0.0835,
          0.1215,
          0.1026,
          0.1043,
          0.1675,
          0.3225,
          0.1397,
          0.0839,
          0.1217,
          0.0419,
          0.1296,
          0.1117,
          0.1409,
          0.1364,
          0.0432,
          0.063,
          0.1218,
          0.0822,
          0.1267,
          0.1117,
          0.0862,
          0.1064,
          0.0255,
          0.1776,
          0.2252,
          0.0232,
          0.0617,
          0.133,
          0.0748,
          0.0403,
          0.1276,
          0.0165,
          0.1443,
          0.0233,
          0.0646,
          0.1693,
          0.0246,
          0.0995,
          0.08,
          0.0666,
          0.0635,
          0.2482,
          0.1284,
          0.074,
          0.0427,
          0.041,
          0.023,
          0.0993,
          0.0915,
          0.0711,
          0.0883,
          0.0724,
          0.1075,
          0.0746,
          0.0784,
          0.0456,
          0.0484,
          0.042,
          0.0752,
          0.0519,
          0.0489,
          0.0241,
          0.0515,
          0.0428,
          0.0444,
          0.0596,
          0.1615,
          0.1158,
          0.0463,
          0.0497,
          0.0185,
          0.0397,
          0.0251,
          0.0597,
          0.0964,
          0.107,
          0.0613,
          0.0887,
          0.1313,
          0.0441,
          0.0698,
          0.0759,
          0.0224,
          0.0988,
          0.0462,
          0.0902,
          0.0936,
          0.0537,
          0.041,
          0.0767,
          0.0958,
          0.0596,
          0.0788,
          0.0076,
          0.0721,
          0.0529,
          0.1127,
          0.0393,
          0.076,
          0.0351,
          0.0167,
          0.0214
         ],
         "xaxis": "x5",
         "yaxis": "y5"
        },
        {
         "histfunc": "count",
         "histnorm": "",
         "marker": {
          "color": "rgba(0, 128, 128, 1.0)",
          "line": {
           "color": "#4D5663",
           "width": 1.3
          }
         },
         "name": "V6",
         "nbinsx": 50,
         "opacity": 0.8,
         "orientation": "v",
         "type": "histogram",
         "x": [
          0.0986,
          0.2583,
          0.228,
          0.0368,
          0.0649,
          0.099,
          0.171,
          0.0922,
          0.0591,
          0.0671,
          0.0284,
          0.0102,
          0.0546,
          0.1589,
          0.0355,
          0.2294,
          0.1185,
          0.0809,
          0.0757,
          0.2559,
          0.307,
          0.0771,
          0.1077,
          0.1058,
          0.0816,
          0.0151,
          0.1734,
          0.0526,
          0.0201,
          0.0789,
          0.0513,
          0.0752,
          0.0571,
          0.0678,
          0.02,
          0.1432,
          0.0706,
          0.0981,
          0.0492,
          0.0795,
          0.0637,
          0.0458,
          0.0438,
          0.1172,
          0.1323,
          0.1817,
          0.175,
          0.0733,
          0.069,
          0.1883,
          0.0792,
          0.0767,
          0.0682,
          0.0612,
          0.0668,
          0.0208,
          0.0391,
          0.1026,
          0.0906,
          0.0696,
          0.0778,
          0.0929,
          0.0771,
          0.0618,
          0.0806,
          0.0351,
          0.0438,
          0.1342,
          0.0249,
          0.0785,
          0.0284,
          0.1197,
          0.0613,
          0.0136,
          0.0863,
          0.1529,
          0.0742,
          0.0804,
          0.086,
          0.0887,
          0.1452,
          0.1009,
          0.1019,
          0.1164,
          0.1635,
          0.1306,
          0.0488,
          0.0534,
          0.0973,
          0.0834,
          0.2587,
          0.3823,
          0.0701,
          0.089,
          0.1224,
          0.1051,
          0.0473,
          0.1908,
          0.1791,
          0.0871,
          0.119,
          0.118,
          0.0561,
          0.0472,
          0.0577,
          0.0924,
          0.0756,
          0.1524,
          0.0773,
          0.0783,
          0.0418,
          0.2247,
          0.1493,
          0.1673,
          0.2062,
          0.1215,
          0.1795,
          0.1506,
          0.1916,
          0.1513,
          0.0735,
          0.0921,
          0.1538,
          0.1256,
          0.1515,
          0.1651,
          0.1801,
          0.168,
          0.1422,
          0.1428,
          0.2611,
          0.1267,
          0.1207,
          0.0226,
          0.1125,
          0.1227,
          0.1731,
          0.0277,
          0.277,
          0.1048,
          0.1124,
          0.0844,
          0.1022,
          0.2431,
          0.0629,
          0.18,
          0.1328,
          0.1257,
          0.1165,
          0.0324,
          0.0766,
          0.0116,
          0.0481,
          0.1515,
          0.1267,
          0.1563,
          0.1278,
          0.0833,
          0.1019,
          0.1121,
          0.125,
          0.0665,
          0.0526,
          0.0865,
          0.1444,
          0.0849,
          0.0385,
          0.0253,
          0.0817,
          0.0349,
          0.0744,
          0.0808,
          0.0887,
          0.1482,
          0.069,
          0.0998,
          0.126,
          0.0443,
          0.0629,
          0.1416,
          0.1827,
          0.0973,
          0.1039,
          0.0932,
          0.2103,
          0.1027,
          0.1579,
          0.0679,
          0.0845,
          0.1425,
          0.0779,
          0.1057,
          0.1146,
          0.0874,
          0.0491,
          0.0787,
          0.083,
          0.0252,
          0.0766,
          0.0545,
          0.1341,
          0.1091,
          0.1103,
          0.163,
          0.0958,
          0.1171,
          0.1354,
          0.0338
         ],
         "xaxis": "x6",
         "yaxis": "y6"
        },
        {
         "histfunc": "count",
         "histnorm": "",
         "marker": {
          "color": "rgba(255, 255, 51, 1.0)",
          "line": {
           "color": "#4D5663",
           "width": 1.3
          }
         },
         "name": "V8",
         "nbinsx": 50,
         "opacity": 0.8,
         "orientation": "v",
         "type": "histogram",
         "x": [
          0.1601,
          0.3481,
          0.3771,
          0.1276,
          0.2467,
          0.1833,
          0.1401,
          0.0613,
          0.0098,
          0.0697,
          0.0272,
          0.0579,
          0.0958,
          0.0987,
          0.0343,
          0.2033,
          0.1541,
          0.0219,
          0.1138,
          0.411,
          0.2362,
          0.113,
          0.2385,
          0.044,
          0.0315,
          0.021,
          0.1119,
          0.0633,
          0.0651,
          0.1451,
          0.0713,
          0.0259,
          0.0668,
          0.149,
          0.1016,
          0.2041,
          0.0893,
          0.1172,
          0.0398,
          0.0872,
          0.113,
          0.0057,
          0.139,
          0.0638,
          0.2145,
          0.1024,
          0.1353,
          0.1031,
          0.1454,
          0.1447,
          0.0687,
          0.064,
          0.0717,
          0.1107,
          0.0131,
          0.0836,
          0.0915,
          0.0877,
          0.0655,
          0.0616,
          0.0941,
          0.0883,
          0.0906,
          0.0951,
          0.0738,
          0.0535,
          0.078,
          0.0663,
          0.0973,
          0.0908,
          0.0575,
          0.1026,
          0.0506,
          0.0954,
          0.0664,
          0.0608,
          0.1099,
          0.1228,
          0.1351,
          0.0494,
          0.1188,
          0.2071,
          0.107,
          0.1009,
          0.0817,
          0.2268,
          0.1972,
          0.311,
          0.1745,
          0.2002,
          0.2067,
          0.3583,
          0.108,
          0.1741,
          0.1661,
          0.0674,
          0.0741,
          0.0768,
          0.0055,
          0.2707,
          0.0907,
          0.1607,
          0.0672,
          0.1388,
          0.0664,
          0.1092,
          0.0961,
          0.0391,
          0.0447,
          0.1176,
          0.0828,
          0.2287,
          0.0771,
          0.1098,
          0.0929,
          0.1516,
          0.1692,
          0.0997,
          0.1613,
          0.1654,
          0.1134,
          0.1078,
          0.1229,
          0.1584,
          0.2613,
          0.2116,
          0.1896,
          0.346,
          0.2734,
          0.2161,
          0.1668,
          0.2661,
          0.4223,
          0.2678,
          0.459,
          0.4566,
          0.4262,
          0.2057,
          0.1712,
          0.0644,
          0.2407,
          0.0947,
          0.0439,
          0.2018,
          0.0813,
          0.2794,
          0.1787,
          0.0989,
          0.1684,
          0.107,
          0.143,
          0.0805,
          0.0333,
          0.1513,
          0.1927,
          0.1206,
          0.1373,
          0.1298,
          0.2119,
          0.1717,
          0.1729,
          0.0972,
          0.0862,
          0.0999,
          0.1484,
          0.1833,
          0.1117,
          0.013,
          0.0124,
          0.0446,
          0.0456,
          0.3465,
          0.1071,
          0.1605,
          0.1103,
          0.1117,
          0.1918,
          0.0903,
          0.0578,
          0.0802,
          0.1702,
          0.1323,
          0.1394,
          0.214,
          0.2524,
          0.185,
          0.1402,
          0.1473,
          0.1224,
          0.1219,
          0.078,
          0.1209,
          0.0996,
          0.0852,
          0.169,
          0.1108,
          0.122,
          0.0991,
          0.1143,
          0.1069,
          0.1902,
          0.1684,
          0.2337,
          0.1694,
          0.1018,
          0.1178,
          0.1123,
          0.14
         ],
         "xaxis": "x7",
         "yaxis": "y7"
        },
        {
         "histfunc": "count",
         "histnorm": "",
         "marker": {
          "color": "rgba(128, 128, 0, 1.0)",
          "line": {
           "color": "#4D5663",
           "width": 1.3
          }
         },
         "name": "V9",
         "nbinsx": 50,
         "opacity": 0.8,
         "orientation": "v",
         "type": "histogram",
         "x": [
          0.3109,
          0.3337,
          0.5598,
          0.0598,
          0.3564,
          0.2105,
          0.2083,
          0.1465,
          0.0684,
          0.0962,
          0.0323,
          0.1122,
          0.1009,
          0.0955,
          0.1052,
          0.1459,
          0.1466,
          0.1037,
          0.0794,
          0.4983,
          0.383,
          0.2353,
          0.0075,
          0.0931,
          0.0736,
          0.0505,
          0.0889,
          0.0624,
          0.1896,
          0.1789,
          0.0569,
          0.0692,
          0.0691,
          0.0974,
          0.2025,
          0.1571,
          0.0381,
          0.0759,
          0.0791,
          0.0743,
          0.1911,
          0.0425,
          0.0695,
          0.074,
          0.0847,
          0.0583,
          0.1593,
          0.0993,
          0.074,
          0.0487,
          0.0298,
          0.0726,
          0.0576,
          0.0973,
          0.0899,
          0.1335,
          0.0949,
          0.116,
          0.1624,
          0.1252,
          0.1711,
          0.1596,
          0.1229,
          0.0836,
          0.0117,
          0.0258,
          0.0844,
          0.0155,
          0.084,
          0.1151,
          0.1054,
          0.1239,
          0.0989,
          0.0786,
          0.0941,
          0.1317,
          0.1384,
          0.1235,
          0.1063,
          0.0472,
          0.075,
          0.2696,
          0.2302,
          0.1147,
          0.1779,
          0.2992,
          0.1873,
          0.2837,
          0.144,
          0.2876,
          0.3416,
          0.3429,
          0.1523,
          0.1598,
          0.1368,
          0.1294,
          0.1398,
          0.1246,
          0.1929,
          0.1206,
          0.2107,
          0.3036,
          0.1372,
          0.0598,
          0.146,
          0.0757,
          0.0548,
          0.061,
          0.1094,
          0.0453,
          0.0494,
          0.095,
          0.1171,
          0.137,
          0.135,
          0.0818,
          0.187,
          0.1428,
          0.1703,
          0.1864,
          0.1228,
          0.1552,
          0.2119,
          0.2017,
          0.2832,
          0.3295,
          0.296,
          0.3314,
          0.307,
          0.163,
          0.1801,
          0.4346,
          0.5744,
          0.5664,
          0.5526,
          0.6587,
          0.6828,
          0.3887,
          0.0466,
          0.1522,
          0.2682,
          0.1583,
          0.2291,
          0.2611,
          0.1761,
          0.1408,
          0.1199,
          0.246,
          0.183,
          0.1553,
          0.1894,
          0.2365,
          0.1369,
          0.1723,
          0.2361,
          0.1666,
          0.2922,
          0.2085,
          0.3061,
          0.3074,
          0.2794,
          0.2535,
          0.1451,
          0.1976,
          0.2442,
          0.2228,
          0.1237,
          0.0489,
          0.1168,
          0.1318,
          0.0368,
          0.5276,
          0.3175,
          0.2532,
          0.2423,
          0.2984,
          0.3362,
          0.1739,
          0.1357,
          0.1618,
          0.2804,
          0.2462,
          0.2592,
          0.2546,
          0.3595,
          0.2647,
          0.3048,
          0.2164,
          0.1569,
          0.1697,
          0.1038,
          0.1241,
          0.1673,
          0.1136,
          0.2105,
          0.1777,
          0.1977,
          0.1419,
          0.1594,
          0.1708,
          0.261,
          0.1865,
          0.3113,
          0.2328,
          0.103,
          0.1258,
          0.1945,
          0.1843
         ],
         "xaxis": "x8",
         "yaxis": "y8"
        },
        {
         "histfunc": "count",
         "histnorm": "",
         "marker": {
          "color": "rgba(251, 128, 114, 1.0)",
          "line": {
           "color": "#4D5663",
           "width": 1.3
          }
         },
         "name": "V10",
         "nbinsx": 50,
         "opacity": 0.8,
         "orientation": "v",
         "type": "histogram",
         "x": [
          0.2111,
          0.2872,
          0.6194,
          0.1264,
          0.4459,
          0.3039,
          0.3513,
          0.2838,
          0.1487,
          0.0251,
          0.0452,
          0.0835,
          0.124,
          0.1895,
          0.212,
          0.0852,
          0.2912,
          0.1186,
          0.152,
          0.592,
          0.3759,
          0.1838,
          0.1882,
          0.0734,
          0.086,
          0.1097,
          0.1205,
          0.0613,
          0.2668,
          0.2522,
          0.0389,
          0.1753,
          0.0242,
          0.1268,
          0.0767,
          0.1573,
          0.1328,
          0.092,
          0.0475,
          0.0837,
          0.2475,
          0.064,
          0.0568,
          0.136,
          0.0561,
          0.2176,
          0.2795,
          0.0802,
          0.0349,
          0.0864,
          0.088,
          0.0901,
          0.0818,
          0.0751,
          0.0922,
          0.1199,
          0.1504,
          0.0866,
          0.1452,
          0.1302,
          0.1483,
          0.1908,
          0.1185,
          0.118,
          0.0898,
          0.0474,
          0.0779,
          0.0506,
          0.1191,
          0.0973,
          0.1109,
          0.0888,
          0.1093,
          0.1015,
          0.1036,
          0.137,
          0.1376,
          0.0842,
          0.0347,
          0.0393,
          0.1631,
          0.299,
          0.2259,
          0.1777,
          0.2053,
          0.3735,
          0.1806,
          0.2751,
          0.1808,
          0.3674,
          0.4284,
          0.2197,
          0.163,
          0.1408,
          0.143,
          0.1146,
          0.1045,
          0.2028,
          0.2231,
          0.0279,
          0.3597,
          0.4372,
          0.2352,
          0.1334,
          0.2792,
          0.1006,
          0.0193,
          0.0113,
          0.0351,
          0.0945,
          0.0686,
          0.074,
          0.1675,
          0.1767,
          0.1799,
          0.1975,
          0.1725,
          0.2227,
          0.1444,
          0.2013,
          0.1508,
          0.1779,
          0.2531,
          0.2122,
          0.2718,
          0.3517,
          0.4186,
          0.4125,
          0.2597,
          0.2067,
          0.3083,
          0.5378,
          0.5025,
          0.6609,
          0.5966,
          0.5079,
          0.5761,
          0.7106,
          0.1114,
          0.078,
          0.2058,
          0.1247,
          0.1632,
          0.1294,
          0.0998,
          0.0795,
          0.1369,
          0.3422,
          0.2127,
          0.1234,
          0.1853,
          0.2461,
          0.2079,
          0.2078,
          0.2169,
          0.1345,
          0.3469,
          0.272,
          0.2936,
          0.3199,
          0.2954,
          0.3127,
          0.211,
          0.2318,
          0.2822,
          0.181,
          0.23,
          0.0874,
          0.1476,
          0.1375,
          0.125,
          0.5965,
          0.2918,
          0.2672,
          0.3134,
          0.3473,
          0.39,
          0.2571,
          0.1695,
          0.2558,
          0.4432,
          0.2696,
          0.3745,
          0.2952,
          0.5915,
          0.4117,
          0.3914,
          0.2544,
          0.2119,
          0.1923,
          0.1567,
          0.1533,
          0.1859,
          0.1747,
          0.2471,
          0.2245,
          0.2282,
          0.1847,
          0.2048,
          0.2271,
          0.3193,
          0.266,
          0.3997,
          0.2684,
          0.2154,
          0.2529,
          0.2354,
          0.2354
         ],
         "xaxis": "x9",
         "yaxis": "y9"
        },
        {
         "histfunc": "count",
         "histnorm": "",
         "marker": {
          "color": "rgba(128, 177, 211, 1.0)",
          "line": {
           "color": "#4D5663",
           "width": 1.3
          }
         },
         "name": "V14",
         "nbinsx": 50,
         "opacity": 0.8,
         "orientation": "v",
         "type": "histogram",
         "x": [
          0.0645,
          0.7797,
          0.532,
          0.2261,
          0.4135,
          0.8198,
          0.3752,
          0.3801,
          0.3598,
          0.089,
          0.1194,
          0.2557,
          0.3383,
          0.2988,
          0.2019,
          0.2826,
          0.156,
          0.4479,
          0.1345,
          0.5314,
          0.1411,
          0.1984,
          0.134,
          0.1183,
          0.0938,
          0.042,
          0.2793,
          0.5188,
          0.1268,
          0.2672,
          0.2606,
          0.0814,
          0.3854,
          0.214,
          0.2722,
          0.1916,
          0.0712,
          0.097,
          0.1943,
          0.1856,
          0.322,
          0.2768,
          0.1871,
          0.2673,
          0.1524,
          0.2613,
          0.3335,
          0.1179,
          0.2823,
          0.2113,
          0.2819,
          0.1619,
          0.2579,
          0.2039,
          0.2558,
          0.258,
          0.2573,
          0.0915,
          0.1641,
          0.1274,
          0.1236,
          0.1174,
          0.0853,
          0.0593,
          0.1035,
          0.0948,
          0.1065,
          0.1272,
          0.1244,
          0.1762,
          0.0911,
          0.1542,
          0.1591,
          0.0848,
          0.3404,
          0.3046,
          0.2851,
          0.3257,
          0.4038,
          0.2976,
          0.44,
          0.5201,
          0.484,
          0.5078,
          0.3885,
          0.5397,
          0.4844,
          0.4519,
          0.4012,
          0.504,
          0.5707,
          0.6916,
          0.263,
          0.5785,
          0.3239,
          0.1191,
          0.1056,
          0.3195,
          0.3302,
          0.3709,
          0.5395,
          0.7067,
          0.4914,
          0.569,
          0.4972,
          0.4753,
          0.2803,
          0.3747,
          0.2829,
          0.1968,
          0.3087,
          0.3365,
          0.4296,
          0.3769,
          0.4394,
          0.505,
          0.5157,
          0.3316,
          0.357,
          0.3495,
          0.2866,
          0.3829,
          0.4287,
          0.4061,
          0.4677,
          0.4731,
          0.6855,
          0.997,
          0.595,
          0.7003,
          0.7842,
          0.1795,
          0.3087,
          0.4347,
          0.2689,
          0.3957,
          0.2904,
          0.1951,
          0.2164,
          0.1039,
          0.2904,
          0.3115,
          0.3361,
          0.3672,
          0.3099,
          0.161,
          0.2977,
          0.5684,
          0.5821,
          0.2577,
          0.1378,
          0.3099,
          0.1891,
          0.3115,
          0.3758,
          0.2614,
          0.1253,
          0.2059,
          0.1887,
          0.1806,
          0.2115,
          0.2179,
          0.1689,
          0.0708,
          0.3308,
          0.1893,
          0.1526,
          0.1023,
          0.1334,
          0.1444,
          0.1472,
          0.2864,
          0.2587,
          0.2067,
          0.344,
          0.4398,
          0.4343,
          0.3002,
          0.3297,
          0.3951,
          0.4048,
          0.394,
          0.4303,
          0.4127,
          0.3334,
          0.3915,
          0.3311,
          0.3187,
          0.2547,
          0.2986,
          0.2956,
          0.2803,
          0.2637,
          0.1727,
          0.2294,
          0.2917,
          0.2614,
          0.2291,
          0.1918,
          0.2307,
          0.1926,
          0.1965,
          0.176,
          0.0994,
          0.1402,
          0.0983,
          0.0273,
          0.0336
         ],
         "xaxis": "x10",
         "yaxis": "y10"
        },
        {
         "histfunc": "count",
         "histnorm": "",
         "marker": {
          "color": "rgba(128, 177, 211, 0.8999999999999999)",
          "line": {
           "color": "#4D5663",
           "width": 1.3
          }
         },
         "name": "V38",
         "nbinsx": 50,
         "opacity": 0.8,
         "orientation": "v",
         "type": "histogram",
         "x": [
          0.6097,
          0.1057,
          0.6756,
          0.8814,
          0.3217,
          0.4158,
          0.4283,
          0.393,
          0.2726,
          0.1371,
          0.4281,
          0.4576,
          0.1589,
          0.0667,
          0.4129,
          0.4401,
          0.4713,
          0.8409,
          0.5242,
          0.2446,
          0.7279,
          1,
          0.9252,
          0.3672,
          0.3037,
          0.1953,
          0.1497,
          0.0603,
          0.3352,
          0.2061,
          0.0979,
          0.1048,
          0.5031,
          0.3831,
          0.315,
          0.204,
          0.237,
          0.1358,
          0.0411,
          0.315,
          0.1587,
          0.3683,
          0.7388,
          0.8388,
          0.704,
          0.173,
          0.1421,
          0.4081,
          0.2436,
          0.2829,
          0.7866,
          0.4902,
          0.2776,
          0.3209,
          0.2673,
          0.3104,
          0.3101,
          0.5117,
          0.3965,
          0.3505,
          0.379,
          0.3742,
          0.4899,
          0.3466,
          0.7073,
          0.6313,
          0.5733,
          0.6772,
          0.1987,
          0.0383,
          0.0621,
          0.0748,
          0.1096,
          0.2871,
          0.1601,
          0.2255,
          0.1888,
          0.1154,
          0.1373,
          0.0461,
          0.2056,
          0.1339,
          0.1707,
          0.1866,
          0.0864,
          0.3597,
          0.3509,
          0.4424,
          0.2347,
          0.2166,
          0.5856,
          0.2299,
          0.1906,
          0.2161,
          0.2287,
          0.6474,
          0.5581,
          0.6176,
          0.3372,
          0.2108,
          0.2023,
          0.182,
          0.2633,
          0.4029,
          0.4374,
          0.4455,
          0.4664,
          0.4372,
          0.4419,
          0.2311,
          0.2302,
          0.4571,
          0.3379,
          0.3314,
          0.2142,
          0.3741,
          0.3242,
          0.3244,
          0.1498,
          0.248,
          0.339,
          0.2843,
          0.2054,
          0.2456,
          0.1438,
          0.2556,
          0.1436,
          0.1912,
          0.0946,
          0.3156,
          0.2624,
          0.9016,
          0.7792,
          0.8148,
          0.9303,
          0.948,
          0.9136,
          0.3641,
          0.2483,
          0.4237,
          0.355,
          0.3763,
          0.3749,
          0.1819,
          0.2408,
          0.487,
          0.3245,
          0.3941,
          0.1586,
          0.2168,
          0.3514,
          0.3626,
          0.4442,
          0.0844,
          0.0836,
          0.1386,
          0.4936,
          0.5932,
          0.5955,
          0.7426,
          0.4565,
          0.6281,
          0.1648,
          0.172,
          0.3629,
          0.1748,
          0.4799,
          0.7493,
          0.6207,
          0.6496,
          0.6411,
          0.3885,
          0.3813,
          0.3089,
          0.3367,
          0.317,
          0.3488,
          0.4516,
          0.1742,
          0.096,
          0.24,
          0.476,
          0.3881,
          0.4133,
          0.3391,
          0.3958,
          0.182,
          0.1736,
          0.1311,
          0.1275,
          0.1626,
          0.1743,
          0.1382,
          0.2243,
          0.203,
          0.0907,
          0.0941,
          0.17,
          0.1262,
          0.0701,
          0.0618,
          0.0936,
          0.1979,
          0.1411,
          0.1226,
          0.144,
          0.1823,
          0.1713
         ],
         "xaxis": "x11",
         "yaxis": "y11"
        },
        {
         "histfunc": "count",
         "histnorm": "",
         "marker": {
          "color": "rgba(255, 153, 51, 0.8999999999999999)",
          "line": {
           "color": "#4D5663",
           "width": 1.3
          }
         },
         "name": "V44",
         "nbinsx": 50,
         "opacity": 0.8,
         "orientation": "v",
         "type": "histogram",
         "x": [
          0.4256,
          0.1628,
          0.2222,
          0.3202,
          0.0841,
          0.1238,
          0.1749,
          0.1437,
          0.1099,
          0.1384,
          0.1269,
          0.0337,
          0.0819,
          0.3051,
          0.2298,
          0.1867,
          0.1803,
          0.1419,
          0.1778,
          0.1381,
          0.2527,
          0.3639,
          0.2838,
          0.2887,
          0.2228,
          0.2998,
          0.1559,
          0.1901,
          0.0908,
          0.1886,
          0.1078,
          0.0951,
          0.0845,
          0.2659,
          0.0713,
          0.0976,
          0.2205,
          0.1651,
          0.1955,
          0.246,
          0.1705,
          0.1211,
          0.2298,
          0.0701,
          0.7762,
          0.3877,
          0.2808,
          0.4087,
          0.2479,
          0.247,
          0.3363,
          0.0949,
          0.1424,
          0.1801,
          0.1696,
          0.1541,
          0.1624,
          0.1657,
          0.0486,
          0.0492,
          0.0375,
          0.0583,
          0.0845,
          0.1491,
          0.1705,
          0.1916,
          0.1997,
          0.2278,
          0.3846,
          0.0942,
          0.148,
          0.0948,
          0.0696,
          0.1789,
          0.0431,
          0.1262,
          0.1459,
          0.1268,
          0.1381,
          0.0778,
          0.1148,
          0.1129,
          0.0971,
          0.1606,
          0.0584,
          0.2059,
          0.2,
          0.2235,
          0.1761,
          0.1392,
          0.2812,
          0.1294,
          0.0815,
          0.1807,
          0.1524,
          0,
          0.0898,
          0.2804,
          0.1951,
          0.1927,
          0.1626,
          0.0812,
          0.0722,
          0.0377,
          0.142,
          0.1056,
          0.2802,
          0.2527,
          0.265,
          0.1963,
          0.2518,
          0.1387,
          0.2037,
          0.145,
          0.1925,
          0.2808,
          0.1512,
          0.1779,
          0.1692,
          0.137,
          0.2069,
          0.216,
          0.1464,
          0.1767,
          0.114,
          0.1238,
          0.2092,
          0.2587,
          0.2047,
          0.1753,
          0.0255,
          0.2694,
          0.2231,
          0.3722,
          0.2872,
          0.1449,
          0.4491,
          0.1824,
          0.0807,
          0.3202,
          0.4286,
          0.3063,
          0.5245,
          0.4403,
          0.4567,
          0.1359,
          0.5508,
          0.4164,
          0.1414,
          0.0925,
          0.0813,
          0.11,
          0.3072,
          0.1502,
          0.1721,
          0.1776,
          0.4921,
          0.5762,
          0.5379,
          0.495,
          0.4557,
          0.5772,
          0.3021,
          0.2323,
          0.1723,
          0.0816,
          0.3137,
          0.4016,
          0.3693,
          0.3659,
          0.4542,
          0.2267,
          0.2096,
          0.0953,
          0.3387,
          0.4646,
          0.4726,
          0.157,
          0.0255,
          0.0926,
          0.4494,
          0.5663,
          0.4831,
          0.4921,
          0.4777,
          0.4322,
          0.5027,
          0.203,
          0.1269,
          0.1335,
          0.1157,
          0.0675,
          0.0685,
          0.0991,
          0.1631,
          0.2788,
          0.2229,
          0.2468,
          0.2054,
          0.1742,
          0.1916,
          0.2256,
          0.1391,
          0.1339,
          0.1694,
          0.1309,
          0.1548,
          0.1862
         ],
         "xaxis": "x12",
         "yaxis": "y12"
        },
        {
         "histfunc": "count",
         "histnorm": "",
         "marker": {
          "color": "rgba(55, 128, 191, 0.8999999999999999)",
          "line": {
           "color": "#4D5663",
           "width": 1.3
          }
         },
         "name": "V45",
         "nbinsx": 50,
         "opacity": 0.8,
         "orientation": "v",
         "type": "histogram",
         "x": [
          0.2641,
          0.0621,
          0.2111,
          0.4295,
          0.0692,
          0.1192,
          0.1304,
          0.2146,
          0.0985,
          0.0372,
          0.1533,
          0.0894,
          0.0678,
          0.1937,
          0.1155,
          0.1553,
          0.2378,
          0.126,
          0.1353,
          0.1136,
          0.1903,
          0.1492,
          0.4407,
          0.2341,
          0.1582,
          0.2748,
          0.1556,
          0.1107,
          0.138,
          0.1008,
          0.1418,
          0.0986,
          0.1315,
          0.0944,
          0.0615,
          0.0787,
          0.1163,
          0.0575,
          0.0656,
          0.0758,
          0.0194,
          0.1144,
          0.2391,
          0.1578,
          0.6009,
          0.1651,
          0.1374,
          0.3212,
          0.1586,
          0.1708,
          0.3017,
          0.0095,
          0.0908,
          0.1473,
          0.1467,
          0.1464,
          0.112,
          0.1215,
          0.0353,
          0.0622,
          0.0533,
          0.0046,
          0.026,
          0.1326,
          0.1421,
          0.1134,
          0.1512,
          0.1522,
          0.3754,
          0.084,
          0.1102,
          0.0931,
          0.0758,
          0.185,
          0.0369,
          0.1153,
          0.1348,
          0.1125,
          0.0831,
          0.0653,
          0.1331,
          0.1946,
          0.2217,
          0.1669,
          0.123,
          0.2288,
          0.2307,
          0.2611,
          0.1683,
          0.1779,
          0.2078,
          0.0909,
          0.0335,
          0.0352,
          0.0746,
          0,
          0.0536,
          0.1982,
          0.2811,
          0.2062,
          0.0708,
          0.0784,
          0.0405,
          0.0636,
          0.0589,
          0.0573,
          0.1283,
          0.2137,
          0.1748,
          0.0864,
          0.2101,
          0.18,
          0.1155,
          0.1017,
          0.1256,
          0.2395,
          0.1427,
          0.1535,
          0.1881,
          0.1376,
          0.1625,
          0.1278,
          0.0673,
          0.1119,
          0.131,
          0.1854,
          0.1499,
          0.1393,
          0.1064,
          0.0679,
          0.1967,
          0.5214,
          0.4221,
          0.4693,
          0.4374,
          0.2662,
          0.5616,
          0.1487,
          0.1192,
          0.2265,
          0.4894,
          0.5835,
          0.6149,
          0.6448,
          0.576,
          0.4268,
          0.5858,
          0.5438,
          0.0629,
          0.2388,
          0.0492,
          0.0684,
          0.0945,
          0.1675,
          0.2017,
          0.2,
          0.471,
          0.5013,
          0.4485,
          0.4373,
          0.3955,
          0.5907,
          0.2069,
          0.1724,
          0.2814,
          0.0395,
          0.4282,
          0.4125,
          0.2986,
          0.2846,
          0.396,
          0.1577,
          0.1031,
          0.1201,
          0.413,
          0.4366,
          0.3263,
          0.066,
          0.0298,
          0.1173,
          0.4624,
          0.5749,
          0.5084,
          0.5294,
          0.3517,
          0.4892,
          0.7034,
          0.201,
          0.1459,
          0.1976,
          0.1449,
          0.1186,
          0.0664,
          0.0594,
          0.0769,
          0.2709,
          0.2203,
          0.196,
          0.1878,
          0.1555,
          0.2085,
          0.1814,
          0.0638,
          0.0902,
          0.0954,
          0.091,
          0.1319,
          0.1439
         ],
         "xaxis": "x13",
         "yaxis": "y13"
        },
        {
         "histfunc": "count",
         "histnorm": "",
         "marker": {
          "color": "rgba(50, 171, 96, 0.8999999999999999)",
          "line": {
           "color": "#4D5663",
           "width": 1.3
          }
         },
         "name": "V46",
         "nbinsx": 50,
         "opacity": 0.8,
         "orientation": "v",
         "type": "histogram",
         "x": [
          0.1386,
          0.0203,
          0.0176,
          0.3654,
          0.0528,
          0.1089,
          0.0597,
          0.236,
          0.1271,
          0.0688,
          0.069,
          0.0861,
          0.0663,
          0.157,
          0.0724,
          0.1633,
          0.3424,
          0.1288,
          0.1373,
          0.0516,
          0.1643,
          0.1216,
          0.5507,
          0.1668,
          0.1433,
          0.2024,
          0.0422,
          0.1917,
          0.1948,
          0.0663,
          0.1687,
          0.0956,
          0.159,
          0.137,
          0.0779,
          0.0522,
          0.0635,
          0.0695,
          0.058,
          0.0187,
          0.0213,
          0.0791,
          0.191,
          0.1938,
          0.4514,
          0.0442,
          0.1136,
          0.2518,
          0.1124,
          0.1343,
          0.2193,
          0.0527,
          0.0138,
          0.0681,
          0.1286,
          0.1044,
          0.0815,
          0.0978,
          0.0297,
          0.0505,
          0.0278,
          0.0473,
          0.0333,
          0.0687,
          0.0971,
          0.064,
          0.0508,
          0.0801,
          0.2414,
          0.067,
          0.1178,
          0.0965,
          0.091,
          0.1717,
          0.0025,
          0.057,
          0.0391,
          0.0505,
          0.0654,
          0.021,
          0.0276,
          0.2195,
          0.2732,
          0.17,
          0.22,
          0.1704,
          0.1886,
          0.2798,
          0.0729,
          0.1946,
          0.066,
          0.08,
          0.0933,
          0.0473,
          0.0606,
          0,
          0.0374,
          0.2438,
          0.2246,
          0.1751,
          0.0129,
          0.0487,
          0.0553,
          0.0443,
          0.0576,
          0.0307,
          0.1117,
          0.1789,
          0.0932,
          0.1688,
          0.1181,
          0.1299,
          0.0919,
          0.1111,
          0.1003,
          0.0369,
          0.1097,
          0.1199,
          0.1177,
          0.0307,
          0.1216,
          0.0768,
          0.0965,
          0.0779,
          0.1433,
          0.1753,
          0.0676,
          0.1083,
          0.1395,
          0.1062,
          0.1483,
          0.4232,
          0.3067,
          0.3839,
          0.3097,
          0.1806,
          0.4305,
          0.0138,
          0.2134,
          0.1146,
          0.5777,
          0.5692,
          0.5123,
          0.6214,
          0.5293,
          0.4442,
          0.7292,
          0.5649,
          0.0734,
          0.34,
          0.0417,
          0.0303,
          0.1545,
          0.1058,
          0.1787,
          0.0765,
          0.3196,
          0.4042,
          0.2674,
          0.2404,
          0.2966,
          0.4803,
          0.179,
          0.1457,
          0.2764,
          0.0785,
          0.4262,
          0.347,
          0.2226,
          0.1714,
          0.2525,
          0.1211,
          0.0798,
          0.0825,
          0.3639,
          0.2581,
          0.1423,
          0.1294,
          0.0691,
          0.0566,
          0.2001,
          0.3593,
          0.1952,
          0.2216,
          0.092,
          0.1901,
          0.5904,
          0.2187,
          0.1092,
          0.1234,
          0.1883,
          0.1833,
          0.1665,
          0.194,
          0.0723,
          0.2283,
          0.2265,
          0.1985,
          0.2047,
          0.1651,
          0.2335,
          0.2012,
          0.0581,
          0.1085,
          0.008,
          0.0757,
          0.0985,
          0.147
         ],
         "xaxis": "x14",
         "yaxis": "y14"
        }
       ],
       "layout": {
        "barmode": "overlay",
        "legend": {
         "bgcolor": "#F5F6F9",
         "font": {
          "color": "#4D5663"
         }
        },
        "paper_bgcolor": "#F5F6F9",
        "plot_bgcolor": "#F5F6F9",
        "template": {
         "data": {
          "bar": [
           {
            "error_x": {
             "color": "#2a3f5f"
            },
            "error_y": {
             "color": "#2a3f5f"
            },
            "marker": {
             "line": {
              "color": "#E5ECF6",
              "width": 0.5
             },
             "pattern": {
              "fillmode": "overlay",
              "size": 10,
              "solidity": 0.2
             }
            },
            "type": "bar"
           }
          ],
          "barpolar": [
           {
            "marker": {
             "line": {
              "color": "#E5ECF6",
              "width": 0.5
             },
             "pattern": {
              "fillmode": "overlay",
              "size": 10,
              "solidity": 0.2
             }
            },
            "type": "barpolar"
           }
          ],
          "carpet": [
           {
            "aaxis": {
             "endlinecolor": "#2a3f5f",
             "gridcolor": "white",
             "linecolor": "white",
             "minorgridcolor": "white",
             "startlinecolor": "#2a3f5f"
            },
            "baxis": {
             "endlinecolor": "#2a3f5f",
             "gridcolor": "white",
             "linecolor": "white",
             "minorgridcolor": "white",
             "startlinecolor": "#2a3f5f"
            },
            "type": "carpet"
           }
          ],
          "choropleth": [
           {
            "colorbar": {
             "outlinewidth": 0,
             "ticks": ""
            },
            "type": "choropleth"
           }
          ],
          "contour": [
           {
            "colorbar": {
             "outlinewidth": 0,
             "ticks": ""
            },
            "colorscale": [
             [
              0,
              "#0d0887"
             ],
             [
              0.1111111111111111,
              "#46039f"
             ],
             [
              0.2222222222222222,
              "#7201a8"
             ],
             [
              0.3333333333333333,
              "#9c179e"
             ],
             [
              0.4444444444444444,
              "#bd3786"
             ],
             [
              0.5555555555555556,
              "#d8576b"
             ],
             [
              0.6666666666666666,
              "#ed7953"
             ],
             [
              0.7777777777777778,
              "#fb9f3a"
             ],
             [
              0.8888888888888888,
              "#fdca26"
             ],
             [
              1,
              "#f0f921"
             ]
            ],
            "type": "contour"
           }
          ],
          "contourcarpet": [
           {
            "colorbar": {
             "outlinewidth": 0,
             "ticks": ""
            },
            "type": "contourcarpet"
           }
          ],
          "heatmap": [
           {
            "colorbar": {
             "outlinewidth": 0,
             "ticks": ""
            },
            "colorscale": [
             [
              0,
              "#0d0887"
             ],
             [
              0.1111111111111111,
              "#46039f"
             ],
             [
              0.2222222222222222,
              "#7201a8"
             ],
             [
              0.3333333333333333,
              "#9c179e"
             ],
             [
              0.4444444444444444,
              "#bd3786"
             ],
             [
              0.5555555555555556,
              "#d8576b"
             ],
             [
              0.6666666666666666,
              "#ed7953"
             ],
             [
              0.7777777777777778,
              "#fb9f3a"
             ],
             [
              0.8888888888888888,
              "#fdca26"
             ],
             [
              1,
              "#f0f921"
             ]
            ],
            "type": "heatmap"
           }
          ],
          "heatmapgl": [
           {
            "colorbar": {
             "outlinewidth": 0,
             "ticks": ""
            },
            "colorscale": [
             [
              0,
              "#0d0887"
             ],
             [
              0.1111111111111111,
              "#46039f"
             ],
             [
              0.2222222222222222,
              "#7201a8"
             ],
             [
              0.3333333333333333,
              "#9c179e"
             ],
             [
              0.4444444444444444,
              "#bd3786"
             ],
             [
              0.5555555555555556,
              "#d8576b"
             ],
             [
              0.6666666666666666,
              "#ed7953"
             ],
             [
              0.7777777777777778,
              "#fb9f3a"
             ],
             [
              0.8888888888888888,
              "#fdca26"
             ],
             [
              1,
              "#f0f921"
             ]
            ],
            "type": "heatmapgl"
           }
          ],
          "histogram": [
           {
            "marker": {
             "pattern": {
              "fillmode": "overlay",
              "size": 10,
              "solidity": 0.2
             }
            },
            "type": "histogram"
           }
          ],
          "histogram2d": [
           {
            "colorbar": {
             "outlinewidth": 0,
             "ticks": ""
            },
            "colorscale": [
             [
              0,
              "#0d0887"
             ],
             [
              0.1111111111111111,
              "#46039f"
             ],
             [
              0.2222222222222222,
              "#7201a8"
             ],
             [
              0.3333333333333333,
              "#9c179e"
             ],
             [
              0.4444444444444444,
              "#bd3786"
             ],
             [
              0.5555555555555556,
              "#d8576b"
             ],
             [
              0.6666666666666666,
              "#ed7953"
             ],
             [
              0.7777777777777778,
              "#fb9f3a"
             ],
             [
              0.8888888888888888,
              "#fdca26"
             ],
             [
              1,
              "#f0f921"
             ]
            ],
            "type": "histogram2d"
           }
          ],
          "histogram2dcontour": [
           {
            "colorbar": {
             "outlinewidth": 0,
             "ticks": ""
            },
            "colorscale": [
             [
              0,
              "#0d0887"
             ],
             [
              0.1111111111111111,
              "#46039f"
             ],
             [
              0.2222222222222222,
              "#7201a8"
             ],
             [
              0.3333333333333333,
              "#9c179e"
             ],
             [
              0.4444444444444444,
              "#bd3786"
             ],
             [
              0.5555555555555556,
              "#d8576b"
             ],
             [
              0.6666666666666666,
              "#ed7953"
             ],
             [
              0.7777777777777778,
              "#fb9f3a"
             ],
             [
              0.8888888888888888,
              "#fdca26"
             ],
             [
              1,
              "#f0f921"
             ]
            ],
            "type": "histogram2dcontour"
           }
          ],
          "mesh3d": [
           {
            "colorbar": {
             "outlinewidth": 0,
             "ticks": ""
            },
            "type": "mesh3d"
           }
          ],
          "parcoords": [
           {
            "line": {
             "colorbar": {
              "outlinewidth": 0,
              "ticks": ""
             }
            },
            "type": "parcoords"
           }
          ],
          "pie": [
           {
            "automargin": true,
            "type": "pie"
           }
          ],
          "scatter": [
           {
            "marker": {
             "colorbar": {
              "outlinewidth": 0,
              "ticks": ""
             }
            },
            "type": "scatter"
           }
          ],
          "scatter3d": [
           {
            "line": {
             "colorbar": {
              "outlinewidth": 0,
              "ticks": ""
             }
            },
            "marker": {
             "colorbar": {
              "outlinewidth": 0,
              "ticks": ""
             }
            },
            "type": "scatter3d"
           }
          ],
          "scattercarpet": [
           {
            "marker": {
             "colorbar": {
              "outlinewidth": 0,
              "ticks": ""
             }
            },
            "type": "scattercarpet"
           }
          ],
          "scattergeo": [
           {
            "marker": {
             "colorbar": {
              "outlinewidth": 0,
              "ticks": ""
             }
            },
            "type": "scattergeo"
           }
          ],
          "scattergl": [
           {
            "marker": {
             "colorbar": {
              "outlinewidth": 0,
              "ticks": ""
             }
            },
            "type": "scattergl"
           }
          ],
          "scattermapbox": [
           {
            "marker": {
             "colorbar": {
              "outlinewidth": 0,
              "ticks": ""
             }
            },
            "type": "scattermapbox"
           }
          ],
          "scatterpolar": [
           {
            "marker": {
             "colorbar": {
              "outlinewidth": 0,
              "ticks": ""
             }
            },
            "type": "scatterpolar"
           }
          ],
          "scatterpolargl": [
           {
            "marker": {
             "colorbar": {
              "outlinewidth": 0,
              "ticks": ""
             }
            },
            "type": "scatterpolargl"
           }
          ],
          "scatterternary": [
           {
            "marker": {
             "colorbar": {
              "outlinewidth": 0,
              "ticks": ""
             }
            },
            "type": "scatterternary"
           }
          ],
          "surface": [
           {
            "colorbar": {
             "outlinewidth": 0,
             "ticks": ""
            },
            "colorscale": [
             [
              0,
              "#0d0887"
             ],
             [
              0.1111111111111111,
              "#46039f"
             ],
             [
              0.2222222222222222,
              "#7201a8"
             ],
             [
              0.3333333333333333,
              "#9c179e"
             ],
             [
              0.4444444444444444,
              "#bd3786"
             ],
             [
              0.5555555555555556,
              "#d8576b"
             ],
             [
              0.6666666666666666,
              "#ed7953"
             ],
             [
              0.7777777777777778,
              "#fb9f3a"
             ],
             [
              0.8888888888888888,
              "#fdca26"
             ],
             [
              1,
              "#f0f921"
             ]
            ],
            "type": "surface"
           }
          ],
          "table": [
           {
            "cells": {
             "fill": {
              "color": "#EBF0F8"
             },
             "line": {
              "color": "white"
             }
            },
            "header": {
             "fill": {
              "color": "#C8D4E3"
             },
             "line": {
              "color": "white"
             }
            },
            "type": "table"
           }
          ]
         },
         "layout": {
          "annotationdefaults": {
           "arrowcolor": "#2a3f5f",
           "arrowhead": 0,
           "arrowwidth": 1
          },
          "autotypenumbers": "strict",
          "coloraxis": {
           "colorbar": {
            "outlinewidth": 0,
            "ticks": ""
           }
          },
          "colorscale": {
           "diverging": [
            [
             0,
             "#8e0152"
            ],
            [
             0.1,
             "#c51b7d"
            ],
            [
             0.2,
             "#de77ae"
            ],
            [
             0.3,
             "#f1b6da"
            ],
            [
             0.4,
             "#fde0ef"
            ],
            [
             0.5,
             "#f7f7f7"
            ],
            [
             0.6,
             "#e6f5d0"
            ],
            [
             0.7,
             "#b8e186"
            ],
            [
             0.8,
             "#7fbc41"
            ],
            [
             0.9,
             "#4d9221"
            ],
            [
             1,
             "#276419"
            ]
           ],
           "sequential": [
            [
             0,
             "#0d0887"
            ],
            [
             0.1111111111111111,
             "#46039f"
            ],
            [
             0.2222222222222222,
             "#7201a8"
            ],
            [
             0.3333333333333333,
             "#9c179e"
            ],
            [
             0.4444444444444444,
             "#bd3786"
            ],
            [
             0.5555555555555556,
             "#d8576b"
            ],
            [
             0.6666666666666666,
             "#ed7953"
            ],
            [
             0.7777777777777778,
             "#fb9f3a"
            ],
            [
             0.8888888888888888,
             "#fdca26"
            ],
            [
             1,
             "#f0f921"
            ]
           ],
           "sequentialminus": [
            [
             0,
             "#0d0887"
            ],
            [
             0.1111111111111111,
             "#46039f"
            ],
            [
             0.2222222222222222,
             "#7201a8"
            ],
            [
             0.3333333333333333,
             "#9c179e"
            ],
            [
             0.4444444444444444,
             "#bd3786"
            ],
            [
             0.5555555555555556,
             "#d8576b"
            ],
            [
             0.6666666666666666,
             "#ed7953"
            ],
            [
             0.7777777777777778,
             "#fb9f3a"
            ],
            [
             0.8888888888888888,
             "#fdca26"
            ],
            [
             1,
             "#f0f921"
            ]
           ]
          },
          "colorway": [
           "#636efa",
           "#EF553B",
           "#00cc96",
           "#ab63fa",
           "#FFA15A",
           "#19d3f3",
           "#FF6692",
           "#B6E880",
           "#FF97FF",
           "#FECB52"
          ],
          "font": {
           "color": "#2a3f5f"
          },
          "geo": {
           "bgcolor": "white",
           "lakecolor": "white",
           "landcolor": "#E5ECF6",
           "showlakes": true,
           "showland": true,
           "subunitcolor": "white"
          },
          "hoverlabel": {
           "align": "left"
          },
          "hovermode": "closest",
          "mapbox": {
           "style": "light"
          },
          "paper_bgcolor": "white",
          "plot_bgcolor": "#E5ECF6",
          "polar": {
           "angularaxis": {
            "gridcolor": "white",
            "linecolor": "white",
            "ticks": ""
           },
           "bgcolor": "#E5ECF6",
           "radialaxis": {
            "gridcolor": "white",
            "linecolor": "white",
            "ticks": ""
           }
          },
          "scene": {
           "xaxis": {
            "backgroundcolor": "#E5ECF6",
            "gridcolor": "white",
            "gridwidth": 2,
            "linecolor": "white",
            "showbackground": true,
            "ticks": "",
            "zerolinecolor": "white"
           },
           "yaxis": {
            "backgroundcolor": "#E5ECF6",
            "gridcolor": "white",
            "gridwidth": 2,
            "linecolor": "white",
            "showbackground": true,
            "ticks": "",
            "zerolinecolor": "white"
           },
           "zaxis": {
            "backgroundcolor": "#E5ECF6",
            "gridcolor": "white",
            "gridwidth": 2,
            "linecolor": "white",
            "showbackground": true,
            "ticks": "",
            "zerolinecolor": "white"
           }
          },
          "shapedefaults": {
           "line": {
            "color": "#2a3f5f"
           }
          },
          "ternary": {
           "aaxis": {
            "gridcolor": "white",
            "linecolor": "white",
            "ticks": ""
           },
           "baxis": {
            "gridcolor": "white",
            "linecolor": "white",
            "ticks": ""
           },
           "bgcolor": "#E5ECF6",
           "caxis": {
            "gridcolor": "white",
            "linecolor": "white",
            "ticks": ""
           }
          },
          "title": {
           "x": 0.05
          },
          "xaxis": {
           "automargin": true,
           "gridcolor": "white",
           "linecolor": "white",
           "ticks": "",
           "title": {
            "standoff": 15
           },
           "zerolinecolor": "white",
           "zerolinewidth": 2
          },
          "yaxis": {
           "automargin": true,
           "gridcolor": "white",
           "linecolor": "white",
           "ticks": "",
           "title": {
            "standoff": 15
           },
           "zerolinecolor": "white",
           "zerolinewidth": 2
          }
         }
        },
        "title": {
         "font": {
          "color": "#4D5663"
         }
        },
        "xaxis": {
         "anchor": "y",
         "domain": [
          0,
          0.45
         ],
         "gridcolor": "#E1E5ED",
         "showgrid": true,
         "tickfont": {
          "color": "#4D5663"
         },
         "title": {
          "font": {
           "color": "#4D5663"
          },
          "text": ""
         },
         "zerolinecolor": "#E1E5ED"
        },
        "xaxis10": {
         "anchor": "y10",
         "domain": [
          0.55,
          1
         ],
         "gridcolor": "#E1E5ED",
         "showgrid": true,
         "tickfont": {
          "color": "#4D5663"
         },
         "title": {
          "font": {
           "color": "#4D5663"
          },
          "text": ""
         },
         "zerolinecolor": "#E1E5ED"
        },
        "xaxis11": {
         "anchor": "y11",
         "domain": [
          0,
          0.45
         ],
         "gridcolor": "#E1E5ED",
         "showgrid": true,
         "tickfont": {
          "color": "#4D5663"
         },
         "title": {
          "font": {
           "color": "#4D5663"
          },
          "text": ""
         },
         "zerolinecolor": "#E1E5ED"
        },
        "xaxis12": {
         "anchor": "y12",
         "domain": [
          0.55,
          1
         ],
         "gridcolor": "#E1E5ED",
         "showgrid": true,
         "tickfont": {
          "color": "#4D5663"
         },
         "title": {
          "font": {
           "color": "#4D5663"
          },
          "text": ""
         },
         "zerolinecolor": "#E1E5ED"
        },
        "xaxis13": {
         "anchor": "y13",
         "domain": [
          0,
          0.45
         ],
         "gridcolor": "#E1E5ED",
         "showgrid": true,
         "tickfont": {
          "color": "#4D5663"
         },
         "title": {
          "font": {
           "color": "#4D5663"
          },
          "text": ""
         },
         "zerolinecolor": "#E1E5ED"
        },
        "xaxis14": {
         "anchor": "y14",
         "domain": [
          0.55,
          1
         ],
         "gridcolor": "#E1E5ED",
         "showgrid": true,
         "tickfont": {
          "color": "#4D5663"
         },
         "title": {
          "font": {
           "color": "#4D5663"
          },
          "text": ""
         },
         "zerolinecolor": "#E1E5ED"
        },
        "xaxis2": {
         "anchor": "y2",
         "domain": [
          0.55,
          1
         ],
         "gridcolor": "#E1E5ED",
         "showgrid": true,
         "tickfont": {
          "color": "#4D5663"
         },
         "title": {
          "font": {
           "color": "#4D5663"
          },
          "text": ""
         },
         "zerolinecolor": "#E1E5ED"
        },
        "xaxis3": {
         "anchor": "y3",
         "domain": [
          0,
          0.45
         ],
         "gridcolor": "#E1E5ED",
         "showgrid": true,
         "tickfont": {
          "color": "#4D5663"
         },
         "title": {
          "font": {
           "color": "#4D5663"
          },
          "text": ""
         },
         "zerolinecolor": "#E1E5ED"
        },
        "xaxis4": {
         "anchor": "y4",
         "domain": [
          0.55,
          1
         ],
         "gridcolor": "#E1E5ED",
         "showgrid": true,
         "tickfont": {
          "color": "#4D5663"
         },
         "title": {
          "font": {
           "color": "#4D5663"
          },
          "text": ""
         },
         "zerolinecolor": "#E1E5ED"
        },
        "xaxis5": {
         "anchor": "y5",
         "domain": [
          0,
          0.45
         ],
         "gridcolor": "#E1E5ED",
         "showgrid": true,
         "tickfont": {
          "color": "#4D5663"
         },
         "title": {
          "font": {
           "color": "#4D5663"
          },
          "text": ""
         },
         "zerolinecolor": "#E1E5ED"
        },
        "xaxis6": {
         "anchor": "y6",
         "domain": [
          0.55,
          1
         ],
         "gridcolor": "#E1E5ED",
         "showgrid": true,
         "tickfont": {
          "color": "#4D5663"
         },
         "title": {
          "font": {
           "color": "#4D5663"
          },
          "text": ""
         },
         "zerolinecolor": "#E1E5ED"
        },
        "xaxis7": {
         "anchor": "y7",
         "domain": [
          0,
          0.45
         ],
         "gridcolor": "#E1E5ED",
         "showgrid": true,
         "tickfont": {
          "color": "#4D5663"
         },
         "title": {
          "font": {
           "color": "#4D5663"
          },
          "text": ""
         },
         "zerolinecolor": "#E1E5ED"
        },
        "xaxis8": {
         "anchor": "y8",
         "domain": [
          0.55,
          1
         ],
         "gridcolor": "#E1E5ED",
         "showgrid": true,
         "tickfont": {
          "color": "#4D5663"
         },
         "title": {
          "font": {
           "color": "#4D5663"
          },
          "text": ""
         },
         "zerolinecolor": "#E1E5ED"
        },
        "xaxis9": {
         "anchor": "y9",
         "domain": [
          0,
          0.45
         ],
         "gridcolor": "#E1E5ED",
         "showgrid": true,
         "tickfont": {
          "color": "#4D5663"
         },
         "title": {
          "font": {
           "color": "#4D5663"
          },
          "text": ""
         },
         "zerolinecolor": "#E1E5ED"
        },
        "yaxis": {
         "anchor": "x",
         "domain": [
          0.8938775510204082,
          1
         ],
         "gridcolor": "#E1E5ED",
         "showgrid": true,
         "tickfont": {
          "color": "#4D5663"
         },
         "title": {
          "font": {
           "color": "#4D5663"
          },
          "text": ""
         },
         "zerolinecolor": "#E1E5ED"
        },
        "yaxis10": {
         "anchor": "x10",
         "domain": [
          0.2979591836734694,
          0.40408163265306124
         ],
         "gridcolor": "#E1E5ED",
         "showgrid": true,
         "tickfont": {
          "color": "#4D5663"
         },
         "title": {
          "font": {
           "color": "#4D5663"
          },
          "text": ""
         },
         "zerolinecolor": "#E1E5ED"
        },
        "yaxis11": {
         "anchor": "x11",
         "domain": [
          0.1489795918367347,
          0.25510204081632654
         ],
         "gridcolor": "#E1E5ED",
         "showgrid": true,
         "tickfont": {
          "color": "#4D5663"
         },
         "title": {
          "font": {
           "color": "#4D5663"
          },
          "text": ""
         },
         "zerolinecolor": "#E1E5ED"
        },
        "yaxis12": {
         "anchor": "x12",
         "domain": [
          0.1489795918367347,
          0.25510204081632654
         ],
         "gridcolor": "#E1E5ED",
         "showgrid": true,
         "tickfont": {
          "color": "#4D5663"
         },
         "title": {
          "font": {
           "color": "#4D5663"
          },
          "text": ""
         },
         "zerolinecolor": "#E1E5ED"
        },
        "yaxis13": {
         "anchor": "x13",
         "domain": [
          0,
          0.10612244897959185
         ],
         "gridcolor": "#E1E5ED",
         "showgrid": true,
         "tickfont": {
          "color": "#4D5663"
         },
         "title": {
          "font": {
           "color": "#4D5663"
          },
          "text": ""
         },
         "zerolinecolor": "#E1E5ED"
        },
        "yaxis14": {
         "anchor": "x14",
         "domain": [
          0,
          0.10612244897959185
         ],
         "gridcolor": "#E1E5ED",
         "showgrid": true,
         "tickfont": {
          "color": "#4D5663"
         },
         "title": {
          "font": {
           "color": "#4D5663"
          },
          "text": ""
         },
         "zerolinecolor": "#E1E5ED"
        },
        "yaxis2": {
         "anchor": "x2",
         "domain": [
          0.8938775510204082,
          1
         ],
         "gridcolor": "#E1E5ED",
         "showgrid": true,
         "tickfont": {
          "color": "#4D5663"
         },
         "title": {
          "font": {
           "color": "#4D5663"
          },
          "text": ""
         },
         "zerolinecolor": "#E1E5ED"
        },
        "yaxis3": {
         "anchor": "x3",
         "domain": [
          0.7448979591836735,
          0.8510204081632654
         ],
         "gridcolor": "#E1E5ED",
         "showgrid": true,
         "tickfont": {
          "color": "#4D5663"
         },
         "title": {
          "font": {
           "color": "#4D5663"
          },
          "text": ""
         },
         "zerolinecolor": "#E1E5ED"
        },
        "yaxis4": {
         "anchor": "x4",
         "domain": [
          0.7448979591836735,
          0.8510204081632654
         ],
         "gridcolor": "#E1E5ED",
         "showgrid": true,
         "tickfont": {
          "color": "#4D5663"
         },
         "title": {
          "font": {
           "color": "#4D5663"
          },
          "text": ""
         },
         "zerolinecolor": "#E1E5ED"
        },
        "yaxis5": {
         "anchor": "x5",
         "domain": [
          0.5959183673469388,
          0.7020408163265307
         ],
         "gridcolor": "#E1E5ED",
         "showgrid": true,
         "tickfont": {
          "color": "#4D5663"
         },
         "title": {
          "font": {
           "color": "#4D5663"
          },
          "text": ""
         },
         "zerolinecolor": "#E1E5ED"
        },
        "yaxis6": {
         "anchor": "x6",
         "domain": [
          0.5959183673469388,
          0.7020408163265307
         ],
         "gridcolor": "#E1E5ED",
         "showgrid": true,
         "tickfont": {
          "color": "#4D5663"
         },
         "title": {
          "font": {
           "color": "#4D5663"
          },
          "text": ""
         },
         "zerolinecolor": "#E1E5ED"
        },
        "yaxis7": {
         "anchor": "x7",
         "domain": [
          0.4469387755102041,
          0.553061224489796
         ],
         "gridcolor": "#E1E5ED",
         "showgrid": true,
         "tickfont": {
          "color": "#4D5663"
         },
         "title": {
          "font": {
           "color": "#4D5663"
          },
          "text": ""
         },
         "zerolinecolor": "#E1E5ED"
        },
        "yaxis8": {
         "anchor": "x8",
         "domain": [
          0.4469387755102041,
          0.553061224489796
         ],
         "gridcolor": "#E1E5ED",
         "showgrid": true,
         "tickfont": {
          "color": "#4D5663"
         },
         "title": {
          "font": {
           "color": "#4D5663"
          },
          "text": ""
         },
         "zerolinecolor": "#E1E5ED"
        },
        "yaxis9": {
         "anchor": "x9",
         "domain": [
          0.2979591836734694,
          0.40408163265306124
         ],
         "gridcolor": "#E1E5ED",
         "showgrid": true,
         "tickfont": {
          "color": "#4D5663"
         },
         "title": {
          "font": {
           "color": "#4D5663"
          },
          "text": ""
         },
         "zerolinecolor": "#E1E5ED"
        }
       }
      },
      "text/html": [
       "<div>                            <div id=\"30af4e35-1ccf-47a0-9c90-71f6a9c02014\" class=\"plotly-graph-div\" style=\"height:525px; width:100%;\"></div>            <script type=\"text/javascript\">                require([\"plotly\"], function(Plotly) {                    window.PLOTLYENV=window.PLOTLYENV || {};\n",
       "                    window.PLOTLYENV.BASE_URL='https://plot.ly';                                    if (document.getElementById(\"30af4e35-1ccf-47a0-9c90-71f6a9c02014\")) {                    Plotly.newPlot(                        \"30af4e35-1ccf-47a0-9c90-71f6a9c02014\",                        [{\"histfunc\":\"count\",\"histnorm\":\"\",\"marker\":{\"color\":\"rgba(255, 153, 51, 1.0)\",\"line\":{\"color\":\"#4D5663\",\"width\":1.3}},\"name\":\"V1\",\"nbinsx\":50,\"opacity\":0.8,\"orientation\":\"v\",\"type\":\"histogram\",\"x\":[0.02,0.0453,0.0262,0.01,0.0762,0.0286,0.0317,0.0519,0.0223,0.0164,0.0039,0.0123,0.0079,0.009,0.0124,0.0298,0.0352,0.0192,0.027,0.0126,0.0473,0.0664,0.0099,0.0115,0.0293,0.0201,0.0151,0.0177,0.01,0.0189,0.024,0.0084,0.0195,0.0442,0.0311,0.0206,0.0094,0.0333,0.0123,0.0091,0.0068,0.0093,0.0211,0.0093,0.0257,0.0408,0.0308,0.0373,0.019,0.0119,0.0353,0.0131,0.0087,0.0293,0.0132,0.0201,0.0152,0.0216,0.0225,0.0125,0.013,0.0135,0.0086,0.0067,0.0071,0.0176,0.0265,0.0368,0.0195,0.0216,0.0065,0.0036,0.0208,0.0139,0.0109,0.0202,0.0239,0.0336,0.0231,0.0108,0.0229,0.01,0.0409,0.0217,0.0378,0.0365,0.0188,0.0856,0.0274,0.0235,0.0126,0.0253,0.026,0.0459,0.0025,0.0291,0.0181,0.0491,0.1313,0.0201,0.0629,0.0335,0.0587,0.0162,0.0307,0.0116,0.0331,0.0428,0.0599,0.0264,0.021,0.053,0.0454,0.0283,0.0114,0.0414,0.0094,0.0228,0.0363,0.0261,0.0346,0.0162,0.0249,0.027,0.0388,0.0228,0.0715,0.0209,0.0374,0.1371,0.0443,0.115,0.0968,0.079,0.1083,0.0094,0.1088,0.043,0.0731,0.0164,0.0412,0.0707,0.0526,0.0516,0.0299,0.0721,0.1021,0.0654,0.0712,0.0207,0.0209,0.0231,0.0131,0.0233,0.0117,0.0211,0.0047,0.0201,0.0107,0.0235,0.0258,0.0305,0.0217,0.0072,0.0163,0.0221,0.0411,0.0137,0.0015,0.013,0.0134,0.0179,0.018,0.0329,0.0191,0.0294,0.0635,0.0201,0.0197,0.0394,0.031,0.0423,0.0095,0.0096,0.0269,0.034,0.0209,0.0368,0.0089,0.0158,0.0156,0.0315,0.0056,0.0203,0.0392,0.0129,0.005,0.0366,0.0238,0.0116,0.0131,0.0335,0.0272,0.0187,0.0323,0.0522,0.0303,0.026],\"xaxis\":\"x\",\"yaxis\":\"y\"},{\"histfunc\":\"count\",\"histnorm\":\"\",\"marker\":{\"color\":\"rgba(55, 128, 191, 1.0)\",\"line\":{\"color\":\"#4D5663\",\"width\":1.3}},\"name\":\"V2\",\"nbinsx\":50,\"opacity\":0.8,\"orientation\":\"v\",\"type\":\"histogram\",\"x\":[0.0371,0.0523,0.0582,0.0171,0.0666,0.0453,0.0956,0.0548,0.0375,0.0173,0.0063,0.0309,0.0086,0.0062,0.0433,0.0615,0.0116,0.0607,0.0092,0.0149,0.0509,0.0575,0.0484,0.015,0.0644,0.0026,0.032,0.03,0.0275,0.0308,0.0218,0.0153,0.0213,0.0477,0.0491,0.0132,0.0166,0.0221,0.0022,0.0213,0.0232,0.0185,0.0319,0.0269,0.0447,0.0653,0.0339,0.0281,0.0038,0.0582,0.0713,0.0068,0.0046,0.0378,0.008,0.0116,0.0102,0.0124,0.0019,0.0152,0.0006,0.0045,0.0215,0.0096,0.0103,0.0172,0.044,0.0403,0.0142,0.0215,0.0122,0.0078,0.0186,0.0222,0.0093,0.0104,0.0189,0.0294,0.0351,0.0086,0.0369,0.0194,0.0421,0.034,0.0318,0.1632,0.037,0.0454,0.0242,0.0291,0.0519,0.0808,0.0192,0.0437,0.0309,0.04,0.0146,0.0279,0.2339,0.0423,0.1065,0.0134,0.121,0.0253,0.0523,0.0179,0.0423,0.0555,0.0474,0.0071,0.0121,0.0885,0.0472,0.0599,0.0222,0.0436,0.0333,0.0106,0.0478,0.0266,0.0509,0.0041,0.0119,0.0163,0.0324,0.0853,0.0849,0.0261,0.0586,0.1226,0.0446,0.1163,0.0821,0.0707,0.107,0.0611,0.1278,0.0902,0.1249,0.0627,0.1135,0.1252,0.0563,0.0944,0.0688,0.1574,0.083,0.0649,0.0901,0.0535,0.0278,0.0315,0.0201,0.0394,0.0069,0.0128,0.0059,0.0178,0.0453,0.022,0.0433,0.0363,0.0152,0.0027,0.0198,0.0065,0.0277,0.0297,0.0186,0.012,0.0172,0.0136,0.0444,0.0216,0.0173,0.0123,0.0709,0.0165,0.0394,0.042,0.0221,0.0321,0.0308,0.0404,0.0383,0.0625,0.0191,0.0279,0.0274,0.0239,0.021,0.0252,0.0267,0.0121,0.0108,0.0141,0.0017,0.0421,0.0318,0.0744,0.0387,0.0258,0.0378,0.0346,0.0101,0.0437,0.0353,0.0363],\"xaxis\":\"x2\",\"yaxis\":\"y2\"},{\"histfunc\":\"count\",\"histnorm\":\"\",\"marker\":{\"color\":\"rgba(50, 171, 96, 1.0)\",\"line\":{\"color\":\"#4D5663\",\"width\":1.3}},\"name\":\"V3\",\"nbinsx\":50,\"opacity\":0.8,\"orientation\":\"v\",\"type\":\"histogram\",\"x\":[0.0428,0.0843,0.1099,0.0623,0.0481,0.0277,0.1321,0.0842,0.0484,0.0347,0.0152,0.0169,0.0055,0.0253,0.0604,0.065,0.0191,0.0378,0.0145,0.0641,0.0819,0.0842,0.0299,0.0136,0.039,0.0138,0.0599,0.0288,0.019,0.0197,0.0324,0.0291,0.0058,0.0049,0.0692,0.0533,0.0398,0.027,0.0196,0.0206,0.0513,0.0056,0.0415,0.0217,0.0388,0.0397,0.0202,0.0232,0.0642,0.0623,0.0326,0.0308,0.0081,0.0257,0.0188,0.0123,0.0113,0.0174,0.0075,0.0218,0.0088,0.0051,0.0242,0.0024,0.0135,0.0501,0.0137,0.0317,0.0181,0.0273,0.0068,0.0092,0.0131,0.0089,0.0121,0.0325,0.0466,0.0476,0.003,0.0058,0.004,0.0155,0.0573,0.0392,0.0423,0.1636,0.0953,0.0382,0.0621,0.0749,0.0621,0.0507,0.0254,0.0347,0.0171,0.0771,0.0026,0.0592,0.3059,0.0554,0.1526,0.0696,0.1268,0.0262,0.0653,0.0449,0.0474,0.0708,0.0498,0.0342,0.0203,0.1997,0.0697,0.0656,0.0269,0.0447,0.0306,0.013,0.0298,0.0223,0.0079,0.0239,0.0277,0.0341,0.0688,0.1,0.0587,0.012,0.0628,0.1385,0.0235,0.0866,0.0629,0.0352,0.0257,0.1136,0.0926,0.0833,0.1665,0.0738,0.0518,0.1447,0.1219,0.0622,0.0992,0.1112,0.0577,0.0737,0.1276,0.0334,0.0115,0.017,0.0045,0.0416,0.0279,0.0015,0.008,0.0274,0.0289,0.0167,0.0547,0.0214,0.0346,0.0089,0.0202,0.0164,0.0604,0.0116,0.0289,0.0436,0.0178,0.0408,0.0476,0.0386,0.0291,0.0117,0.0453,0.0344,0.0384,0.0446,0.0433,0.0709,0.0539,0.0682,0.0505,0.0381,0.0411,0.0103,0.0248,0.015,0.0282,0.0167,0.0221,0.038,0.0267,0.0309,0.027,0.0504,0.0422,0.0367,0.0329,0.0398,0.0488,0.0168,0.0298,0.018,0.049,0.0136],\"xaxis\":\"x3\",\"yaxis\":\"y3\"},{\"histfunc\":\"count\",\"histnorm\":\"\",\"marker\":{\"color\":\"rgba(128, 0, 128, 1.0)\",\"line\":{\"color\":\"#4D5663\",\"width\":1.3}},\"name\":\"V4\",\"nbinsx\":50,\"opacity\":0.8,\"orientation\":\"v\",\"type\":\"histogram\",\"x\":[0.0207,0.0689,0.1083,0.0205,0.0394,0.0174,0.1408,0.0319,0.0475,0.007,0.0336,0.0313,0.025,0.0489,0.0449,0.0921,0.0469,0.0774,0.0278,0.1732,0.1252,0.0372,0.0297,0.0076,0.0173,0.0062,0.105,0.0394,0.0371,0.0622,0.0569,0.0432,0.019,0.0581,0.0831,0.0569,0.0359,0.0481,0.0206,0.0505,0.0444,0.0064,0.0286,0.0339,0.0239,0.0604,0.0889,0.0225,0.0452,0.06,0.0272,0.0311,0.023,0.0062,0.0141,0.0245,0.0263,0.0152,0.0097,0.0175,0.0456,0.0289,0.0445,0.0058,0.0494,0.0285,0.0084,0.0293,0.0406,0.0139,0.0108,0.0387,0.0211,0.0108,0.0378,0.0239,0.044,0.0539,0.0304,0.046,0.0375,0.0489,0.013,0.0236,0.035,0.1421,0.0824,0.0203,0.056,0.0519,0.0518,0.0244,0.0061,0.0456,0.0228,0.0809,0.0141,0.127,0.4264,0.0783,0.1229,0.118,0.1498,0.0386,0.0521,0.1096,0.0818,0.0618,0.0387,0.0793,0.1036,0.2604,0.1021,0.0229,0.0384,0.0844,0.0376,0.0842,0.021,0.0749,0.0243,0.0441,0.076,0.0247,0.0898,0.0428,0.0218,0.0768,0.0534,0.1484,0.1008,0.0358,0.0608,0.166,0.0837,0.1203,0.1234,0.0813,0.1496,0.0608,0.0232,0.1644,0.1206,0.0415,0.1021,0.1085,0.0627,0.1132,0.1497,0.0818,0.0445,0.0226,0.0217,0.0547,0.0583,0.045,0.0554,0.0232,0.0713,0.0516,0.0681,0.0227,0.0346,0.0061,0.0386,0.0487,0.0525,0.0082,0.0195,0.0624,0.0363,0.0633,0.0698,0.0627,0.0301,0.0113,0.0333,0.033,0.0076,0.0551,0.0191,0.0108,0.0411,0.0688,0.0707,0.0257,0.0321,0.0566,0.0237,0.0494,0.0596,0.0479,0.0561,0.0128,0.0257,0.0375,0.045,0.025,0.0399,0.0225,0.0078,0.057,0.0848,0.0177,0.0564,0.0292,0.0608,0.0272],\"xaxis\":\"x4\",\"yaxis\":\"y4\"},{\"histfunc\":\"count\",\"histnorm\":\"\",\"marker\":{\"color\":\"rgba(219, 64, 82, 1.0)\",\"line\":{\"color\":\"#4D5663\",\"width\":1.3}},\"name\":\"V5\",\"nbinsx\":50,\"opacity\":0.8,\"orientation\":\"v\",\"type\":\"histogram\",\"x\":[0.0954,0.1183,0.0974,0.0205,0.059,0.0384,0.1674,0.1158,0.0647,0.0187,0.031,0.0358,0.0344,0.1197,0.0597,0.1615,0.0737,0.1388,0.0412,0.2565,0.1783,0.0458,0.0652,0.0211,0.0476,0.0133,0.1163,0.063,0.0416,0.008,0.033,0.0951,0.0319,0.0278,0.0079,0.0647,0.0681,0.0679,0.018,0.0657,0.0249,0.026,0.0121,0.0305,0.1315,0.0496,0.157,0.0179,0.0333,0.1397,0.037,0.0085,0.0586,0.013,0.0436,0.0547,0.0097,0.0608,0.0445,0.0362,0.0525,0.0561,0.0667,0.0197,0.0253,0.0262,0.0305,0.082,0.0391,0.0357,0.0217,0.053,0.061,0.0215,0.0679,0.0807,0.0657,0.0794,0.0339,0.0752,0.0455,0.0839,0.0183,0.1081,0.1787,0.113,0.0249,0.0385,0.1129,0.0227,0.1072,0.1724,0.0352,0.0067,0.0434,0.0521,0.0421,0.1772,0.401,0.062,0.1437,0.0348,0.1436,0.0645,0.0611,0.1913,0.0835,0.1215,0.1026,0.1043,0.1675,0.3225,0.1397,0.0839,0.1217,0.0419,0.1296,0.1117,0.1409,0.1364,0.0432,0.063,0.1218,0.0822,0.1267,0.1117,0.0862,0.1064,0.0255,0.1776,0.2252,0.0232,0.0617,0.133,0.0748,0.0403,0.1276,0.0165,0.1443,0.0233,0.0646,0.1693,0.0246,0.0995,0.08,0.0666,0.0635,0.2482,0.1284,0.074,0.0427,0.041,0.023,0.0993,0.0915,0.0711,0.0883,0.0724,0.1075,0.0746,0.0784,0.0456,0.0484,0.042,0.0752,0.0519,0.0489,0.0241,0.0515,0.0428,0.0444,0.0596,0.1615,0.1158,0.0463,0.0497,0.0185,0.0397,0.0251,0.0597,0.0964,0.107,0.0613,0.0887,0.1313,0.0441,0.0698,0.0759,0.0224,0.0988,0.0462,0.0902,0.0936,0.0537,0.041,0.0767,0.0958,0.0596,0.0788,0.0076,0.0721,0.0529,0.1127,0.0393,0.076,0.0351,0.0167,0.0214],\"xaxis\":\"x5\",\"yaxis\":\"y5\"},{\"histfunc\":\"count\",\"histnorm\":\"\",\"marker\":{\"color\":\"rgba(0, 128, 128, 1.0)\",\"line\":{\"color\":\"#4D5663\",\"width\":1.3}},\"name\":\"V6\",\"nbinsx\":50,\"opacity\":0.8,\"orientation\":\"v\",\"type\":\"histogram\",\"x\":[0.0986,0.2583,0.228,0.0368,0.0649,0.099,0.171,0.0922,0.0591,0.0671,0.0284,0.0102,0.0546,0.1589,0.0355,0.2294,0.1185,0.0809,0.0757,0.2559,0.307,0.0771,0.1077,0.1058,0.0816,0.0151,0.1734,0.0526,0.0201,0.0789,0.0513,0.0752,0.0571,0.0678,0.02,0.1432,0.0706,0.0981,0.0492,0.0795,0.0637,0.0458,0.0438,0.1172,0.1323,0.1817,0.175,0.0733,0.069,0.1883,0.0792,0.0767,0.0682,0.0612,0.0668,0.0208,0.0391,0.1026,0.0906,0.0696,0.0778,0.0929,0.0771,0.0618,0.0806,0.0351,0.0438,0.1342,0.0249,0.0785,0.0284,0.1197,0.0613,0.0136,0.0863,0.1529,0.0742,0.0804,0.086,0.0887,0.1452,0.1009,0.1019,0.1164,0.1635,0.1306,0.0488,0.0534,0.0973,0.0834,0.2587,0.3823,0.0701,0.089,0.1224,0.1051,0.0473,0.1908,0.1791,0.0871,0.119,0.118,0.0561,0.0472,0.0577,0.0924,0.0756,0.1524,0.0773,0.0783,0.0418,0.2247,0.1493,0.1673,0.2062,0.1215,0.1795,0.1506,0.1916,0.1513,0.0735,0.0921,0.1538,0.1256,0.1515,0.1651,0.1801,0.168,0.1422,0.1428,0.2611,0.1267,0.1207,0.0226,0.1125,0.1227,0.1731,0.0277,0.277,0.1048,0.1124,0.0844,0.1022,0.2431,0.0629,0.18,0.1328,0.1257,0.1165,0.0324,0.0766,0.0116,0.0481,0.1515,0.1267,0.1563,0.1278,0.0833,0.1019,0.1121,0.125,0.0665,0.0526,0.0865,0.1444,0.0849,0.0385,0.0253,0.0817,0.0349,0.0744,0.0808,0.0887,0.1482,0.069,0.0998,0.126,0.0443,0.0629,0.1416,0.1827,0.0973,0.1039,0.0932,0.2103,0.1027,0.1579,0.0679,0.0845,0.1425,0.0779,0.1057,0.1146,0.0874,0.0491,0.0787,0.083,0.0252,0.0766,0.0545,0.1341,0.1091,0.1103,0.163,0.0958,0.1171,0.1354,0.0338],\"xaxis\":\"x6\",\"yaxis\":\"y6\"},{\"histfunc\":\"count\",\"histnorm\":\"\",\"marker\":{\"color\":\"rgba(255, 255, 51, 1.0)\",\"line\":{\"color\":\"#4D5663\",\"width\":1.3}},\"name\":\"V8\",\"nbinsx\":50,\"opacity\":0.8,\"orientation\":\"v\",\"type\":\"histogram\",\"x\":[0.1601,0.3481,0.3771,0.1276,0.2467,0.1833,0.1401,0.0613,0.0098,0.0697,0.0272,0.0579,0.0958,0.0987,0.0343,0.2033,0.1541,0.0219,0.1138,0.411,0.2362,0.113,0.2385,0.044,0.0315,0.021,0.1119,0.0633,0.0651,0.1451,0.0713,0.0259,0.0668,0.149,0.1016,0.2041,0.0893,0.1172,0.0398,0.0872,0.113,0.0057,0.139,0.0638,0.2145,0.1024,0.1353,0.1031,0.1454,0.1447,0.0687,0.064,0.0717,0.1107,0.0131,0.0836,0.0915,0.0877,0.0655,0.0616,0.0941,0.0883,0.0906,0.0951,0.0738,0.0535,0.078,0.0663,0.0973,0.0908,0.0575,0.1026,0.0506,0.0954,0.0664,0.0608,0.1099,0.1228,0.1351,0.0494,0.1188,0.2071,0.107,0.1009,0.0817,0.2268,0.1972,0.311,0.1745,0.2002,0.2067,0.3583,0.108,0.1741,0.1661,0.0674,0.0741,0.0768,0.0055,0.2707,0.0907,0.1607,0.0672,0.1388,0.0664,0.1092,0.0961,0.0391,0.0447,0.1176,0.0828,0.2287,0.0771,0.1098,0.0929,0.1516,0.1692,0.0997,0.1613,0.1654,0.1134,0.1078,0.1229,0.1584,0.2613,0.2116,0.1896,0.346,0.2734,0.2161,0.1668,0.2661,0.4223,0.2678,0.459,0.4566,0.4262,0.2057,0.1712,0.0644,0.2407,0.0947,0.0439,0.2018,0.0813,0.2794,0.1787,0.0989,0.1684,0.107,0.143,0.0805,0.0333,0.1513,0.1927,0.1206,0.1373,0.1298,0.2119,0.1717,0.1729,0.0972,0.0862,0.0999,0.1484,0.1833,0.1117,0.013,0.0124,0.0446,0.0456,0.3465,0.1071,0.1605,0.1103,0.1117,0.1918,0.0903,0.0578,0.0802,0.1702,0.1323,0.1394,0.214,0.2524,0.185,0.1402,0.1473,0.1224,0.1219,0.078,0.1209,0.0996,0.0852,0.169,0.1108,0.122,0.0991,0.1143,0.1069,0.1902,0.1684,0.2337,0.1694,0.1018,0.1178,0.1123,0.14],\"xaxis\":\"x7\",\"yaxis\":\"y7\"},{\"histfunc\":\"count\",\"histnorm\":\"\",\"marker\":{\"color\":\"rgba(128, 128, 0, 1.0)\",\"line\":{\"color\":\"#4D5663\",\"width\":1.3}},\"name\":\"V9\",\"nbinsx\":50,\"opacity\":0.8,\"orientation\":\"v\",\"type\":\"histogram\",\"x\":[0.3109,0.3337,0.5598,0.0598,0.3564,0.2105,0.2083,0.1465,0.0684,0.0962,0.0323,0.1122,0.1009,0.0955,0.1052,0.1459,0.1466,0.1037,0.0794,0.4983,0.383,0.2353,0.0075,0.0931,0.0736,0.0505,0.0889,0.0624,0.1896,0.1789,0.0569,0.0692,0.0691,0.0974,0.2025,0.1571,0.0381,0.0759,0.0791,0.0743,0.1911,0.0425,0.0695,0.074,0.0847,0.0583,0.1593,0.0993,0.074,0.0487,0.0298,0.0726,0.0576,0.0973,0.0899,0.1335,0.0949,0.116,0.1624,0.1252,0.1711,0.1596,0.1229,0.0836,0.0117,0.0258,0.0844,0.0155,0.084,0.1151,0.1054,0.1239,0.0989,0.0786,0.0941,0.1317,0.1384,0.1235,0.1063,0.0472,0.075,0.2696,0.2302,0.1147,0.1779,0.2992,0.1873,0.2837,0.144,0.2876,0.3416,0.3429,0.1523,0.1598,0.1368,0.1294,0.1398,0.1246,0.1929,0.1206,0.2107,0.3036,0.1372,0.0598,0.146,0.0757,0.0548,0.061,0.1094,0.0453,0.0494,0.095,0.1171,0.137,0.135,0.0818,0.187,0.1428,0.1703,0.1864,0.1228,0.1552,0.2119,0.2017,0.2832,0.3295,0.296,0.3314,0.307,0.163,0.1801,0.4346,0.5744,0.5664,0.5526,0.6587,0.6828,0.3887,0.0466,0.1522,0.2682,0.1583,0.2291,0.2611,0.1761,0.1408,0.1199,0.246,0.183,0.1553,0.1894,0.2365,0.1369,0.1723,0.2361,0.1666,0.2922,0.2085,0.3061,0.3074,0.2794,0.2535,0.1451,0.1976,0.2442,0.2228,0.1237,0.0489,0.1168,0.1318,0.0368,0.5276,0.3175,0.2532,0.2423,0.2984,0.3362,0.1739,0.1357,0.1618,0.2804,0.2462,0.2592,0.2546,0.3595,0.2647,0.3048,0.2164,0.1569,0.1697,0.1038,0.1241,0.1673,0.1136,0.2105,0.1777,0.1977,0.1419,0.1594,0.1708,0.261,0.1865,0.3113,0.2328,0.103,0.1258,0.1945,0.1843],\"xaxis\":\"x8\",\"yaxis\":\"y8\"},{\"histfunc\":\"count\",\"histnorm\":\"\",\"marker\":{\"color\":\"rgba(251, 128, 114, 1.0)\",\"line\":{\"color\":\"#4D5663\",\"width\":1.3}},\"name\":\"V10\",\"nbinsx\":50,\"opacity\":0.8,\"orientation\":\"v\",\"type\":\"histogram\",\"x\":[0.2111,0.2872,0.6194,0.1264,0.4459,0.3039,0.3513,0.2838,0.1487,0.0251,0.0452,0.0835,0.124,0.1895,0.212,0.0852,0.2912,0.1186,0.152,0.592,0.3759,0.1838,0.1882,0.0734,0.086,0.1097,0.1205,0.0613,0.2668,0.2522,0.0389,0.1753,0.0242,0.1268,0.0767,0.1573,0.1328,0.092,0.0475,0.0837,0.2475,0.064,0.0568,0.136,0.0561,0.2176,0.2795,0.0802,0.0349,0.0864,0.088,0.0901,0.0818,0.0751,0.0922,0.1199,0.1504,0.0866,0.1452,0.1302,0.1483,0.1908,0.1185,0.118,0.0898,0.0474,0.0779,0.0506,0.1191,0.0973,0.1109,0.0888,0.1093,0.1015,0.1036,0.137,0.1376,0.0842,0.0347,0.0393,0.1631,0.299,0.2259,0.1777,0.2053,0.3735,0.1806,0.2751,0.1808,0.3674,0.4284,0.2197,0.163,0.1408,0.143,0.1146,0.1045,0.2028,0.2231,0.0279,0.3597,0.4372,0.2352,0.1334,0.2792,0.1006,0.0193,0.0113,0.0351,0.0945,0.0686,0.074,0.1675,0.1767,0.1799,0.1975,0.1725,0.2227,0.1444,0.2013,0.1508,0.1779,0.2531,0.2122,0.2718,0.3517,0.4186,0.4125,0.2597,0.2067,0.3083,0.5378,0.5025,0.6609,0.5966,0.5079,0.5761,0.7106,0.1114,0.078,0.2058,0.1247,0.1632,0.1294,0.0998,0.0795,0.1369,0.3422,0.2127,0.1234,0.1853,0.2461,0.2079,0.2078,0.2169,0.1345,0.3469,0.272,0.2936,0.3199,0.2954,0.3127,0.211,0.2318,0.2822,0.181,0.23,0.0874,0.1476,0.1375,0.125,0.5965,0.2918,0.2672,0.3134,0.3473,0.39,0.2571,0.1695,0.2558,0.4432,0.2696,0.3745,0.2952,0.5915,0.4117,0.3914,0.2544,0.2119,0.1923,0.1567,0.1533,0.1859,0.1747,0.2471,0.2245,0.2282,0.1847,0.2048,0.2271,0.3193,0.266,0.3997,0.2684,0.2154,0.2529,0.2354,0.2354],\"xaxis\":\"x9\",\"yaxis\":\"y9\"},{\"histfunc\":\"count\",\"histnorm\":\"\",\"marker\":{\"color\":\"rgba(128, 177, 211, 1.0)\",\"line\":{\"color\":\"#4D5663\",\"width\":1.3}},\"name\":\"V14\",\"nbinsx\":50,\"opacity\":0.8,\"orientation\":\"v\",\"type\":\"histogram\",\"x\":[0.0645,0.7797,0.532,0.2261,0.4135,0.8198,0.3752,0.3801,0.3598,0.089,0.1194,0.2557,0.3383,0.2988,0.2019,0.2826,0.156,0.4479,0.1345,0.5314,0.1411,0.1984,0.134,0.1183,0.0938,0.042,0.2793,0.5188,0.1268,0.2672,0.2606,0.0814,0.3854,0.214,0.2722,0.1916,0.0712,0.097,0.1943,0.1856,0.322,0.2768,0.1871,0.2673,0.1524,0.2613,0.3335,0.1179,0.2823,0.2113,0.2819,0.1619,0.2579,0.2039,0.2558,0.258,0.2573,0.0915,0.1641,0.1274,0.1236,0.1174,0.0853,0.0593,0.1035,0.0948,0.1065,0.1272,0.1244,0.1762,0.0911,0.1542,0.1591,0.0848,0.3404,0.3046,0.2851,0.3257,0.4038,0.2976,0.44,0.5201,0.484,0.5078,0.3885,0.5397,0.4844,0.4519,0.4012,0.504,0.5707,0.6916,0.263,0.5785,0.3239,0.1191,0.1056,0.3195,0.3302,0.3709,0.5395,0.7067,0.4914,0.569,0.4972,0.4753,0.2803,0.3747,0.2829,0.1968,0.3087,0.3365,0.4296,0.3769,0.4394,0.505,0.5157,0.3316,0.357,0.3495,0.2866,0.3829,0.4287,0.4061,0.4677,0.4731,0.6855,0.997,0.595,0.7003,0.7842,0.1795,0.3087,0.4347,0.2689,0.3957,0.2904,0.1951,0.2164,0.1039,0.2904,0.3115,0.3361,0.3672,0.3099,0.161,0.2977,0.5684,0.5821,0.2577,0.1378,0.3099,0.1891,0.3115,0.3758,0.2614,0.1253,0.2059,0.1887,0.1806,0.2115,0.2179,0.1689,0.0708,0.3308,0.1893,0.1526,0.1023,0.1334,0.1444,0.1472,0.2864,0.2587,0.2067,0.344,0.4398,0.4343,0.3002,0.3297,0.3951,0.4048,0.394,0.4303,0.4127,0.3334,0.3915,0.3311,0.3187,0.2547,0.2986,0.2956,0.2803,0.2637,0.1727,0.2294,0.2917,0.2614,0.2291,0.1918,0.2307,0.1926,0.1965,0.176,0.0994,0.1402,0.0983,0.0273,0.0336],\"xaxis\":\"x10\",\"yaxis\":\"y10\"},{\"histfunc\":\"count\",\"histnorm\":\"\",\"marker\":{\"color\":\"rgba(128, 177, 211, 0.8999999999999999)\",\"line\":{\"color\":\"#4D5663\",\"width\":1.3}},\"name\":\"V38\",\"nbinsx\":50,\"opacity\":0.8,\"orientation\":\"v\",\"type\":\"histogram\",\"x\":[0.6097,0.1057,0.6756,0.8814,0.3217,0.4158,0.4283,0.393,0.2726,0.1371,0.4281,0.4576,0.1589,0.0667,0.4129,0.4401,0.4713,0.8409,0.5242,0.2446,0.7279,1.0,0.9252,0.3672,0.3037,0.1953,0.1497,0.0603,0.3352,0.2061,0.0979,0.1048,0.5031,0.3831,0.315,0.204,0.237,0.1358,0.0411,0.315,0.1587,0.3683,0.7388,0.8388,0.704,0.173,0.1421,0.4081,0.2436,0.2829,0.7866,0.4902,0.2776,0.3209,0.2673,0.3104,0.3101,0.5117,0.3965,0.3505,0.379,0.3742,0.4899,0.3466,0.7073,0.6313,0.5733,0.6772,0.1987,0.0383,0.0621,0.0748,0.1096,0.2871,0.1601,0.2255,0.1888,0.1154,0.1373,0.0461,0.2056,0.1339,0.1707,0.1866,0.0864,0.3597,0.3509,0.4424,0.2347,0.2166,0.5856,0.2299,0.1906,0.2161,0.2287,0.6474,0.5581,0.6176,0.3372,0.2108,0.2023,0.182,0.2633,0.4029,0.4374,0.4455,0.4664,0.4372,0.4419,0.2311,0.2302,0.4571,0.3379,0.3314,0.2142,0.3741,0.3242,0.3244,0.1498,0.248,0.339,0.2843,0.2054,0.2456,0.1438,0.2556,0.1436,0.1912,0.0946,0.3156,0.2624,0.9016,0.7792,0.8148,0.9303,0.948,0.9136,0.3641,0.2483,0.4237,0.355,0.3763,0.3749,0.1819,0.2408,0.487,0.3245,0.3941,0.1586,0.2168,0.3514,0.3626,0.4442,0.0844,0.0836,0.1386,0.4936,0.5932,0.5955,0.7426,0.4565,0.6281,0.1648,0.172,0.3629,0.1748,0.4799,0.7493,0.6207,0.6496,0.6411,0.3885,0.3813,0.3089,0.3367,0.317,0.3488,0.4516,0.1742,0.096,0.24,0.476,0.3881,0.4133,0.3391,0.3958,0.182,0.1736,0.1311,0.1275,0.1626,0.1743,0.1382,0.2243,0.203,0.0907,0.0941,0.17,0.1262,0.0701,0.0618,0.0936,0.1979,0.1411,0.1226,0.144,0.1823,0.1713],\"xaxis\":\"x11\",\"yaxis\":\"y11\"},{\"histfunc\":\"count\",\"histnorm\":\"\",\"marker\":{\"color\":\"rgba(255, 153, 51, 0.8999999999999999)\",\"line\":{\"color\":\"#4D5663\",\"width\":1.3}},\"name\":\"V44\",\"nbinsx\":50,\"opacity\":0.8,\"orientation\":\"v\",\"type\":\"histogram\",\"x\":[0.4256,0.1628,0.2222,0.3202,0.0841,0.1238,0.1749,0.1437,0.1099,0.1384,0.1269,0.0337,0.0819,0.3051,0.2298,0.1867,0.1803,0.1419,0.1778,0.1381,0.2527,0.3639,0.2838,0.2887,0.2228,0.2998,0.1559,0.1901,0.0908,0.1886,0.1078,0.0951,0.0845,0.2659,0.0713,0.0976,0.2205,0.1651,0.1955,0.246,0.1705,0.1211,0.2298,0.0701,0.7762,0.3877,0.2808,0.4087,0.2479,0.247,0.3363,0.0949,0.1424,0.1801,0.1696,0.1541,0.1624,0.1657,0.0486,0.0492,0.0375,0.0583,0.0845,0.1491,0.1705,0.1916,0.1997,0.2278,0.3846,0.0942,0.148,0.0948,0.0696,0.1789,0.0431,0.1262,0.1459,0.1268,0.1381,0.0778,0.1148,0.1129,0.0971,0.1606,0.0584,0.2059,0.2,0.2235,0.1761,0.1392,0.2812,0.1294,0.0815,0.1807,0.1524,0.0,0.0898,0.2804,0.1951,0.1927,0.1626,0.0812,0.0722,0.0377,0.142,0.1056,0.2802,0.2527,0.265,0.1963,0.2518,0.1387,0.2037,0.145,0.1925,0.2808,0.1512,0.1779,0.1692,0.137,0.2069,0.216,0.1464,0.1767,0.114,0.1238,0.2092,0.2587,0.2047,0.1753,0.0255,0.2694,0.2231,0.3722,0.2872,0.1449,0.4491,0.1824,0.0807,0.3202,0.4286,0.3063,0.5245,0.4403,0.4567,0.1359,0.5508,0.4164,0.1414,0.0925,0.0813,0.11,0.3072,0.1502,0.1721,0.1776,0.4921,0.5762,0.5379,0.495,0.4557,0.5772,0.3021,0.2323,0.1723,0.0816,0.3137,0.4016,0.3693,0.3659,0.4542,0.2267,0.2096,0.0953,0.3387,0.4646,0.4726,0.157,0.0255,0.0926,0.4494,0.5663,0.4831,0.4921,0.4777,0.4322,0.5027,0.203,0.1269,0.1335,0.1157,0.0675,0.0685,0.0991,0.1631,0.2788,0.2229,0.2468,0.2054,0.1742,0.1916,0.2256,0.1391,0.1339,0.1694,0.1309,0.1548,0.1862],\"xaxis\":\"x12\",\"yaxis\":\"y12\"},{\"histfunc\":\"count\",\"histnorm\":\"\",\"marker\":{\"color\":\"rgba(55, 128, 191, 0.8999999999999999)\",\"line\":{\"color\":\"#4D5663\",\"width\":1.3}},\"name\":\"V45\",\"nbinsx\":50,\"opacity\":0.8,\"orientation\":\"v\",\"type\":\"histogram\",\"x\":[0.2641,0.0621,0.2111,0.4295,0.0692,0.1192,0.1304,0.2146,0.0985,0.0372,0.1533,0.0894,0.0678,0.1937,0.1155,0.1553,0.2378,0.126,0.1353,0.1136,0.1903,0.1492,0.4407,0.2341,0.1582,0.2748,0.1556,0.1107,0.138,0.1008,0.1418,0.0986,0.1315,0.0944,0.0615,0.0787,0.1163,0.0575,0.0656,0.0758,0.0194,0.1144,0.2391,0.1578,0.6009,0.1651,0.1374,0.3212,0.1586,0.1708,0.3017,0.0095,0.0908,0.1473,0.1467,0.1464,0.112,0.1215,0.0353,0.0622,0.0533,0.0046,0.026,0.1326,0.1421,0.1134,0.1512,0.1522,0.3754,0.084,0.1102,0.0931,0.0758,0.185,0.0369,0.1153,0.1348,0.1125,0.0831,0.0653,0.1331,0.1946,0.2217,0.1669,0.123,0.2288,0.2307,0.2611,0.1683,0.1779,0.2078,0.0909,0.0335,0.0352,0.0746,0.0,0.0536,0.1982,0.2811,0.2062,0.0708,0.0784,0.0405,0.0636,0.0589,0.0573,0.1283,0.2137,0.1748,0.0864,0.2101,0.18,0.1155,0.1017,0.1256,0.2395,0.1427,0.1535,0.1881,0.1376,0.1625,0.1278,0.0673,0.1119,0.131,0.1854,0.1499,0.1393,0.1064,0.0679,0.1967,0.5214,0.4221,0.4693,0.4374,0.2662,0.5616,0.1487,0.1192,0.2265,0.4894,0.5835,0.6149,0.6448,0.576,0.4268,0.5858,0.5438,0.0629,0.2388,0.0492,0.0684,0.0945,0.1675,0.2017,0.2,0.471,0.5013,0.4485,0.4373,0.3955,0.5907,0.2069,0.1724,0.2814,0.0395,0.4282,0.4125,0.2986,0.2846,0.396,0.1577,0.1031,0.1201,0.413,0.4366,0.3263,0.066,0.0298,0.1173,0.4624,0.5749,0.5084,0.5294,0.3517,0.4892,0.7034,0.201,0.1459,0.1976,0.1449,0.1186,0.0664,0.0594,0.0769,0.2709,0.2203,0.196,0.1878,0.1555,0.2085,0.1814,0.0638,0.0902,0.0954,0.091,0.1319,0.1439],\"xaxis\":\"x13\",\"yaxis\":\"y13\"},{\"histfunc\":\"count\",\"histnorm\":\"\",\"marker\":{\"color\":\"rgba(50, 171, 96, 0.8999999999999999)\",\"line\":{\"color\":\"#4D5663\",\"width\":1.3}},\"name\":\"V46\",\"nbinsx\":50,\"opacity\":0.8,\"orientation\":\"v\",\"type\":\"histogram\",\"x\":[0.1386,0.0203,0.0176,0.3654,0.0528,0.1089,0.0597,0.236,0.1271,0.0688,0.069,0.0861,0.0663,0.157,0.0724,0.1633,0.3424,0.1288,0.1373,0.0516,0.1643,0.1216,0.5507,0.1668,0.1433,0.2024,0.0422,0.1917,0.1948,0.0663,0.1687,0.0956,0.159,0.137,0.0779,0.0522,0.0635,0.0695,0.058,0.0187,0.0213,0.0791,0.191,0.1938,0.4514,0.0442,0.1136,0.2518,0.1124,0.1343,0.2193,0.0527,0.0138,0.0681,0.1286,0.1044,0.0815,0.0978,0.0297,0.0505,0.0278,0.0473,0.0333,0.0687,0.0971,0.064,0.0508,0.0801,0.2414,0.067,0.1178,0.0965,0.091,0.1717,0.0025,0.057,0.0391,0.0505,0.0654,0.021,0.0276,0.2195,0.2732,0.17,0.22,0.1704,0.1886,0.2798,0.0729,0.1946,0.066,0.08,0.0933,0.0473,0.0606,0.0,0.0374,0.2438,0.2246,0.1751,0.0129,0.0487,0.0553,0.0443,0.0576,0.0307,0.1117,0.1789,0.0932,0.1688,0.1181,0.1299,0.0919,0.1111,0.1003,0.0369,0.1097,0.1199,0.1177,0.0307,0.1216,0.0768,0.0965,0.0779,0.1433,0.1753,0.0676,0.1083,0.1395,0.1062,0.1483,0.4232,0.3067,0.3839,0.3097,0.1806,0.4305,0.0138,0.2134,0.1146,0.5777,0.5692,0.5123,0.6214,0.5293,0.4442,0.7292,0.5649,0.0734,0.34,0.0417,0.0303,0.1545,0.1058,0.1787,0.0765,0.3196,0.4042,0.2674,0.2404,0.2966,0.4803,0.179,0.1457,0.2764,0.0785,0.4262,0.347,0.2226,0.1714,0.2525,0.1211,0.0798,0.0825,0.3639,0.2581,0.1423,0.1294,0.0691,0.0566,0.2001,0.3593,0.1952,0.2216,0.092,0.1901,0.5904,0.2187,0.1092,0.1234,0.1883,0.1833,0.1665,0.194,0.0723,0.2283,0.2265,0.1985,0.2047,0.1651,0.2335,0.2012,0.0581,0.1085,0.008,0.0757,0.0985,0.147],\"xaxis\":\"x14\",\"yaxis\":\"y14\"}],                        {\"barmode\":\"overlay\",\"legend\":{\"bgcolor\":\"#F5F6F9\",\"font\":{\"color\":\"#4D5663\"}},\"paper_bgcolor\":\"#F5F6F9\",\"plot_bgcolor\":\"#F5F6F9\",\"template\":{\"data\":{\"bar\":[{\"error_x\":{\"color\":\"#2a3f5f\"},\"error_y\":{\"color\":\"#2a3f5f\"},\"marker\":{\"line\":{\"color\":\"#E5ECF6\",\"width\":0.5},\"pattern\":{\"fillmode\":\"overlay\",\"size\":10,\"solidity\":0.2}},\"type\":\"bar\"}],\"barpolar\":[{\"marker\":{\"line\":{\"color\":\"#E5ECF6\",\"width\":0.5},\"pattern\":{\"fillmode\":\"overlay\",\"size\":10,\"solidity\":0.2}},\"type\":\"barpolar\"}],\"carpet\":[{\"aaxis\":{\"endlinecolor\":\"#2a3f5f\",\"gridcolor\":\"white\",\"linecolor\":\"white\",\"minorgridcolor\":\"white\",\"startlinecolor\":\"#2a3f5f\"},\"baxis\":{\"endlinecolor\":\"#2a3f5f\",\"gridcolor\":\"white\",\"linecolor\":\"white\",\"minorgridcolor\":\"white\",\"startlinecolor\":\"#2a3f5f\"},\"type\":\"carpet\"}],\"choropleth\":[{\"colorbar\":{\"outlinewidth\":0,\"ticks\":\"\"},\"type\":\"choropleth\"}],\"contour\":[{\"colorbar\":{\"outlinewidth\":0,\"ticks\":\"\"},\"colorscale\":[[0.0,\"#0d0887\"],[0.1111111111111111,\"#46039f\"],[0.2222222222222222,\"#7201a8\"],[0.3333333333333333,\"#9c179e\"],[0.4444444444444444,\"#bd3786\"],[0.5555555555555556,\"#d8576b\"],[0.6666666666666666,\"#ed7953\"],[0.7777777777777778,\"#fb9f3a\"],[0.8888888888888888,\"#fdca26\"],[1.0,\"#f0f921\"]],\"type\":\"contour\"}],\"contourcarpet\":[{\"colorbar\":{\"outlinewidth\":0,\"ticks\":\"\"},\"type\":\"contourcarpet\"}],\"heatmap\":[{\"colorbar\":{\"outlinewidth\":0,\"ticks\":\"\"},\"colorscale\":[[0.0,\"#0d0887\"],[0.1111111111111111,\"#46039f\"],[0.2222222222222222,\"#7201a8\"],[0.3333333333333333,\"#9c179e\"],[0.4444444444444444,\"#bd3786\"],[0.5555555555555556,\"#d8576b\"],[0.6666666666666666,\"#ed7953\"],[0.7777777777777778,\"#fb9f3a\"],[0.8888888888888888,\"#fdca26\"],[1.0,\"#f0f921\"]],\"type\":\"heatmap\"}],\"heatmapgl\":[{\"colorbar\":{\"outlinewidth\":0,\"ticks\":\"\"},\"colorscale\":[[0.0,\"#0d0887\"],[0.1111111111111111,\"#46039f\"],[0.2222222222222222,\"#7201a8\"],[0.3333333333333333,\"#9c179e\"],[0.4444444444444444,\"#bd3786\"],[0.5555555555555556,\"#d8576b\"],[0.6666666666666666,\"#ed7953\"],[0.7777777777777778,\"#fb9f3a\"],[0.8888888888888888,\"#fdca26\"],[1.0,\"#f0f921\"]],\"type\":\"heatmapgl\"}],\"histogram\":[{\"marker\":{\"pattern\":{\"fillmode\":\"overlay\",\"size\":10,\"solidity\":0.2}},\"type\":\"histogram\"}],\"histogram2d\":[{\"colorbar\":{\"outlinewidth\":0,\"ticks\":\"\"},\"colorscale\":[[0.0,\"#0d0887\"],[0.1111111111111111,\"#46039f\"],[0.2222222222222222,\"#7201a8\"],[0.3333333333333333,\"#9c179e\"],[0.4444444444444444,\"#bd3786\"],[0.5555555555555556,\"#d8576b\"],[0.6666666666666666,\"#ed7953\"],[0.7777777777777778,\"#fb9f3a\"],[0.8888888888888888,\"#fdca26\"],[1.0,\"#f0f921\"]],\"type\":\"histogram2d\"}],\"histogram2dcontour\":[{\"colorbar\":{\"outlinewidth\":0,\"ticks\":\"\"},\"colorscale\":[[0.0,\"#0d0887\"],[0.1111111111111111,\"#46039f\"],[0.2222222222222222,\"#7201a8\"],[0.3333333333333333,\"#9c179e\"],[0.4444444444444444,\"#bd3786\"],[0.5555555555555556,\"#d8576b\"],[0.6666666666666666,\"#ed7953\"],[0.7777777777777778,\"#fb9f3a\"],[0.8888888888888888,\"#fdca26\"],[1.0,\"#f0f921\"]],\"type\":\"histogram2dcontour\"}],\"mesh3d\":[{\"colorbar\":{\"outlinewidth\":0,\"ticks\":\"\"},\"type\":\"mesh3d\"}],\"parcoords\":[{\"line\":{\"colorbar\":{\"outlinewidth\":0,\"ticks\":\"\"}},\"type\":\"parcoords\"}],\"pie\":[{\"automargin\":true,\"type\":\"pie\"}],\"scatter\":[{\"marker\":{\"colorbar\":{\"outlinewidth\":0,\"ticks\":\"\"}},\"type\":\"scatter\"}],\"scatter3d\":[{\"line\":{\"colorbar\":{\"outlinewidth\":0,\"ticks\":\"\"}},\"marker\":{\"colorbar\":{\"outlinewidth\":0,\"ticks\":\"\"}},\"type\":\"scatter3d\"}],\"scattercarpet\":[{\"marker\":{\"colorbar\":{\"outlinewidth\":0,\"ticks\":\"\"}},\"type\":\"scattercarpet\"}],\"scattergeo\":[{\"marker\":{\"colorbar\":{\"outlinewidth\":0,\"ticks\":\"\"}},\"type\":\"scattergeo\"}],\"scattergl\":[{\"marker\":{\"colorbar\":{\"outlinewidth\":0,\"ticks\":\"\"}},\"type\":\"scattergl\"}],\"scattermapbox\":[{\"marker\":{\"colorbar\":{\"outlinewidth\":0,\"ticks\":\"\"}},\"type\":\"scattermapbox\"}],\"scatterpolar\":[{\"marker\":{\"colorbar\":{\"outlinewidth\":0,\"ticks\":\"\"}},\"type\":\"scatterpolar\"}],\"scatterpolargl\":[{\"marker\":{\"colorbar\":{\"outlinewidth\":0,\"ticks\":\"\"}},\"type\":\"scatterpolargl\"}],\"scatterternary\":[{\"marker\":{\"colorbar\":{\"outlinewidth\":0,\"ticks\":\"\"}},\"type\":\"scatterternary\"}],\"surface\":[{\"colorbar\":{\"outlinewidth\":0,\"ticks\":\"\"},\"colorscale\":[[0.0,\"#0d0887\"],[0.1111111111111111,\"#46039f\"],[0.2222222222222222,\"#7201a8\"],[0.3333333333333333,\"#9c179e\"],[0.4444444444444444,\"#bd3786\"],[0.5555555555555556,\"#d8576b\"],[0.6666666666666666,\"#ed7953\"],[0.7777777777777778,\"#fb9f3a\"],[0.8888888888888888,\"#fdca26\"],[1.0,\"#f0f921\"]],\"type\":\"surface\"}],\"table\":[{\"cells\":{\"fill\":{\"color\":\"#EBF0F8\"},\"line\":{\"color\":\"white\"}},\"header\":{\"fill\":{\"color\":\"#C8D4E3\"},\"line\":{\"color\":\"white\"}},\"type\":\"table\"}]},\"layout\":{\"annotationdefaults\":{\"arrowcolor\":\"#2a3f5f\",\"arrowhead\":0,\"arrowwidth\":1},\"autotypenumbers\":\"strict\",\"coloraxis\":{\"colorbar\":{\"outlinewidth\":0,\"ticks\":\"\"}},\"colorscale\":{\"diverging\":[[0,\"#8e0152\"],[0.1,\"#c51b7d\"],[0.2,\"#de77ae\"],[0.3,\"#f1b6da\"],[0.4,\"#fde0ef\"],[0.5,\"#f7f7f7\"],[0.6,\"#e6f5d0\"],[0.7,\"#b8e186\"],[0.8,\"#7fbc41\"],[0.9,\"#4d9221\"],[1,\"#276419\"]],\"sequential\":[[0.0,\"#0d0887\"],[0.1111111111111111,\"#46039f\"],[0.2222222222222222,\"#7201a8\"],[0.3333333333333333,\"#9c179e\"],[0.4444444444444444,\"#bd3786\"],[0.5555555555555556,\"#d8576b\"],[0.6666666666666666,\"#ed7953\"],[0.7777777777777778,\"#fb9f3a\"],[0.8888888888888888,\"#fdca26\"],[1.0,\"#f0f921\"]],\"sequentialminus\":[[0.0,\"#0d0887\"],[0.1111111111111111,\"#46039f\"],[0.2222222222222222,\"#7201a8\"],[0.3333333333333333,\"#9c179e\"],[0.4444444444444444,\"#bd3786\"],[0.5555555555555556,\"#d8576b\"],[0.6666666666666666,\"#ed7953\"],[0.7777777777777778,\"#fb9f3a\"],[0.8888888888888888,\"#fdca26\"],[1.0,\"#f0f921\"]]},\"colorway\":[\"#636efa\",\"#EF553B\",\"#00cc96\",\"#ab63fa\",\"#FFA15A\",\"#19d3f3\",\"#FF6692\",\"#B6E880\",\"#FF97FF\",\"#FECB52\"],\"font\":{\"color\":\"#2a3f5f\"},\"geo\":{\"bgcolor\":\"white\",\"lakecolor\":\"white\",\"landcolor\":\"#E5ECF6\",\"showlakes\":true,\"showland\":true,\"subunitcolor\":\"white\"},\"hoverlabel\":{\"align\":\"left\"},\"hovermode\":\"closest\",\"mapbox\":{\"style\":\"light\"},\"paper_bgcolor\":\"white\",\"plot_bgcolor\":\"#E5ECF6\",\"polar\":{\"angularaxis\":{\"gridcolor\":\"white\",\"linecolor\":\"white\",\"ticks\":\"\"},\"bgcolor\":\"#E5ECF6\",\"radialaxis\":{\"gridcolor\":\"white\",\"linecolor\":\"white\",\"ticks\":\"\"}},\"scene\":{\"xaxis\":{\"backgroundcolor\":\"#E5ECF6\",\"gridcolor\":\"white\",\"gridwidth\":2,\"linecolor\":\"white\",\"showbackground\":true,\"ticks\":\"\",\"zerolinecolor\":\"white\"},\"yaxis\":{\"backgroundcolor\":\"#E5ECF6\",\"gridcolor\":\"white\",\"gridwidth\":2,\"linecolor\":\"white\",\"showbackground\":true,\"ticks\":\"\",\"zerolinecolor\":\"white\"},\"zaxis\":{\"backgroundcolor\":\"#E5ECF6\",\"gridcolor\":\"white\",\"gridwidth\":2,\"linecolor\":\"white\",\"showbackground\":true,\"ticks\":\"\",\"zerolinecolor\":\"white\"}},\"shapedefaults\":{\"line\":{\"color\":\"#2a3f5f\"}},\"ternary\":{\"aaxis\":{\"gridcolor\":\"white\",\"linecolor\":\"white\",\"ticks\":\"\"},\"baxis\":{\"gridcolor\":\"white\",\"linecolor\":\"white\",\"ticks\":\"\"},\"bgcolor\":\"#E5ECF6\",\"caxis\":{\"gridcolor\":\"white\",\"linecolor\":\"white\",\"ticks\":\"\"}},\"title\":{\"x\":0.05},\"xaxis\":{\"automargin\":true,\"gridcolor\":\"white\",\"linecolor\":\"white\",\"ticks\":\"\",\"title\":{\"standoff\":15},\"zerolinecolor\":\"white\",\"zerolinewidth\":2},\"yaxis\":{\"automargin\":true,\"gridcolor\":\"white\",\"linecolor\":\"white\",\"ticks\":\"\",\"title\":{\"standoff\":15},\"zerolinecolor\":\"white\",\"zerolinewidth\":2}}},\"title\":{\"font\":{\"color\":\"#4D5663\"}},\"xaxis\":{\"anchor\":\"y\",\"domain\":[0.0,0.45],\"gridcolor\":\"#E1E5ED\",\"showgrid\":true,\"tickfont\":{\"color\":\"#4D5663\"},\"title\":{\"font\":{\"color\":\"#4D5663\"},\"text\":\"\"},\"zerolinecolor\":\"#E1E5ED\"},\"xaxis10\":{\"anchor\":\"y10\",\"domain\":[0.55,1.0],\"gridcolor\":\"#E1E5ED\",\"showgrid\":true,\"tickfont\":{\"color\":\"#4D5663\"},\"title\":{\"font\":{\"color\":\"#4D5663\"},\"text\":\"\"},\"zerolinecolor\":\"#E1E5ED\"},\"xaxis11\":{\"anchor\":\"y11\",\"domain\":[0.0,0.45],\"gridcolor\":\"#E1E5ED\",\"showgrid\":true,\"tickfont\":{\"color\":\"#4D5663\"},\"title\":{\"font\":{\"color\":\"#4D5663\"},\"text\":\"\"},\"zerolinecolor\":\"#E1E5ED\"},\"xaxis12\":{\"anchor\":\"y12\",\"domain\":[0.55,1.0],\"gridcolor\":\"#E1E5ED\",\"showgrid\":true,\"tickfont\":{\"color\":\"#4D5663\"},\"title\":{\"font\":{\"color\":\"#4D5663\"},\"text\":\"\"},\"zerolinecolor\":\"#E1E5ED\"},\"xaxis13\":{\"anchor\":\"y13\",\"domain\":[0.0,0.45],\"gridcolor\":\"#E1E5ED\",\"showgrid\":true,\"tickfont\":{\"color\":\"#4D5663\"},\"title\":{\"font\":{\"color\":\"#4D5663\"},\"text\":\"\"},\"zerolinecolor\":\"#E1E5ED\"},\"xaxis14\":{\"anchor\":\"y14\",\"domain\":[0.55,1.0],\"gridcolor\":\"#E1E5ED\",\"showgrid\":true,\"tickfont\":{\"color\":\"#4D5663\"},\"title\":{\"font\":{\"color\":\"#4D5663\"},\"text\":\"\"},\"zerolinecolor\":\"#E1E5ED\"},\"xaxis2\":{\"anchor\":\"y2\",\"domain\":[0.55,1.0],\"gridcolor\":\"#E1E5ED\",\"showgrid\":true,\"tickfont\":{\"color\":\"#4D5663\"},\"title\":{\"font\":{\"color\":\"#4D5663\"},\"text\":\"\"},\"zerolinecolor\":\"#E1E5ED\"},\"xaxis3\":{\"anchor\":\"y3\",\"domain\":[0.0,0.45],\"gridcolor\":\"#E1E5ED\",\"showgrid\":true,\"tickfont\":{\"color\":\"#4D5663\"},\"title\":{\"font\":{\"color\":\"#4D5663\"},\"text\":\"\"},\"zerolinecolor\":\"#E1E5ED\"},\"xaxis4\":{\"anchor\":\"y4\",\"domain\":[0.55,1.0],\"gridcolor\":\"#E1E5ED\",\"showgrid\":true,\"tickfont\":{\"color\":\"#4D5663\"},\"title\":{\"font\":{\"color\":\"#4D5663\"},\"text\":\"\"},\"zerolinecolor\":\"#E1E5ED\"},\"xaxis5\":{\"anchor\":\"y5\",\"domain\":[0.0,0.45],\"gridcolor\":\"#E1E5ED\",\"showgrid\":true,\"tickfont\":{\"color\":\"#4D5663\"},\"title\":{\"font\":{\"color\":\"#4D5663\"},\"text\":\"\"},\"zerolinecolor\":\"#E1E5ED\"},\"xaxis6\":{\"anchor\":\"y6\",\"domain\":[0.55,1.0],\"gridcolor\":\"#E1E5ED\",\"showgrid\":true,\"tickfont\":{\"color\":\"#4D5663\"},\"title\":{\"font\":{\"color\":\"#4D5663\"},\"text\":\"\"},\"zerolinecolor\":\"#E1E5ED\"},\"xaxis7\":{\"anchor\":\"y7\",\"domain\":[0.0,0.45],\"gridcolor\":\"#E1E5ED\",\"showgrid\":true,\"tickfont\":{\"color\":\"#4D5663\"},\"title\":{\"font\":{\"color\":\"#4D5663\"},\"text\":\"\"},\"zerolinecolor\":\"#E1E5ED\"},\"xaxis8\":{\"anchor\":\"y8\",\"domain\":[0.55,1.0],\"gridcolor\":\"#E1E5ED\",\"showgrid\":true,\"tickfont\":{\"color\":\"#4D5663\"},\"title\":{\"font\":{\"color\":\"#4D5663\"},\"text\":\"\"},\"zerolinecolor\":\"#E1E5ED\"},\"xaxis9\":{\"anchor\":\"y9\",\"domain\":[0.0,0.45],\"gridcolor\":\"#E1E5ED\",\"showgrid\":true,\"tickfont\":{\"color\":\"#4D5663\"},\"title\":{\"font\":{\"color\":\"#4D5663\"},\"text\":\"\"},\"zerolinecolor\":\"#E1E5ED\"},\"yaxis\":{\"anchor\":\"x\",\"domain\":[0.8938775510204082,1.0],\"gridcolor\":\"#E1E5ED\",\"showgrid\":true,\"tickfont\":{\"color\":\"#4D5663\"},\"title\":{\"font\":{\"color\":\"#4D5663\"},\"text\":\"\"},\"zerolinecolor\":\"#E1E5ED\"},\"yaxis10\":{\"anchor\":\"x10\",\"domain\":[0.2979591836734694,0.40408163265306124],\"gridcolor\":\"#E1E5ED\",\"showgrid\":true,\"tickfont\":{\"color\":\"#4D5663\"},\"title\":{\"font\":{\"color\":\"#4D5663\"},\"text\":\"\"},\"zerolinecolor\":\"#E1E5ED\"},\"yaxis11\":{\"anchor\":\"x11\",\"domain\":[0.1489795918367347,0.25510204081632654],\"gridcolor\":\"#E1E5ED\",\"showgrid\":true,\"tickfont\":{\"color\":\"#4D5663\"},\"title\":{\"font\":{\"color\":\"#4D5663\"},\"text\":\"\"},\"zerolinecolor\":\"#E1E5ED\"},\"yaxis12\":{\"anchor\":\"x12\",\"domain\":[0.1489795918367347,0.25510204081632654],\"gridcolor\":\"#E1E5ED\",\"showgrid\":true,\"tickfont\":{\"color\":\"#4D5663\"},\"title\":{\"font\":{\"color\":\"#4D5663\"},\"text\":\"\"},\"zerolinecolor\":\"#E1E5ED\"},\"yaxis13\":{\"anchor\":\"x13\",\"domain\":[0.0,0.10612244897959185],\"gridcolor\":\"#E1E5ED\",\"showgrid\":true,\"tickfont\":{\"color\":\"#4D5663\"},\"title\":{\"font\":{\"color\":\"#4D5663\"},\"text\":\"\"},\"zerolinecolor\":\"#E1E5ED\"},\"yaxis14\":{\"anchor\":\"x14\",\"domain\":[0.0,0.10612244897959185],\"gridcolor\":\"#E1E5ED\",\"showgrid\":true,\"tickfont\":{\"color\":\"#4D5663\"},\"title\":{\"font\":{\"color\":\"#4D5663\"},\"text\":\"\"},\"zerolinecolor\":\"#E1E5ED\"},\"yaxis2\":{\"anchor\":\"x2\",\"domain\":[0.8938775510204082,1.0],\"gridcolor\":\"#E1E5ED\",\"showgrid\":true,\"tickfont\":{\"color\":\"#4D5663\"},\"title\":{\"font\":{\"color\":\"#4D5663\"},\"text\":\"\"},\"zerolinecolor\":\"#E1E5ED\"},\"yaxis3\":{\"anchor\":\"x3\",\"domain\":[0.7448979591836735,0.8510204081632654],\"gridcolor\":\"#E1E5ED\",\"showgrid\":true,\"tickfont\":{\"color\":\"#4D5663\"},\"title\":{\"font\":{\"color\":\"#4D5663\"},\"text\":\"\"},\"zerolinecolor\":\"#E1E5ED\"},\"yaxis4\":{\"anchor\":\"x4\",\"domain\":[0.7448979591836735,0.8510204081632654],\"gridcolor\":\"#E1E5ED\",\"showgrid\":true,\"tickfont\":{\"color\":\"#4D5663\"},\"title\":{\"font\":{\"color\":\"#4D5663\"},\"text\":\"\"},\"zerolinecolor\":\"#E1E5ED\"},\"yaxis5\":{\"anchor\":\"x5\",\"domain\":[0.5959183673469388,0.7020408163265307],\"gridcolor\":\"#E1E5ED\",\"showgrid\":true,\"tickfont\":{\"color\":\"#4D5663\"},\"title\":{\"font\":{\"color\":\"#4D5663\"},\"text\":\"\"},\"zerolinecolor\":\"#E1E5ED\"},\"yaxis6\":{\"anchor\":\"x6\",\"domain\":[0.5959183673469388,0.7020408163265307],\"gridcolor\":\"#E1E5ED\",\"showgrid\":true,\"tickfont\":{\"color\":\"#4D5663\"},\"title\":{\"font\":{\"color\":\"#4D5663\"},\"text\":\"\"},\"zerolinecolor\":\"#E1E5ED\"},\"yaxis7\":{\"anchor\":\"x7\",\"domain\":[0.4469387755102041,0.553061224489796],\"gridcolor\":\"#E1E5ED\",\"showgrid\":true,\"tickfont\":{\"color\":\"#4D5663\"},\"title\":{\"font\":{\"color\":\"#4D5663\"},\"text\":\"\"},\"zerolinecolor\":\"#E1E5ED\"},\"yaxis8\":{\"anchor\":\"x8\",\"domain\":[0.4469387755102041,0.553061224489796],\"gridcolor\":\"#E1E5ED\",\"showgrid\":true,\"tickfont\":{\"color\":\"#4D5663\"},\"title\":{\"font\":{\"color\":\"#4D5663\"},\"text\":\"\"},\"zerolinecolor\":\"#E1E5ED\"},\"yaxis9\":{\"anchor\":\"x9\",\"domain\":[0.2979591836734694,0.40408163265306124],\"gridcolor\":\"#E1E5ED\",\"showgrid\":true,\"tickfont\":{\"color\":\"#4D5663\"},\"title\":{\"font\":{\"color\":\"#4D5663\"},\"text\":\"\"},\"zerolinecolor\":\"#E1E5ED\"}},                        {\"showLink\": true, \"linkText\": \"Export to plot.ly\", \"plotlyServerURL\": \"https://plot.ly\", \"responsive\": true}                    ).then(function(){\n",
       "                            \n",
       "var gd = document.getElementById('30af4e35-1ccf-47a0-9c90-71f6a9c02014');\n",
       "var x = new MutationObserver(function (mutations, observer) {{\n",
       "        var display = window.getComputedStyle(gd).display;\n",
       "        if (!display || display === 'none') {{\n",
       "            console.log([gd, 'removed!']);\n",
       "            Plotly.purge(gd);\n",
       "            observer.disconnect();\n",
       "        }}\n",
       "}});\n",
       "\n",
       "// Listen for the removal of the full notebook cells\n",
       "var notebookContainer = gd.closest('#notebook-container');\n",
       "if (notebookContainer) {{\n",
       "    x.observe(notebookContainer, {childList: true});\n",
       "}}\n",
       "\n",
       "// Listen for the clearing of the current output cell\n",
       "var outputEl = gd.closest('.output');\n",
       "if (outputEl) {{\n",
       "    x.observe(outputEl, {childList: true});\n",
       "}}\n",
       "\n",
       "                        })                };                });            </script>        </div>"
      ]
     },
     "metadata": {},
     "output_type": "display_data"
    }
   ],
   "source": [
    "X[skewedColsList[0:14]].iplot(kind='histogram',subplots=True,bins=50)"
   ]
  },
  {
   "cell_type": "code",
   "execution_count": 12,
   "metadata": {},
   "outputs": [
    {
     "data": {
      "application/vnd.plotly.v1+json": {
       "config": {
        "linkText": "Export to plot.ly",
        "plotlyServerURL": "https://plot.ly",
        "showLink": true
       },
       "data": [
        {
         "histfunc": "count",
         "histnorm": "",
         "marker": {
          "color": "rgba(255, 153, 51, 1.0)",
          "line": {
           "color": "#4D5663",
           "width": 1.3
          }
         },
         "name": "V47",
         "nbinsx": 50,
         "opacity": 0.8,
         "orientation": "v",
         "type": "histogram",
         "x": [
          0.1051,
          0.053,
          0.1348,
          0.2655,
          0.0357,
          0.0623,
          0.1124,
          0.1125,
          0.1459,
          0.0867,
          0.0402,
          0.0872,
          0.1202,
          0.0479,
          0.0621,
          0.1252,
          0.2303,
          0.079,
          0.0749,
          0.0073,
          0.0604,
          0.1306,
          0.4331,
          0.1015,
          0.1634,
          0.1043,
          0.0493,
          0.1467,
          0.1211,
          0.0183,
          0.0738,
          0.0426,
          0.0562,
          0.1344,
          0.0761,
          0.05,
          0.0465,
          0.0598,
          0.0319,
          0.0797,
          0.0354,
          0.0365,
          0.1096,
          0.1106,
          0.3096,
          0.0663,
          0.1034,
          0.1482,
          0.0651,
          0.0838,
          0.1316,
          0.0383,
          0.0469,
          0.1091,
          0.0926,
          0.1225,
          0.1117,
          0.0452,
          0.0241,
          0.0247,
          0.0179,
          0.0408,
          0.0205,
          0.0602,
          0.0879,
          0.0911,
          0.0931,
          0.0804,
          0.1077,
          0.0342,
          0.0608,
          0.0381,
          0.0441,
          0.0898,
          0.0327,
          0.0426,
          0.0546,
          0.0949,
          0.0844,
          0.0509,
          0.0763,
          0.193,
          0.1874,
          0.1829,
          0.2198,
          0.1587,
          0.196,
          0.2392,
          0.119,
          0.1723,
          0.0491,
          0.0567,
          0.1018,
          0.0322,
          0.0692,
          0,
          0.099,
          0.1789,
          0.1921,
          0.0841,
          0.0795,
          0.0439,
          0.1081,
          0.0264,
          0.0672,
          0.0237,
          0.1303,
          0.101,
          0.053,
          0.1991,
          0.115,
          0.0523,
          0.0882,
          0.0655,
          0.0951,
          0.0805,
          0.1173,
          0.0959,
          0.0779,
          0.0373,
          0.1013,
          0.107,
          0.1492,
          0.1344,
          0.0624,
          0.1079,
          0.0899,
          0.1383,
          0.1065,
          0.0643,
          0.0434,
          0.234,
          0.1329,
          0.0768,
          0.1578,
          0.1699,
          0.0945,
          0.1164,
          0.3241,
          0.0476,
          0.4315,
          0.263,
          0.3385,
          0.3016,
          0.3287,
          0.2193,
          0.5522,
          0.3195,
          0.0805,
          0.2594,
          0.0495,
          0.0674,
          0.1394,
          0.1111,
          0.1112,
          0.0727,
          0.2241,
          0.3123,
          0.1541,
          0.1128,
          0.2095,
          0.3877,
          0.1689,
          0.1175,
          0.1985,
          0.1052,
          0.3511,
          0.2739,
          0.0849,
          0.0694,
          0.1084,
          0.0883,
          0.0701,
          0.0618,
          0.2069,
          0.1319,
          0.039,
          0.0797,
          0.0781,
          0.0766,
          0.0775,
          0.2526,
          0.1539,
          0.1401,
          0.1227,
          0.094,
          0.4069,
          0.184,
          0.1485,
          0.1554,
          0.1954,
          0.1878,
          0.1807,
          0.1937,
          0.0912,
          0.1818,
          0.1766,
          0.157,
          0.1716,
          0.1181,
          0.1964,
          0.1688,
          0.0641,
          0.1521,
          0.079,
          0.1059,
          0.1258,
          0.0991
         ],
         "xaxis": "x",
         "yaxis": "y"
        },
        {
         "histfunc": "count",
         "histnorm": "",
         "marker": {
          "color": "rgba(55, 128, 191, 1.0)",
          "line": {
           "color": "#4D5663",
           "width": 1.3
          }
         },
         "name": "V48",
         "nbinsx": 50,
         "opacity": 0.8,
         "orientation": "v",
         "type": "histogram",
         "x": [
          0.1343,
          0.0742,
          0.0744,
          0.1576,
          0.0085,
          0.0494,
          0.1047,
          0.0254,
          0.1164,
          0.0513,
          0.0534,
          0.0445,
          0.0692,
          0.0538,
          0.0318,
          0.0748,
          0.0689,
          0.0829,
          0.0472,
          0.0278,
          0.0209,
          0.1198,
          0.2905,
          0.1195,
          0.1133,
          0.0453,
          0.0476,
          0.0392,
          0.0843,
          0.0404,
          0.0634,
          0.0407,
          0.0617,
          0.0416,
          0.0845,
          0.0231,
          0.0422,
          0.0456,
          0.0301,
          0.0748,
          0.042,
          0.0152,
          0.03,
          0.0693,
          0.1859,
          0.0418,
          0.0688,
          0.0988,
          0.0789,
          0.0755,
          0.1078,
          0.0107,
          0.048,
          0.0919,
          0.0716,
          0.0745,
          0.095,
          0.0273,
          0.0379,
          0.0219,
          0.0114,
          0.029,
          0.0309,
          0.0561,
          0.0863,
          0.098,
          0.0982,
          0.0752,
          0.0224,
          0.0469,
          0.0333,
          0.0435,
          0.0244,
          0.0656,
          0.0257,
          0.0425,
          0.0469,
          0.0677,
          0.0595,
          0.0387,
          0.0631,
          0.1498,
          0.1062,
          0.1403,
          0.1074,
          0.1792,
          0.1701,
          0.2021,
          0.1297,
          0.1522,
          0.0345,
          0.0198,
          0.0309,
          0.0408,
          0.0446,
          0,
          0.0956,
          0.1706,
          0.15,
          0.1035,
          0.0762,
          0.0586,
          0.1139,
          0.0223,
          0.0269,
          0.047,
          0.0787,
          0.0528,
          0.0081,
          0.1217,
          0.055,
          0.0817,
          0.0228,
          0.0271,
          0.121,
          0.0541,
          0.0972,
          0.0765,
          0.0495,
          0.0606,
          0.0744,
          0.0946,
          0.1128,
          0.096,
          0.01,
          0.0728,
          0.0927,
          0.1321,
          0.0527,
          0.0532,
          0.0627,
          0.1928,
          0.1349,
          0.1467,
          0.0553,
          0.2559,
          0.0794,
          0.2052,
          0.2945,
          0.0943,
          0.264,
          0.1196,
          0.1499,
          0.1379,
          0.1283,
          0.09,
          0.3339,
          0.2484,
          0.0608,
          0.1102,
          0.0367,
          0.0785,
          0.0772,
          0.0849,
          0.0398,
          0.0749,
          0.1806,
          0.2232,
          0.1359,
          0.1654,
          0.1558,
          0.2779,
          0.1341,
          0.0868,
          0.1502,
          0.1034,
          0.2458,
          0.179,
          0.0359,
          0.0303,
          0.0372,
          0.085,
          0.0526,
          0.0141,
          0.0859,
          0.0505,
          0.0406,
          0.0052,
          0.0777,
          0.0969,
          0.1232,
          0.2299,
          0.2037,
          0.1888,
          0.1785,
          0.1364,
          0.2761,
          0.1477,
          0.1385,
          0.1057,
          0.1492,
          0.1114,
          0.1245,
          0.1082,
          0.0812,
          0.1185,
          0.1097,
          0.0921,
          0.1069,
          0.072,
          0.13,
          0.1037,
          0.1044,
          0.1363,
          0.1255,
          0.1005,
          0.0954,
          0.0041
         ],
         "xaxis": "x2",
         "yaxis": "y2"
        },
        {
         "histfunc": "count",
         "histnorm": "",
         "marker": {
          "color": "rgba(50, 171, 96, 1.0)",
          "line": {
           "color": "#4D5663",
           "width": 1.3
          }
         },
         "name": "V49",
         "nbinsx": 50,
         "opacity": 0.8,
         "orientation": "v",
         "type": "histogram",
         "x": [
          0.0383,
          0.0409,
          0.013,
          0.0681,
          0.023,
          0.0264,
          0.0507,
          0.0285,
          0.0777,
          0.0092,
          0.0228,
          0.0134,
          0.0152,
          0.0146,
          0.045,
          0.0452,
          0.0216,
          0.052,
          0.0325,
          0.0372,
          0.0436,
          0.0578,
          0.1981,
          0.0704,
          0.0567,
          0.0337,
          0.0219,
          0.0356,
          0.0589,
          0.0108,
          0.0144,
          0.0106,
          0.0343,
          0.0719,
          0.0592,
          0.0221,
          0.0174,
          0.0021,
          0.0272,
          0.0367,
          0.0093,
          0.0085,
          0.0171,
          0.0176,
          0.0956,
          0.0475,
          0.0422,
          0.0317,
          0.0325,
          0.0304,
          0.0559,
          0.0108,
          0.0159,
          0.0397,
          0.0325,
          0.049,
          0.0412,
          0.0179,
          0.0119,
          0.0102,
          0.0073,
          0.0192,
          0.0101,
          0.0306,
          0.0355,
          0.0563,
          0.0524,
          0.0566,
          0.0155,
          0.0357,
          0.0276,
          0.0336,
          0.0265,
          0.0445,
          0.0182,
          0.0235,
          0.0201,
          0.0259,
          0.0497,
          0.0262,
          0.0309,
          0.0773,
          0.0665,
          0.0506,
          0.0423,
          0.1022,
          0.1366,
          0.1326,
          0.0748,
          0.0929,
          0.0172,
          0.0114,
          0.0208,
          0.0163,
          0.0344,
          0,
          0.0317,
          0.0762,
          0.0665,
          0.0641,
          0.0117,
          0.037,
          0.0767,
          0.0187,
          0.0245,
          0.0102,
          0.0436,
          0.0453,
          0.0342,
          0.0628,
          0.0293,
          0.0469,
          0.038,
          0.0244,
          0.0728,
          0.0177,
          0.0703,
          0.0649,
          0.0492,
          0.0399,
          0.0386,
          0.0636,
          0.0463,
          0.0598,
          0.0098,
          0.0242,
          0.0658,
          0.1069,
          0.0395,
          0.0531,
          0.0513,
          0.1092,
          0.1057,
          0.0777,
          0.0334,
          0.1129,
          0.0274,
          0.1069,
          0.1474,
          0.0824,
          0.1794,
          0.0983,
          0.0546,
          0.0364,
          0.0698,
          0.12,
          0.1608,
          0.1299,
          0.0565,
          0.0911,
          0.0115,
          0.0455,
          0.0615,
          0.0596,
          0.0305,
          0.0449,
          0.099,
          0.1085,
          0.0941,
          0.0933,
          0.0884,
          0.1427,
          0.0769,
          0.0392,
          0.1219,
          0.0764,
          0.1259,
          0.0922,
          0.0289,
          0.0292,
          0.0286,
          0.0355,
          0.0241,
          0.0108,
          0.06,
          0.0112,
          0.0311,
          0.0233,
          0.0369,
          0.0588,
          0.0783,
          0.1271,
          0.1054,
          0.0947,
          0.1085,
          0.0906,
          0.1584,
          0.0971,
          0.0716,
          0.049,
          0.0511,
          0.031,
          0.0516,
          0.0336,
          0.0496,
          0.0546,
          0.0558,
          0.0549,
          0.0477,
          0.0321,
          0.0633,
          0.0501,
          0.0732,
          0.0858,
          0.0647,
          0.0535,
          0.0489,
          0.0154
         ],
         "xaxis": "x3",
         "yaxis": "y3"
        },
        {
         "histfunc": "count",
         "histnorm": "",
         "marker": {
          "color": "rgba(128, 0, 128, 1.0)",
          "line": {
           "color": "#4D5663",
           "width": 1.3
          }
         },
         "name": "V50",
         "nbinsx": 50,
         "opacity": 0.8,
         "orientation": "v",
         "type": "histogram",
         "x": [
          0.0324,
          0.0061,
          0.0106,
          0.0294,
          0.0046,
          0.0081,
          0.0159,
          0.0178,
          0.0439,
          0.0198,
          0.0073,
          0.0217,
          0.0266,
          0.0068,
          0.0167,
          0.0064,
          0.0469,
          0.0216,
          0.0179,
          0.0121,
          0.0175,
          0.0235,
          0.0779,
          0.0167,
          0.0133,
          0.0122,
          0.0059,
          0.027,
          0.0247,
          0.0143,
          0.0226,
          0.0179,
          0.037,
          0.0637,
          0.0068,
          0.0144,
          0.0172,
          0.0068,
          0.0074,
          0.0155,
          0.0204,
          0.012,
          0.0383,
          0.0205,
          0.0206,
          0.0235,
          0.0117,
          0.0269,
          0.007,
          0.0074,
          0.0035,
          0.0077,
          0.0045,
          0.0093,
          0.0258,
          0.0224,
          0.012,
          0.0092,
          0.0073,
          0.0047,
          0.0116,
          0.0094,
          0.0095,
          0.0154,
          0.0233,
          0.0187,
          0.0188,
          0.0175,
          0.0187,
          0.0136,
          0.01,
          0.0055,
          0.0095,
          0.011,
          0.0108,
          0.0006,
          0.0095,
          0.017,
          0.0313,
          0.0101,
          0.024,
          0.0196,
          0.0405,
          0.0224,
          0.0162,
          0.0151,
          0.0398,
          0.0358,
          0.0067,
          0.0179,
          0.0287,
          0.0151,
          0.0318,
          0.0088,
          0.0082,
          0,
          0.0142,
          0.0238,
          0.0193,
          0.0153,
          0.0061,
          0.0185,
          0.0265,
          0.0077,
          0.019,
          0.0057,
          0.0224,
          0.0118,
          0.0137,
          0.0323,
          0.0183,
          0.0114,
          0.0142,
          0.0179,
          0.0174,
          0.0065,
          0.0281,
          0.0313,
          0.0194,
          0.0169,
          0.005,
          0.0227,
          0.0193,
          0.033,
          0.0131,
          0.0191,
          0.0086,
          0.0325,
          0.0183,
          0.0272,
          0.0473,
          0.0507,
          0.0499,
          0.0469,
          0.0209,
          0.0201,
          0.0154,
          0.0199,
          0.0211,
          0.0171,
          0.0772,
          0.0374,
          0.027,
          0.0355,
          0.0334,
          0.0628,
          0.0475,
          0.0825,
          0.0286,
          0.0462,
          0.0118,
          0.0246,
          0.023,
          0.0201,
          0.0084,
          0.0134,
          0.0251,
          0.0414,
          0.0261,
          0.0225,
          0.0265,
          0.0424,
          0.0222,
          0.0131,
          0.0493,
          0.0216,
          0.0327,
          0.0276,
          0.0122,
          0.0116,
          0.0099,
          0.0219,
          0.0117,
          0.0124,
          0.0267,
          0.0059,
          0.0086,
          0.0152,
          0.0057,
          0.005,
          0.0089,
          0.0356,
          0.0251,
          0.0134,
          0.03,
          0.0144,
          0.051,
          0.0224,
          0.0176,
          0.0097,
          0.0155,
          0.0143,
          0.0044,
          0.0177,
          0.0101,
          0.0219,
          0.0142,
          0.0194,
          0.017,
          0.0056,
          0.0183,
          0.0136,
          0.0275,
          0.029,
          0.0179,
          0.0235,
          0.0241,
          0.0116
         ],
         "xaxis": "x4",
         "yaxis": "y4"
        },
        {
         "histfunc": "count",
         "histnorm": "",
         "marker": {
          "color": "rgba(219, 64, 82, 1.0)",
          "line": {
           "color": "#4D5663",
           "width": 1.3
          }
         },
         "name": "V51",
         "nbinsx": 50,
         "opacity": 0.8,
         "orientation": "v",
         "type": "histogram",
         "x": [
          0.0232,
          0.0125,
          0.0033,
          0.0241,
          0.0156,
          0.0104,
          0.0195,
          0.0052,
          0.0061,
          0.0118,
          0.0062,
          0.0188,
          0.0174,
          0.0187,
          0.0078,
          0.0154,
          0.0426,
          0.036,
          0.0045,
          0.0153,
          0.0107,
          0.0135,
          0.0396,
          0.0107,
          0.017,
          0.0072,
          0.0086,
          0.0168,
          0.0118,
          0.0091,
          0.0061,
          0.0056,
          0.0261,
          0.021,
          0.0089,
          0.0307,
          0.0134,
          0.0036,
          0.0149,
          0.03,
          0.0199,
          0.0022,
          0.0053,
          0.0309,
          0.0206,
          0.0066,
          0.007,
          0.0066,
          0.0026,
          0.0069,
          0.0098,
          0.0109,
          0.0015,
          0.0076,
          0.0136,
          0.0032,
          0.0048,
          0.0018,
          0.0051,
          0.0019,
          0.0092,
          0.0025,
          0.0047,
          0.0029,
          0.0252,
          0.0088,
          0.01,
          0.0058,
          0.0125,
          0.0082,
          0.0023,
          0.0079,
          0.014,
          0.0024,
          0.0124,
          0.0188,
          0.0155,
          0.0033,
          0.0154,
          0.0161,
          0.0115,
          0.0122,
          0.0113,
          0.0095,
          0.0093,
          0.0223,
          0.0143,
          0.0128,
          0.0255,
          0.0242,
          0.0027,
          0.0085,
          0.0132,
          0.0121,
          0.0108,
          0,
          0.0076,
          0.0268,
          0.0156,
          0.0081,
          0.0257,
          0.0302,
          0.0215,
          0.0137,
          0.0063,
          0.0031,
          0.0133,
          0.0009,
          0.0028,
          0.0253,
          0.0104,
          0.0299,
          0.0137,
          0.0109,
          0.0213,
          0.0222,
          0.0216,
          0.0185,
          0.025,
          0.0135,
          0.0146,
          0.0128,
          0.014,
          0.0197,
          0.0152,
          0.0159,
          0.0216,
          0.0316,
          0.0353,
          0.0171,
          0.0248,
          0.0228,
          0.0206,
          0.0193,
          0.0172,
          0.048,
          0.014,
          0.0208,
          0.0361,
          0.0244,
          0.0798,
          0.0291,
          0.038,
          0.0456,
          0.0342,
          0.0234,
          0.1004,
          0.0243,
          0.0154,
          0.0171,
          0.0133,
          0.0151,
          0.0111,
          0.0071,
          0.0039,
          0.0174,
          0.0129,
          0.0253,
          0.0079,
          0.0214,
          0.0121,
          0.0271,
          0.0205,
          0.0092,
          0.0027,
          0.0167,
          0.0181,
          0.0169,
          0.0045,
          0.0024,
          0.0046,
          0.0086,
          0.0122,
          0.0104,
          0.0125,
          0.0041,
          0.0154,
          0.0125,
          0.0091,
          0.0118,
          0.0249,
          0.0367,
          0.0357,
          0.031,
          0.0346,
          0.0329,
          0.0054,
          0.0151,
          0.0199,
          0.0223,
          0.0189,
          0.0138,
          0.0185,
          0.0209,
          0.0089,
          0.0204,
          0.0281,
          0.0166,
          0.0186,
          0.0202,
          0.0137,
          0.013,
          0.0146,
          0.0203,
          0.0051,
          0.0155,
          0.0042,
          0.0181
         ],
         "xaxis": "x5",
         "yaxis": "y5"
        },
        {
         "histfunc": "count",
         "histnorm": "",
         "marker": {
          "color": "rgba(0, 128, 128, 1.0)",
          "line": {
           "color": "#4D5663",
           "width": 1.3
          }
         },
         "name": "V52",
         "nbinsx": 50,
         "opacity": 0.8,
         "orientation": "v",
         "type": "histogram",
         "x": [
          0.0027,
          0.0084,
          0.0232,
          0.0121,
          0.0031,
          0.0045,
          0.0201,
          0.0081,
          0.0145,
          0.009,
          0.0062,
          0.0133,
          0.0176,
          0.0059,
          0.0083,
          0.0031,
          0.0346,
          0.0331,
          0.0084,
          0.0092,
          0.0193,
          0.0141,
          0.0173,
          0.0091,
          0.0035,
          0.0108,
          0.0061,
          0.0102,
          0.0088,
          0.0038,
          0.0162,
          0.0236,
          0.0157,
          0.0204,
          0.0087,
          0.0386,
          0.0141,
          0.0022,
          0.0125,
          0.0112,
          0.0173,
          0.0069,
          0.009,
          0.0212,
          0.0096,
          0.0062,
          0.0167,
          0.0008,
          0.0093,
          0.0025,
          0.0163,
          0.0062,
          0.0052,
          0.0065,
          0.0044,
          0.0076,
          0.0049,
          0.0052,
          0.0034,
          0.0041,
          0.0078,
          0.0037,
          0.0072,
          0.0048,
          0.0043,
          0.0042,
          0.0038,
          0.0091,
          0.0028,
          0.014,
          0.0069,
          0.0119,
          0.0074,
          0.0062,
          0.0077,
          0.0127,
          0.0091,
          0.015,
          0.0106,
          0.0029,
          0.0064,
          0.013,
          0.0028,
          0.0031,
          0.0046,
          0.011,
          0.0093,
          0.0172,
          0.0113,
          0.0083,
          0.0208,
          0.0178,
          0.0118,
          0.0067,
          0.0149,
          0.0056,
          0.0223,
          0.0081,
          0.0362,
          0.0191,
          0.0089,
          0.0244,
          0.0331,
          0.0071,
          0.0321,
          0.0163,
          0.0078,
          0.0142,
          0.0013,
          0.0214,
          0.0117,
          0.0244,
          0.012,
          0.0147,
          0.0269,
          0.0045,
          0.0153,
          0.0098,
          0.0115,
          0.0222,
          0.004,
          0.0173,
          0.0027,
          0.0189,
          0.0255,
          0.0172,
          0.0153,
          0.0057,
          0.0118,
          0.0118,
          0.0274,
          0.0099,
          0.0073,
          0.0298,
          0.018,
          0.0234,
          0.0455,
          0.0176,
          0.0444,
          0.0258,
          0.0376,
          0.0156,
          0.0339,
          0.0432,
          0.0459,
          0.0309,
          0.0709,
          0.021,
          0.0154,
          0.0033,
          0.0096,
          0.0125,
          0.0168,
          0.0104,
          0.0053,
          0.0117,
          0.0095,
          0.0131,
          0.0164,
          0.0221,
          0.0091,
          0.02,
          0.0123,
          0.0078,
          0.0077,
          0.0089,
          0.0217,
          0.0081,
          0.0108,
          0.0084,
          0.0094,
          0.0123,
          0.0122,
          0.0095,
          0.004,
          0.0056,
          0.0048,
          0.0054,
          0.0134,
          0.0146,
          0.0204,
          0.0176,
          0.0181,
          0.0237,
          0.0167,
          0.0141,
          0.0078,
          0.0105,
          0.0096,
          0.0121,
          0.015,
          0.0108,
          0.0072,
          0.0134,
          0.0083,
          0.0124,
          0.0165,
          0.0132,
          0.0096,
          0.0141,
          0.015,
          0.012,
          0.0091,
          0.0116,
          0.0061,
          0.016,
          0.0086,
          0.0146
         ],
         "xaxis": "x6",
         "yaxis": "y6"
        },
        {
         "histfunc": "count",
         "histnorm": "",
         "marker": {
          "color": "rgba(255, 255, 51, 1.0)",
          "line": {
           "color": "#4D5663",
           "width": 1.3
          }
         },
         "name": "V53",
         "nbinsx": 50,
         "opacity": 0.8,
         "orientation": "v",
         "type": "histogram",
         "x": [
          0.0065,
          0.0089,
          0.0166,
          0.0036,
          0.0054,
          0.0014,
          0.0248,
          0.012,
          0.0128,
          0.0223,
          0.012,
          0.0265,
          0.0127,
          0.0095,
          0.0057,
          0.0153,
          0.0158,
          0.0131,
          0.001,
          0.0035,
          0.0118,
          0.019,
          0.0149,
          0.0016,
          0.0052,
          0.007,
          0.0015,
          0.0122,
          0.0104,
          0.0096,
          0.0146,
          0.0114,
          0.0074,
          0.0216,
          0.0032,
          0.0147,
          0.0191,
          0.0032,
          0.0134,
          0.0112,
          0.0163,
          0.0064,
          0.0042,
          0.0091,
          0.0153,
          0.0129,
          0.0127,
          0.0045,
          0.0118,
          0.0103,
          0.0242,
          0.0028,
          0.0038,
          0.0072,
          0.0028,
          0.0045,
          0.0041,
          0.0049,
          0.0129,
          0.0074,
          0.0041,
          0.0084,
          0.0054,
          0.0023,
          0.0048,
          0.0175,
          0.0187,
          0.016,
          0.0067,
          0.0044,
          0.0025,
          0.0055,
          0.0063,
          0.0072,
          0.0023,
          0.0081,
          0.0151,
          0.0111,
          0.0097,
          0.0078,
          0.0022,
          0.0073,
          0.0036,
          0.0103,
          0.0044,
          0.0071,
          0.0033,
          0.0138,
          0.0108,
          0.0037,
          0.0048,
          0.0073,
          0.012,
          0.0032,
          0.0077,
          0.0237,
          0.0255,
          0.0129,
          0.021,
          0.0182,
          0.0262,
          0.0232,
          0.0111,
          0.0082,
          0.0189,
          0.0099,
          0.0174,
          0.0179,
          0.0005,
          0.0262,
          0.0101,
          0.0199,
          0.0042,
          0.017,
          0.0152,
          0.0136,
          0.0112,
          0.0178,
          0.019,
          0.0175,
          0.0122,
          0.0135,
          0.0068,
          0.0204,
          0.0071,
          0.0191,
          0.0121,
          0.0159,
          0.0063,
          0.0129,
          0.0205,
          0.0065,
          0.0081,
          0.039,
          0.011,
          0.0175,
          0.0213,
          0.0197,
          0.023,
          0.0143,
          0.0143,
          0.0197,
          0.0149,
          0.0274,
          0.0277,
          0.0127,
          0.0317,
          0.0361,
          0.0156,
          0.005,
          0.0014,
          0.0036,
          0.0086,
          0.0062,
          0.0029,
          0.0023,
          0.0126,
          0.0049,
          0.012,
          0.0152,
          0.0062,
          0.007,
          0.0067,
          0.0071,
          0.0026,
          0.0051,
          0.0038,
          0.004,
          0.0075,
          0.01,
          0.0048,
          0.006,
          0.0114,
          0.0151,
          0.0136,
          0.0104,
          0.0025,
          0.0057,
          0.0097,
          0.004,
          0.0059,
          0.0035,
          0.0019,
          0.0078,
          0.0199,
          0.0019,
          0.0201,
          0.0024,
          0.0103,
          0.0108,
          0.006,
          0.0062,
          0.0055,
          0.0094,
          0.008,
          0.0093,
          0.0056,
          0.0027,
          0.0071,
          0.0103,
          0.0076,
          0.0039,
          0.0045,
          0.0098,
          0.0093,
          0.0029,
          0.0046,
          0.0129
         ],
         "xaxis": "x7",
         "yaxis": "y7"
        },
        {
         "histfunc": "count",
         "histnorm": "",
         "marker": {
          "color": "rgba(128, 128, 0, 1.0)",
          "line": {
           "color": "#4D5663",
           "width": 1.3
          }
         },
         "name": "V54",
         "nbinsx": 50,
         "opacity": 0.8,
         "orientation": "v",
         "type": "histogram",
         "x": [
          0.0159,
          0.0048,
          0.0095,
          0.015,
          0.0105,
          0.0038,
          0.0131,
          0.0045,
          0.0145,
          0.0179,
          0.0052,
          0.0224,
          0.0088,
          0.0194,
          0.0174,
          0.0071,
          0.0154,
          0.012,
          0.0018,
          0.0098,
          0.0064,
          0.0043,
          0.0115,
          0.0084,
          0.0083,
          0.0063,
          0.0084,
          0.0044,
          0.0036,
          0.0142,
          0.0093,
          0.0136,
          0.0271,
          0.0135,
          0.013,
          0.0018,
          0.0145,
          0.006,
          0.0026,
          0.0102,
          0.0055,
          0.0129,
          0.0153,
          0.0056,
          0.0096,
          0.0184,
          0.0138,
          0.0024,
          0.0112,
          0.0074,
          0.0043,
          0.004,
          0.0079,
          0.0108,
          0.0021,
          0.0056,
          0.0036,
          0.0096,
          0.01,
          0.003,
          0.0013,
          0.0102,
          0.0022,
          0.002,
          0.0076,
          0.0171,
          0.0156,
          0.016,
          0.012,
          0.0052,
          0.0027,
          0.0035,
          0.0081,
          0.0113,
          0.0117,
          0.0067,
          0.008,
          0.0032,
          0.0022,
          0.0114,
          0.0122,
          0.0077,
          0.0105,
          0.0078,
          0.0078,
          0.0205,
          0.0113,
          0.0079,
          0.0085,
          0.0095,
          0.0199,
          0.0079,
          0.0051,
          0.0109,
          0.0036,
          0.0204,
          0.0145,
          0.0161,
          0.0154,
          0.016,
          0.0108,
          0.0093,
          0.0088,
          0.0232,
          0.0137,
          0.0084,
          0.0176,
          0.0079,
          0.0227,
          0.0177,
          0.0061,
          0.0257,
          0.0238,
          0.0158,
          0.0257,
          0.0113,
          0.0241,
          0.0077,
          0.0055,
          0.0127,
          0.0107,
          0.0114,
          0.015,
          0.0085,
          0.0263,
          0.026,
          0.0096,
          0.0085,
          0.0237,
          0.0344,
          0.0141,
          0.0085,
          0.0303,
          0.0294,
          0.0234,
          0.0352,
          0.0082,
          0.021,
          0.029,
          0.0226,
          0.0272,
          0.0135,
          0.0335,
          0.0152,
          0.0172,
          0.0082,
          0.0309,
          0.0239,
          0.0054,
          0.019,
          0.0049,
          0.0123,
          0.0045,
          0.0026,
          0.002,
          0.0047,
          0.0069,
          0.0104,
          0.0113,
          0.0083,
          0.0019,
          0.007,
          0.0011,
          0.0081,
          0.0031,
          0.0015,
          0.0019,
          0.0025,
          0.0089,
          0.0018,
          0.0047,
          0.0187,
          0.0098,
          0.0059,
          0.0137,
          0.0079,
          0.0087,
          0.0137,
          0.0042,
          0.0114,
          0.0053,
          0.0093,
          0.0102,
          0.0144,
          0.0145,
          0.0067,
          0.0104,
          0.0018,
          0.0093,
          0.0057,
          0.0082,
          0.0044,
          0.0074,
          0.0047,
          0.0026,
          0.0072,
          0.001,
          0.0022,
          0.0084,
          0.01,
          0.0032,
          0.0053,
          0.0043,
          0.0199,
          0.0135,
          0.0051,
          0.0126,
          0.0047
         ],
         "xaxis": "x8",
         "yaxis": "y8"
        },
        {
         "histfunc": "count",
         "histnorm": "",
         "marker": {
          "color": "rgba(251, 128, 114, 1.0)",
          "line": {
           "color": "#4D5663",
           "width": 1.3
          }
         },
         "name": "V55",
         "nbinsx": 50,
         "opacity": 0.8,
         "orientation": "v",
         "type": "histogram",
         "x": [
          0.0072,
          0.0094,
          0.018,
          0.0085,
          0.011,
          0.0013,
          0.007,
          0.0121,
          0.0058,
          0.0084,
          0.0056,
          0.0074,
          0.0098,
          0.008,
          0.0188,
          0.0212,
          0.0109,
          0.0108,
          0.0068,
          0.0121,
          0.0042,
          0.0036,
          0.0202,
          0.0064,
          0.0078,
          0.003,
          0.0128,
          0.0075,
          0.0088,
          0.019,
          0.0112,
          0.0117,
          0.0203,
          0.0055,
          0.0188,
          0.01,
          0.0065,
          0.0054,
          0.0038,
          0.0026,
          0.0045,
          0.0114,
          0.0106,
          0.0086,
          0.0131,
          0.0069,
          0.009,
          0.0006,
          0.0094,
          0.0123,
          0.0202,
          0.0075,
          0.0114,
          0.0051,
          0.0022,
          0.0075,
          0.0013,
          0.0134,
          0.0044,
          0.005,
          0.0011,
          0.0096,
          0.0016,
          0.004,
          0.0124,
          0.0079,
          0.0068,
          0.0081,
          0.0012,
          0.0073,
          0.0052,
          0.0036,
          0.0087,
          0.0012,
          0.0053,
          0.0043,
          0.0018,
          0.0035,
          0.0052,
          0.0083,
          0.0151,
          0.0075,
          0.012,
          0.0077,
          0.0102,
          0.0164,
          0.003,
          0.0037,
          0.0047,
          0.0105,
          0.0126,
          0.0038,
          0.007,
          0.0164,
          0.0114,
          0.005,
          0.0233,
          0.0063,
          0.018,
          0.029,
          0.0138,
          0.0159,
          0.0158,
          0.0198,
          0.0277,
          0.027,
          0.0038,
          0.006,
          0.0209,
          0.0037,
          0.0031,
          0.0082,
          0.0129,
          0.0046,
          0.0097,
          0.0053,
          0.0164,
          0.0074,
          0.0096,
          0.0022,
          0.0112,
          0.0062,
          0.0012,
          0.0043,
          0.0079,
          0.014,
          0.0196,
          0.0372,
          0.0032,
          0.0065,
          0.0185,
          0.0166,
          0.019,
          0.0175,
          0.0276,
          0.0158,
          0.0124,
          0.0141,
          0.0141,
          0.0187,
          0.0127,
          0.0127,
          0.0376,
          0.012,
          0.0087,
          0.0281,
          0.0252,
          0.0447,
          0.003,
          0.0103,
          0.0039,
          0.0043,
          0.0062,
          0.0025,
          0.0013,
          0.0049,
          0.0039,
          0.0102,
          0.0021,
          0.0058,
          0.0045,
          0.0086,
          0.0026,
          0.0034,
          0.0083,
          0.0075,
          0.0065,
          0.0036,
          0.0036,
          0.0035,
          0.0016,
          0.0111,
          0.0027,
          0.0015,
          0.0172,
          0.0014,
          0.0072,
          0.0109,
          0.0058,
          0.0032,
          0.0079,
          0.0121,
          0.0133,
          0.017,
          0.0081,
          0.0099,
          0.0039,
          0.0057,
          0.0025,
          0.0028,
          0.0091,
          0.0072,
          0.0068,
          0.0045,
          0.0079,
          0.0019,
          0.0027,
          0.0059,
          0.0038,
          0.0034,
          0.0037,
          0.0062,
          0.0043,
          0.0033,
          0.0063,
          0.0062,
          0.0036,
          0.0039
         ],
         "xaxis": "x9",
         "yaxis": "y9"
        },
        {
         "histfunc": "count",
         "histnorm": "",
         "marker": {
          "color": "rgba(128, 177, 211, 1.0)",
          "line": {
           "color": "#4D5663",
           "width": 1.3
          }
         },
         "name": "V56",
         "nbinsx": 50,
         "opacity": 0.8,
         "orientation": "v",
         "type": "histogram",
         "x": [
          0.0167,
          0.0191,
          0.0244,
          0.0073,
          0.0015,
          0.0089,
          0.0138,
          0.0097,
          0.0049,
          0.0068,
          0.0093,
          0.0118,
          0.0019,
          0.0152,
          0.0054,
          0.0076,
          0.0048,
          0.0024,
          0.0039,
          0.0006,
          0.0054,
          0.0026,
          0.0139,
          0.0026,
          0.0075,
          0.0011,
          0.0054,
          0.0124,
          0.0047,
          0.014,
          0.0094,
          0.006,
          0.0089,
          0.0073,
          0.0101,
          0.0096,
          0.0129,
          0.0063,
          0.0018,
          0.0097,
          0.0068,
          0.0054,
          0.002,
          0.0092,
          0.0198,
          0.0198,
          0.0051,
          0.0073,
          0.014,
          0.0069,
          0.0108,
          0.0039,
          0.005,
          0.0102,
          0.0048,
          0.0037,
          0.0046,
          0.0122,
          0.0057,
          0.0048,
          0.0045,
          0.0024,
          0.0029,
          0.0019,
          0.0105,
          0.005,
          0.0097,
          0.007,
          0.0022,
          0.0021,
          0.0036,
          0.0004,
          0.0044,
          0.0022,
          0.0077,
          0.0065,
          0.0078,
          0.0169,
          0.0072,
          0.0058,
          0.0056,
          0.006,
          0.0087,
          0.0094,
          0.0065,
          0.0063,
          0.0057,
          0.0051,
          0.0074,
          0.003,
          0.0022,
          0.0116,
          0.0015,
          0.0151,
          0.0085,
          0.0137,
          0.0041,
          0.0119,
          0.0013,
          0.009,
          0.0187,
          0.0193,
          0.0122,
          0.0074,
          0.0152,
          0.0277,
          0.0129,
          0.0131,
          0.0081,
          0.0068,
          0.0099,
          0.0151,
          0.0084,
          0.0073,
          0.0041,
          0.0165,
          0.0055,
          0.0095,
          0.005,
          0.0124,
          0.0102,
          0.0157,
          0.0133,
          0.0092,
          0.0111,
          0.0125,
          0.0042,
          0.0101,
          0.0087,
          0.0067,
          0.0055,
          0.011,
          0.0212,
          0.0249,
          0.0032,
          0.0326,
          0.0167,
          0.0049,
          0.0161,
          0.0185,
          0.0166,
          0.0138,
          0.0174,
          0.0129,
          0.0046,
          0.0117,
          0.0087,
          0.0394,
          0.0048,
          0.0121,
          0.0029,
          0.0114,
          0.0065,
          0.0061,
          0.0029,
          0.0031,
          0.0068,
          0.0092,
          0.0097,
          0.0023,
          0.0079,
          0.0089,
          0.0049,
          0.0064,
          0.002,
          0.0058,
          0.0132,
          0.0058,
          0.0029,
          0.0058,
          0.0008,
          0.0126,
          0.0025,
          0.0053,
          0.0132,
          0.0054,
          0.0095,
          0.0035,
          0.0072,
          0.0062,
          0.0037,
          0.0075,
          0.004,
          0.0012,
          0.0045,
          0.0042,
          0.0031,
          0.0092,
          0.0044,
          0.0079,
          0.0038,
          0.0007,
          0.0084,
          0.0042,
          0.0042,
          0.0027,
          0.0062,
          0.0016,
          0.0026,
          0.0026,
          0.0071,
          0.0046,
          0.0098,
          0.0101,
          0.0063,
          0.0089,
          0.0035,
          0.0061
         ],
         "xaxis": "x10",
         "yaxis": "y10"
        },
        {
         "histfunc": "count",
         "histnorm": "",
         "marker": {
          "color": "rgba(128, 177, 211, 0.8999999999999999)",
          "line": {
           "color": "#4D5663",
           "width": 1.3
          }
         },
         "name": "V57",
         "nbinsx": 50,
         "opacity": 0.8,
         "orientation": "v",
         "type": "histogram",
         "x": [
          0.018,
          0.014,
          0.0316,
          0.005,
          0.0072,
          0.0057,
          0.0092,
          0.0085,
          0.0065,
          0.0032,
          0.0042,
          0.0026,
          0.0059,
          0.0158,
          0.0114,
          0.0152,
          0.0095,
          0.0045,
          0.012,
          0.0181,
          0.0049,
          0.0024,
          0.0029,
          0.0029,
          0.0105,
          0.0007,
          0.0011,
          0.0099,
          0.0117,
          0.0099,
          0.0054,
          0.0058,
          0.0095,
          0.008,
          0.0229,
          0.0077,
          0.0217,
          0.0143,
          0.0113,
          0.0098,
          0.0041,
          0.0089,
          0.0105,
          0.007,
          0.0025,
          0.0199,
          0.0029,
          0.0096,
          0.0072,
          0.0076,
          0.0037,
          0.0053,
          0.003,
          0.0041,
          0.0138,
          0.0045,
          0.0037,
          0.0047,
          0.003,
          0.0017,
          0.0039,
          0.0037,
          0.0058,
          0.0034,
          0.0054,
          0.0112,
          0.0073,
          0.0135,
          0.0058,
          0.0047,
          0.0026,
          0.0018,
          0.0028,
          0.0025,
          0.0076,
          0.0049,
          0.0045,
          0.0137,
          0.0056,
          0.0003,
          0.0026,
          0.008,
          0.0061,
          0.0031,
          0.0061,
          0.0078,
          0.009,
          0.0258,
          0.0104,
          0.0132,
          0.0037,
          0.0033,
          0.0035,
          0.007,
          0.0101,
          0.0164,
          0.0018,
          0.0194,
          0.0106,
          0.0242,
          0.023,
          0.0032,
          0.0038,
          0.0035,
          0.0052,
          0.0097,
          0.0066,
          0.0089,
          0.0117,
          0.0121,
          0.008,
          0.0171,
          0.0218,
          0.0054,
          0.005,
          0.0141,
          0.0078,
          0.0055,
          0.0066,
          0.0054,
          0.0052,
          0.0088,
          0.0048,
          0.0138,
          0.0107,
          0.0116,
          0.0066,
          0.0127,
          0.0124,
          0.0022,
          0.0045,
          0.019,
          0.0126,
          0.0141,
          0.0084,
          0.0201,
          0.0103,
          0.0027,
          0.0177,
          0.011,
          0.0095,
          0.0133,
          0.0132,
          0.002,
          0.0203,
          0.0092,
          0.0177,
          0.0355,
          0.0087,
          0.0042,
          0.0078,
          0.0052,
          0.003,
          0.0038,
          0.002,
          0.0024,
          0.006,
          0.0083,
          0.0072,
          0.0057,
          0.0031,
          0.0074,
          0.0029,
          0.0037,
          0.0084,
          0.0016,
          0.0108,
          0.0067,
          0.0013,
          0.0011,
          0.0042,
          0.0081,
          0.0026,
          0.0016,
          0.011,
          0.0015,
          0.0086,
          0.0056,
          0.0041,
          0.0101,
          0.0015,
          0.0056,
          0.0042,
          0.0109,
          0.0043,
          0.0057,
          0.0062,
          0.0009,
          0.0021,
          0.0034,
          0.0056,
          0.0054,
          0.0037,
          0.0028,
          0.0071,
          0.0054,
          0.0024,
          0.0025,
          0.0028,
          0.0037,
          0.004,
          0.0045,
          0.0054,
          0.0065,
          0.0034,
          0.014,
          0.0034,
          0.004
         ],
         "xaxis": "x11",
         "yaxis": "y11"
        },
        {
         "histfunc": "count",
         "histnorm": "",
         "marker": {
          "color": "rgba(255, 153, 51, 0.8999999999999999)",
          "line": {
           "color": "#4D5663",
           "width": 1.3
          }
         },
         "name": "V58",
         "nbinsx": 50,
         "opacity": 0.8,
         "orientation": "v",
         "type": "histogram",
         "x": [
          0.0084,
          0.0049,
          0.0164,
          0.0044,
          0.0048,
          0.0027,
          0.0143,
          0.0047,
          0.0093,
          0.0035,
          0.0003,
          0.0092,
          0.0058,
          0.0053,
          0.0196,
          0.0049,
          0.0015,
          0.0037,
          0.0132,
          0.0094,
          0.0082,
          0.0162,
          0.016,
          0.0037,
          0.016,
          0.0024,
          0.0019,
          0.0057,
          0.002,
          0.0092,
          0.0019,
          0.0031,
          0.0095,
          0.0105,
          0.0182,
          0.018,
          0.0087,
          0.0132,
          0.0058,
          0.0043,
          0.0052,
          0.005,
          0.0049,
          0.0116,
          0.0199,
          0.0102,
          0.0122,
          0.0054,
          0.0022,
          0.0073,
          0.0096,
          0.0013,
          0.0064,
          0.0055,
          0.014,
          0.0029,
          0.0011,
          0.0018,
          0.0035,
          0.0041,
          0.0022,
          0.0028,
          0.005,
          0.0034,
          0.0032,
          0.0179,
          0.0081,
          0.0067,
          0.0042,
          0.0024,
          0.0036,
          0.0049,
          0.0019,
          0.0059,
          0.0056,
          0.0054,
          0.0026,
          0.0015,
          0.0038,
          0.0023,
          0.0029,
          0.0019,
          0.0061,
          0.003,
          0.0062,
          0.0094,
          0.0057,
          0.0102,
          0.0161,
          0.0068,
          0.0034,
          0.0039,
          0.0008,
          0.0085,
          0.0016,
          0.0081,
          0.0048,
          0.014,
          0.0127,
          0.0224,
          0.0057,
          0.0377,
          0.0101,
          0.01,
          0.0121,
          0.0054,
          0.0044,
          0.0084,
          0.0114,
          0.0077,
          0.0107,
          0.0146,
          0.0321,
          0.0033,
          0.0145,
          0.0077,
          0.0055,
          0.0045,
          0.0114,
          0.0021,
          0.0024,
          0.0036,
          0.0244,
          0.0094,
          0.0068,
          0.0093,
          0.0099,
          0.0288,
          0.0113,
          0.0079,
          0.0115,
          0.0141,
          0.0201,
          0.0073,
          0.0122,
          0.0168,
          0.0205,
          0.0162,
          0.0194,
          0.0094,
          0.0225,
          0.0131,
          0.0103,
          0.0109,
          0.013,
          0.0147,
          0.0214,
          0.044,
          0.0101,
          0.009,
          0.0047,
          0.0091,
          0.0066,
          0.0101,
          0.0062,
          0.0039,
          0.0045,
          0.002,
          0.006,
          0.0052,
          0.0063,
          0.0042,
          0.0022,
          0.0036,
          0.0108,
          0.007,
          0.005,
          0.0035,
          0.001,
          0.0009,
          0.0024,
          0.0155,
          0.005,
          0.0042,
          0.0122,
          0.0006,
          0.0085,
          0.0105,
          0.0045,
          0.0068,
          0.0056,
          0.0021,
          0.003,
          0.0036,
          0.0027,
          0.0051,
          0.0087,
          0.0086,
          0.0069,
          0.0046,
          0.0056,
          0.0035,
          0.0024,
          0.0036,
          0.0044,
          0.0017,
          0.0063,
          0.0017,
          0.0013,
          0.0044,
          0.0009,
          0.0022,
          0.0051,
          0.0115,
          0.0032,
          0.0138,
          0.0079,
          0.0036
         ],
         "xaxis": "x12",
         "yaxis": "y12"
        },
        {
         "histfunc": "count",
         "histnorm": "",
         "marker": {
          "color": "rgba(55, 128, 191, 0.8999999999999999)",
          "line": {
           "color": "#4D5663",
           "width": 1.3
          }
         },
         "name": "V59",
         "nbinsx": 50,
         "opacity": 0.8,
         "orientation": "v",
         "type": "histogram",
         "x": [
          0.009,
          0.0052,
          0.0095,
          0.004,
          0.0107,
          0.0051,
          0.0036,
          0.0048,
          0.0059,
          0.0056,
          0.0053,
          0.0009,
          0.0059,
          0.0189,
          0.0147,
          0.02,
          0.0073,
          0.0112,
          0.007,
          0.0116,
          0.0028,
          0.0109,
          0.0106,
          0.007,
          0.0095,
          0.0057,
          0.0023,
          0.0032,
          0.0091,
          0.0052,
          0.0066,
          0.0072,
          0.0021,
          0.0059,
          0.0046,
          0.0109,
          0.0077,
          0.0051,
          0.0047,
          0.0071,
          0.0194,
          0.0058,
          0.007,
          0.006,
          0.0255,
          0.007,
          0.0056,
          0.0085,
          0.0055,
          0.003,
          0.0093,
          0.0052,
          0.0058,
          0.005,
          0.0028,
          0.0008,
          0.0034,
          0.0006,
          0.0021,
          0.0086,
          0.0023,
          0.003,
          0.0024,
          0.0051,
          0.0073,
          0.0294,
          0.0086,
          0.0078,
          0.0067,
          0.0009,
          0.0006,
          0.0024,
          0.0049,
          0.0039,
          0.0055,
          0.0073,
          0.0036,
          0.0069,
          0.0043,
          0.0026,
          0.0104,
          0.0053,
          0.003,
          0.0013,
          0.0043,
          0.011,
          0.0068,
          0.0037,
          0.022,
          0.0108,
          0.0114,
          0.0081,
          0.0044,
          0.0117,
          0.0028,
          0.0139,
          0.0089,
          0.0332,
          0.0178,
          0.019,
          0.0113,
          0.0126,
          0.0228,
          0.0048,
          0.0124,
          0.0148,
          0.0134,
          0.0113,
          0.0112,
          0.0078,
          0.0161,
          0.0134,
          0.0154,
          0.0045,
          0.0103,
          0.0246,
          0.0091,
          0.0063,
          0.0073,
          0.0028,
          0.0079,
          0.0053,
          0.0077,
          0.0105,
          0.0097,
          0.0012,
          0.0083,
          0.0129,
          0.0098,
          0.0146,
          0.0152,
          0.0068,
          0.021,
          0.0025,
          0.0082,
          0.0245,
          0.0178,
          0.0059,
          0.0207,
          0.0078,
          0.0098,
          0.0154,
          0.0364,
          0.0074,
          0.0115,
          0.0157,
          0.0227,
          0.0243,
          0.0095,
          0.007,
          0.0021,
          0.0008,
          0.0029,
          0.0078,
          0.0026,
          0.0051,
          0.0002,
          0.0048,
          0.0017,
          0.0027,
          0.0048,
          0.0055,
          0.0022,
          0.0012,
          0.0083,
          0.0074,
          0.0085,
          0.0043,
          0.0032,
          0.0033,
          0.0027,
          0.016,
          0.0073,
          0.0053,
          0.0114,
          0.0081,
          0.004,
          0.0082,
          0.0047,
          0.0053,
          0.0067,
          0.0043,
          0.0031,
          0.0043,
          0.0055,
          0.0033,
          0.007,
          0.011,
          0.006,
          0.0022,
          0.0048,
          0.0001,
          0.0034,
          0.0013,
          0.0022,
          0.0024,
          0.0017,
          0.0027,
          0.0035,
          0.0057,
          0.0015,
          0.0005,
          0.0065,
          0.0193,
          0.0062,
          0.0077,
          0.0036,
          0.0061
         ],
         "xaxis": "x13",
         "yaxis": "y13"
        },
        {
         "histfunc": "count",
         "histnorm": "",
         "marker": {
          "color": "rgba(50, 171, 96, 0.8999999999999999)",
          "line": {
           "color": "#4D5663",
           "width": 1.3
          }
         },
         "name": "V60",
         "nbinsx": 50,
         "opacity": 0.8,
         "orientation": "v",
         "type": "histogram",
         "x": [
          0.0032,
          0.0044,
          0.0078,
          0.0117,
          0.0094,
          0.0062,
          0.0103,
          0.0053,
          0.0022,
          0.004,
          0.0036,
          0.0044,
          0.0032,
          0.0102,
          0.0062,
          0.0073,
          0.0067,
          0.0075,
          0.0088,
          0.0063,
          0.0027,
          0.0079,
          0.0134,
          0.0041,
          0.0011,
          0.0044,
          0.0062,
          0.0019,
          0.0058,
          0.0075,
          0.0023,
          0.0045,
          0.0053,
          0.0105,
          0.0038,
          0.007,
          0.0122,
          0.0041,
          0.0071,
          0.0108,
          0.0105,
          0.0025,
          0.008,
          0.011,
          0.018,
          0.0055,
          0.002,
          0.006,
          0.0122,
          0.0138,
          0.0053,
          0.0023,
          0.003,
          0.0087,
          0.0064,
          0.0018,
          0.0033,
          0.0023,
          0.0027,
          0.0058,
          0.0016,
          0.003,
          0.003,
          0.0031,
          0.0063,
          0.0063,
          0.0095,
          0.0068,
          0.0012,
          0.0017,
          0.0035,
          0.0016,
          0.0023,
          0.0048,
          0.0039,
          0.0054,
          0.0024,
          0.0051,
          0.003,
          0.0027,
          0.0163,
          0.0019,
          0.0078,
          0.0069,
          0.0053,
          0.0068,
          0.0024,
          0.0037,
          0.0173,
          0.009,
          0.0077,
          0.0053,
          0.0077,
          0.0056,
          0.0014,
          0.0111,
          0.0085,
          0.0439,
          0.0231,
          0.0096,
          0.0131,
          0.0156,
          0.0124,
          0.0019,
          0.0055,
          0.0092,
          0.0092,
          0.0049,
          0.01,
          0.0066,
          0.0133,
          0.0056,
          0.0053,
          0.0079,
          0.0025,
          0.0198,
          0.0067,
          0.0039,
          0.0033,
          0.0023,
          0.0031,
          0.003,
          0.0074,
          0.0093,
          0.0067,
          0.0036,
          0.0124,
          0.0023,
          0.0126,
          0.0051,
          0.01,
          0.0086,
          0.0041,
          0.0101,
          0.0143,
          0.0154,
          0.0187,
          0.0021,
          0.0057,
          0.0112,
          0.0085,
          0.0218,
          0.0208,
          0.0078,
          0.0015,
          0.0129,
          0.0106,
          0.0098,
          0.0068,
          0.0099,
          0.0011,
          0.0092,
          0.0053,
          0.0006,
          0.0052,
          0.0015,
          0.0029,
          0.0036,
          0.0036,
          0.0021,
          0.005,
          0.0021,
          0.0032,
          0.0037,
          0.0033,
          0.0038,
          0.0044,
          0.0033,
          0.0047,
          0.0026,
          0.0041,
          0.0085,
          0.0022,
          0.0074,
          0.0068,
          0.0043,
          0.0051,
          0.0036,
          0.0054,
          0.0087,
          0.0054,
          0.0017,
          0.0033,
          0.0018,
          0.0057,
          0.0058,
          0.0042,
          0.0052,
          0.0018,
          0.0021,
          0.0024,
          0.0055,
          0.0007,
          0.0016,
          0.0014,
          0.0029,
          0.0028,
          0.0027,
          0.006,
          0.0035,
          0.0085,
          0.0031,
          0.0103,
          0.0157,
          0.0067,
          0.0031,
          0.0048,
          0.0115
         ],
         "xaxis": "x14",
         "yaxis": "y14"
        }
       ],
       "layout": {
        "barmode": "overlay",
        "legend": {
         "bgcolor": "#F5F6F9",
         "font": {
          "color": "#4D5663"
         }
        },
        "paper_bgcolor": "#F5F6F9",
        "plot_bgcolor": "#F5F6F9",
        "template": {
         "data": {
          "bar": [
           {
            "error_x": {
             "color": "#2a3f5f"
            },
            "error_y": {
             "color": "#2a3f5f"
            },
            "marker": {
             "line": {
              "color": "#E5ECF6",
              "width": 0.5
             },
             "pattern": {
              "fillmode": "overlay",
              "size": 10,
              "solidity": 0.2
             }
            },
            "type": "bar"
           }
          ],
          "barpolar": [
           {
            "marker": {
             "line": {
              "color": "#E5ECF6",
              "width": 0.5
             },
             "pattern": {
              "fillmode": "overlay",
              "size": 10,
              "solidity": 0.2
             }
            },
            "type": "barpolar"
           }
          ],
          "carpet": [
           {
            "aaxis": {
             "endlinecolor": "#2a3f5f",
             "gridcolor": "white",
             "linecolor": "white",
             "minorgridcolor": "white",
             "startlinecolor": "#2a3f5f"
            },
            "baxis": {
             "endlinecolor": "#2a3f5f",
             "gridcolor": "white",
             "linecolor": "white",
             "minorgridcolor": "white",
             "startlinecolor": "#2a3f5f"
            },
            "type": "carpet"
           }
          ],
          "choropleth": [
           {
            "colorbar": {
             "outlinewidth": 0,
             "ticks": ""
            },
            "type": "choropleth"
           }
          ],
          "contour": [
           {
            "colorbar": {
             "outlinewidth": 0,
             "ticks": ""
            },
            "colorscale": [
             [
              0,
              "#0d0887"
             ],
             [
              0.1111111111111111,
              "#46039f"
             ],
             [
              0.2222222222222222,
              "#7201a8"
             ],
             [
              0.3333333333333333,
              "#9c179e"
             ],
             [
              0.4444444444444444,
              "#bd3786"
             ],
             [
              0.5555555555555556,
              "#d8576b"
             ],
             [
              0.6666666666666666,
              "#ed7953"
             ],
             [
              0.7777777777777778,
              "#fb9f3a"
             ],
             [
              0.8888888888888888,
              "#fdca26"
             ],
             [
              1,
              "#f0f921"
             ]
            ],
            "type": "contour"
           }
          ],
          "contourcarpet": [
           {
            "colorbar": {
             "outlinewidth": 0,
             "ticks": ""
            },
            "type": "contourcarpet"
           }
          ],
          "heatmap": [
           {
            "colorbar": {
             "outlinewidth": 0,
             "ticks": ""
            },
            "colorscale": [
             [
              0,
              "#0d0887"
             ],
             [
              0.1111111111111111,
              "#46039f"
             ],
             [
              0.2222222222222222,
              "#7201a8"
             ],
             [
              0.3333333333333333,
              "#9c179e"
             ],
             [
              0.4444444444444444,
              "#bd3786"
             ],
             [
              0.5555555555555556,
              "#d8576b"
             ],
             [
              0.6666666666666666,
              "#ed7953"
             ],
             [
              0.7777777777777778,
              "#fb9f3a"
             ],
             [
              0.8888888888888888,
              "#fdca26"
             ],
             [
              1,
              "#f0f921"
             ]
            ],
            "type": "heatmap"
           }
          ],
          "heatmapgl": [
           {
            "colorbar": {
             "outlinewidth": 0,
             "ticks": ""
            },
            "colorscale": [
             [
              0,
              "#0d0887"
             ],
             [
              0.1111111111111111,
              "#46039f"
             ],
             [
              0.2222222222222222,
              "#7201a8"
             ],
             [
              0.3333333333333333,
              "#9c179e"
             ],
             [
              0.4444444444444444,
              "#bd3786"
             ],
             [
              0.5555555555555556,
              "#d8576b"
             ],
             [
              0.6666666666666666,
              "#ed7953"
             ],
             [
              0.7777777777777778,
              "#fb9f3a"
             ],
             [
              0.8888888888888888,
              "#fdca26"
             ],
             [
              1,
              "#f0f921"
             ]
            ],
            "type": "heatmapgl"
           }
          ],
          "histogram": [
           {
            "marker": {
             "pattern": {
              "fillmode": "overlay",
              "size": 10,
              "solidity": 0.2
             }
            },
            "type": "histogram"
           }
          ],
          "histogram2d": [
           {
            "colorbar": {
             "outlinewidth": 0,
             "ticks": ""
            },
            "colorscale": [
             [
              0,
              "#0d0887"
             ],
             [
              0.1111111111111111,
              "#46039f"
             ],
             [
              0.2222222222222222,
              "#7201a8"
             ],
             [
              0.3333333333333333,
              "#9c179e"
             ],
             [
              0.4444444444444444,
              "#bd3786"
             ],
             [
              0.5555555555555556,
              "#d8576b"
             ],
             [
              0.6666666666666666,
              "#ed7953"
             ],
             [
              0.7777777777777778,
              "#fb9f3a"
             ],
             [
              0.8888888888888888,
              "#fdca26"
             ],
             [
              1,
              "#f0f921"
             ]
            ],
            "type": "histogram2d"
           }
          ],
          "histogram2dcontour": [
           {
            "colorbar": {
             "outlinewidth": 0,
             "ticks": ""
            },
            "colorscale": [
             [
              0,
              "#0d0887"
             ],
             [
              0.1111111111111111,
              "#46039f"
             ],
             [
              0.2222222222222222,
              "#7201a8"
             ],
             [
              0.3333333333333333,
              "#9c179e"
             ],
             [
              0.4444444444444444,
              "#bd3786"
             ],
             [
              0.5555555555555556,
              "#d8576b"
             ],
             [
              0.6666666666666666,
              "#ed7953"
             ],
             [
              0.7777777777777778,
              "#fb9f3a"
             ],
             [
              0.8888888888888888,
              "#fdca26"
             ],
             [
              1,
              "#f0f921"
             ]
            ],
            "type": "histogram2dcontour"
           }
          ],
          "mesh3d": [
           {
            "colorbar": {
             "outlinewidth": 0,
             "ticks": ""
            },
            "type": "mesh3d"
           }
          ],
          "parcoords": [
           {
            "line": {
             "colorbar": {
              "outlinewidth": 0,
              "ticks": ""
             }
            },
            "type": "parcoords"
           }
          ],
          "pie": [
           {
            "automargin": true,
            "type": "pie"
           }
          ],
          "scatter": [
           {
            "marker": {
             "colorbar": {
              "outlinewidth": 0,
              "ticks": ""
             }
            },
            "type": "scatter"
           }
          ],
          "scatter3d": [
           {
            "line": {
             "colorbar": {
              "outlinewidth": 0,
              "ticks": ""
             }
            },
            "marker": {
             "colorbar": {
              "outlinewidth": 0,
              "ticks": ""
             }
            },
            "type": "scatter3d"
           }
          ],
          "scattercarpet": [
           {
            "marker": {
             "colorbar": {
              "outlinewidth": 0,
              "ticks": ""
             }
            },
            "type": "scattercarpet"
           }
          ],
          "scattergeo": [
           {
            "marker": {
             "colorbar": {
              "outlinewidth": 0,
              "ticks": ""
             }
            },
            "type": "scattergeo"
           }
          ],
          "scattergl": [
           {
            "marker": {
             "colorbar": {
              "outlinewidth": 0,
              "ticks": ""
             }
            },
            "type": "scattergl"
           }
          ],
          "scattermapbox": [
           {
            "marker": {
             "colorbar": {
              "outlinewidth": 0,
              "ticks": ""
             }
            },
            "type": "scattermapbox"
           }
          ],
          "scatterpolar": [
           {
            "marker": {
             "colorbar": {
              "outlinewidth": 0,
              "ticks": ""
             }
            },
            "type": "scatterpolar"
           }
          ],
          "scatterpolargl": [
           {
            "marker": {
             "colorbar": {
              "outlinewidth": 0,
              "ticks": ""
             }
            },
            "type": "scatterpolargl"
           }
          ],
          "scatterternary": [
           {
            "marker": {
             "colorbar": {
              "outlinewidth": 0,
              "ticks": ""
             }
            },
            "type": "scatterternary"
           }
          ],
          "surface": [
           {
            "colorbar": {
             "outlinewidth": 0,
             "ticks": ""
            },
            "colorscale": [
             [
              0,
              "#0d0887"
             ],
             [
              0.1111111111111111,
              "#46039f"
             ],
             [
              0.2222222222222222,
              "#7201a8"
             ],
             [
              0.3333333333333333,
              "#9c179e"
             ],
             [
              0.4444444444444444,
              "#bd3786"
             ],
             [
              0.5555555555555556,
              "#d8576b"
             ],
             [
              0.6666666666666666,
              "#ed7953"
             ],
             [
              0.7777777777777778,
              "#fb9f3a"
             ],
             [
              0.8888888888888888,
              "#fdca26"
             ],
             [
              1,
              "#f0f921"
             ]
            ],
            "type": "surface"
           }
          ],
          "table": [
           {
            "cells": {
             "fill": {
              "color": "#EBF0F8"
             },
             "line": {
              "color": "white"
             }
            },
            "header": {
             "fill": {
              "color": "#C8D4E3"
             },
             "line": {
              "color": "white"
             }
            },
            "type": "table"
           }
          ]
         },
         "layout": {
          "annotationdefaults": {
           "arrowcolor": "#2a3f5f",
           "arrowhead": 0,
           "arrowwidth": 1
          },
          "autotypenumbers": "strict",
          "coloraxis": {
           "colorbar": {
            "outlinewidth": 0,
            "ticks": ""
           }
          },
          "colorscale": {
           "diverging": [
            [
             0,
             "#8e0152"
            ],
            [
             0.1,
             "#c51b7d"
            ],
            [
             0.2,
             "#de77ae"
            ],
            [
             0.3,
             "#f1b6da"
            ],
            [
             0.4,
             "#fde0ef"
            ],
            [
             0.5,
             "#f7f7f7"
            ],
            [
             0.6,
             "#e6f5d0"
            ],
            [
             0.7,
             "#b8e186"
            ],
            [
             0.8,
             "#7fbc41"
            ],
            [
             0.9,
             "#4d9221"
            ],
            [
             1,
             "#276419"
            ]
           ],
           "sequential": [
            [
             0,
             "#0d0887"
            ],
            [
             0.1111111111111111,
             "#46039f"
            ],
            [
             0.2222222222222222,
             "#7201a8"
            ],
            [
             0.3333333333333333,
             "#9c179e"
            ],
            [
             0.4444444444444444,
             "#bd3786"
            ],
            [
             0.5555555555555556,
             "#d8576b"
            ],
            [
             0.6666666666666666,
             "#ed7953"
            ],
            [
             0.7777777777777778,
             "#fb9f3a"
            ],
            [
             0.8888888888888888,
             "#fdca26"
            ],
            [
             1,
             "#f0f921"
            ]
           ],
           "sequentialminus": [
            [
             0,
             "#0d0887"
            ],
            [
             0.1111111111111111,
             "#46039f"
            ],
            [
             0.2222222222222222,
             "#7201a8"
            ],
            [
             0.3333333333333333,
             "#9c179e"
            ],
            [
             0.4444444444444444,
             "#bd3786"
            ],
            [
             0.5555555555555556,
             "#d8576b"
            ],
            [
             0.6666666666666666,
             "#ed7953"
            ],
            [
             0.7777777777777778,
             "#fb9f3a"
            ],
            [
             0.8888888888888888,
             "#fdca26"
            ],
            [
             1,
             "#f0f921"
            ]
           ]
          },
          "colorway": [
           "#636efa",
           "#EF553B",
           "#00cc96",
           "#ab63fa",
           "#FFA15A",
           "#19d3f3",
           "#FF6692",
           "#B6E880",
           "#FF97FF",
           "#FECB52"
          ],
          "font": {
           "color": "#2a3f5f"
          },
          "geo": {
           "bgcolor": "white",
           "lakecolor": "white",
           "landcolor": "#E5ECF6",
           "showlakes": true,
           "showland": true,
           "subunitcolor": "white"
          },
          "hoverlabel": {
           "align": "left"
          },
          "hovermode": "closest",
          "mapbox": {
           "style": "light"
          },
          "paper_bgcolor": "white",
          "plot_bgcolor": "#E5ECF6",
          "polar": {
           "angularaxis": {
            "gridcolor": "white",
            "linecolor": "white",
            "ticks": ""
           },
           "bgcolor": "#E5ECF6",
           "radialaxis": {
            "gridcolor": "white",
            "linecolor": "white",
            "ticks": ""
           }
          },
          "scene": {
           "xaxis": {
            "backgroundcolor": "#E5ECF6",
            "gridcolor": "white",
            "gridwidth": 2,
            "linecolor": "white",
            "showbackground": true,
            "ticks": "",
            "zerolinecolor": "white"
           },
           "yaxis": {
            "backgroundcolor": "#E5ECF6",
            "gridcolor": "white",
            "gridwidth": 2,
            "linecolor": "white",
            "showbackground": true,
            "ticks": "",
            "zerolinecolor": "white"
           },
           "zaxis": {
            "backgroundcolor": "#E5ECF6",
            "gridcolor": "white",
            "gridwidth": 2,
            "linecolor": "white",
            "showbackground": true,
            "ticks": "",
            "zerolinecolor": "white"
           }
          },
          "shapedefaults": {
           "line": {
            "color": "#2a3f5f"
           }
          },
          "ternary": {
           "aaxis": {
            "gridcolor": "white",
            "linecolor": "white",
            "ticks": ""
           },
           "baxis": {
            "gridcolor": "white",
            "linecolor": "white",
            "ticks": ""
           },
           "bgcolor": "#E5ECF6",
           "caxis": {
            "gridcolor": "white",
            "linecolor": "white",
            "ticks": ""
           }
          },
          "title": {
           "x": 0.05
          },
          "xaxis": {
           "automargin": true,
           "gridcolor": "white",
           "linecolor": "white",
           "ticks": "",
           "title": {
            "standoff": 15
           },
           "zerolinecolor": "white",
           "zerolinewidth": 2
          },
          "yaxis": {
           "automargin": true,
           "gridcolor": "white",
           "linecolor": "white",
           "ticks": "",
           "title": {
            "standoff": 15
           },
           "zerolinecolor": "white",
           "zerolinewidth": 2
          }
         }
        },
        "title": {
         "font": {
          "color": "#4D5663"
         }
        },
        "xaxis": {
         "anchor": "y",
         "domain": [
          0,
          0.45
         ],
         "gridcolor": "#E1E5ED",
         "showgrid": true,
         "tickfont": {
          "color": "#4D5663"
         },
         "title": {
          "font": {
           "color": "#4D5663"
          },
          "text": ""
         },
         "zerolinecolor": "#E1E5ED"
        },
        "xaxis10": {
         "anchor": "y10",
         "domain": [
          0.55,
          1
         ],
         "gridcolor": "#E1E5ED",
         "showgrid": true,
         "tickfont": {
          "color": "#4D5663"
         },
         "title": {
          "font": {
           "color": "#4D5663"
          },
          "text": ""
         },
         "zerolinecolor": "#E1E5ED"
        },
        "xaxis11": {
         "anchor": "y11",
         "domain": [
          0,
          0.45
         ],
         "gridcolor": "#E1E5ED",
         "showgrid": true,
         "tickfont": {
          "color": "#4D5663"
         },
         "title": {
          "font": {
           "color": "#4D5663"
          },
          "text": ""
         },
         "zerolinecolor": "#E1E5ED"
        },
        "xaxis12": {
         "anchor": "y12",
         "domain": [
          0.55,
          1
         ],
         "gridcolor": "#E1E5ED",
         "showgrid": true,
         "tickfont": {
          "color": "#4D5663"
         },
         "title": {
          "font": {
           "color": "#4D5663"
          },
          "text": ""
         },
         "zerolinecolor": "#E1E5ED"
        },
        "xaxis13": {
         "anchor": "y13",
         "domain": [
          0,
          0.45
         ],
         "gridcolor": "#E1E5ED",
         "showgrid": true,
         "tickfont": {
          "color": "#4D5663"
         },
         "title": {
          "font": {
           "color": "#4D5663"
          },
          "text": ""
         },
         "zerolinecolor": "#E1E5ED"
        },
        "xaxis14": {
         "anchor": "y14",
         "domain": [
          0.55,
          1
         ],
         "gridcolor": "#E1E5ED",
         "showgrid": true,
         "tickfont": {
          "color": "#4D5663"
         },
         "title": {
          "font": {
           "color": "#4D5663"
          },
          "text": ""
         },
         "zerolinecolor": "#E1E5ED"
        },
        "xaxis2": {
         "anchor": "y2",
         "domain": [
          0.55,
          1
         ],
         "gridcolor": "#E1E5ED",
         "showgrid": true,
         "tickfont": {
          "color": "#4D5663"
         },
         "title": {
          "font": {
           "color": "#4D5663"
          },
          "text": ""
         },
         "zerolinecolor": "#E1E5ED"
        },
        "xaxis3": {
         "anchor": "y3",
         "domain": [
          0,
          0.45
         ],
         "gridcolor": "#E1E5ED",
         "showgrid": true,
         "tickfont": {
          "color": "#4D5663"
         },
         "title": {
          "font": {
           "color": "#4D5663"
          },
          "text": ""
         },
         "zerolinecolor": "#E1E5ED"
        },
        "xaxis4": {
         "anchor": "y4",
         "domain": [
          0.55,
          1
         ],
         "gridcolor": "#E1E5ED",
         "showgrid": true,
         "tickfont": {
          "color": "#4D5663"
         },
         "title": {
          "font": {
           "color": "#4D5663"
          },
          "text": ""
         },
         "zerolinecolor": "#E1E5ED"
        },
        "xaxis5": {
         "anchor": "y5",
         "domain": [
          0,
          0.45
         ],
         "gridcolor": "#E1E5ED",
         "showgrid": true,
         "tickfont": {
          "color": "#4D5663"
         },
         "title": {
          "font": {
           "color": "#4D5663"
          },
          "text": ""
         },
         "zerolinecolor": "#E1E5ED"
        },
        "xaxis6": {
         "anchor": "y6",
         "domain": [
          0.55,
          1
         ],
         "gridcolor": "#E1E5ED",
         "showgrid": true,
         "tickfont": {
          "color": "#4D5663"
         },
         "title": {
          "font": {
           "color": "#4D5663"
          },
          "text": ""
         },
         "zerolinecolor": "#E1E5ED"
        },
        "xaxis7": {
         "anchor": "y7",
         "domain": [
          0,
          0.45
         ],
         "gridcolor": "#E1E5ED",
         "showgrid": true,
         "tickfont": {
          "color": "#4D5663"
         },
         "title": {
          "font": {
           "color": "#4D5663"
          },
          "text": ""
         },
         "zerolinecolor": "#E1E5ED"
        },
        "xaxis8": {
         "anchor": "y8",
         "domain": [
          0.55,
          1
         ],
         "gridcolor": "#E1E5ED",
         "showgrid": true,
         "tickfont": {
          "color": "#4D5663"
         },
         "title": {
          "font": {
           "color": "#4D5663"
          },
          "text": ""
         },
         "zerolinecolor": "#E1E5ED"
        },
        "xaxis9": {
         "anchor": "y9",
         "domain": [
          0,
          0.45
         ],
         "gridcolor": "#E1E5ED",
         "showgrid": true,
         "tickfont": {
          "color": "#4D5663"
         },
         "title": {
          "font": {
           "color": "#4D5663"
          },
          "text": ""
         },
         "zerolinecolor": "#E1E5ED"
        },
        "yaxis": {
         "anchor": "x",
         "domain": [
          0.8938775510204082,
          1
         ],
         "gridcolor": "#E1E5ED",
         "showgrid": true,
         "tickfont": {
          "color": "#4D5663"
         },
         "title": {
          "font": {
           "color": "#4D5663"
          },
          "text": ""
         },
         "zerolinecolor": "#E1E5ED"
        },
        "yaxis10": {
         "anchor": "x10",
         "domain": [
          0.2979591836734694,
          0.40408163265306124
         ],
         "gridcolor": "#E1E5ED",
         "showgrid": true,
         "tickfont": {
          "color": "#4D5663"
         },
         "title": {
          "font": {
           "color": "#4D5663"
          },
          "text": ""
         },
         "zerolinecolor": "#E1E5ED"
        },
        "yaxis11": {
         "anchor": "x11",
         "domain": [
          0.1489795918367347,
          0.25510204081632654
         ],
         "gridcolor": "#E1E5ED",
         "showgrid": true,
         "tickfont": {
          "color": "#4D5663"
         },
         "title": {
          "font": {
           "color": "#4D5663"
          },
          "text": ""
         },
         "zerolinecolor": "#E1E5ED"
        },
        "yaxis12": {
         "anchor": "x12",
         "domain": [
          0.1489795918367347,
          0.25510204081632654
         ],
         "gridcolor": "#E1E5ED",
         "showgrid": true,
         "tickfont": {
          "color": "#4D5663"
         },
         "title": {
          "font": {
           "color": "#4D5663"
          },
          "text": ""
         },
         "zerolinecolor": "#E1E5ED"
        },
        "yaxis13": {
         "anchor": "x13",
         "domain": [
          0,
          0.10612244897959185
         ],
         "gridcolor": "#E1E5ED",
         "showgrid": true,
         "tickfont": {
          "color": "#4D5663"
         },
         "title": {
          "font": {
           "color": "#4D5663"
          },
          "text": ""
         },
         "zerolinecolor": "#E1E5ED"
        },
        "yaxis14": {
         "anchor": "x14",
         "domain": [
          0,
          0.10612244897959185
         ],
         "gridcolor": "#E1E5ED",
         "showgrid": true,
         "tickfont": {
          "color": "#4D5663"
         },
         "title": {
          "font": {
           "color": "#4D5663"
          },
          "text": ""
         },
         "zerolinecolor": "#E1E5ED"
        },
        "yaxis2": {
         "anchor": "x2",
         "domain": [
          0.8938775510204082,
          1
         ],
         "gridcolor": "#E1E5ED",
         "showgrid": true,
         "tickfont": {
          "color": "#4D5663"
         },
         "title": {
          "font": {
           "color": "#4D5663"
          },
          "text": ""
         },
         "zerolinecolor": "#E1E5ED"
        },
        "yaxis3": {
         "anchor": "x3",
         "domain": [
          0.7448979591836735,
          0.8510204081632654
         ],
         "gridcolor": "#E1E5ED",
         "showgrid": true,
         "tickfont": {
          "color": "#4D5663"
         },
         "title": {
          "font": {
           "color": "#4D5663"
          },
          "text": ""
         },
         "zerolinecolor": "#E1E5ED"
        },
        "yaxis4": {
         "anchor": "x4",
         "domain": [
          0.7448979591836735,
          0.8510204081632654
         ],
         "gridcolor": "#E1E5ED",
         "showgrid": true,
         "tickfont": {
          "color": "#4D5663"
         },
         "title": {
          "font": {
           "color": "#4D5663"
          },
          "text": ""
         },
         "zerolinecolor": "#E1E5ED"
        },
        "yaxis5": {
         "anchor": "x5",
         "domain": [
          0.5959183673469388,
          0.7020408163265307
         ],
         "gridcolor": "#E1E5ED",
         "showgrid": true,
         "tickfont": {
          "color": "#4D5663"
         },
         "title": {
          "font": {
           "color": "#4D5663"
          },
          "text": ""
         },
         "zerolinecolor": "#E1E5ED"
        },
        "yaxis6": {
         "anchor": "x6",
         "domain": [
          0.5959183673469388,
          0.7020408163265307
         ],
         "gridcolor": "#E1E5ED",
         "showgrid": true,
         "tickfont": {
          "color": "#4D5663"
         },
         "title": {
          "font": {
           "color": "#4D5663"
          },
          "text": ""
         },
         "zerolinecolor": "#E1E5ED"
        },
        "yaxis7": {
         "anchor": "x7",
         "domain": [
          0.4469387755102041,
          0.553061224489796
         ],
         "gridcolor": "#E1E5ED",
         "showgrid": true,
         "tickfont": {
          "color": "#4D5663"
         },
         "title": {
          "font": {
           "color": "#4D5663"
          },
          "text": ""
         },
         "zerolinecolor": "#E1E5ED"
        },
        "yaxis8": {
         "anchor": "x8",
         "domain": [
          0.4469387755102041,
          0.553061224489796
         ],
         "gridcolor": "#E1E5ED",
         "showgrid": true,
         "tickfont": {
          "color": "#4D5663"
         },
         "title": {
          "font": {
           "color": "#4D5663"
          },
          "text": ""
         },
         "zerolinecolor": "#E1E5ED"
        },
        "yaxis9": {
         "anchor": "x9",
         "domain": [
          0.2979591836734694,
          0.40408163265306124
         ],
         "gridcolor": "#E1E5ED",
         "showgrid": true,
         "tickfont": {
          "color": "#4D5663"
         },
         "title": {
          "font": {
           "color": "#4D5663"
          },
          "text": ""
         },
         "zerolinecolor": "#E1E5ED"
        }
       }
      },
      "text/html": [
       "<div>                            <div id=\"461c6e6a-202c-4865-b0a3-b213b0a229b8\" class=\"plotly-graph-div\" style=\"height:525px; width:100%;\"></div>            <script type=\"text/javascript\">                require([\"plotly\"], function(Plotly) {                    window.PLOTLYENV=window.PLOTLYENV || {};\n",
       "                    window.PLOTLYENV.BASE_URL='https://plot.ly';                                    if (document.getElementById(\"461c6e6a-202c-4865-b0a3-b213b0a229b8\")) {                    Plotly.newPlot(                        \"461c6e6a-202c-4865-b0a3-b213b0a229b8\",                        [{\"histfunc\":\"count\",\"histnorm\":\"\",\"marker\":{\"color\":\"rgba(255, 153, 51, 1.0)\",\"line\":{\"color\":\"#4D5663\",\"width\":1.3}},\"name\":\"V47\",\"nbinsx\":50,\"opacity\":0.8,\"orientation\":\"v\",\"type\":\"histogram\",\"x\":[0.1051,0.053,0.1348,0.2655,0.0357,0.0623,0.1124,0.1125,0.1459,0.0867,0.0402,0.0872,0.1202,0.0479,0.0621,0.1252,0.2303,0.079,0.0749,0.0073,0.0604,0.1306,0.4331,0.1015,0.1634,0.1043,0.0493,0.1467,0.1211,0.0183,0.0738,0.0426,0.0562,0.1344,0.0761,0.05,0.0465,0.0598,0.0319,0.0797,0.0354,0.0365,0.1096,0.1106,0.3096,0.0663,0.1034,0.1482,0.0651,0.0838,0.1316,0.0383,0.0469,0.1091,0.0926,0.1225,0.1117,0.0452,0.0241,0.0247,0.0179,0.0408,0.0205,0.0602,0.0879,0.0911,0.0931,0.0804,0.1077,0.0342,0.0608,0.0381,0.0441,0.0898,0.0327,0.0426,0.0546,0.0949,0.0844,0.0509,0.0763,0.193,0.1874,0.1829,0.2198,0.1587,0.196,0.2392,0.119,0.1723,0.0491,0.0567,0.1018,0.0322,0.0692,0.0,0.099,0.1789,0.1921,0.0841,0.0795,0.0439,0.1081,0.0264,0.0672,0.0237,0.1303,0.101,0.053,0.1991,0.115,0.0523,0.0882,0.0655,0.0951,0.0805,0.1173,0.0959,0.0779,0.0373,0.1013,0.107,0.1492,0.1344,0.0624,0.1079,0.0899,0.1383,0.1065,0.0643,0.0434,0.234,0.1329,0.0768,0.1578,0.1699,0.0945,0.1164,0.3241,0.0476,0.4315,0.263,0.3385,0.3016,0.3287,0.2193,0.5522,0.3195,0.0805,0.2594,0.0495,0.0674,0.1394,0.1111,0.1112,0.0727,0.2241,0.3123,0.1541,0.1128,0.2095,0.3877,0.1689,0.1175,0.1985,0.1052,0.3511,0.2739,0.0849,0.0694,0.1084,0.0883,0.0701,0.0618,0.2069,0.1319,0.039,0.0797,0.0781,0.0766,0.0775,0.2526,0.1539,0.1401,0.1227,0.094,0.4069,0.184,0.1485,0.1554,0.1954,0.1878,0.1807,0.1937,0.0912,0.1818,0.1766,0.157,0.1716,0.1181,0.1964,0.1688,0.0641,0.1521,0.079,0.1059,0.1258,0.0991],\"xaxis\":\"x\",\"yaxis\":\"y\"},{\"histfunc\":\"count\",\"histnorm\":\"\",\"marker\":{\"color\":\"rgba(55, 128, 191, 1.0)\",\"line\":{\"color\":\"#4D5663\",\"width\":1.3}},\"name\":\"V48\",\"nbinsx\":50,\"opacity\":0.8,\"orientation\":\"v\",\"type\":\"histogram\",\"x\":[0.1343,0.0742,0.0744,0.1576,0.0085,0.0494,0.1047,0.0254,0.1164,0.0513,0.0534,0.0445,0.0692,0.0538,0.0318,0.0748,0.0689,0.0829,0.0472,0.0278,0.0209,0.1198,0.2905,0.1195,0.1133,0.0453,0.0476,0.0392,0.0843,0.0404,0.0634,0.0407,0.0617,0.0416,0.0845,0.0231,0.0422,0.0456,0.0301,0.0748,0.042,0.0152,0.03,0.0693,0.1859,0.0418,0.0688,0.0988,0.0789,0.0755,0.1078,0.0107,0.048,0.0919,0.0716,0.0745,0.095,0.0273,0.0379,0.0219,0.0114,0.029,0.0309,0.0561,0.0863,0.098,0.0982,0.0752,0.0224,0.0469,0.0333,0.0435,0.0244,0.0656,0.0257,0.0425,0.0469,0.0677,0.0595,0.0387,0.0631,0.1498,0.1062,0.1403,0.1074,0.1792,0.1701,0.2021,0.1297,0.1522,0.0345,0.0198,0.0309,0.0408,0.0446,0.0,0.0956,0.1706,0.15,0.1035,0.0762,0.0586,0.1139,0.0223,0.0269,0.047,0.0787,0.0528,0.0081,0.1217,0.055,0.0817,0.0228,0.0271,0.121,0.0541,0.0972,0.0765,0.0495,0.0606,0.0744,0.0946,0.1128,0.096,0.01,0.0728,0.0927,0.1321,0.0527,0.0532,0.0627,0.1928,0.1349,0.1467,0.0553,0.2559,0.0794,0.2052,0.2945,0.0943,0.264,0.1196,0.1499,0.1379,0.1283,0.09,0.3339,0.2484,0.0608,0.1102,0.0367,0.0785,0.0772,0.0849,0.0398,0.0749,0.1806,0.2232,0.1359,0.1654,0.1558,0.2779,0.1341,0.0868,0.1502,0.1034,0.2458,0.179,0.0359,0.0303,0.0372,0.085,0.0526,0.0141,0.0859,0.0505,0.0406,0.0052,0.0777,0.0969,0.1232,0.2299,0.2037,0.1888,0.1785,0.1364,0.2761,0.1477,0.1385,0.1057,0.1492,0.1114,0.1245,0.1082,0.0812,0.1185,0.1097,0.0921,0.1069,0.072,0.13,0.1037,0.1044,0.1363,0.1255,0.1005,0.0954,0.0041],\"xaxis\":\"x2\",\"yaxis\":\"y2\"},{\"histfunc\":\"count\",\"histnorm\":\"\",\"marker\":{\"color\":\"rgba(50, 171, 96, 1.0)\",\"line\":{\"color\":\"#4D5663\",\"width\":1.3}},\"name\":\"V49\",\"nbinsx\":50,\"opacity\":0.8,\"orientation\":\"v\",\"type\":\"histogram\",\"x\":[0.0383,0.0409,0.013,0.0681,0.023,0.0264,0.0507,0.0285,0.0777,0.0092,0.0228,0.0134,0.0152,0.0146,0.045,0.0452,0.0216,0.052,0.0325,0.0372,0.0436,0.0578,0.1981,0.0704,0.0567,0.0337,0.0219,0.0356,0.0589,0.0108,0.0144,0.0106,0.0343,0.0719,0.0592,0.0221,0.0174,0.0021,0.0272,0.0367,0.0093,0.0085,0.0171,0.0176,0.0956,0.0475,0.0422,0.0317,0.0325,0.0304,0.0559,0.0108,0.0159,0.0397,0.0325,0.049,0.0412,0.0179,0.0119,0.0102,0.0073,0.0192,0.0101,0.0306,0.0355,0.0563,0.0524,0.0566,0.0155,0.0357,0.0276,0.0336,0.0265,0.0445,0.0182,0.0235,0.0201,0.0259,0.0497,0.0262,0.0309,0.0773,0.0665,0.0506,0.0423,0.1022,0.1366,0.1326,0.0748,0.0929,0.0172,0.0114,0.0208,0.0163,0.0344,0.0,0.0317,0.0762,0.0665,0.0641,0.0117,0.037,0.0767,0.0187,0.0245,0.0102,0.0436,0.0453,0.0342,0.0628,0.0293,0.0469,0.038,0.0244,0.0728,0.0177,0.0703,0.0649,0.0492,0.0399,0.0386,0.0636,0.0463,0.0598,0.0098,0.0242,0.0658,0.1069,0.0395,0.0531,0.0513,0.1092,0.1057,0.0777,0.0334,0.1129,0.0274,0.1069,0.1474,0.0824,0.1794,0.0983,0.0546,0.0364,0.0698,0.12,0.1608,0.1299,0.0565,0.0911,0.0115,0.0455,0.0615,0.0596,0.0305,0.0449,0.099,0.1085,0.0941,0.0933,0.0884,0.1427,0.0769,0.0392,0.1219,0.0764,0.1259,0.0922,0.0289,0.0292,0.0286,0.0355,0.0241,0.0108,0.06,0.0112,0.0311,0.0233,0.0369,0.0588,0.0783,0.1271,0.1054,0.0947,0.1085,0.0906,0.1584,0.0971,0.0716,0.049,0.0511,0.031,0.0516,0.0336,0.0496,0.0546,0.0558,0.0549,0.0477,0.0321,0.0633,0.0501,0.0732,0.0858,0.0647,0.0535,0.0489,0.0154],\"xaxis\":\"x3\",\"yaxis\":\"y3\"},{\"histfunc\":\"count\",\"histnorm\":\"\",\"marker\":{\"color\":\"rgba(128, 0, 128, 1.0)\",\"line\":{\"color\":\"#4D5663\",\"width\":1.3}},\"name\":\"V50\",\"nbinsx\":50,\"opacity\":0.8,\"orientation\":\"v\",\"type\":\"histogram\",\"x\":[0.0324,0.0061,0.0106,0.0294,0.0046,0.0081,0.0159,0.0178,0.0439,0.0198,0.0073,0.0217,0.0266,0.0068,0.0167,0.0064,0.0469,0.0216,0.0179,0.0121,0.0175,0.0235,0.0779,0.0167,0.0133,0.0122,0.0059,0.027,0.0247,0.0143,0.0226,0.0179,0.037,0.0637,0.0068,0.0144,0.0172,0.0068,0.0074,0.0155,0.0204,0.012,0.0383,0.0205,0.0206,0.0235,0.0117,0.0269,0.007,0.0074,0.0035,0.0077,0.0045,0.0093,0.0258,0.0224,0.012,0.0092,0.0073,0.0047,0.0116,0.0094,0.0095,0.0154,0.0233,0.0187,0.0188,0.0175,0.0187,0.0136,0.01,0.0055,0.0095,0.011,0.0108,0.0006,0.0095,0.017,0.0313,0.0101,0.024,0.0196,0.0405,0.0224,0.0162,0.0151,0.0398,0.0358,0.0067,0.0179,0.0287,0.0151,0.0318,0.0088,0.0082,0.0,0.0142,0.0238,0.0193,0.0153,0.0061,0.0185,0.0265,0.0077,0.019,0.0057,0.0224,0.0118,0.0137,0.0323,0.0183,0.0114,0.0142,0.0179,0.0174,0.0065,0.0281,0.0313,0.0194,0.0169,0.005,0.0227,0.0193,0.033,0.0131,0.0191,0.0086,0.0325,0.0183,0.0272,0.0473,0.0507,0.0499,0.0469,0.0209,0.0201,0.0154,0.0199,0.0211,0.0171,0.0772,0.0374,0.027,0.0355,0.0334,0.0628,0.0475,0.0825,0.0286,0.0462,0.0118,0.0246,0.023,0.0201,0.0084,0.0134,0.0251,0.0414,0.0261,0.0225,0.0265,0.0424,0.0222,0.0131,0.0493,0.0216,0.0327,0.0276,0.0122,0.0116,0.0099,0.0219,0.0117,0.0124,0.0267,0.0059,0.0086,0.0152,0.0057,0.005,0.0089,0.0356,0.0251,0.0134,0.03,0.0144,0.051,0.0224,0.0176,0.0097,0.0155,0.0143,0.0044,0.0177,0.0101,0.0219,0.0142,0.0194,0.017,0.0056,0.0183,0.0136,0.0275,0.029,0.0179,0.0235,0.0241,0.0116],\"xaxis\":\"x4\",\"yaxis\":\"y4\"},{\"histfunc\":\"count\",\"histnorm\":\"\",\"marker\":{\"color\":\"rgba(219, 64, 82, 1.0)\",\"line\":{\"color\":\"#4D5663\",\"width\":1.3}},\"name\":\"V51\",\"nbinsx\":50,\"opacity\":0.8,\"orientation\":\"v\",\"type\":\"histogram\",\"x\":[0.0232,0.0125,0.0033,0.0241,0.0156,0.0104,0.0195,0.0052,0.0061,0.0118,0.0062,0.0188,0.0174,0.0187,0.0078,0.0154,0.0426,0.036,0.0045,0.0153,0.0107,0.0135,0.0396,0.0107,0.017,0.0072,0.0086,0.0168,0.0118,0.0091,0.0061,0.0056,0.0261,0.021,0.0089,0.0307,0.0134,0.0036,0.0149,0.03,0.0199,0.0022,0.0053,0.0309,0.0206,0.0066,0.007,0.0066,0.0026,0.0069,0.0098,0.0109,0.0015,0.0076,0.0136,0.0032,0.0048,0.0018,0.0051,0.0019,0.0092,0.0025,0.0047,0.0029,0.0252,0.0088,0.01,0.0058,0.0125,0.0082,0.0023,0.0079,0.014,0.0024,0.0124,0.0188,0.0155,0.0033,0.0154,0.0161,0.0115,0.0122,0.0113,0.0095,0.0093,0.0223,0.0143,0.0128,0.0255,0.0242,0.0027,0.0085,0.0132,0.0121,0.0108,0.0,0.0076,0.0268,0.0156,0.0081,0.0257,0.0302,0.0215,0.0137,0.0063,0.0031,0.0133,0.0009,0.0028,0.0253,0.0104,0.0299,0.0137,0.0109,0.0213,0.0222,0.0216,0.0185,0.025,0.0135,0.0146,0.0128,0.014,0.0197,0.0152,0.0159,0.0216,0.0316,0.0353,0.0171,0.0248,0.0228,0.0206,0.0193,0.0172,0.048,0.014,0.0208,0.0361,0.0244,0.0798,0.0291,0.038,0.0456,0.0342,0.0234,0.1004,0.0243,0.0154,0.0171,0.0133,0.0151,0.0111,0.0071,0.0039,0.0174,0.0129,0.0253,0.0079,0.0214,0.0121,0.0271,0.0205,0.0092,0.0027,0.0167,0.0181,0.0169,0.0045,0.0024,0.0046,0.0086,0.0122,0.0104,0.0125,0.0041,0.0154,0.0125,0.0091,0.0118,0.0249,0.0367,0.0357,0.031,0.0346,0.0329,0.0054,0.0151,0.0199,0.0223,0.0189,0.0138,0.0185,0.0209,0.0089,0.0204,0.0281,0.0166,0.0186,0.0202,0.0137,0.013,0.0146,0.0203,0.0051,0.0155,0.0042,0.0181],\"xaxis\":\"x5\",\"yaxis\":\"y5\"},{\"histfunc\":\"count\",\"histnorm\":\"\",\"marker\":{\"color\":\"rgba(0, 128, 128, 1.0)\",\"line\":{\"color\":\"#4D5663\",\"width\":1.3}},\"name\":\"V52\",\"nbinsx\":50,\"opacity\":0.8,\"orientation\":\"v\",\"type\":\"histogram\",\"x\":[0.0027,0.0084,0.0232,0.0121,0.0031,0.0045,0.0201,0.0081,0.0145,0.009,0.0062,0.0133,0.0176,0.0059,0.0083,0.0031,0.0346,0.0331,0.0084,0.0092,0.0193,0.0141,0.0173,0.0091,0.0035,0.0108,0.0061,0.0102,0.0088,0.0038,0.0162,0.0236,0.0157,0.0204,0.0087,0.0386,0.0141,0.0022,0.0125,0.0112,0.0173,0.0069,0.009,0.0212,0.0096,0.0062,0.0167,0.0008,0.0093,0.0025,0.0163,0.0062,0.0052,0.0065,0.0044,0.0076,0.0049,0.0052,0.0034,0.0041,0.0078,0.0037,0.0072,0.0048,0.0043,0.0042,0.0038,0.0091,0.0028,0.014,0.0069,0.0119,0.0074,0.0062,0.0077,0.0127,0.0091,0.015,0.0106,0.0029,0.0064,0.013,0.0028,0.0031,0.0046,0.011,0.0093,0.0172,0.0113,0.0083,0.0208,0.0178,0.0118,0.0067,0.0149,0.0056,0.0223,0.0081,0.0362,0.0191,0.0089,0.0244,0.0331,0.0071,0.0321,0.0163,0.0078,0.0142,0.0013,0.0214,0.0117,0.0244,0.012,0.0147,0.0269,0.0045,0.0153,0.0098,0.0115,0.0222,0.004,0.0173,0.0027,0.0189,0.0255,0.0172,0.0153,0.0057,0.0118,0.0118,0.0274,0.0099,0.0073,0.0298,0.018,0.0234,0.0455,0.0176,0.0444,0.0258,0.0376,0.0156,0.0339,0.0432,0.0459,0.0309,0.0709,0.021,0.0154,0.0033,0.0096,0.0125,0.0168,0.0104,0.0053,0.0117,0.0095,0.0131,0.0164,0.0221,0.0091,0.02,0.0123,0.0078,0.0077,0.0089,0.0217,0.0081,0.0108,0.0084,0.0094,0.0123,0.0122,0.0095,0.004,0.0056,0.0048,0.0054,0.0134,0.0146,0.0204,0.0176,0.0181,0.0237,0.0167,0.0141,0.0078,0.0105,0.0096,0.0121,0.015,0.0108,0.0072,0.0134,0.0083,0.0124,0.0165,0.0132,0.0096,0.0141,0.015,0.012,0.0091,0.0116,0.0061,0.016,0.0086,0.0146],\"xaxis\":\"x6\",\"yaxis\":\"y6\"},{\"histfunc\":\"count\",\"histnorm\":\"\",\"marker\":{\"color\":\"rgba(255, 255, 51, 1.0)\",\"line\":{\"color\":\"#4D5663\",\"width\":1.3}},\"name\":\"V53\",\"nbinsx\":50,\"opacity\":0.8,\"orientation\":\"v\",\"type\":\"histogram\",\"x\":[0.0065,0.0089,0.0166,0.0036,0.0054,0.0014,0.0248,0.012,0.0128,0.0223,0.012,0.0265,0.0127,0.0095,0.0057,0.0153,0.0158,0.0131,0.001,0.0035,0.0118,0.019,0.0149,0.0016,0.0052,0.007,0.0015,0.0122,0.0104,0.0096,0.0146,0.0114,0.0074,0.0216,0.0032,0.0147,0.0191,0.0032,0.0134,0.0112,0.0163,0.0064,0.0042,0.0091,0.0153,0.0129,0.0127,0.0045,0.0118,0.0103,0.0242,0.0028,0.0038,0.0072,0.0028,0.0045,0.0041,0.0049,0.0129,0.0074,0.0041,0.0084,0.0054,0.0023,0.0048,0.0175,0.0187,0.016,0.0067,0.0044,0.0025,0.0055,0.0063,0.0072,0.0023,0.0081,0.0151,0.0111,0.0097,0.0078,0.0022,0.0073,0.0036,0.0103,0.0044,0.0071,0.0033,0.0138,0.0108,0.0037,0.0048,0.0073,0.012,0.0032,0.0077,0.0237,0.0255,0.0129,0.021,0.0182,0.0262,0.0232,0.0111,0.0082,0.0189,0.0099,0.0174,0.0179,0.0005,0.0262,0.0101,0.0199,0.0042,0.017,0.0152,0.0136,0.0112,0.0178,0.019,0.0175,0.0122,0.0135,0.0068,0.0204,0.0071,0.0191,0.0121,0.0159,0.0063,0.0129,0.0205,0.0065,0.0081,0.039,0.011,0.0175,0.0213,0.0197,0.023,0.0143,0.0143,0.0197,0.0149,0.0274,0.0277,0.0127,0.0317,0.0361,0.0156,0.005,0.0014,0.0036,0.0086,0.0062,0.0029,0.0023,0.0126,0.0049,0.012,0.0152,0.0062,0.007,0.0067,0.0071,0.0026,0.0051,0.0038,0.004,0.0075,0.01,0.0048,0.006,0.0114,0.0151,0.0136,0.0104,0.0025,0.0057,0.0097,0.004,0.0059,0.0035,0.0019,0.0078,0.0199,0.0019,0.0201,0.0024,0.0103,0.0108,0.006,0.0062,0.0055,0.0094,0.008,0.0093,0.0056,0.0027,0.0071,0.0103,0.0076,0.0039,0.0045,0.0098,0.0093,0.0029,0.0046,0.0129],\"xaxis\":\"x7\",\"yaxis\":\"y7\"},{\"histfunc\":\"count\",\"histnorm\":\"\",\"marker\":{\"color\":\"rgba(128, 128, 0, 1.0)\",\"line\":{\"color\":\"#4D5663\",\"width\":1.3}},\"name\":\"V54\",\"nbinsx\":50,\"opacity\":0.8,\"orientation\":\"v\",\"type\":\"histogram\",\"x\":[0.0159,0.0048,0.0095,0.015,0.0105,0.0038,0.0131,0.0045,0.0145,0.0179,0.0052,0.0224,0.0088,0.0194,0.0174,0.0071,0.0154,0.012,0.0018,0.0098,0.0064,0.0043,0.0115,0.0084,0.0083,0.0063,0.0084,0.0044,0.0036,0.0142,0.0093,0.0136,0.0271,0.0135,0.013,0.0018,0.0145,0.006,0.0026,0.0102,0.0055,0.0129,0.0153,0.0056,0.0096,0.0184,0.0138,0.0024,0.0112,0.0074,0.0043,0.004,0.0079,0.0108,0.0021,0.0056,0.0036,0.0096,0.01,0.003,0.0013,0.0102,0.0022,0.002,0.0076,0.0171,0.0156,0.016,0.012,0.0052,0.0027,0.0035,0.0081,0.0113,0.0117,0.0067,0.008,0.0032,0.0022,0.0114,0.0122,0.0077,0.0105,0.0078,0.0078,0.0205,0.0113,0.0079,0.0085,0.0095,0.0199,0.0079,0.0051,0.0109,0.0036,0.0204,0.0145,0.0161,0.0154,0.016,0.0108,0.0093,0.0088,0.0232,0.0137,0.0084,0.0176,0.0079,0.0227,0.0177,0.0061,0.0257,0.0238,0.0158,0.0257,0.0113,0.0241,0.0077,0.0055,0.0127,0.0107,0.0114,0.015,0.0085,0.0263,0.026,0.0096,0.0085,0.0237,0.0344,0.0141,0.0085,0.0303,0.0294,0.0234,0.0352,0.0082,0.021,0.029,0.0226,0.0272,0.0135,0.0335,0.0152,0.0172,0.0082,0.0309,0.0239,0.0054,0.019,0.0049,0.0123,0.0045,0.0026,0.002,0.0047,0.0069,0.0104,0.0113,0.0083,0.0019,0.007,0.0011,0.0081,0.0031,0.0015,0.0019,0.0025,0.0089,0.0018,0.0047,0.0187,0.0098,0.0059,0.0137,0.0079,0.0087,0.0137,0.0042,0.0114,0.0053,0.0093,0.0102,0.0144,0.0145,0.0067,0.0104,0.0018,0.0093,0.0057,0.0082,0.0044,0.0074,0.0047,0.0026,0.0072,0.001,0.0022,0.0084,0.01,0.0032,0.0053,0.0043,0.0199,0.0135,0.0051,0.0126,0.0047],\"xaxis\":\"x8\",\"yaxis\":\"y8\"},{\"histfunc\":\"count\",\"histnorm\":\"\",\"marker\":{\"color\":\"rgba(251, 128, 114, 1.0)\",\"line\":{\"color\":\"#4D5663\",\"width\":1.3}},\"name\":\"V55\",\"nbinsx\":50,\"opacity\":0.8,\"orientation\":\"v\",\"type\":\"histogram\",\"x\":[0.0072,0.0094,0.018,0.0085,0.011,0.0013,0.007,0.0121,0.0058,0.0084,0.0056,0.0074,0.0098,0.008,0.0188,0.0212,0.0109,0.0108,0.0068,0.0121,0.0042,0.0036,0.0202,0.0064,0.0078,0.003,0.0128,0.0075,0.0088,0.019,0.0112,0.0117,0.0203,0.0055,0.0188,0.01,0.0065,0.0054,0.0038,0.0026,0.0045,0.0114,0.0106,0.0086,0.0131,0.0069,0.009,0.0006,0.0094,0.0123,0.0202,0.0075,0.0114,0.0051,0.0022,0.0075,0.0013,0.0134,0.0044,0.005,0.0011,0.0096,0.0016,0.004,0.0124,0.0079,0.0068,0.0081,0.0012,0.0073,0.0052,0.0036,0.0087,0.0012,0.0053,0.0043,0.0018,0.0035,0.0052,0.0083,0.0151,0.0075,0.012,0.0077,0.0102,0.0164,0.003,0.0037,0.0047,0.0105,0.0126,0.0038,0.007,0.0164,0.0114,0.005,0.0233,0.0063,0.018,0.029,0.0138,0.0159,0.0158,0.0198,0.0277,0.027,0.0038,0.006,0.0209,0.0037,0.0031,0.0082,0.0129,0.0046,0.0097,0.0053,0.0164,0.0074,0.0096,0.0022,0.0112,0.0062,0.0012,0.0043,0.0079,0.014,0.0196,0.0372,0.0032,0.0065,0.0185,0.0166,0.019,0.0175,0.0276,0.0158,0.0124,0.0141,0.0141,0.0187,0.0127,0.0127,0.0376,0.012,0.0087,0.0281,0.0252,0.0447,0.003,0.0103,0.0039,0.0043,0.0062,0.0025,0.0013,0.0049,0.0039,0.0102,0.0021,0.0058,0.0045,0.0086,0.0026,0.0034,0.0083,0.0075,0.0065,0.0036,0.0036,0.0035,0.0016,0.0111,0.0027,0.0015,0.0172,0.0014,0.0072,0.0109,0.0058,0.0032,0.0079,0.0121,0.0133,0.017,0.0081,0.0099,0.0039,0.0057,0.0025,0.0028,0.0091,0.0072,0.0068,0.0045,0.0079,0.0019,0.0027,0.0059,0.0038,0.0034,0.0037,0.0062,0.0043,0.0033,0.0063,0.0062,0.0036,0.0039],\"xaxis\":\"x9\",\"yaxis\":\"y9\"},{\"histfunc\":\"count\",\"histnorm\":\"\",\"marker\":{\"color\":\"rgba(128, 177, 211, 1.0)\",\"line\":{\"color\":\"#4D5663\",\"width\":1.3}},\"name\":\"V56\",\"nbinsx\":50,\"opacity\":0.8,\"orientation\":\"v\",\"type\":\"histogram\",\"x\":[0.0167,0.0191,0.0244,0.0073,0.0015,0.0089,0.0138,0.0097,0.0049,0.0068,0.0093,0.0118,0.0019,0.0152,0.0054,0.0076,0.0048,0.0024,0.0039,0.0006,0.0054,0.0026,0.0139,0.0026,0.0075,0.0011,0.0054,0.0124,0.0047,0.014,0.0094,0.006,0.0089,0.0073,0.0101,0.0096,0.0129,0.0063,0.0018,0.0097,0.0068,0.0054,0.002,0.0092,0.0198,0.0198,0.0051,0.0073,0.014,0.0069,0.0108,0.0039,0.005,0.0102,0.0048,0.0037,0.0046,0.0122,0.0057,0.0048,0.0045,0.0024,0.0029,0.0019,0.0105,0.005,0.0097,0.007,0.0022,0.0021,0.0036,0.0004,0.0044,0.0022,0.0077,0.0065,0.0078,0.0169,0.0072,0.0058,0.0056,0.006,0.0087,0.0094,0.0065,0.0063,0.0057,0.0051,0.0074,0.003,0.0022,0.0116,0.0015,0.0151,0.0085,0.0137,0.0041,0.0119,0.0013,0.009,0.0187,0.0193,0.0122,0.0074,0.0152,0.0277,0.0129,0.0131,0.0081,0.0068,0.0099,0.0151,0.0084,0.0073,0.0041,0.0165,0.0055,0.0095,0.005,0.0124,0.0102,0.0157,0.0133,0.0092,0.0111,0.0125,0.0042,0.0101,0.0087,0.0067,0.0055,0.011,0.0212,0.0249,0.0032,0.0326,0.0167,0.0049,0.0161,0.0185,0.0166,0.0138,0.0174,0.0129,0.0046,0.0117,0.0087,0.0394,0.0048,0.0121,0.0029,0.0114,0.0065,0.0061,0.0029,0.0031,0.0068,0.0092,0.0097,0.0023,0.0079,0.0089,0.0049,0.0064,0.002,0.0058,0.0132,0.0058,0.0029,0.0058,0.0008,0.0126,0.0025,0.0053,0.0132,0.0054,0.0095,0.0035,0.0072,0.0062,0.0037,0.0075,0.004,0.0012,0.0045,0.0042,0.0031,0.0092,0.0044,0.0079,0.0038,0.0007,0.0084,0.0042,0.0042,0.0027,0.0062,0.0016,0.0026,0.0026,0.0071,0.0046,0.0098,0.0101,0.0063,0.0089,0.0035,0.0061],\"xaxis\":\"x10\",\"yaxis\":\"y10\"},{\"histfunc\":\"count\",\"histnorm\":\"\",\"marker\":{\"color\":\"rgba(128, 177, 211, 0.8999999999999999)\",\"line\":{\"color\":\"#4D5663\",\"width\":1.3}},\"name\":\"V57\",\"nbinsx\":50,\"opacity\":0.8,\"orientation\":\"v\",\"type\":\"histogram\",\"x\":[0.018,0.014,0.0316,0.005,0.0072,0.0057,0.0092,0.0085,0.0065,0.0032,0.0042,0.0026,0.0059,0.0158,0.0114,0.0152,0.0095,0.0045,0.012,0.0181,0.0049,0.0024,0.0029,0.0029,0.0105,0.0007,0.0011,0.0099,0.0117,0.0099,0.0054,0.0058,0.0095,0.008,0.0229,0.0077,0.0217,0.0143,0.0113,0.0098,0.0041,0.0089,0.0105,0.007,0.0025,0.0199,0.0029,0.0096,0.0072,0.0076,0.0037,0.0053,0.003,0.0041,0.0138,0.0045,0.0037,0.0047,0.003,0.0017,0.0039,0.0037,0.0058,0.0034,0.0054,0.0112,0.0073,0.0135,0.0058,0.0047,0.0026,0.0018,0.0028,0.0025,0.0076,0.0049,0.0045,0.0137,0.0056,0.0003,0.0026,0.008,0.0061,0.0031,0.0061,0.0078,0.009,0.0258,0.0104,0.0132,0.0037,0.0033,0.0035,0.007,0.0101,0.0164,0.0018,0.0194,0.0106,0.0242,0.023,0.0032,0.0038,0.0035,0.0052,0.0097,0.0066,0.0089,0.0117,0.0121,0.008,0.0171,0.0218,0.0054,0.005,0.0141,0.0078,0.0055,0.0066,0.0054,0.0052,0.0088,0.0048,0.0138,0.0107,0.0116,0.0066,0.0127,0.0124,0.0022,0.0045,0.019,0.0126,0.0141,0.0084,0.0201,0.0103,0.0027,0.0177,0.011,0.0095,0.0133,0.0132,0.002,0.0203,0.0092,0.0177,0.0355,0.0087,0.0042,0.0078,0.0052,0.003,0.0038,0.002,0.0024,0.006,0.0083,0.0072,0.0057,0.0031,0.0074,0.0029,0.0037,0.0084,0.0016,0.0108,0.0067,0.0013,0.0011,0.0042,0.0081,0.0026,0.0016,0.011,0.0015,0.0086,0.0056,0.0041,0.0101,0.0015,0.0056,0.0042,0.0109,0.0043,0.0057,0.0062,0.0009,0.0021,0.0034,0.0056,0.0054,0.0037,0.0028,0.0071,0.0054,0.0024,0.0025,0.0028,0.0037,0.004,0.0045,0.0054,0.0065,0.0034,0.014,0.0034,0.004],\"xaxis\":\"x11\",\"yaxis\":\"y11\"},{\"histfunc\":\"count\",\"histnorm\":\"\",\"marker\":{\"color\":\"rgba(255, 153, 51, 0.8999999999999999)\",\"line\":{\"color\":\"#4D5663\",\"width\":1.3}},\"name\":\"V58\",\"nbinsx\":50,\"opacity\":0.8,\"orientation\":\"v\",\"type\":\"histogram\",\"x\":[0.0084,0.0049,0.0164,0.0044,0.0048,0.0027,0.0143,0.0047,0.0093,0.0035,0.0003,0.0092,0.0058,0.0053,0.0196,0.0049,0.0015,0.0037,0.0132,0.0094,0.0082,0.0162,0.016,0.0037,0.016,0.0024,0.0019,0.0057,0.002,0.0092,0.0019,0.0031,0.0095,0.0105,0.0182,0.018,0.0087,0.0132,0.0058,0.0043,0.0052,0.005,0.0049,0.0116,0.0199,0.0102,0.0122,0.0054,0.0022,0.0073,0.0096,0.0013,0.0064,0.0055,0.014,0.0029,0.0011,0.0018,0.0035,0.0041,0.0022,0.0028,0.005,0.0034,0.0032,0.0179,0.0081,0.0067,0.0042,0.0024,0.0036,0.0049,0.0019,0.0059,0.0056,0.0054,0.0026,0.0015,0.0038,0.0023,0.0029,0.0019,0.0061,0.003,0.0062,0.0094,0.0057,0.0102,0.0161,0.0068,0.0034,0.0039,0.0008,0.0085,0.0016,0.0081,0.0048,0.014,0.0127,0.0224,0.0057,0.0377,0.0101,0.01,0.0121,0.0054,0.0044,0.0084,0.0114,0.0077,0.0107,0.0146,0.0321,0.0033,0.0145,0.0077,0.0055,0.0045,0.0114,0.0021,0.0024,0.0036,0.0244,0.0094,0.0068,0.0093,0.0099,0.0288,0.0113,0.0079,0.0115,0.0141,0.0201,0.0073,0.0122,0.0168,0.0205,0.0162,0.0194,0.0094,0.0225,0.0131,0.0103,0.0109,0.013,0.0147,0.0214,0.044,0.0101,0.009,0.0047,0.0091,0.0066,0.0101,0.0062,0.0039,0.0045,0.002,0.006,0.0052,0.0063,0.0042,0.0022,0.0036,0.0108,0.007,0.005,0.0035,0.001,0.0009,0.0024,0.0155,0.005,0.0042,0.0122,0.0006,0.0085,0.0105,0.0045,0.0068,0.0056,0.0021,0.003,0.0036,0.0027,0.0051,0.0087,0.0086,0.0069,0.0046,0.0056,0.0035,0.0024,0.0036,0.0044,0.0017,0.0063,0.0017,0.0013,0.0044,0.0009,0.0022,0.0051,0.0115,0.0032,0.0138,0.0079,0.0036],\"xaxis\":\"x12\",\"yaxis\":\"y12\"},{\"histfunc\":\"count\",\"histnorm\":\"\",\"marker\":{\"color\":\"rgba(55, 128, 191, 0.8999999999999999)\",\"line\":{\"color\":\"#4D5663\",\"width\":1.3}},\"name\":\"V59\",\"nbinsx\":50,\"opacity\":0.8,\"orientation\":\"v\",\"type\":\"histogram\",\"x\":[0.009,0.0052,0.0095,0.004,0.0107,0.0051,0.0036,0.0048,0.0059,0.0056,0.0053,0.0009,0.0059,0.0189,0.0147,0.02,0.0073,0.0112,0.007,0.0116,0.0028,0.0109,0.0106,0.007,0.0095,0.0057,0.0023,0.0032,0.0091,0.0052,0.0066,0.0072,0.0021,0.0059,0.0046,0.0109,0.0077,0.0051,0.0047,0.0071,0.0194,0.0058,0.007,0.006,0.0255,0.007,0.0056,0.0085,0.0055,0.003,0.0093,0.0052,0.0058,0.005,0.0028,0.0008,0.0034,0.0006,0.0021,0.0086,0.0023,0.003,0.0024,0.0051,0.0073,0.0294,0.0086,0.0078,0.0067,0.0009,0.0006,0.0024,0.0049,0.0039,0.0055,0.0073,0.0036,0.0069,0.0043,0.0026,0.0104,0.0053,0.003,0.0013,0.0043,0.011,0.0068,0.0037,0.022,0.0108,0.0114,0.0081,0.0044,0.0117,0.0028,0.0139,0.0089,0.0332,0.0178,0.019,0.0113,0.0126,0.0228,0.0048,0.0124,0.0148,0.0134,0.0113,0.0112,0.0078,0.0161,0.0134,0.0154,0.0045,0.0103,0.0246,0.0091,0.0063,0.0073,0.0028,0.0079,0.0053,0.0077,0.0105,0.0097,0.0012,0.0083,0.0129,0.0098,0.0146,0.0152,0.0068,0.021,0.0025,0.0082,0.0245,0.0178,0.0059,0.0207,0.0078,0.0098,0.0154,0.0364,0.0074,0.0115,0.0157,0.0227,0.0243,0.0095,0.007,0.0021,0.0008,0.0029,0.0078,0.0026,0.0051,0.0002,0.0048,0.0017,0.0027,0.0048,0.0055,0.0022,0.0012,0.0083,0.0074,0.0085,0.0043,0.0032,0.0033,0.0027,0.016,0.0073,0.0053,0.0114,0.0081,0.004,0.0082,0.0047,0.0053,0.0067,0.0043,0.0031,0.0043,0.0055,0.0033,0.007,0.011,0.006,0.0022,0.0048,0.0001,0.0034,0.0013,0.0022,0.0024,0.0017,0.0027,0.0035,0.0057,0.0015,0.0005,0.0065,0.0193,0.0062,0.0077,0.0036,0.0061],\"xaxis\":\"x13\",\"yaxis\":\"y13\"},{\"histfunc\":\"count\",\"histnorm\":\"\",\"marker\":{\"color\":\"rgba(50, 171, 96, 0.8999999999999999)\",\"line\":{\"color\":\"#4D5663\",\"width\":1.3}},\"name\":\"V60\",\"nbinsx\":50,\"opacity\":0.8,\"orientation\":\"v\",\"type\":\"histogram\",\"x\":[0.0032,0.0044,0.0078,0.0117,0.0094,0.0062,0.0103,0.0053,0.0022,0.004,0.0036,0.0044,0.0032,0.0102,0.0062,0.0073,0.0067,0.0075,0.0088,0.0063,0.0027,0.0079,0.0134,0.0041,0.0011,0.0044,0.0062,0.0019,0.0058,0.0075,0.0023,0.0045,0.0053,0.0105,0.0038,0.007,0.0122,0.0041,0.0071,0.0108,0.0105,0.0025,0.008,0.011,0.018,0.0055,0.002,0.006,0.0122,0.0138,0.0053,0.0023,0.003,0.0087,0.0064,0.0018,0.0033,0.0023,0.0027,0.0058,0.0016,0.003,0.003,0.0031,0.0063,0.0063,0.0095,0.0068,0.0012,0.0017,0.0035,0.0016,0.0023,0.0048,0.0039,0.0054,0.0024,0.0051,0.003,0.0027,0.0163,0.0019,0.0078,0.0069,0.0053,0.0068,0.0024,0.0037,0.0173,0.009,0.0077,0.0053,0.0077,0.0056,0.0014,0.0111,0.0085,0.0439,0.0231,0.0096,0.0131,0.0156,0.0124,0.0019,0.0055,0.0092,0.0092,0.0049,0.01,0.0066,0.0133,0.0056,0.0053,0.0079,0.0025,0.0198,0.0067,0.0039,0.0033,0.0023,0.0031,0.003,0.0074,0.0093,0.0067,0.0036,0.0124,0.0023,0.0126,0.0051,0.01,0.0086,0.0041,0.0101,0.0143,0.0154,0.0187,0.0021,0.0057,0.0112,0.0085,0.0218,0.0208,0.0078,0.0015,0.0129,0.0106,0.0098,0.0068,0.0099,0.0011,0.0092,0.0053,0.0006,0.0052,0.0015,0.0029,0.0036,0.0036,0.0021,0.005,0.0021,0.0032,0.0037,0.0033,0.0038,0.0044,0.0033,0.0047,0.0026,0.0041,0.0085,0.0022,0.0074,0.0068,0.0043,0.0051,0.0036,0.0054,0.0087,0.0054,0.0017,0.0033,0.0018,0.0057,0.0058,0.0042,0.0052,0.0018,0.0021,0.0024,0.0055,0.0007,0.0016,0.0014,0.0029,0.0028,0.0027,0.006,0.0035,0.0085,0.0031,0.0103,0.0157,0.0067,0.0031,0.0048,0.0115],\"xaxis\":\"x14\",\"yaxis\":\"y14\"}],                        {\"barmode\":\"overlay\",\"legend\":{\"bgcolor\":\"#F5F6F9\",\"font\":{\"color\":\"#4D5663\"}},\"paper_bgcolor\":\"#F5F6F9\",\"plot_bgcolor\":\"#F5F6F9\",\"template\":{\"data\":{\"bar\":[{\"error_x\":{\"color\":\"#2a3f5f\"},\"error_y\":{\"color\":\"#2a3f5f\"},\"marker\":{\"line\":{\"color\":\"#E5ECF6\",\"width\":0.5},\"pattern\":{\"fillmode\":\"overlay\",\"size\":10,\"solidity\":0.2}},\"type\":\"bar\"}],\"barpolar\":[{\"marker\":{\"line\":{\"color\":\"#E5ECF6\",\"width\":0.5},\"pattern\":{\"fillmode\":\"overlay\",\"size\":10,\"solidity\":0.2}},\"type\":\"barpolar\"}],\"carpet\":[{\"aaxis\":{\"endlinecolor\":\"#2a3f5f\",\"gridcolor\":\"white\",\"linecolor\":\"white\",\"minorgridcolor\":\"white\",\"startlinecolor\":\"#2a3f5f\"},\"baxis\":{\"endlinecolor\":\"#2a3f5f\",\"gridcolor\":\"white\",\"linecolor\":\"white\",\"minorgridcolor\":\"white\",\"startlinecolor\":\"#2a3f5f\"},\"type\":\"carpet\"}],\"choropleth\":[{\"colorbar\":{\"outlinewidth\":0,\"ticks\":\"\"},\"type\":\"choropleth\"}],\"contour\":[{\"colorbar\":{\"outlinewidth\":0,\"ticks\":\"\"},\"colorscale\":[[0.0,\"#0d0887\"],[0.1111111111111111,\"#46039f\"],[0.2222222222222222,\"#7201a8\"],[0.3333333333333333,\"#9c179e\"],[0.4444444444444444,\"#bd3786\"],[0.5555555555555556,\"#d8576b\"],[0.6666666666666666,\"#ed7953\"],[0.7777777777777778,\"#fb9f3a\"],[0.8888888888888888,\"#fdca26\"],[1.0,\"#f0f921\"]],\"type\":\"contour\"}],\"contourcarpet\":[{\"colorbar\":{\"outlinewidth\":0,\"ticks\":\"\"},\"type\":\"contourcarpet\"}],\"heatmap\":[{\"colorbar\":{\"outlinewidth\":0,\"ticks\":\"\"},\"colorscale\":[[0.0,\"#0d0887\"],[0.1111111111111111,\"#46039f\"],[0.2222222222222222,\"#7201a8\"],[0.3333333333333333,\"#9c179e\"],[0.4444444444444444,\"#bd3786\"],[0.5555555555555556,\"#d8576b\"],[0.6666666666666666,\"#ed7953\"],[0.7777777777777778,\"#fb9f3a\"],[0.8888888888888888,\"#fdca26\"],[1.0,\"#f0f921\"]],\"type\":\"heatmap\"}],\"heatmapgl\":[{\"colorbar\":{\"outlinewidth\":0,\"ticks\":\"\"},\"colorscale\":[[0.0,\"#0d0887\"],[0.1111111111111111,\"#46039f\"],[0.2222222222222222,\"#7201a8\"],[0.3333333333333333,\"#9c179e\"],[0.4444444444444444,\"#bd3786\"],[0.5555555555555556,\"#d8576b\"],[0.6666666666666666,\"#ed7953\"],[0.7777777777777778,\"#fb9f3a\"],[0.8888888888888888,\"#fdca26\"],[1.0,\"#f0f921\"]],\"type\":\"heatmapgl\"}],\"histogram\":[{\"marker\":{\"pattern\":{\"fillmode\":\"overlay\",\"size\":10,\"solidity\":0.2}},\"type\":\"histogram\"}],\"histogram2d\":[{\"colorbar\":{\"outlinewidth\":0,\"ticks\":\"\"},\"colorscale\":[[0.0,\"#0d0887\"],[0.1111111111111111,\"#46039f\"],[0.2222222222222222,\"#7201a8\"],[0.3333333333333333,\"#9c179e\"],[0.4444444444444444,\"#bd3786\"],[0.5555555555555556,\"#d8576b\"],[0.6666666666666666,\"#ed7953\"],[0.7777777777777778,\"#fb9f3a\"],[0.8888888888888888,\"#fdca26\"],[1.0,\"#f0f921\"]],\"type\":\"histogram2d\"}],\"histogram2dcontour\":[{\"colorbar\":{\"outlinewidth\":0,\"ticks\":\"\"},\"colorscale\":[[0.0,\"#0d0887\"],[0.1111111111111111,\"#46039f\"],[0.2222222222222222,\"#7201a8\"],[0.3333333333333333,\"#9c179e\"],[0.4444444444444444,\"#bd3786\"],[0.5555555555555556,\"#d8576b\"],[0.6666666666666666,\"#ed7953\"],[0.7777777777777778,\"#fb9f3a\"],[0.8888888888888888,\"#fdca26\"],[1.0,\"#f0f921\"]],\"type\":\"histogram2dcontour\"}],\"mesh3d\":[{\"colorbar\":{\"outlinewidth\":0,\"ticks\":\"\"},\"type\":\"mesh3d\"}],\"parcoords\":[{\"line\":{\"colorbar\":{\"outlinewidth\":0,\"ticks\":\"\"}},\"type\":\"parcoords\"}],\"pie\":[{\"automargin\":true,\"type\":\"pie\"}],\"scatter\":[{\"marker\":{\"colorbar\":{\"outlinewidth\":0,\"ticks\":\"\"}},\"type\":\"scatter\"}],\"scatter3d\":[{\"line\":{\"colorbar\":{\"outlinewidth\":0,\"ticks\":\"\"}},\"marker\":{\"colorbar\":{\"outlinewidth\":0,\"ticks\":\"\"}},\"type\":\"scatter3d\"}],\"scattercarpet\":[{\"marker\":{\"colorbar\":{\"outlinewidth\":0,\"ticks\":\"\"}},\"type\":\"scattercarpet\"}],\"scattergeo\":[{\"marker\":{\"colorbar\":{\"outlinewidth\":0,\"ticks\":\"\"}},\"type\":\"scattergeo\"}],\"scattergl\":[{\"marker\":{\"colorbar\":{\"outlinewidth\":0,\"ticks\":\"\"}},\"type\":\"scattergl\"}],\"scattermapbox\":[{\"marker\":{\"colorbar\":{\"outlinewidth\":0,\"ticks\":\"\"}},\"type\":\"scattermapbox\"}],\"scatterpolar\":[{\"marker\":{\"colorbar\":{\"outlinewidth\":0,\"ticks\":\"\"}},\"type\":\"scatterpolar\"}],\"scatterpolargl\":[{\"marker\":{\"colorbar\":{\"outlinewidth\":0,\"ticks\":\"\"}},\"type\":\"scatterpolargl\"}],\"scatterternary\":[{\"marker\":{\"colorbar\":{\"outlinewidth\":0,\"ticks\":\"\"}},\"type\":\"scatterternary\"}],\"surface\":[{\"colorbar\":{\"outlinewidth\":0,\"ticks\":\"\"},\"colorscale\":[[0.0,\"#0d0887\"],[0.1111111111111111,\"#46039f\"],[0.2222222222222222,\"#7201a8\"],[0.3333333333333333,\"#9c179e\"],[0.4444444444444444,\"#bd3786\"],[0.5555555555555556,\"#d8576b\"],[0.6666666666666666,\"#ed7953\"],[0.7777777777777778,\"#fb9f3a\"],[0.8888888888888888,\"#fdca26\"],[1.0,\"#f0f921\"]],\"type\":\"surface\"}],\"table\":[{\"cells\":{\"fill\":{\"color\":\"#EBF0F8\"},\"line\":{\"color\":\"white\"}},\"header\":{\"fill\":{\"color\":\"#C8D4E3\"},\"line\":{\"color\":\"white\"}},\"type\":\"table\"}]},\"layout\":{\"annotationdefaults\":{\"arrowcolor\":\"#2a3f5f\",\"arrowhead\":0,\"arrowwidth\":1},\"autotypenumbers\":\"strict\",\"coloraxis\":{\"colorbar\":{\"outlinewidth\":0,\"ticks\":\"\"}},\"colorscale\":{\"diverging\":[[0,\"#8e0152\"],[0.1,\"#c51b7d\"],[0.2,\"#de77ae\"],[0.3,\"#f1b6da\"],[0.4,\"#fde0ef\"],[0.5,\"#f7f7f7\"],[0.6,\"#e6f5d0\"],[0.7,\"#b8e186\"],[0.8,\"#7fbc41\"],[0.9,\"#4d9221\"],[1,\"#276419\"]],\"sequential\":[[0.0,\"#0d0887\"],[0.1111111111111111,\"#46039f\"],[0.2222222222222222,\"#7201a8\"],[0.3333333333333333,\"#9c179e\"],[0.4444444444444444,\"#bd3786\"],[0.5555555555555556,\"#d8576b\"],[0.6666666666666666,\"#ed7953\"],[0.7777777777777778,\"#fb9f3a\"],[0.8888888888888888,\"#fdca26\"],[1.0,\"#f0f921\"]],\"sequentialminus\":[[0.0,\"#0d0887\"],[0.1111111111111111,\"#46039f\"],[0.2222222222222222,\"#7201a8\"],[0.3333333333333333,\"#9c179e\"],[0.4444444444444444,\"#bd3786\"],[0.5555555555555556,\"#d8576b\"],[0.6666666666666666,\"#ed7953\"],[0.7777777777777778,\"#fb9f3a\"],[0.8888888888888888,\"#fdca26\"],[1.0,\"#f0f921\"]]},\"colorway\":[\"#636efa\",\"#EF553B\",\"#00cc96\",\"#ab63fa\",\"#FFA15A\",\"#19d3f3\",\"#FF6692\",\"#B6E880\",\"#FF97FF\",\"#FECB52\"],\"font\":{\"color\":\"#2a3f5f\"},\"geo\":{\"bgcolor\":\"white\",\"lakecolor\":\"white\",\"landcolor\":\"#E5ECF6\",\"showlakes\":true,\"showland\":true,\"subunitcolor\":\"white\"},\"hoverlabel\":{\"align\":\"left\"},\"hovermode\":\"closest\",\"mapbox\":{\"style\":\"light\"},\"paper_bgcolor\":\"white\",\"plot_bgcolor\":\"#E5ECF6\",\"polar\":{\"angularaxis\":{\"gridcolor\":\"white\",\"linecolor\":\"white\",\"ticks\":\"\"},\"bgcolor\":\"#E5ECF6\",\"radialaxis\":{\"gridcolor\":\"white\",\"linecolor\":\"white\",\"ticks\":\"\"}},\"scene\":{\"xaxis\":{\"backgroundcolor\":\"#E5ECF6\",\"gridcolor\":\"white\",\"gridwidth\":2,\"linecolor\":\"white\",\"showbackground\":true,\"ticks\":\"\",\"zerolinecolor\":\"white\"},\"yaxis\":{\"backgroundcolor\":\"#E5ECF6\",\"gridcolor\":\"white\",\"gridwidth\":2,\"linecolor\":\"white\",\"showbackground\":true,\"ticks\":\"\",\"zerolinecolor\":\"white\"},\"zaxis\":{\"backgroundcolor\":\"#E5ECF6\",\"gridcolor\":\"white\",\"gridwidth\":2,\"linecolor\":\"white\",\"showbackground\":true,\"ticks\":\"\",\"zerolinecolor\":\"white\"}},\"shapedefaults\":{\"line\":{\"color\":\"#2a3f5f\"}},\"ternary\":{\"aaxis\":{\"gridcolor\":\"white\",\"linecolor\":\"white\",\"ticks\":\"\"},\"baxis\":{\"gridcolor\":\"white\",\"linecolor\":\"white\",\"ticks\":\"\"},\"bgcolor\":\"#E5ECF6\",\"caxis\":{\"gridcolor\":\"white\",\"linecolor\":\"white\",\"ticks\":\"\"}},\"title\":{\"x\":0.05},\"xaxis\":{\"automargin\":true,\"gridcolor\":\"white\",\"linecolor\":\"white\",\"ticks\":\"\",\"title\":{\"standoff\":15},\"zerolinecolor\":\"white\",\"zerolinewidth\":2},\"yaxis\":{\"automargin\":true,\"gridcolor\":\"white\",\"linecolor\":\"white\",\"ticks\":\"\",\"title\":{\"standoff\":15},\"zerolinecolor\":\"white\",\"zerolinewidth\":2}}},\"title\":{\"font\":{\"color\":\"#4D5663\"}},\"xaxis\":{\"anchor\":\"y\",\"domain\":[0.0,0.45],\"gridcolor\":\"#E1E5ED\",\"showgrid\":true,\"tickfont\":{\"color\":\"#4D5663\"},\"title\":{\"font\":{\"color\":\"#4D5663\"},\"text\":\"\"},\"zerolinecolor\":\"#E1E5ED\"},\"xaxis10\":{\"anchor\":\"y10\",\"domain\":[0.55,1.0],\"gridcolor\":\"#E1E5ED\",\"showgrid\":true,\"tickfont\":{\"color\":\"#4D5663\"},\"title\":{\"font\":{\"color\":\"#4D5663\"},\"text\":\"\"},\"zerolinecolor\":\"#E1E5ED\"},\"xaxis11\":{\"anchor\":\"y11\",\"domain\":[0.0,0.45],\"gridcolor\":\"#E1E5ED\",\"showgrid\":true,\"tickfont\":{\"color\":\"#4D5663\"},\"title\":{\"font\":{\"color\":\"#4D5663\"},\"text\":\"\"},\"zerolinecolor\":\"#E1E5ED\"},\"xaxis12\":{\"anchor\":\"y12\",\"domain\":[0.55,1.0],\"gridcolor\":\"#E1E5ED\",\"showgrid\":true,\"tickfont\":{\"color\":\"#4D5663\"},\"title\":{\"font\":{\"color\":\"#4D5663\"},\"text\":\"\"},\"zerolinecolor\":\"#E1E5ED\"},\"xaxis13\":{\"anchor\":\"y13\",\"domain\":[0.0,0.45],\"gridcolor\":\"#E1E5ED\",\"showgrid\":true,\"tickfont\":{\"color\":\"#4D5663\"},\"title\":{\"font\":{\"color\":\"#4D5663\"},\"text\":\"\"},\"zerolinecolor\":\"#E1E5ED\"},\"xaxis14\":{\"anchor\":\"y14\",\"domain\":[0.55,1.0],\"gridcolor\":\"#E1E5ED\",\"showgrid\":true,\"tickfont\":{\"color\":\"#4D5663\"},\"title\":{\"font\":{\"color\":\"#4D5663\"},\"text\":\"\"},\"zerolinecolor\":\"#E1E5ED\"},\"xaxis2\":{\"anchor\":\"y2\",\"domain\":[0.55,1.0],\"gridcolor\":\"#E1E5ED\",\"showgrid\":true,\"tickfont\":{\"color\":\"#4D5663\"},\"title\":{\"font\":{\"color\":\"#4D5663\"},\"text\":\"\"},\"zerolinecolor\":\"#E1E5ED\"},\"xaxis3\":{\"anchor\":\"y3\",\"domain\":[0.0,0.45],\"gridcolor\":\"#E1E5ED\",\"showgrid\":true,\"tickfont\":{\"color\":\"#4D5663\"},\"title\":{\"font\":{\"color\":\"#4D5663\"},\"text\":\"\"},\"zerolinecolor\":\"#E1E5ED\"},\"xaxis4\":{\"anchor\":\"y4\",\"domain\":[0.55,1.0],\"gridcolor\":\"#E1E5ED\",\"showgrid\":true,\"tickfont\":{\"color\":\"#4D5663\"},\"title\":{\"font\":{\"color\":\"#4D5663\"},\"text\":\"\"},\"zerolinecolor\":\"#E1E5ED\"},\"xaxis5\":{\"anchor\":\"y5\",\"domain\":[0.0,0.45],\"gridcolor\":\"#E1E5ED\",\"showgrid\":true,\"tickfont\":{\"color\":\"#4D5663\"},\"title\":{\"font\":{\"color\":\"#4D5663\"},\"text\":\"\"},\"zerolinecolor\":\"#E1E5ED\"},\"xaxis6\":{\"anchor\":\"y6\",\"domain\":[0.55,1.0],\"gridcolor\":\"#E1E5ED\",\"showgrid\":true,\"tickfont\":{\"color\":\"#4D5663\"},\"title\":{\"font\":{\"color\":\"#4D5663\"},\"text\":\"\"},\"zerolinecolor\":\"#E1E5ED\"},\"xaxis7\":{\"anchor\":\"y7\",\"domain\":[0.0,0.45],\"gridcolor\":\"#E1E5ED\",\"showgrid\":true,\"tickfont\":{\"color\":\"#4D5663\"},\"title\":{\"font\":{\"color\":\"#4D5663\"},\"text\":\"\"},\"zerolinecolor\":\"#E1E5ED\"},\"xaxis8\":{\"anchor\":\"y8\",\"domain\":[0.55,1.0],\"gridcolor\":\"#E1E5ED\",\"showgrid\":true,\"tickfont\":{\"color\":\"#4D5663\"},\"title\":{\"font\":{\"color\":\"#4D5663\"},\"text\":\"\"},\"zerolinecolor\":\"#E1E5ED\"},\"xaxis9\":{\"anchor\":\"y9\",\"domain\":[0.0,0.45],\"gridcolor\":\"#E1E5ED\",\"showgrid\":true,\"tickfont\":{\"color\":\"#4D5663\"},\"title\":{\"font\":{\"color\":\"#4D5663\"},\"text\":\"\"},\"zerolinecolor\":\"#E1E5ED\"},\"yaxis\":{\"anchor\":\"x\",\"domain\":[0.8938775510204082,1.0],\"gridcolor\":\"#E1E5ED\",\"showgrid\":true,\"tickfont\":{\"color\":\"#4D5663\"},\"title\":{\"font\":{\"color\":\"#4D5663\"},\"text\":\"\"},\"zerolinecolor\":\"#E1E5ED\"},\"yaxis10\":{\"anchor\":\"x10\",\"domain\":[0.2979591836734694,0.40408163265306124],\"gridcolor\":\"#E1E5ED\",\"showgrid\":true,\"tickfont\":{\"color\":\"#4D5663\"},\"title\":{\"font\":{\"color\":\"#4D5663\"},\"text\":\"\"},\"zerolinecolor\":\"#E1E5ED\"},\"yaxis11\":{\"anchor\":\"x11\",\"domain\":[0.1489795918367347,0.25510204081632654],\"gridcolor\":\"#E1E5ED\",\"showgrid\":true,\"tickfont\":{\"color\":\"#4D5663\"},\"title\":{\"font\":{\"color\":\"#4D5663\"},\"text\":\"\"},\"zerolinecolor\":\"#E1E5ED\"},\"yaxis12\":{\"anchor\":\"x12\",\"domain\":[0.1489795918367347,0.25510204081632654],\"gridcolor\":\"#E1E5ED\",\"showgrid\":true,\"tickfont\":{\"color\":\"#4D5663\"},\"title\":{\"font\":{\"color\":\"#4D5663\"},\"text\":\"\"},\"zerolinecolor\":\"#E1E5ED\"},\"yaxis13\":{\"anchor\":\"x13\",\"domain\":[0.0,0.10612244897959185],\"gridcolor\":\"#E1E5ED\",\"showgrid\":true,\"tickfont\":{\"color\":\"#4D5663\"},\"title\":{\"font\":{\"color\":\"#4D5663\"},\"text\":\"\"},\"zerolinecolor\":\"#E1E5ED\"},\"yaxis14\":{\"anchor\":\"x14\",\"domain\":[0.0,0.10612244897959185],\"gridcolor\":\"#E1E5ED\",\"showgrid\":true,\"tickfont\":{\"color\":\"#4D5663\"},\"title\":{\"font\":{\"color\":\"#4D5663\"},\"text\":\"\"},\"zerolinecolor\":\"#E1E5ED\"},\"yaxis2\":{\"anchor\":\"x2\",\"domain\":[0.8938775510204082,1.0],\"gridcolor\":\"#E1E5ED\",\"showgrid\":true,\"tickfont\":{\"color\":\"#4D5663\"},\"title\":{\"font\":{\"color\":\"#4D5663\"},\"text\":\"\"},\"zerolinecolor\":\"#E1E5ED\"},\"yaxis3\":{\"anchor\":\"x3\",\"domain\":[0.7448979591836735,0.8510204081632654],\"gridcolor\":\"#E1E5ED\",\"showgrid\":true,\"tickfont\":{\"color\":\"#4D5663\"},\"title\":{\"font\":{\"color\":\"#4D5663\"},\"text\":\"\"},\"zerolinecolor\":\"#E1E5ED\"},\"yaxis4\":{\"anchor\":\"x4\",\"domain\":[0.7448979591836735,0.8510204081632654],\"gridcolor\":\"#E1E5ED\",\"showgrid\":true,\"tickfont\":{\"color\":\"#4D5663\"},\"title\":{\"font\":{\"color\":\"#4D5663\"},\"text\":\"\"},\"zerolinecolor\":\"#E1E5ED\"},\"yaxis5\":{\"anchor\":\"x5\",\"domain\":[0.5959183673469388,0.7020408163265307],\"gridcolor\":\"#E1E5ED\",\"showgrid\":true,\"tickfont\":{\"color\":\"#4D5663\"},\"title\":{\"font\":{\"color\":\"#4D5663\"},\"text\":\"\"},\"zerolinecolor\":\"#E1E5ED\"},\"yaxis6\":{\"anchor\":\"x6\",\"domain\":[0.5959183673469388,0.7020408163265307],\"gridcolor\":\"#E1E5ED\",\"showgrid\":true,\"tickfont\":{\"color\":\"#4D5663\"},\"title\":{\"font\":{\"color\":\"#4D5663\"},\"text\":\"\"},\"zerolinecolor\":\"#E1E5ED\"},\"yaxis7\":{\"anchor\":\"x7\",\"domain\":[0.4469387755102041,0.553061224489796],\"gridcolor\":\"#E1E5ED\",\"showgrid\":true,\"tickfont\":{\"color\":\"#4D5663\"},\"title\":{\"font\":{\"color\":\"#4D5663\"},\"text\":\"\"},\"zerolinecolor\":\"#E1E5ED\"},\"yaxis8\":{\"anchor\":\"x8\",\"domain\":[0.4469387755102041,0.553061224489796],\"gridcolor\":\"#E1E5ED\",\"showgrid\":true,\"tickfont\":{\"color\":\"#4D5663\"},\"title\":{\"font\":{\"color\":\"#4D5663\"},\"text\":\"\"},\"zerolinecolor\":\"#E1E5ED\"},\"yaxis9\":{\"anchor\":\"x9\",\"domain\":[0.2979591836734694,0.40408163265306124],\"gridcolor\":\"#E1E5ED\",\"showgrid\":true,\"tickfont\":{\"color\":\"#4D5663\"},\"title\":{\"font\":{\"color\":\"#4D5663\"},\"text\":\"\"},\"zerolinecolor\":\"#E1E5ED\"}},                        {\"showLink\": true, \"linkText\": \"Export to plot.ly\", \"plotlyServerURL\": \"https://plot.ly\", \"responsive\": true}                    ).then(function(){\n",
       "                            \n",
       "var gd = document.getElementById('461c6e6a-202c-4865-b0a3-b213b0a229b8');\n",
       "var x = new MutationObserver(function (mutations, observer) {{\n",
       "        var display = window.getComputedStyle(gd).display;\n",
       "        if (!display || display === 'none') {{\n",
       "            console.log([gd, 'removed!']);\n",
       "            Plotly.purge(gd);\n",
       "            observer.disconnect();\n",
       "        }}\n",
       "}});\n",
       "\n",
       "// Listen for the removal of the full notebook cells\n",
       "var notebookContainer = gd.closest('#notebook-container');\n",
       "if (notebookContainer) {{\n",
       "    x.observe(notebookContainer, {childList: true});\n",
       "}}\n",
       "\n",
       "// Listen for the clearing of the current output cell\n",
       "var outputEl = gd.closest('.output');\n",
       "if (outputEl) {{\n",
       "    x.observe(outputEl, {childList: true});\n",
       "}}\n",
       "\n",
       "                        })                };                });            </script>        </div>"
      ]
     },
     "metadata": {},
     "output_type": "display_data"
    }
   ],
   "source": [
    "X[skewedColsList[14:29]].iplot(kind='histogram',subplots=True,bins=50)"
   ]
  },
  {
   "cell_type": "markdown",
   "metadata": {},
   "source": [
    "Como podemos ver en estas 2 graficas, tenemos multiples variables cuya distribucion esta sesgada positivamente (hacia la izquierda). Por ello sera necesario tener en cuenta que los datos no estan normalizados a la hora de escoger el modelo."
   ]
  },
  {
   "cell_type": "markdown",
   "metadata": {},
   "source": [
    "# Split Train and Test data"
   ]
  },
  {
   "cell_type": "markdown",
   "metadata": {},
   "source": [
    "Dividimos en conjuntos de entrenamiento y prueba el conjunto de datos."
   ]
  },
  {
   "cell_type": "code",
   "execution_count": 13,
   "metadata": {},
   "outputs": [],
   "source": [
    "X_train, X_test, y_train, y_test = train_test_split(X, Y, test_size=0.2, random_state=42)"
   ]
  },
  {
   "cell_type": "markdown",
   "metadata": {},
   "source": [
    "# Basic Decision tree"
   ]
  },
  {
   "cell_type": "code",
   "execution_count": 14,
   "metadata": {},
   "outputs": [
    {
     "data": {
      "text/plain": [
       "DecisionTreeClassifier(random_state=1)"
      ]
     },
     "execution_count": 14,
     "metadata": {},
     "output_type": "execute_result"
    }
   ],
   "source": [
    "tree = DecisionTreeClassifier(random_state=1)\n",
    "tree.fit(X_train, y_train)\n",
    "tree"
   ]
  },
  {
   "cell_type": "code",
   "execution_count": 15,
   "metadata": {},
   "outputs": [
    {
     "data": {
      "text/plain": [
       "array(['R', 'M', 'R', 'R', 'M', 'M', 'R', 'R', 'R', 'M', 'R', 'R', 'R',\n",
       "       'R', 'M', 'M', 'R', 'M', 'R', 'M', 'M', 'M', 'M', 'M', 'R', 'R',\n",
       "       'R', 'R', 'R', 'R', 'M', 'M', 'R', 'M', 'M', 'R', 'R', 'M', 'R',\n",
       "       'M', 'R', 'M', 'M', 'M', 'R', 'R', 'R', 'M', 'M', 'R', 'R', 'M',\n",
       "       'R', 'M', 'R', 'R', 'M', 'M', 'R', 'R', 'M', 'M', 'R', 'R', 'M',\n",
       "       'M', 'M', 'R', 'R', 'M', 'M', 'M', 'M', 'M', 'R', 'R', 'M', 'M',\n",
       "       'M', 'R', 'M', 'M', 'R', 'M', 'R', 'R', 'M', 'R', 'M', 'R', 'M',\n",
       "       'M', 'R', 'R', 'M', 'R', 'R', 'M', 'R', 'M', 'R', 'M', 'R', 'M',\n",
       "       'M', 'M', 'M', 'R', 'R', 'R', 'R', 'M', 'R', 'R', 'M', 'M', 'R',\n",
       "       'R', 'R', 'R', 'M', 'M', 'R', 'R', 'M', 'M', 'M', 'M', 'R', 'R',\n",
       "       'M', 'R', 'M', 'M', 'M', 'R', 'R', 'R', 'R', 'R', 'M', 'M', 'M',\n",
       "       'R', 'M', 'M', 'R', 'R', 'M', 'M', 'M', 'M', 'M', 'M', 'R', 'R',\n",
       "       'M', 'M', 'R', 'M', 'R', 'M', 'R', 'R', 'M', 'M'], dtype=object)"
      ]
     },
     "execution_count": 15,
     "metadata": {},
     "output_type": "execute_result"
    }
   ],
   "source": [
    "y_train_pred = tree.predict(X_train)\n",
    "y_train_pred"
   ]
  },
  {
   "cell_type": "code",
   "execution_count": 16,
   "metadata": {},
   "outputs": [
    {
     "data": {
      "text/plain": [
       "array(['M', 'M', 'R', 'R', 'M', 'R', 'M', 'M', 'M', 'M', 'M', 'R', 'R',\n",
       "       'M', 'M', 'M', 'M', 'M', 'R', 'R', 'M', 'R', 'R', 'R', 'R', 'R',\n",
       "       'M', 'M', 'M', 'M', 'R', 'R', 'R', 'R', 'R', 'R', 'M', 'R', 'R',\n",
       "       'M', 'R', 'R'], dtype=object)"
      ]
     },
     "execution_count": 16,
     "metadata": {},
     "output_type": "execute_result"
    }
   ],
   "source": [
    "y_test_pred = tree.predict(X_test)\n",
    "y_test_pred"
   ]
  },
  {
   "cell_type": "code",
   "execution_count": 17,
   "metadata": {},
   "outputs": [
    {
     "data": {
      "text/plain": [
       "161    M\n",
       "15     R\n",
       "73     R\n",
       "96     R\n",
       "166    M\n",
       "9      R\n",
       "100    M\n",
       "135    M\n",
       "18     R\n",
       "148    M\n",
       "171    M\n",
       "30     R\n",
       "155    M\n",
       "180    M\n",
       "125    M\n",
       "197    M\n",
       "164    M\n",
       "190    M\n",
       "84     R\n",
       "75     R\n",
       "124    M\n",
       "170    M\n",
       "104    M\n",
       "101    M\n",
       "69     R\n",
       "25     R\n",
       "95     R\n",
       "16     R\n",
       "141    M\n",
       "185    M\n",
       "154    M\n",
       "68     R\n",
       "66     R\n",
       "120    M\n",
       "147    M\n",
       "98     M\n",
       "138    M\n",
       "167    M\n",
       "45     R\n",
       "113    M\n",
       "65     R\n",
       "178    M\n",
       "Name: Class, dtype: object"
      ]
     },
     "execution_count": 17,
     "metadata": {},
     "output_type": "execute_result"
    }
   ],
   "source": [
    "#y_test.sort_index()\n",
    "y_test"
   ]
  },
  {
   "cell_type": "code",
   "execution_count": 18,
   "metadata": {},
   "outputs": [
    {
     "name": "stdout",
     "output_type": "stream",
     "text": [
      "              precision    recall  f1-score   support\n",
      "\n",
      "           M       1.00      1.00      1.00        85\n",
      "           R       1.00      1.00      1.00        81\n",
      "\n",
      "    accuracy                           1.00       166\n",
      "   macro avg       1.00      1.00      1.00       166\n",
      "weighted avg       1.00      1.00      1.00       166\n",
      "\n"
     ]
    }
   ],
   "source": [
    "print(classification_report(y_train, y_train_pred))"
   ]
  },
  {
   "cell_type": "code",
   "execution_count": 19,
   "metadata": {},
   "outputs": [
    {
     "name": "stdout",
     "output_type": "stream",
     "text": [
      "              precision    recall  f1-score   support\n",
      "\n",
      "           M       0.80      0.62      0.70        26\n",
      "           R       0.55      0.75      0.63        16\n",
      "\n",
      "    accuracy                           0.67        42\n",
      "   macro avg       0.67      0.68      0.66        42\n",
      "weighted avg       0.70      0.67      0.67        42\n",
      "\n"
     ]
    }
   ],
   "source": [
    "print(classification_report(y_test, y_test_pred))"
   ]
  },
  {
   "cell_type": "code",
   "execution_count": 20,
   "metadata": {},
   "outputs": [
    {
     "data": {
      "image/png": "[encoded data removed]",
      "text/plain": [
       "<Figure size 1440x1440 with 1 Axes>"
      ]
     },
     "metadata": {
      "needs_background": "light"
     },
     "output_type": "display_data"
    }
   ],
   "source": [
    "plt.figure(figsize=(20,20))\n",
    "t.plot_tree(tree,feature_names=df.columns,class_names=df.Class.unique(),filled=True)\n",
    "plt.show()"
   ]
  },
  {
   "cell_type": "markdown",
   "metadata": {},
   "source": [
    "Obtenemos una precision de 0.8 con el Arbol de Decision basico en el conjunto de test, mientras que en el de entrenamiento tenemos un 1. Esto nos indica que estamos haciendo overfitting, asi que pasamos ahora a hacer pre-pruning con GridSearch para encontrar el numero optimo de hojas para el arbol y evitar que nuestros datos se ajusten demasiado al conjunto de entrenamiento."
   ]
  },
  {
   "cell_type": "markdown",
   "metadata": {},
   "source": [
    "# Pre-prunning"
   ]
  },
  {
   "cell_type": "code",
   "execution_count": 21,
   "metadata": {},
   "outputs": [],
   "source": [
    "from sklearn.model_selection import GridSearchCV"
   ]
  },
  {
   "cell_type": "code",
   "execution_count": 22,
   "metadata": {},
   "outputs": [],
   "source": [
    "params = {'max_depth': [2,4,6,8,10,12],\n",
    "         'min_samples_split': [2,3,4,5],\n",
    "         'min_samples_leaf': [1,2,3]}"
   ]
  },
  {
   "cell_type": "code",
   "execution_count": 23,
   "metadata": {},
   "outputs": [
    {
     "data": {
      "text/plain": [
       "GridSearchCV(estimator=DecisionTreeClassifier(random_state=0),\n",
       "             param_grid={'max_depth': [2, 4, 6, 8, 10, 12],\n",
       "                         'min_samples_leaf': [1, 2, 3],\n",
       "                         'min_samples_split': [2, 3, 4, 5]})"
      ]
     },
     "execution_count": 23,
     "metadata": {},
     "output_type": "execute_result"
    }
   ],
   "source": [
    "tree = DecisionTreeClassifier(random_state=0)\n",
    "gcv = GridSearchCV(estimator=tree,param_grid=params)\n",
    "gcv.fit(X_train, y_train)\n",
    "gcv"
   ]
  },
  {
   "cell_type": "code",
   "execution_count": 24,
   "metadata": {},
   "outputs": [],
   "source": [
    "model = gcv.best_estimator_\n",
    "model.fit(X_train, y_train)\n",
    "y_train_pred = model.predict(X_train)\n",
    "y_test_pred = model.predict(X_test)"
   ]
  },
  {
   "cell_type": "code",
   "execution_count": 25,
   "metadata": {},
   "outputs": [
    {
     "name": "stdout",
     "output_type": "stream",
     "text": [
      "              precision    recall  f1-score   support\n",
      "\n",
      "           M       0.99      0.99      0.99        85\n",
      "           R       0.99      0.99      0.99        81\n",
      "\n",
      "    accuracy                           0.99       166\n",
      "   macro avg       0.99      0.99      0.99       166\n",
      "weighted avg       0.99      0.99      0.99       166\n",
      "\n"
     ]
    }
   ],
   "source": [
    "print(classification_report(y_train, y_train_pred))"
   ]
  },
  {
   "cell_type": "code",
   "execution_count": 26,
   "metadata": {},
   "outputs": [
    {
     "name": "stdout",
     "output_type": "stream",
     "text": [
      "              precision    recall  f1-score   support\n",
      "\n",
      "           M       0.75      0.58      0.65        26\n",
      "           R       0.50      0.69      0.58        16\n",
      "\n",
      "    accuracy                           0.62        42\n",
      "   macro avg       0.62      0.63      0.62        42\n",
      "weighted avg       0.65      0.62      0.62        42\n",
      "\n"
     ]
    }
   ],
   "source": [
    "print(classification_report(y_test, y_test_pred))"
   ]
  },
  {
   "cell_type": "code",
   "execution_count": 27,
   "metadata": {},
   "outputs": [
    {
     "data": {
      "image/png": "[encoded data removed]",
      "text/plain": [
       "<Figure size 1440x1440 with 1 Axes>"
      ]
     },
     "metadata": {
      "needs_background": "light"
     },
     "output_type": "display_data"
    }
   ],
   "source": [
    "plt.figure(figsize=(20,20))\n",
    "t.plot_tree(model,feature_names=df.columns,class_names=df.Class.unique(),filled=True)\n",
    "plt.show()"
   ]
  },
  {
   "cell_type": "markdown",
   "metadata": {},
   "source": [
    "Podemos observar que ahora nuestro arbol es mas pequeño y el rendimiento ha disminuido para el conjunto de entrenamiento. Ya no estamos sobreajustandonos tanto al conjunto de entrenamiento, aunque no ha mejorado el rendimiento para el conjunto de prueba."
   ]
  },
  {
   "cell_type": "markdown",
   "metadata": {},
   "source": [
    "# Random Forest"
   ]
  },
  {
   "cell_type": "code",
   "execution_count": 28,
   "metadata": {},
   "outputs": [
    {
     "data": {
      "text/html": [
       "<div>\n",
       "<style scoped>\n",
       "    .dataframe tbody tr th:only-of-type {\n",
       "        vertical-align: middle;\n",
       "    }\n",
       "\n",
       "    .dataframe tbody tr th {\n",
       "        vertical-align: top;\n",
       "    }\n",
       "\n",
       "    .dataframe thead th {\n",
       "        text-align: right;\n",
       "    }\n",
       "</style>\n",
       "<table border=\"1\" class=\"dataframe\">\n",
       "  <thead>\n",
       "    <tr style=\"text-align: right;\">\n",
       "      <th></th>\n",
       "      <th>Predicted 0</th>\n",
       "      <th>Predicted 1</th>\n",
       "    </tr>\n",
       "  </thead>\n",
       "  <tbody>\n",
       "    <tr>\n",
       "      <th>True 0</th>\n",
       "      <td>20</td>\n",
       "      <td>6</td>\n",
       "    </tr>\n",
       "    <tr>\n",
       "      <th>True 1</th>\n",
       "      <td>2</td>\n",
       "      <td>14</td>\n",
       "    </tr>\n",
       "  </tbody>\n",
       "</table>\n",
       "</div>"
      ],
      "text/plain": [
       "        Predicted 0  Predicted 1\n",
       "True 0           20            6\n",
       "True 1            2           14"
      ]
     },
     "execution_count": 28,
     "metadata": {},
     "output_type": "execute_result"
    }
   ],
   "source": [
    "rf = RandomForestClassifier(n_estimators=100, random_state=1)\n",
    "rf.fit(X_train,y_train)\n",
    "\n",
    "y_pred_rf = rf.predict(X_test)\n",
    "\n",
    "conf = pd.DataFrame(\n",
    "    confusion_matrix(y_test,y_pred_rf),\n",
    "    columns = ['Predicted 0','Predicted 1'],\n",
    "    index = ['True 0', 'True 1']\n",
    ")\n",
    "\n",
    "conf"
   ]
  },
  {
   "cell_type": "code",
   "execution_count": 29,
   "metadata": {},
   "outputs": [
    {
     "name": "stdout",
     "output_type": "stream",
     "text": [
      "              precision    recall  f1-score   support\n",
      "\n",
      "           M       0.91      0.77      0.83        26\n",
      "           R       0.70      0.88      0.78        16\n",
      "\n",
      "    accuracy                           0.81        42\n",
      "   macro avg       0.80      0.82      0.81        42\n",
      "weighted avg       0.83      0.81      0.81        42\n",
      "\n"
     ]
    }
   ],
   "source": [
    "print(classification_report(y_test,y_pred_rf))\n"
   ]
  },
  {
   "cell_type": "markdown",
   "metadata": {},
   "source": [
    "# SVM"
   ]
  },
  {
   "cell_type": "code",
   "execution_count": 30,
   "metadata": {},
   "outputs": [
    {
     "data": {
      "text/html": [
       "<div>\n",
       "<style scoped>\n",
       "    .dataframe tbody tr th:only-of-type {\n",
       "        vertical-align: middle;\n",
       "    }\n",
       "\n",
       "    .dataframe tbody tr th {\n",
       "        vertical-align: top;\n",
       "    }\n",
       "\n",
       "    .dataframe thead th {\n",
       "        text-align: right;\n",
       "    }\n",
       "</style>\n",
       "<table border=\"1\" class=\"dataframe\">\n",
       "  <thead>\n",
       "    <tr style=\"text-align: right;\">\n",
       "      <th></th>\n",
       "      <th>Predicted 0</th>\n",
       "      <th>Predicted 1</th>\n",
       "    </tr>\n",
       "  </thead>\n",
       "  <tbody>\n",
       "    <tr>\n",
       "      <th>True 0</th>\n",
       "      <td>23</td>\n",
       "      <td>3</td>\n",
       "    </tr>\n",
       "    <tr>\n",
       "      <th>True 1</th>\n",
       "      <td>1</td>\n",
       "      <td>15</td>\n",
       "    </tr>\n",
       "  </tbody>\n",
       "</table>\n",
       "</div>"
      ],
      "text/plain": [
       "        Predicted 0  Predicted 1\n",
       "True 0           23            3\n",
       "True 1            1           15"
      ]
     },
     "execution_count": 30,
     "metadata": {},
     "output_type": "execute_result"
    }
   ],
   "source": [
    "svm = SVC(C=10.0)\n",
    "svm.fit(X_train,y_train)\n",
    "\n",
    "y_pred_svm = svm.predict(X_test)\n",
    "\n",
    "conf = pd.DataFrame(\n",
    "    confusion_matrix(y_test,y_pred_svm),\n",
    "    columns = ['Predicted 0','Predicted 1'],\n",
    "    index = ['True 0', 'True 1']\n",
    ")\n",
    "\n",
    "conf"
   ]
  },
  {
   "cell_type": "code",
   "execution_count": 31,
   "metadata": {},
   "outputs": [
    {
     "name": "stdout",
     "output_type": "stream",
     "text": [
      "              precision    recall  f1-score   support\n",
      "\n",
      "           M       0.96      0.88      0.92        26\n",
      "           R       0.83      0.94      0.88        16\n",
      "\n",
      "    accuracy                           0.90        42\n",
      "   macro avg       0.90      0.91      0.90        42\n",
      "weighted avg       0.91      0.90      0.91        42\n",
      "\n"
     ]
    }
   ],
   "source": [
    "print(classification_report(y_test,y_pred_svm))"
   ]
  },
  {
   "cell_type": "markdown",
   "metadata": {},
   "source": [
    "Tenemos que la precision para SVM es de 0.96, la mayor hasta el momento"
   ]
  },
  {
   "cell_type": "markdown",
   "metadata": {},
   "source": [
    "# Naives-Bayes"
   ]
  },
  {
   "cell_type": "code",
   "execution_count": 32,
   "metadata": {},
   "outputs": [
    {
     "data": {
      "text/html": [
       "<div>\n",
       "<style scoped>\n",
       "    .dataframe tbody tr th:only-of-type {\n",
       "        vertical-align: middle;\n",
       "    }\n",
       "\n",
       "    .dataframe tbody tr th {\n",
       "        vertical-align: top;\n",
       "    }\n",
       "\n",
       "    .dataframe thead th {\n",
       "        text-align: right;\n",
       "    }\n",
       "</style>\n",
       "<table border=\"1\" class=\"dataframe\">\n",
       "  <thead>\n",
       "    <tr style=\"text-align: right;\">\n",
       "      <th></th>\n",
       "      <th>Predicted 0</th>\n",
       "      <th>Predicted 1</th>\n",
       "    </tr>\n",
       "  </thead>\n",
       "  <tbody>\n",
       "    <tr>\n",
       "      <th>True 0</th>\n",
       "      <td>16</td>\n",
       "      <td>10</td>\n",
       "    </tr>\n",
       "    <tr>\n",
       "      <th>True 1</th>\n",
       "      <td>1</td>\n",
       "      <td>15</td>\n",
       "    </tr>\n",
       "  </tbody>\n",
       "</table>\n",
       "</div>"
      ],
      "text/plain": [
       "        Predicted 0  Predicted 1\n",
       "True 0           16           10\n",
       "True 1            1           15"
      ]
     },
     "execution_count": 32,
     "metadata": {},
     "output_type": "execute_result"
    }
   ],
   "source": [
    "nb = GaussianNB()\n",
    "nb.fit(X_train,y_train)\n",
    "\n",
    "y_pred_nb_gaussian = nb.predict(X_test)\n",
    "\n",
    "conf = pd.DataFrame(\n",
    "    confusion_matrix(y_test,y_pred_nb_gaussian),\n",
    "    columns = ['Predicted 0','Predicted 1'],\n",
    "    index = ['True 0', 'True 1']\n",
    ")\n",
    "\n",
    "conf"
   ]
  },
  {
   "cell_type": "code",
   "execution_count": 33,
   "metadata": {},
   "outputs": [
    {
     "name": "stdout",
     "output_type": "stream",
     "text": [
      "              precision    recall  f1-score   support\n",
      "\n",
      "           M       0.94      0.62      0.74        26\n",
      "           R       0.60      0.94      0.73        16\n",
      "\n",
      "    accuracy                           0.74        42\n",
      "   macro avg       0.77      0.78      0.74        42\n",
      "weighted avg       0.81      0.74      0.74        42\n",
      "\n"
     ]
    }
   ],
   "source": [
    "print(classification_report(y_test,y_pred_nb_gaussian))"
   ]
  },
  {
   "cell_type": "markdown",
   "metadata": {},
   "source": [
    "# Naive-Bayes Multinomial"
   ]
  },
  {
   "cell_type": "code",
   "execution_count": 34,
   "metadata": {},
   "outputs": [
    {
     "data": {
      "text/html": [
       "<div>\n",
       "<style scoped>\n",
       "    .dataframe tbody tr th:only-of-type {\n",
       "        vertical-align: middle;\n",
       "    }\n",
       "\n",
       "    .dataframe tbody tr th {\n",
       "        vertical-align: top;\n",
       "    }\n",
       "\n",
       "    .dataframe thead th {\n",
       "        text-align: right;\n",
       "    }\n",
       "</style>\n",
       "<table border=\"1\" class=\"dataframe\">\n",
       "  <thead>\n",
       "    <tr style=\"text-align: right;\">\n",
       "      <th></th>\n",
       "      <th>Predicted 0</th>\n",
       "      <th>Predicted 1</th>\n",
       "    </tr>\n",
       "  </thead>\n",
       "  <tbody>\n",
       "    <tr>\n",
       "      <th>True 0</th>\n",
       "      <td>22</td>\n",
       "      <td>4</td>\n",
       "    </tr>\n",
       "    <tr>\n",
       "      <th>True 1</th>\n",
       "      <td>3</td>\n",
       "      <td>13</td>\n",
       "    </tr>\n",
       "  </tbody>\n",
       "</table>\n",
       "</div>"
      ],
      "text/plain": [
       "        Predicted 0  Predicted 1\n",
       "True 0           22            4\n",
       "True 1            3           13"
      ]
     },
     "execution_count": 34,
     "metadata": {},
     "output_type": "execute_result"
    }
   ],
   "source": [
    "from sklearn.naive_bayes import MultinomialNB\n",
    "\n",
    "nb_multinomial = MultinomialNB()\n",
    "nb_multinomial.fit(X_train,y_train)\n",
    "\n",
    "y_pred_nb_multinomial = nb_multinomial.predict(X_test)\n",
    "\n",
    "\n",
    "conf = pd.DataFrame(\n",
    "    confusion_matrix(y_test,y_pred_nb_multinomial),\n",
    "    columns = ['Predicted 0','Predicted 1'],\n",
    "    index = ['True 0', 'True 1']\n",
    ")\n",
    "\n",
    "conf"
   ]
  },
  {
   "cell_type": "code",
   "execution_count": 35,
   "metadata": {},
   "outputs": [
    {
     "name": "stdout",
     "output_type": "stream",
     "text": [
      "              precision    recall  f1-score   support\n",
      "\n",
      "           M       0.88      0.85      0.86        26\n",
      "           R       0.76      0.81      0.79        16\n",
      "\n",
      "    accuracy                           0.83        42\n",
      "   macro avg       0.82      0.83      0.83        42\n",
      "weighted avg       0.84      0.83      0.83        42\n",
      "\n"
     ]
    }
   ],
   "source": [
    "print(classification_report(y_test,y_pred_nb_multinomial))"
   ]
  },
  {
   "cell_type": "markdown",
   "metadata": {},
   "source": [
    "En definitiva, vemos que SVM es el modelo que mejor precision nos obtiene."
   ]
  }
 ],
 "metadata": {
  "interpreter": {
   "hash": "11938c6bc6919ae2720b4d5011047913343b08a43b18698fd82dedb0d4417594"
  },
  "kernelspec": {
   "display_name": "Python 3.9.7 64-bit",
   "language": "python",
   "name": "python3"
  },
  "language_info": {
   "codemirror_mode": {
    "name": "ipython",
    "version": 3
   },
   "file_extension": ".py",
   "mimetype": "text/x-python",
   "name": "python",
   "nbconvert_exporter": "python",
   "pygments_lexer": "ipython3",
   "version": "3.9.7"
  },
  "orig_nbformat": 4
 },
 "nbformat": 4,
 "nbformat_minor": 2
}
